{
 "cells": [
  {
   "cell_type": "markdown",
   "metadata": {},
   "source": [
    "# Dispersions in good compression date\n",
    "\n",
    "### 2019-04-17 ~ 2019-08-17"
   ]
  },
  {
   "cell_type": "code",
   "execution_count": null,
   "metadata": {},
   "outputs": [],
   "source": [
    "from collections import Counter\n",
    "import pandas as pd\n",
    "import plotly.express as px\n",
    "import plotly.graph_objects as go\n",
    "import plotly.io as pio\n",
    "import numpy as np\n",
    "from shutil import copyfile\n",
    "import glob\n",
    "from IPython.display import Image\n",
    "import ipyplot\n",
    "import datetime\n",
    "import re\n"
   ]
  },
  {
   "cell_type": "code",
   "execution_count": null,
   "metadata": {},
   "outputs": [],
   "source": [
    "model = \"t89\"\n",
    "dispersion_filename = 'output/dispersion_list.csv'\n",
    "dispersion_day_png_folder = \"idl_plots/dispersion_day/*.png\"\n",
    "dispersion_fitting_png_folder = \"idl_plots/dispersion/*.png\""
   ]
  },
  {
   "cell_type": "code",
   "execution_count": null,
   "metadata": {},
   "outputs": [],
   "source": [
    "dispersion_list = pd.read_csv(dispersion_filename)\n",
    "dispersion_tplot_list = glob.glob(dispersion_day_png_folder)\n",
    "dispersion_fitting_plot_list = glob.glob(dispersion_fitting_png_folder)\n",
    "\n"
   ]
  },
  {
   "cell_type": "code",
   "execution_count": null,
   "metadata": {},
   "outputs": [],
   "source": [
    "dispersion_list['datetime'] = dispersion_list.loc[:,'TIME'].apply(datetime.datetime.utcfromtimestamp)\n",
    "\n",
    "dispersion_list['compression_mode'] = (dispersion_list['datetime'] > pd.Timestamp('2019-4-16')) &(dispersion_list['datetime'] < pd.Timestamp('2019-8-17'))"
   ]
  },
  {
   "cell_type": "code",
   "execution_count": null,
   "metadata": {},
   "outputs": [],
   "source": [
    "index = (dispersion_list.loc[:,'rsquare'] > 0.95) & (dispersion_list.loc[:,'direction_et'] == 'outward')  & (dispersion_list['energy'] >= 170) & ((dispersion_list['MLT'] > 18) | (dispersion_list['MLT'] < 6)) & (dispersion_list['compression_mode'])\n"
   ]
  },
  {
   "cell_type": "code",
   "execution_count": null,
   "metadata": {
    "scrolled": false
   },
   "outputs": [],
   "source": [
    "common_dispersion_list = dispersion_list.loc[index,:]\n",
    "for i in common_dispersion_list.index:\n",
    "    display_array = []\n",
    "    i_toplot = common_dispersion_list.loc[i,:]\n",
    "    match_date = lambda x: ((datetime.datetime.strptime(i_toplot['datetime_str'], '%Y-%m-%d %H:%M:%S'))\n",
    "                            >= (datetime.datetime.strptime(re.search(\"m[0-9]{8}_[0-9]{6}\",x).group(),  'm%Y%m%d_%H%M%S'))\n",
    "                           ) & ((datetime.datetime.strptime(i_toplot['datetime_str'], '%Y-%m-%d %H:%M:%S'))\n",
    "                                <= (datetime.datetime.strptime(re.search(\"_[0-9]{8}_[0-9]{6}\",x).group(), '_%Y%m%d_%H%M%S'))\n",
    "                               )\n",
    "      \n",
    "    match_list1 = list(map(match_date, dispersion_tplot_list))\n",
    "    \n",
    "    if match_list1.count(True) > 0:\n",
    "        index1 = match_list1.index(True)\n",
    "        i_tplot1 = dispersion_tplot_list[index1]\n",
    "        display_array.append(i_tplot1)\n",
    "\n",
    "    match_list2 = list(map(match_date, dispersion_fitting_plot_list))\n",
    "    if match_list2.count(True) > 0:\n",
    "        index2 = match_list2.index(True)\n",
    "        i_tplot2 = dispersion_fitting_plot_list[index2]\n",
    "        display_array.append(i_tplot2)\n",
    "\n",
    "    ipyplot.plot_images(display_array, img_width=430)"
   ]
  },
  {
   "cell_type": "code",
   "execution_count": null,
   "metadata": {},
   "outputs": [],
   "source": []
  },
  {
   "cell_type": "code",
   "execution_count": null,
   "metadata": {},
   "outputs": [],
   "source": []
  }
 ],
 "metadata": {
  "kernelspec": {
   "display_name": "Python 3 (ipykernel)",
   "language": "python",
   "name": "python3"
  },
  "language_info": {
   "codemirror_mode": {
    "name": "ipython",
    "version": 3
   },
   "file_extension": ".py",
   "mimetype": "text/x-python",
   "name": "python",
   "nbconvert_exporter": "python",
   "pygments_lexer": "ipython3",
   "version": "3.11.3"
  }
 },
 "nbformat": 4,
 "nbformat_minor": 2
}
