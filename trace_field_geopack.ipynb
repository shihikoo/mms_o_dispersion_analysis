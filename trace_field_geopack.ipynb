{
 "cells": [
  {
   "cell_type": "code",
   "execution_count": 1,
   "metadata": {},
   "outputs": [
    {
     "name": "stdout",
     "output_type": "stream",
     "text": [
      "Load IGRF coefficients ...\n"
     ]
    }
   ],
   "source": [
    "from functions import geopack_wrapper\n",
    "from functions import data_preprocess_functions\n",
    "import pandas as pd\n",
    "\n",
    "model = \"t89\"\n",
    "filename = 'data/fulldata_20160101_to_20171231.csv'"
   ]
  },
  {
   "cell_type": "code",
   "execution_count": 2,
   "metadata": {},
   "outputs": [],
   "source": [
    "data = data_preprocess_functions.preprocess_data(pd.read_csv(filename))\n",
    "dispersion_list = data_preprocess_functions.extract_dispersions(data)"
   ]
  },
  {
   "cell_type": "code",
   "execution_count": 3,
   "metadata": {},
   "outputs": [],
   "source": [
    "dispersion_list['model_field_line_length_python'] = None\n"
   ]
  },
  {
   "cell_type": "code",
   "execution_count": 4,
   "metadata": {},
   "outputs": [
    {
     "name": "stdout",
     "output_type": "stream",
     "text": [
      "t89\n"
     ]
    }
   ],
   "source": [
    "print(model)\n",
    "dispersion_list['FlLen'] = dispersion_list.apply(geopack_wrapper.get_magnetic_model, model = model, axis=1)"
   ]
  },
  {
   "cell_type": "code",
   "execution_count": 5,
   "metadata": {},
   "outputs": [],
   "source": [
    "dispersion_list.to_csv('output/'+model+'_dispersion_list.csv')"
   ]
  }
 ],
 "metadata": {
  "kernelspec": {
   "display_name": "Python 3",
   "language": "python",
   "name": "python3"
  },
  "language_info": {
   "codemirror_mode": {
    "name": "ipython",
    "version": 3
   },
   "file_extension": ".py",
   "mimetype": "text/x-python",
   "name": "python",
   "nbconvert_exporter": "python",
   "pygments_lexer": "ipython3",
   "version": "3.7.3"
  }
 },
 "nbformat": 4,
 "nbformat_minor": 2
}
