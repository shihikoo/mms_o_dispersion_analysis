{
 "cells": [
  {
   "cell_type": "code",
   "execution_count": 1,
   "metadata": {},
   "outputs": [
    {
     "name": "stdout",
     "output_type": "stream",
     "text": [
      "Load IGRF coefficients ...\n"
     ]
    }
   ],
   "source": [
    "from functions import geopack_wrapper\n",
    "from functions import data_preprocess_functions\n",
    "import pandas as pd\n",
    "\n",
    "model = \"t96\"\n",
    "filename = 'data/fulldata_20160101_to_20171231.csv'"
   ]
  },
  {
   "cell_type": "code",
   "execution_count": 2,
   "metadata": {},
   "outputs": [],
   "source": [
    "data = data_preprocess_functions.preprocess_data(pd.read_csv(filename))\n",
    "dispersion_list = data_preprocess_functions.extract_dispersions(data)"
   ]
  },
  {
   "cell_type": "code",
   "execution_count": 3,
   "metadata": {},
   "outputs": [],
   "source": [
    "#dispersion_list['model_field_line_length_python'] = None"
   ]
  },
  {
   "cell_type": "code",
   "execution_count": 4,
   "metadata": {},
   "outputs": [],
   "source": [
    "#dispersion_index = dispersion_list.index[dispersion_list.loc[:, 'model_field_line_length_python'].apply(lambda x: x is None)]\n",
    "#for ii in dispersion_index:\n",
    "#    if (dispersion_list.loc[ii,'GSM_X'] < -15):\n",
    "#        continue\n",
    "#    print(ii)\n",
    "#    dispersion_list.loc[ii,'model_field_line_length_python'] = geopack_wrapper.get_magnetic_model(dispersion_list.loc[ii,:], model = model)"
   ]
  },
  {
   "cell_type": "code",
   "execution_count": 5,
   "metadata": {},
   "outputs": [
    {
     "name": "stdout",
     "output_type": "stream",
     "text": [
      "t89\n"
     ]
    }
   ],
   "source": [
    "print(model)\n",
    "dispersion_list['model_field_line_length_python'] = dispersion_list.apply(geopack_wrapper.get_magnetic_model, model = model, axis=1)"
   ]
  },
  {
   "cell_type": "code",
   "execution_count": 6,
   "metadata": {},
   "outputs": [],
   "source": [
    "dispersion_list[['index', 'model_field_line_length_python']].to_csv('output/'+model+'_geopack.csv')"
   ]
  },
  {
   "cell_type": "code",
   "execution_count": null,
   "metadata": {},
   "outputs": [],
   "source": []
  }
 ],
 "metadata": {
  "kernelspec": {
   "display_name": "Python 3",
   "language": "python",
   "name": "python3"
  },
  "language_info": {
   "codemirror_mode": {
    "name": "ipython",
    "version": 3
   },
   "file_extension": ".py",
   "mimetype": "text/x-python",
   "name": "python",
   "nbconvert_exporter": "python",
   "pygments_lexer": "ipython3",
   "version": "3.7.3"
  }
 },
 "nbformat": 4,
 "nbformat_minor": 2
}
