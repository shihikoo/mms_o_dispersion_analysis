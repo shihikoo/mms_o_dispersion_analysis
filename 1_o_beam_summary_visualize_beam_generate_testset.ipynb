{
 "cells": [
  {
   "cell_type": "code",
   "execution_count": null,
   "metadata": {},
   "outputs": [],
   "source": [
    "import pandas as pd\n",
    "import plotly.express as px\n",
    "import plotly.io as pio\n",
    "from collections import Counter\n",
    "import math\n",
    "import datetime as datetime\n",
    "from plotly.subplots import make_subplots\n",
    "import plotly.graph_objects as go\n",
    "import statistics\n",
    "import glob\n",
    "import ipyplot\n",
    "import numpy as np\n",
    "import random \n",
    "from functions import data_preprocess_functions\n"
   ]
  },
  {
   "cell_type": "code",
   "execution_count": null,
   "metadata": {},
   "outputs": [],
   "source": [
    "dir_name = 'idl_plots/output_5min_multi_subtraction_reduced_removebi_flux0.500.751.00_pap3.02.01.1/'\n",
    "data_filename = dir_name + 'data/fulldata_20160101_to_20201231.csv'\n",
    "df = data_preprocess_functions.preprocess_data(pd.read_csv(data_filename))"
   ]
  },
  {
   "cell_type": "code",
   "execution_count": null,
   "metadata": {
    "scrolled": false
   },
   "outputs": [],
   "source": [
    "fig = make_subplots(rows=1, cols=4, subplot_titles=(\"GSM_X\", \"GSM_Y\", \"GSM_Z\", \"DIST\"))\n",
    "         \n",
    "index = df.loc[(df['eflux'] > 0) & (df['GSM_X'] < -1)  & (df['compression_mode']) ,:].index\n",
    "\n",
    "fig.add_trace(go.Histogram(x=df.loc[index,'GSM_X']), row=1, col=1)\n",
    "fig.add_trace(go.Histogram(x=df.loc[index,'GSM_Y']), row=1, col=2)\n",
    "fig.add_trace(go.Histogram(x=df.loc[index,'GSM_Z']), row=1, col=3)\n",
    "fig.add_trace(go.Histogram(x=df.loc[index,'DIST']), row=1, col=4)\n",
    "\n",
    "fig.update_layout(showlegend=False, title='Lobe: all observations vs O+ events')\n",
    "\n",
    "fig.show()"
   ]
  },
  {
   "cell_type": "code",
   "execution_count": null,
   "metadata": {},
   "outputs": [],
   "source": [
    "# index_lobe = (df['energy_int'] < 40000) & (df['energy_int'] > 0) & (df['eflux'] > 0) & (df['GSM_X'] < -1) & (df['dist'] > 7) & (df['dist'] < 9) & (df['compression_mode']) & (df['year'] == iyear) & (df['beta'] < 0.01)\n",
    "random.seed(42)   \n",
    "to_plot_list = list()\n",
    "n_samples = 5\n",
    "index_list = list()\n",
    "for iyear in ['2016','2017','2018','2019','2020']:\n",
    "    for iregion in ['lobe', 'bl','ps']:\n",
    "        for idistant in ['near','tail']:\n",
    "            index = df.loc[(df['eflux'] > 0) & (df['GSM_X'] < -1)  & (df['compression_mode']) & (df['year'] == iyear) & (df['region'] == iregion) & (df['dist_region'] == idistant),:].index\n",
    "#             print(iyear, iregion, idistant,len(new_list))\n",
    "            \n",
    "            if len(index) > n_samples:\n",
    "                random_index_list = random.sample(list(index),n_samples)\n",
    "            else:\n",
    "                random_index_list = index\n",
    "            \n",
    "            index_list.extend(random_index_list)\n",
    "\n",
    "# pd.DataFrame(df.loc[index_list, :]).to_csv('output/test_dataset_individual.csv')\n",
    "\n",
    "to_plot_list = list(dir_name + df.loc[index_list, 'o_beam_filepath'])\n",
    "\n",
    "unique_to_plot_list = np.unique(to_plot_list)\n",
    "pd.DataFrame(unique_to_plot_list).to_csv('output/test_plot_list.csv')\n",
    "\n",
    "print(len(unique_to_plot_list))"
   ]
  },
  {
   "cell_type": "code",
   "execution_count": 3,
   "metadata": {},
   "outputs": [
    {
     "ename": "NameError",
     "evalue": "name 'math' is not defined",
     "output_type": "error",
     "traceback": [
      "\u001b[0;31m---------------------------------------------------------------------------\u001b[0m",
      "\u001b[0;31mNameError\u001b[0m                                 Traceback (most recent call last)",
      "Cell \u001b[0;32mIn[3], line 1\u001b[0m\n\u001b[0;32m----> 1\u001b[0m math\u001b[38;5;241m.\u001b[39mexp(\u001b[38;5;241m9\u001b[39m)\n",
      "\u001b[0;31mNameError\u001b[0m: name 'math' is not defined"
     ]
    }
   ],
   "source": [
    "math.exp(9)"
   ]
  },
  {
   "cell_type": "code",
   "execution_count": null,
   "metadata": {},
   "outputs": [],
   "source": [
    "index_test = (df['GSM_X'] < -1) & (df['compression_mode']) & (df['o_beam_filepath'].apply(lambda x: x in unique_to_plot_list))\n",
    "\n",
    "dataset_test = df.loc[index_test,:].reindex()\n",
    "print(dataset_test.shape)\n",
    "dataset_test.loc[:,['datetime_str','flag', 'flux', 'DIST', 'GSM_X', 'GSM_Y', 'GSM_Z', 'BETA', 'o_beam_filepath','hemi','BX_GSM']].to_csv('output/test_dataset.csv')\n",
    "print(dataset_test.shape[0]/df.loc[(df['GSM_X'] < -1) & (df['compression_mode']),:].shape[0])"
   ]
  },
  {
   "cell_type": "code",
   "execution_count": null,
   "metadata": {
    "scrolled": false
   },
   "outputs": [],
   "source": [
    "ipyplot.plot_images(unique_to_plot_list[0:30], img_width=400)\n"
   ]
  },
  {
   "cell_type": "code",
   "execution_count": null,
   "metadata": {},
   "outputs": [],
   "source": []
  }
 ],
 "metadata": {
  "kernelspec": {
   "display_name": "Python 3 (ipykernel)",
   "language": "python",
   "name": "python3"
  },
  "language_info": {
   "codemirror_mode": {
    "name": "ipython",
    "version": 3
   },
   "file_extension": ".py",
   "mimetype": "text/x-python",
   "name": "python",
   "nbconvert_exporter": "python",
   "pygments_lexer": "ipython3",
   "version": "3.11.3"
  }
 },
 "nbformat": 4,
 "nbformat_minor": 2
}
