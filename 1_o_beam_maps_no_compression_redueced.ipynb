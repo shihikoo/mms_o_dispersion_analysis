{
 "cells": [
  {
   "cell_type": "code",
   "execution_count": null,
   "metadata": {},
   "outputs": [],
   "source": [
    "import numpy as np\n",
    "import pandas as pd\n",
    "import ipyplot"
   ]
  },
  {
   "cell_type": "code",
   "execution_count": null,
   "metadata": {},
   "outputs": [],
   "source": [
    "main_plot_path = \"idl_plots/output_5min_multi_subtraction_reduced_removebi_flux0.500.751.00_pap3.02.01.1/plots_only_no_compression_ss27/\"\n",
    "\n",
    "non_sort_map_path = main_plot_path+\"non_sort_map\"\n",
    "hemi_sort_map_path = main_plot_path+\"hemi_sort_map\"\n",
    "kp_sort_map_path = main_plot_path+'kp_sort_map'\n",
    "bx_sort_map_path = main_plot_path+'bx_sort_map'\n",
    "\n",
    "start_time = '20160101'\n",
    "end_time = '20201231'\n",
    "\n",
    "grid_str = \"grid_03\""
   ]
  },
  {
   "cell_type": "markdown",
   "metadata": {},
   "source": [
    "# All region maps in different projections"
   ]
  },
  {
   "cell_type": "code",
   "execution_count": null,
   "metadata": {
    "scrolled": false
   },
   "outputs": [],
   "source": [
    "images_array = [\n",
    "    non_sort_map_path+\"/\"+grid_str+\"/any/events/2d/any__ratio_\"+start_time+\"_to_\"+end_time+\"_X_GSM_vs_Z_GSM.png\"\n",
    "    , non_sort_map_path+\"/\"+grid_str+\"/any/events/2d/any__ratio_\"+start_time+\"_to_\"+end_time+\"_Y_GSM_vs_Z_GSM.png\"\n",
    "    , non_sort_map_path+\"/\"+grid_str+\"/any/events/2d/any__ratio_\"+start_time+\"_to_\"+end_time+\"_X_GSM_vs_Y_GSM.png\"\n",
    "#     , non_sort_map_path+\"/\"+grid_str+\"/any/events/2d/any__ratio_\"+start_time+\"_to_\"+end_time+\"_DIST_vs_Beta.png\"\n",
    "]\n",
    "\n",
    "ipyplot.plot_images(images_array, img_width=180)"
   ]
  },
  {
   "cell_type": "markdown",
   "metadata": {},
   "source": [
    "## Maps for lobes, BL and PS"
   ]
  },
  {
   "cell_type": "code",
   "execution_count": null,
   "metadata": {
    "scrolled": false
   },
   "outputs": [],
   "source": [
    "images_array = [\n",
    "    non_sort_map_path+\"/\"+grid_str+\"/Lobe_any/events/2d/Lobe_any__ratio_\"+start_time+\"_to_\"+end_time+\"_X_GSM_vs_Z_GSM.png\"\n",
    "    , non_sort_map_path+\"/\"+grid_str+\"/Lobe_any/events/2d/Lobe_any__ratio_\"+start_time+\"_to_\"+end_time+\"_Y_GSM_vs_Z_GSM.png\"\n",
    "    , non_sort_map_path+\"/\"+grid_str+\"/Lobe_any/events/2d/Lobe_any__ratio_\"+start_time+\"_to_\"+end_time+\"_X_GSM_vs_Y_GSM.png\"\n",
    ", non_sort_map_path+\"/\"+grid_str+\"/BL_any/events/2d/BL_any__ratio_\"+start_time+\"_to_\"+end_time+\"_X_GSM_vs_Z_GSM.png\"\n",
    "    , non_sort_map_path+\"/\"+grid_str+\"/BL_any/events/2d/BL_any__ratio_\"+start_time+\"_to_\"+end_time+\"_Y_GSM_vs_Z_GSM.png\"\n",
    "    , non_sort_map_path+\"/\"+grid_str+\"/BL_any/events/2d/BL_any__ratio_\"+start_time+\"_to_\"+end_time+\"_X_GSM_vs_Y_GSM.png\"\n",
    ",\n",
    "     non_sort_map_path+\"/\"+grid_str+\"/PS_any/events/2d/PS_any__ratio_\"+start_time+\"_to_\"+end_time+\"_X_GSM_vs_Z_GSM.png\"\n",
    "    , non_sort_map_path+\"/\"+grid_str+\"/PS_any/events/2d/PS_any__ratio_\"+start_time+\"_to_\"+end_time+\"_Y_GSM_vs_Z_GSM.png\"\n",
    "    , non_sort_map_path+\"/\"+grid_str+\"/PS_any/events/2d/PS_any__ratio_\"+start_time+\"_to_\"+end_time+\"_X_GSM_vs_Y_GSM.png\"\n",
    "]\n",
    "\n",
    "ipyplot.plot_images(images_array, img_width=180)"
   ]
  },
  {
   "cell_type": "markdown",
   "metadata": {},
   "source": [
    "## Beta dependence"
   ]
  },
  {
   "cell_type": "code",
   "execution_count": null,
   "metadata": {},
   "outputs": [],
   "source": [
    "images_array = [\n",
    "    non_sort_map_path+\"/\"+grid_str+\"/Tail_any/events/2d/Tail_any__ratio_\"+start_time+\"_to_\"+end_time+\"_X_GSM_vs_Beta.png\"\n",
    "    , non_sort_map_path+\"/\"+grid_str+\"/Tail_any/events/2d/Tail_any__ratio_\"+start_time+\"_to_\"+end_time+\"_DIST_vs_Beta.png\"\n",
    "]\n",
    "\n",
    "ipyplot.plot_images(images_array, img_width=300)"
   ]
  },
  {
   "cell_type": "markdown",
   "metadata": {},
   "source": [
    "## Occurrence frequency maps in XZgsm for dawn, center and dusk and lobes, BL, PS\n",
    "\n"
   ]
  },
  {
   "cell_type": "code",
   "execution_count": null,
   "metadata": {
    "scrolled": false
   },
   "outputs": [],
   "source": [
    "images_array = [\n",
    "        non_sort_map_path+\"/\"+grid_str+\"/Lobe_any/events/slice/slice_zgrid_15/Lobe_any__ratio_\"+start_time+\"_to_\"+end_time+\"_X_GSM_vs_Z_GSM_at_Y_GSM_-20.0_-5.0.png\"\n",
    "    ,   non_sort_map_path+\"/\"+grid_str+\"/Lobe_any/events/slice/slice_zgrid_10/Lobe_any__ratio_\"+start_time+\"_to_\"+end_time+\"_X_GSM_vs_Z_GSM_at_Y_GSM_-5.0_5.0.png\"\n",
    "    ,   non_sort_map_path+\"/\"+grid_str+\"/Lobe_any/events/slice/slice_zgrid_15/Lobe_any__ratio_\"+start_time+\"_to_\"+end_time+\"_X_GSM_vs_Z_GSM_at_Y_GSM_5.0_20.0.png\"\n",
    "    ,   non_sort_map_path+\"/\"+grid_str+\"/BL_any/events/slice/slice_zgrid_15/BL_any__ratio_\"+start_time+\"_to_\"+end_time+\"_X_GSM_vs_Z_GSM_at_Y_GSM_-20.0_-5.0.png\"\n",
    "    ,   non_sort_map_path+\"/\"+grid_str+\"/BL_any/events/slice/slice_zgrid_10/BL_any__ratio_\"+start_time+\"_to_\"+end_time+\"_X_GSM_vs_Z_GSM_at_Y_GSM_-5.0_5.0.png\"\n",
    "    ,   non_sort_map_path+\"/\"+grid_str+\"/BL_any/events/slice/slice_zgrid_15/BL_any__ratio_\"+start_time+\"_to_\"+end_time+\"_X_GSM_vs_Z_GSM_at_Y_GSM_5.0_20.0.png\" \n",
    "    ,   non_sort_map_path+\"/\"+grid_str+\"/PS_any/events/slice/slice_zgrid_15/PS_any__ratio_\"+start_time+\"_to_\"+end_time+\"_X_GSM_vs_Z_GSM_at_Y_GSM_-20.0_-5.0.png\"\n",
    "    ,   non_sort_map_path+\"/\"+grid_str+\"/PS_any/events/slice/slice_zgrid_10/PS_any__ratio_\"+start_time+\"_to_\"+end_time+\"_X_GSM_vs_Z_GSM_at_Y_GSM_-5.0_5.0.png\"\n",
    "    ,   non_sort_map_path+\"/\"+grid_str+\"/PS_any/events/slice/slice_zgrid_15/PS_any__ratio_\"+start_time+\"_to_\"+end_time+\"_X_GSM_vs_Z_GSM_at_Y_GSM_5.0_20.0.png\"\n",
    "]\n",
    "\n",
    "ipyplot.plot_images(images_array, img_width=300)\n",
    "\n"
   ]
  },
  {
   "cell_type": "markdown",
   "metadata": {},
   "source": [
    "## Occurrence frequency maps in YZgsm for Inner magnetosphere, tail and distant tail and lobes, BL, PS\n",
    "\n"
   ]
  },
  {
   "cell_type": "code",
   "execution_count": null,
   "metadata": {
    "scrolled": false
   },
   "outputs": [],
   "source": [
    "images_array = [\n",
    "        non_sort_map_path+\"/\"+grid_str+\"/Lobe_any/events/slice/slice_zgrid_15/Lobe_any__ratio_\"+start_time+\"_to_\"+end_time+\"_Y_GSM_vs_Z_GSM_at_X_GSM_-30.0_-15.0.png\"\n",
    "    ,   non_sort_map_path+\"/\"+grid_str+\"/Lobe_any/events/slice/slice_zgrid_10/Lobe_any__ratio_\"+start_time+\"_to_\"+end_time+\"_Y_GSM_vs_Z_GSM_at_X_GSM_-15.0_-5.0.png\"\n",
    "    ,   non_sort_map_path+\"/\"+grid_str+\"/Lobe_any/events/slice/slice_zgrid_10/Lobe_any__ratio_\"+start_time+\"_to_\"+end_time+\"_Y_GSM_vs_Z_GSM_at_X_GSM_-5.0_5.0.png\"\n",
    "    ,   non_sort_map_path+\"/\"+grid_str+\"/BL_any/events/slice/slice_zgrid_15/BL_any__ratio_\"+start_time+\"_to_\"+end_time+\"_Y_GSM_vs_Z_GSM_at_X_GSM_-30.0_-15.0.png\"\n",
    "    ,   non_sort_map_path+\"/\"+grid_str+\"/BL_any/events/slice/slice_zgrid_10/BL_any__ratio_\"+start_time+\"_to_\"+end_time+\"_Y_GSM_vs_Z_GSM_at_X_GSM_-15.0_-5.0.png\"\n",
    "    ,   non_sort_map_path+\"/\"+grid_str+\"/BL_any/events/slice/slice_zgrid_10/BL_any__ratio_\"+start_time+\"_to_\"+end_time+\"_Y_GSM_vs_Z_GSM_at_X_GSM_-5.0_5.0.png\" \n",
    "    ,   non_sort_map_path+\"/\"+grid_str+\"/PS_any/events/slice/slice_zgrid_15/PS_any__ratio_\"+start_time+\"_to_\"+end_time+\"_Y_GSM_vs_Z_GSM_at_X_GSM_-30.0_-15.0.png\"\n",
    "    ,   non_sort_map_path+\"/\"+grid_str+\"/PS_any/events/slice/slice_zgrid_10/PS_any__ratio_\"+start_time+\"_to_\"+end_time+\"_Y_GSM_vs_Z_GSM_at_X_GSM_-15.0_-5.0.png\"\n",
    "    ,   non_sort_map_path+\"/\"+grid_str+\"/PS_any/events/slice/slice_zgrid_10/PS_any__ratio_\"+start_time+\"_to_\"+end_time+\"_Y_GSM_vs_Z_GSM_at_X_GSM_-5.0_5.0.png\"\n",
    "]\n",
    "\n",
    "ipyplot.plot_images(images_array, img_width=300)\n"
   ]
  },
  {
   "cell_type": "markdown",
   "metadata": {},
   "source": [
    "## Occurrence frequency maps in XYgsm for south and north and lobes, BL, PS\n",
    "\n",
    "* south/north hemisphere is defined with Bx, Zgsm and Xgsm"
   ]
  },
  {
   "cell_type": "code",
   "execution_count": null,
   "metadata": {
    "scrolled": false
   },
   "outputs": [],
   "source": [
    "images_array = [\n",
    "       hemi_sort_map_path+\"/hemi_north/\"+grid_str+\"/north_Lobe_any/events/2d/north_Lobe_any__ratio_\"+start_time+\"_to_\"+end_time+\"_X_GSM_vs_Y_GSM.png\" \n",
    "\n",
    "    ,     \n",
    "    hemi_sort_map_path+\"/hemi_north/\"+grid_str+\"/north_BL_any/events/2d/north_BL_any__ratio_\"+start_time+\"_to_\"+end_time+\"_X_GSM_vs_Y_GSM.png\"\n",
    "    ,\n",
    "    hemi_sort_map_path+\"/hemi_north/\"+grid_str+\"/north_PS_any/events/2d/north_PS_any__ratio_\"+start_time+\"_to_\"+end_time+\"_X_GSM_vs_Y_GSM.png\"\n",
    "       ,    hemi_sort_map_path+\"/hemi_south/\"+grid_str+\"/south_Lobe_any/events/2d/south_Lobe_any__ratio_\"+start_time+\"_to_\"+end_time+\"_X_GSM_vs_Y_GSM.png\"\n",
    "    ,\n",
    "    hemi_sort_map_path+\"/hemi_south/\"+grid_str+\"/south_BL_any/events/2d/south_BL_any__ratio_\"+start_time+\"_to_\"+end_time+\"_X_GSM_vs_Y_GSM.png\"\n",
    "    ,   hemi_sort_map_path+\"/hemi_south/\"+grid_str+\"/south_PS_any/events/2d/south_PS_any__ratio_\"+start_time+\"_to_\"+end_time+\"_X_GSM_vs_Y_GSM.png\"\n",
    "      \n",
    "]\n",
    "\n",
    "ipyplot.plot_images(images_array, img_width=300)\n"
   ]
  },
  {
   "cell_type": "markdown",
   "metadata": {},
   "source": [
    "# IMF By correlation with asymmetry\n"
   ]
  },
  {
   "cell_type": "markdown",
   "metadata": {},
   "source": [
    "## IMF By sorted maps in YZgsm for lobes, BL and PS"
   ]
  },
  {
   "cell_type": "code",
   "execution_count": null,
   "metadata": {
    "scrolled": false
   },
   "outputs": [],
   "source": [
    "images_array = [\n",
    "    non_sort_map_path+\"/\"+grid_str+\"/Lobe_any/events/2d/Lobe_any_imfBy_0_25__ratio_\"+start_time+\"_to_\"+end_time+\"_Y_GSM_vs_Z_GSM.png\"\n",
    "  ,      non_sort_map_path+\"/\"+grid_str+\"/BL_any/events/2d/BL_any_imfBy_0_25__ratio_\"+start_time+\"_to_\"+end_time+\"_Y_GSM_vs_Z_GSM.png\"\n",
    "      ,     non_sort_map_path+\"/\"+grid_str+\"/PS_any/events/2d/PS_any_imfBy_0_25__ratio_\"+start_time+\"_to_\"+end_time+\"_Y_GSM_vs_Z_GSM.png\"\n",
    ",    non_sort_map_path+\"/\"+grid_str+\"/Lobe_any/events/2d/Lobe_any_imfBy_-25_0__ratio_\"+start_time+\"_to_\"+end_time+\"_Y_GSM_vs_Z_GSM.png\"\n",
    "    ,   non_sort_map_path+\"/\"+grid_str+\"/BL_any/events/2d/BL_any_imfBy_-25_0__ratio_\"+start_time+\"_to_\"+end_time+\"_Y_GSM_vs_Z_GSM.png\"\n",
    "      ,   non_sort_map_path+\"/\"+grid_str+\"/PS_any/events/2d/PS_any_imfBy_-25_0__ratio_\"+start_time+\"_to_\"+end_time+\"_Y_GSM_vs_Z_GSM.png\"\n",
    "]\n",
    "\n",
    "ipyplot.plot_images(images_array, img_width=300)\n",
    "\n"
   ]
  },
  {
   "cell_type": "markdown",
   "metadata": {},
   "source": [
    "## IMF By / Bz sorted maps in YZgsm for lobes, BL and PS"
   ]
  },
  {
   "cell_type": "code",
   "execution_count": null,
   "metadata": {
    "scrolled": false
   },
   "outputs": [],
   "source": [
    "images_array = [\n",
    "        non_sort_map_path+\"/\"+grid_str+\"/Lobe_any/events/2d/Lobe_any_imfBz_0_25_imfBy_-25_0__ratio_\"+start_time+\"_to_\"+end_time+\"_Y_GSM_vs_Z_GSM.png\"\n",
    "    ,   non_sort_map_path+\"/\"+grid_str+\"/Lobe_any/events/2d/Lobe_any_imfBz_0_25_imfBy_0_25__ratio_\"+start_time+\"_to_\"+end_time+\"_Y_GSM_vs_Z_GSM.png\"\n",
    "    ,   non_sort_map_path+\"/\"+grid_str+\"/Lobe_any/events/2d/Lobe_any_imfBz_-25_0_imfBy_-25_0__ratio_\"+start_time+\"_to_\"+end_time+\"_Y_GSM_vs_Z_GSM.png\"\n",
    "    ,   non_sort_map_path+\"/\"+grid_str+\"/Lobe_any/events/2d/Lobe_any_imfBz_-25_0_imfBy_0_25__ratio_\"+start_time+\"_to_\"+end_time+\"_Y_GSM_vs_Z_GSM.png\"\n",
    "    ,   non_sort_map_path+\"/\"+grid_str+\"/BL_any/events/2d/BL_any_imfBz_0_25_imfBy_-25_0__ratio_\"+start_time+\"_to_\"+end_time+\"_Y_GSM_vs_Z_GSM.png\"\n",
    "    ,   non_sort_map_path+\"/\"+grid_str+\"/BL_any/events/2d/BL_any_imfBz_0_25_imfBy_0_25__ratio_\"+start_time+\"_to_\"+end_time+\"_Y_GSM_vs_Z_GSM.png\"\n",
    "    ,   non_sort_map_path+\"/\"+grid_str+\"/BL_any/events/2d/BL_any_imfBz_-25_0_imfBy_-25_0__ratio_\"+start_time+\"_to_\"+end_time+\"_Y_GSM_vs_Z_GSM.png\"\n",
    "    ,   non_sort_map_path+\"/\"+grid_str+\"/BL_any/events/2d/BL_any_imfBz_-25_0_imfBy_0_25__ratio_\"+start_time+\"_to_\"+end_time+\"_Y_GSM_vs_Z_GSM.png\"\n",
    "    ,   non_sort_map_path+\"/\"+grid_str+\"/PS_any/events/2d/PS_any_imfBz_0_25_imfBy_-25_0__ratio_\"+start_time+\"_to_\"+end_time+\"_Y_GSM_vs_Z_GSM.png\"\n",
    "    ,   non_sort_map_path+\"/\"+grid_str+\"/PS_any/events/2d/PS_any_imfBz_0_25_imfBy_0_25__ratio_\"+start_time+\"_to_\"+end_time+\"_Y_GSM_vs_Z_GSM.png\"\n",
    "    ,   non_sort_map_path+\"/\"+grid_str+\"/PS_any/events/2d/PS_any_imfBz_-25_0_imfBy_-25_0__ratio_\"+start_time+\"_to_\"+end_time+\"_Y_GSM_vs_Z_GSM.png\"\n",
    "    ,   non_sort_map_path+\"/\"+grid_str+\"/PS_any/events/2d/PS_any_imfBz_-25_0_imfBy_0_25__ratio_\"+start_time+\"_to_\"+end_time+\"_Y_GSM_vs_Z_GSM.png\"\n",
    "]\n",
    "\n",
    "ipyplot.plot_images(images_array, img_width=400)\n",
    "\n"
   ]
  },
  {
   "cell_type": "markdown",
   "metadata": {},
   "source": [
    "### IMF By / Bz sorted sliced maps in YZgsm for lobe"
   ]
  },
  {
   "cell_type": "code",
   "execution_count": null,
   "metadata": {
    "scrolled": false
   },
   "outputs": [],
   "source": [
    "images_array = [\n",
    "        non_sort_map_path+\"/\"+grid_str+\"/Lobe_any/events/slice/slice_zgrid_15/Lobe_any_imfBz_0_25_imfBy_-25_0__ratio_\"+start_time+\"_to_\"+end_time+\"_Y_GSM_vs_Z_GSM_at_X_GSM_-30.0_-15.0.png\"\n",
    "    ,   non_sort_map_path+\"/\"+grid_str+\"/Lobe_any/events/slice/slice_zgrid_15/Lobe_any_imfBz_0_25_imfBy_0_25__ratio_\"+start_time+\"_to_\"+end_time+\"_Y_GSM_vs_Z_GSM_at_X_GSM_-30.0_-15.0.png\"\n",
    "    ,   non_sort_map_path+\"/\"+grid_str+\"/Lobe_any/events/slice/slice_zgrid_15/Lobe_any_imfBz_-25_0_imfBy_-25_0__ratio_\"+start_time+\"_to_\"+end_time+\"_Y_GSM_vs_Z_GSM_at_X_GSM_-30.0_-15.0.png\"\n",
    "    ,   non_sort_map_path+\"/\"+grid_str+\"/Lobe_any/events/slice/slice_zgrid_15/Lobe_any_imfBz_-25_0_imfBy_0_25__ratio_\"+start_time+\"_to_\"+end_time+\"_Y_GSM_vs_Z_GSM_at_X_GSM_-30.0_-15.0.png\"\n",
    "    ,   non_sort_map_path+\"/\"+grid_str+\"/Lobe_any/events/slice/slice_zgrid_10/Lobe_any_imfBz_0_25_imfBy_-25_0__ratio_\"+start_time+\"_to_\"+end_time+\"_Y_GSM_vs_Z_GSM_at_X_GSM_-15.0_-5.0.png\"\n",
    "    ,   non_sort_map_path+\"/\"+grid_str+\"/Lobe_any/events/slice/slice_zgrid_10/Lobe_any_imfBz_0_25_imfBy_0_25__ratio_\"+start_time+\"_to_\"+end_time+\"_Y_GSM_vs_Z_GSM_at_X_GSM_-15.0_-5.0.png\"\n",
    "    ,   non_sort_map_path+\"/\"+grid_str+\"/Lobe_any/events/slice/slice_zgrid_10/Lobe_any_imfBz_-25_0_imfBy_-25_0__ratio_\"+start_time+\"_to_\"+end_time+\"_Y_GSM_vs_Z_GSM_at_X_GSM_-15.0_-5.0.png\"\n",
    "    ,   non_sort_map_path+\"/\"+grid_str+\"/Lobe_any/events/slice/slice_zgrid_10/Lobe_any_imfBz_-25_0_imfBy_0_25__ratio_\"+start_time+\"_to_\"+end_time+\"_Y_GSM_vs_Z_GSM_at_X_GSM_-15.0_-5.0.png\"\n",
    "    ,   non_sort_map_path+\"/\"+grid_str+\"/Lobe_any/events/slice/slice_zgrid_10/Lobe_any_imfBz_0_25_imfBy_-25_0__ratio_\"+start_time+\"_to_\"+end_time+\"_Y_GSM_vs_Z_GSM_at_X_GSM_-5.0_5.0.png\"\n",
    "    ,   non_sort_map_path+\"/\"+grid_str+\"/Lobe_any/events/slice/slice_zgrid_10/Lobe_any_imfBz_0_25_imfBy_0_25__ratio_\"+start_time+\"_to_\"+end_time+\"_Y_GSM_vs_Z_GSM_at_X_GSM_-5.0_5.0.png\"\n",
    "    ,   non_sort_map_path+\"/\"+grid_str+\"/Lobe_any/events/slice/slice_zgrid_10/Lobe_any_imfBz_-25_0_imfBy_-25_0__ratio_\"+start_time+\"_to_\"+end_time+\"_Y_GSM_vs_Z_GSM_at_X_GSM_-5.0_5.0.png\"\n",
    "    ,   non_sort_map_path+\"/\"+grid_str+\"/Lobe_any/events/slice/slice_zgrid_10/Lobe_any_imfBz_-25_0_imfBy_0_25__ratio_\"+start_time+\"_to_\"+end_time+\"_Y_GSM_vs_Z_GSM_at_X_GSM_-5.0_5.0.png\"\n",
    "\n",
    "]\n",
    "\n",
    "ipyplot.plot_images(images_array, img_width=400)\n",
    "\n"
   ]
  },
  {
   "cell_type": "markdown",
   "metadata": {},
   "source": [
    "### IMF By sorted sliced maps in YZgsm for different regions\n"
   ]
  },
  {
   "cell_type": "code",
   "execution_count": null,
   "metadata": {
    "scrolled": false
   },
   "outputs": [],
   "source": [
    "images_array = [\n",
    "        non_sort_map_path+\"/\"+grid_str+\"/Lobe_any/events/slice/slice_zgrid_15/Lobe_any_imfBy_0_25__ratio_\"+start_time+\"_to_\"+end_time+\"_Y_GSM_vs_Z_GSM_at_X_GSM_-30.0_-15.0.png\"\n",
    "    ,   non_sort_map_path+\"/\"+grid_str+\"/Lobe_any/events/slice/slice_zgrid_10/Lobe_any_imfBy_0_25__ratio_\"+start_time+\"_to_\"+end_time+\"_Y_GSM_vs_Z_GSM_at_X_GSM_-15.0_-5.0.png\"\n",
    "    ,   non_sort_map_path+\"/\"+grid_str+\"/Lobe_any/events/slice/slice_zgrid_10/Lobe_any_imfBy_0_25__ratio_\"+start_time+\"_to_\"+end_time+\"_Y_GSM_vs_Z_GSM_at_X_GSM_-5.0_5.0.png\"\n",
    "    ,   non_sort_map_path+\"/\"+grid_str+\"/Lobe_any/events/slice/slice_zgrid_15/Lobe_any_imfBy_-25_0__ratio_\"+start_time+\"_to_\"+end_time+\"_Y_GSM_vs_Z_GSM_at_X_GSM_-30.0_-15.0.png\"\n",
    "    ,   non_sort_map_path+\"/\"+grid_str+\"/Lobe_any/events/slice/slice_zgrid_10/Lobe_any_imfBy_-25_0__ratio_\"+start_time+\"_to_\"+end_time+\"_Y_GSM_vs_Z_GSM_at_X_GSM_-15.0_-5.0.png\"\n",
    "    ,   non_sort_map_path+\"/\"+grid_str+\"/Lobe_any/events/slice/slice_zgrid_10/Lobe_any_imfBy_-25_0__ratio_\"+start_time+\"_to_\"+end_time+\"_Y_GSM_vs_Z_GSM_at_X_GSM_-5.0_5.0.png\"\n",
    "    ,   non_sort_map_path+\"/\"+grid_str+\"/BL_any/events/slice/slice_zgrid_15/BL_any_imfBy_0_25__ratio_\"+start_time+\"_to_\"+end_time+\"_Y_GSM_vs_Z_GSM_at_X_GSM_-30.0_-15.0.png\"\n",
    "    ,   non_sort_map_path+\"/\"+grid_str+\"/BL_any/events/slice/slice_zgrid_10/BL_any_imfBy_0_25__ratio_\"+start_time+\"_to_\"+end_time+\"_Y_GSM_vs_Z_GSM_at_X_GSM_-15.0_-5.0.png\"\n",
    "    ,   non_sort_map_path+\"/\"+grid_str+\"/BL_any/events/slice/slice_zgrid_10/BL_any_imfBy_0_25__ratio_\"+start_time+\"_to_\"+end_time+\"_Y_GSM_vs_Z_GSM_at_X_GSM_-5.0_5.0.png\" \n",
    "    ,   non_sort_map_path+\"/\"+grid_str+\"/BL_any/events/slice/slice_zgrid_15/BL_any_imfBy_-25_0__ratio_\"+start_time+\"_to_\"+end_time+\"_Y_GSM_vs_Z_GSM_at_X_GSM_-30.0_-15.0.png\"\n",
    "    ,   non_sort_map_path+\"/\"+grid_str+\"/BL_any/events/slice/slice_zgrid_10/BL_any_imfBy_-25_0__ratio_\"+start_time+\"_to_\"+end_time+\"_Y_GSM_vs_Z_GSM_at_X_GSM_-15.0_-5.0.png\"\n",
    "    ,   non_sort_map_path+\"/\"+grid_str+\"/BL_any/events/slice/slice_zgrid_10/BL_any_imfBy_-25_0__ratio_\"+start_time+\"_to_\"+end_time+\"_Y_GSM_vs_Z_GSM_at_X_GSM_-5.0_5.0.png\" \n",
    "    ,   non_sort_map_path+\"/\"+grid_str+\"/PS_any/events/slice/slice_zgrid_15/PS_any_imfBy_0_25__ratio_\"+start_time+\"_to_\"+end_time+\"_Y_GSM_vs_Z_GSM_at_X_GSM_-30.0_-15.0.png\"\n",
    "    ,   non_sort_map_path+\"/\"+grid_str+\"/PS_any/events/slice/slice_zgrid_10/PS_any_imfBy_0_25__ratio_\"+start_time+\"_to_\"+end_time+\"_Y_GSM_vs_Z_GSM_at_X_GSM_-15.0_-5.0.png\"\n",
    "    ,   non_sort_map_path+\"/\"+grid_str+\"/PS_any/events/slice/slice_zgrid_10/PS_any_imfBy_0_25__ratio_\"+start_time+\"_to_\"+end_time+\"_Y_GSM_vs_Z_GSM_at_X_GSM_-5.0_5.0.png\"\n",
    "    ,   non_sort_map_path+\"/\"+grid_str+\"/PS_any/events/slice/slice_zgrid_15/PS_any_imfBy_-25_0__ratio_\"+start_time+\"_to_\"+end_time+\"_Y_GSM_vs_Z_GSM_at_X_GSM_-30.0_-15.0.png\"\n",
    "    ,   non_sort_map_path+\"/\"+grid_str+\"/PS_any/events/slice/slice_zgrid_10/PS_any_imfBy_-25_0__ratio_\"+start_time+\"_to_\"+end_time+\"_Y_GSM_vs_Z_GSM_at_X_GSM_-15.0_-5.0.png\"\n",
    "    ,   non_sort_map_path+\"/\"+grid_str+\"/PS_any/events/slice/slice_zgrid_10/PS_any_imfBy_-25_0__ratio_\"+start_time+\"_to_\"+end_time+\"_Y_GSM_vs_Z_GSM_at_X_GSM_-5.0_5.0.png\"\n",
    "]\n",
    "\n",
    "ipyplot.plot_images(images_array, img_width=300)\n",
    "\n"
   ]
  },
  {
   "cell_type": "markdown",
   "metadata": {},
   "source": [
    "### IMF By sorted sliced maps in XYgsm for different regions\n"
   ]
  },
  {
   "cell_type": "code",
   "execution_count": null,
   "metadata": {
    "scrolled": false
   },
   "outputs": [],
   "source": [
    "images_array = [\n",
    "      hemi_sort_map_path+\"/hemi_north/\"+grid_str+\"/north_Lobe_any/events/2d/north_Lobe_any_imfBy_-25_0__ratio_\"+start_time+\"_to_\"+end_time+\"_X_GSM_vs_Y_GSM.png\"\n",
    "    , hemi_sort_map_path+\"/hemi_north/\"+grid_str+\"/north_Lobe_any/events/2d/north_Lobe_any_imfBy_0_25__ratio_\"+start_time+\"_to_\"+end_time+\"_X_GSM_vs_Y_GSM.png\"\n",
    "    , hemi_sort_map_path+\"/hemi_south/\"+grid_str+\"/south_Lobe_any/events/2d/south_Lobe_any_imfBy_-25_0__ratio_\"+start_time+\"_to_\"+end_time+\"_X_GSM_vs_Y_GSM.png\"\n",
    "    , hemi_sort_map_path+\"/hemi_south/\"+grid_str+\"/south_Lobe_any/events/2d/south_Lobe_any_imfBy_0_25__ratio_\"+start_time+\"_to_\"+end_time+\"_X_GSM_vs_Y_GSM.png\"\n",
    "\n",
    "    , hemi_sort_map_path+\"/hemi_north/\"+grid_str+\"/north_BL_any/events/2d/north_BL_any_imfBy_-25_0__ratio_\"+start_time+\"_to_\"+end_time+\"_X_GSM_vs_Y_GSM.png\"\n",
    "    , hemi_sort_map_path+\"/hemi_north/\"+grid_str+\"/north_BL_any/events/2d/north_BL_any_imfBy_0_25__ratio_\"+start_time+\"_to_\"+end_time+\"_X_GSM_vs_Y_GSM.png\"\n",
    "    , hemi_sort_map_path+\"/hemi_south/\"+grid_str+\"/south_BL_any/events/2d/south_BL_any_imfBy_-25_0__ratio_\"+start_time+\"_to_\"+end_time+\"_X_GSM_vs_Y_GSM.png\"\n",
    "    , hemi_sort_map_path+\"/hemi_south/\"+grid_str+\"/south_BL_any/events/2d/south_BL_any_imfBy_0_25__ratio_\"+start_time+\"_to_\"+end_time+\"_X_GSM_vs_Y_GSM.png\"\n",
    "\n",
    "    , hemi_sort_map_path+\"/hemi_north/\"+grid_str+\"/north_PS_any/events/2d/north_PS_any_imfBy_-25_0__ratio_\"+start_time+\"_to_\"+end_time+\"_X_GSM_vs_Y_GSM.png\"\n",
    "    , hemi_sort_map_path+\"/hemi_north/\"+grid_str+\"/north_PS_any/events/2d/north_PS_any_imfBy_0_25__ratio_\"+start_time+\"_to_\"+end_time+\"_X_GSM_vs_Y_GSM.png\"\n",
    "    , hemi_sort_map_path+\"/hemi_south/\"+grid_str+\"/south_PS_any/events/2d/south_PS_any_imfBy_-25_0__ratio_\"+start_time+\"_to_\"+end_time+\"_X_GSM_vs_Y_GSM.png\"\n",
    "    , hemi_sort_map_path+\"/hemi_south/\"+grid_str+\"/south_PS_any/events/2d/south_PS_any_imfBy_0_25__ratio_\"+start_time+\"_to_\"+end_time+\"_X_GSM_vs_Y_GSM.png\"\n",
    "\n",
    "    \n",
    "  ]\n",
    "\n",
    "ipyplot.plot_images(images_array, img_width=400)\n",
    "\n"
   ]
  },
  {
   "cell_type": "markdown",
   "metadata": {},
   "source": [
    "## Different events  ranges\n",
    "\n",
    "### 1- 100 eV\n",
    "Data are trapped near Earth. "
   ]
  },
  {
   "cell_type": "code",
   "execution_count": null,
   "metadata": {},
   "outputs": [],
   "source": [
    "images_array = [\n",
    "        non_sort_map_path+\"/\"+grid_str+\"/Lobe_any/events/2d/Lobe_any_en_1_100__ratio_\"+start_time+\"_to_\"+end_time+\"_X_GSM_vs_Z_GSM.png\"\n",
    "    ,   non_sort_map_path+\"/\"+grid_str+\"/Lobe_any/events/2d/Lobe_any_en_1_100__ratio_\"+start_time+\"_to_\"+end_time+\"_X_GSM_vs_Y_GSM.png\"\n",
    "    ,   non_sort_map_path+\"/\"+grid_str+\"/Lobe_any/events/2d/Lobe_any_en_1_100__ratio_\"+start_time+\"_to_\"+end_time+\"_Y_GSM_vs_Z_GSM.png\"\n",
    "    ,   non_sort_map_path+\"/\"+grid_str+\"/BL_any/events/2d/BL_any_en_1_100__ratio_\"+start_time+\"_to_\"+end_time+\"_X_GSM_vs_Z_GSM.png\"\n",
    "    ,   non_sort_map_path+\"/\"+grid_str+\"/BL_any/events/2d/BL_any_en_1_100__ratio_\"+start_time+\"_to_\"+end_time+\"_X_GSM_vs_Y_GSM.png\"\n",
    "    ,   non_sort_map_path+\"/\"+grid_str+\"/BL_any/events/2d/BL_any_en_1_100__ratio_\"+start_time+\"_to_\"+end_time+\"_Y_GSM_vs_Z_GSM.png\"\n",
    "    ,   non_sort_map_path+\"/\"+grid_str+\"/PS_any/events/2d/PS_any_en_1_100__ratio_\"+start_time+\"_to_\"+end_time+\"_X_GSM_vs_Z_GSM.png\"\n",
    "    ,   non_sort_map_path+\"/\"+grid_str+\"/PS_any/events/2d/PS_any_en_1_100__ratio_\"+start_time+\"_to_\"+end_time+\"_X_GSM_vs_Y_GSM.png\"\n",
    "    ,   non_sort_map_path+\"/\"+grid_str+\"/PS_any/events/2d/PS_any_en_1_100__ratio_\"+start_time+\"_to_\"+end_time+\"_Y_GSM_vs_Z_GSM.png\"\n",
    "]\n",
    "\n",
    "ipyplot.plot_images(images_array, img_width=180)\n",
    "\n"
   ]
  },
  {
   "cell_type": "markdown",
   "metadata": {},
   "source": [
    "### 100 eV ~ 1 keV\n"
   ]
  },
  {
   "cell_type": "code",
   "execution_count": null,
   "metadata": {},
   "outputs": [],
   "source": [
    "images_array = [\n",
    "          non_sort_map_path+\"/\"+grid_str+\"/Lobe_any/events/2d/Lobe_any_en_100_1000__ratio_\"+start_time+\"_to_\"+end_time+\"_X_GSM_vs_Z_GSM.png\"\n",
    "      ,   non_sort_map_path+\"/\"+grid_str+\"/Lobe_any/events/2d/Lobe_any_en_100_1000__ratio_\"+start_time+\"_to_\"+end_time+\"_X_GSM_vs_Y_GSM.png\"\n",
    "      ,   non_sort_map_path+\"/\"+grid_str+\"/Lobe_any/events/2d/Lobe_any_en_100_1000__ratio_\"+start_time+\"_to_\"+end_time+\"_Y_GSM_vs_Z_GSM.png\"\n",
    "      ,   non_sort_map_path+\"/\"+grid_str+\"/BL_any/events/2d/BL_any_en_100_1000__ratio_\"+start_time+\"_to_\"+end_time+\"_X_GSM_vs_Z_GSM.png\"\n",
    "      ,   non_sort_map_path+\"/\"+grid_str+\"/BL_any/events/2d/BL_any_en_100_1000__ratio_\"+start_time+\"_to_\"+end_time+\"_X_GSM_vs_Y_GSM.png\"\n",
    "      ,   non_sort_map_path+\"/\"+grid_str+\"/BL_any/events/2d/BL_any_en_100_1000__ratio_\"+start_time+\"_to_\"+end_time+\"_Y_GSM_vs_Z_GSM.png\"\n",
    "      ,   non_sort_map_path+\"/\"+grid_str+\"/PS_any/events/2d/PS_any_en_100_1000__ratio_\"+start_time+\"_to_\"+end_time+\"_X_GSM_vs_Z_GSM.png\"\n",
    "      ,   non_sort_map_path+\"/\"+grid_str+\"/PS_any/events/2d/PS_any_en_100_1000__ratio_\"+start_time+\"_to_\"+end_time+\"_X_GSM_vs_Y_GSM.png\"\n",
    "      ,   non_sort_map_path+\"/\"+grid_str+\"/PS_any/events/2d/PS_any_en_100_1000__ratio_\"+start_time+\"_to_\"+end_time+\"_Y_GSM_vs_Z_GSM.png\"\n",
    "   ]\n",
    "\n",
    "ipyplot.plot_images(images_array, img_width=180)\n",
    "\n"
   ]
  },
  {
   "cell_type": "markdown",
   "metadata": {},
   "source": [
    "### 1000 - 3000 eV\n",
    "Dusk asymmetry observed for -10Re to -20Re"
   ]
  },
  {
   "cell_type": "code",
   "execution_count": null,
   "metadata": {},
   "outputs": [],
   "source": [
    "images_array = [\n",
    "        non_sort_map_path+\"/\"+grid_str+\"/Lobe_any/events/2d/Lobe_any_en_1000_3000__ratio_\"+start_time+\"_to_\"+end_time+\"_X_GSM_vs_Z_GSM.png\"\n",
    "       ,   non_sort_map_path+\"/\"+grid_str+\"/Lobe_any/events/2d/Lobe_any_en_1000_3000__ratio_\"+start_time+\"_to_\"+end_time+\"_X_GSM_vs_Y_GSM.png\"\n",
    "    ,   non_sort_map_path+\"/\"+grid_str+\"/Lobe_any/events/2d/Lobe_any_en_1000_3000__ratio_\"+start_time+\"_to_\"+end_time+\"_Y_GSM_vs_Z_GSM.png\"\n",
    " ,   non_sort_map_path+\"/\"+grid_str+\"/BL_any/events/2d/BL_any_en_1000_3000__ratio_\"+start_time+\"_to_\"+end_time+\"_X_GSM_vs_Z_GSM.png\"\n",
    "      ,   non_sort_map_path+\"/\"+grid_str+\"/BL_any/events/2d/BL_any_en_1000_3000__ratio_\"+start_time+\"_to_\"+end_time+\"_X_GSM_vs_Y_GSM.png\"\n",
    "      ,   non_sort_map_path+\"/\"+grid_str+\"/BL_any/events/2d/BL_any_en_1000_3000__ratio_\"+start_time+\"_to_\"+end_time+\"_Y_GSM_vs_Z_GSM.png\"\n",
    ",   non_sort_map_path+\"/\"+grid_str+\"/PS_any/events/2d/PS_any_en_1000_3000__ratio_\"+start_time+\"_to_\"+end_time+\"_X_GSM_vs_Z_GSM.png\"\n",
    "    ,   non_sort_map_path+\"/\"+grid_str+\"/PS_any/events/2d/PS_any_en_1000_3000__ratio_\"+start_time+\"_to_\"+end_time+\"_X_GSM_vs_Y_GSM.png\"\n",
    "    ,   non_sort_map_path+\"/\"+grid_str+\"/PS_any/events/2d/PS_any_en_1000_3000__ratio_\"+start_time+\"_to_\"+end_time+\"_Y_GSM_vs_Z_GSM.png\"\n",
    "]\n",
    "\n",
    "ipyplot.plot_images(images_array, img_width=180)"
   ]
  },
  {
   "cell_type": "markdown",
   "metadata": {},
   "source": [
    "### 3000 - 40000 eV\n",
    "Dusk asymmetry observed for -10Re to -20Re"
   ]
  },
  {
   "cell_type": "code",
   "execution_count": null,
   "metadata": {},
   "outputs": [],
   "source": [
    "images_array = [\n",
    "        non_sort_map_path+\"/\"+grid_str+\"/Lobe_any/events/2d/Lobe_any_en_3000_40000__ratio_\"+start_time+\"_to_\"+end_time+\"_X_GSM_vs_Z_GSM.png\"\n",
    "       ,   non_sort_map_path+\"/\"+grid_str+\"/Lobe_any/events/2d/Lobe_any_en_3000_40000__ratio_\"+start_time+\"_to_\"+end_time+\"_X_GSM_vs_Y_GSM.png\"\n",
    "    ,   non_sort_map_path+\"/\"+grid_str+\"/Lobe_any/events/2d/Lobe_any_en_3000_40000__ratio_\"+start_time+\"_to_\"+end_time+\"_Y_GSM_vs_Z_GSM.png\"\n",
    " ,   non_sort_map_path+\"/\"+grid_str+\"/BL_any/events/2d/BL_any_en_3000_40000__ratio_\"+start_time+\"_to_\"+end_time+\"_X_GSM_vs_Z_GSM.png\"\n",
    "      ,   non_sort_map_path+\"/\"+grid_str+\"/BL_any/events/2d/BL_any_en_3000_40000__ratio_\"+start_time+\"_to_\"+end_time+\"_X_GSM_vs_Y_GSM.png\"\n",
    "      ,   non_sort_map_path+\"/\"+grid_str+\"/BL_any/events/2d/BL_any_en_3000_40000__ratio_\"+start_time+\"_to_\"+end_time+\"_Y_GSM_vs_Z_GSM.png\"\n",
    ",   non_sort_map_path+\"/\"+grid_str+\"/PS_any/events/2d/PS_any_en_3000_40000__ratio_\"+start_time+\"_to_\"+end_time+\"_X_GSM_vs_Z_GSM.png\"\n",
    "    ,   non_sort_map_path+\"/\"+grid_str+\"/PS_any/events/2d/PS_any_en_3000_40000__ratio_\"+start_time+\"_to_\"+end_time+\"_X_GSM_vs_Y_GSM.png\"\n",
    "    ,   non_sort_map_path+\"/\"+grid_str+\"/PS_any/events/2d/PS_any_en_3000_40000__ratio_\"+start_time+\"_to_\"+end_time+\"_Y_GSM_vs_Z_GSM.png\"\n",
    "]\n",
    "\n",
    "ipyplot.plot_images(images_array, img_width=180)"
   ]
  },
  {
   "cell_type": "markdown",
   "metadata": {},
   "source": [
    "## kp impacts"
   ]
  },
  {
   "cell_type": "code",
   "execution_count": null,
   "metadata": {},
   "outputs": [],
   "source": [
    "images_array = [kp_sort_map_path+\"/kp_lt_2/\"+grid_str+\"/Kplt_2_any/events/2d/Kplt_2_any__ratio_\"   +start_time+\"_to_\"+end_time+\"_X_GSM_vs_Y_GSM.png\"  \n",
    "                ,  kp_sort_map_path+\"/kp_ge_2/\"+grid_str+\"/Kpge_2_any/events/2d/Kpge_2_any__ratio_\"   +start_time+\"_to_\"+end_time+\"_X_GSM_vs_Y_GSM.png\"  \n",
    "]\n",
    "\n",
    "ipyplot.plot_images(images_array, img_width=300)"
   ]
  },
  {
   "cell_type": "code",
   "execution_count": null,
   "metadata": {},
   "outputs": [],
   "source": [
    "images_array = [\n",
    "   kp_sort_map_path+\"/kp_lt_2/\"+grid_str+\"/Kplt_2_Lobe_any/events/2d/Kplt_2_Lobe_any__ratio_\"+start_time+\"_to_\"+end_time+\"_X_GSM_vs_Y_GSM.png\"\n",
    ",   kp_sort_map_path+\"/kp_ge_2/\"+grid_str+\"/Kpge_2_Lobe_any/events/2d/Kpge_2_Lobe_any__ratio_\"+start_time+\"_to_\"+end_time+\"_X_GSM_vs_Y_GSM.png\"\n",
    "\n",
    "]\n",
    "\n",
    "ipyplot.plot_images(images_array, img_width=300)"
   ]
  },
  {
   "cell_type": "code",
   "execution_count": null,
   "metadata": {},
   "outputs": [],
   "source": [
    "images_array = [\n",
    "   kp_sort_map_path+\"/kp_lt_2/\"+grid_str+\"/Kplt_2_BL_any/events/2d/Kplt_2_BL_any__ratio_\"+start_time+\"_to_\"+end_time+\"_X_GSM_vs_Y_GSM.png\"\n",
    ",   kp_sort_map_path+\"/kp_ge_2/\"+grid_str+\"/Kpge_2_BL_any/events/2d/Kpge_2_BL_any__ratio_\"+start_time+\"_to_\"+end_time+\"_X_GSM_vs_Y_GSM.png\"\n",
    "\n",
    "]\n",
    "\n",
    "ipyplot.plot_images(images_array, img_width=300)"
   ]
  },
  {
   "cell_type": "code",
   "execution_count": null,
   "metadata": {},
   "outputs": [],
   "source": [
    "images_array = [\n",
    "   kp_sort_map_path+\"/kp_lt_2/\"+grid_str+\"/Kplt_2_PS_any/events/2d/Kplt_2_PS_any__ratio_\"+start_time+\"_to_\"+end_time+\"_X_GSM_vs_Y_GSM.png\"\n",
    ",   kp_sort_map_path+\"/kp_ge_2/\"+grid_str+\"/Kpge_2_PS_any/events/2d/Kpge_2_PS_any__ratio_\"+start_time+\"_to_\"+end_time+\"_X_GSM_vs_Y_GSM.png\"\n",
    "\n",
    "]\n",
    "\n",
    "ipyplot.plot_images(images_array, img_width=300)"
   ]
  },
  {
   "cell_type": "markdown",
   "metadata": {},
   "source": [
    "## Storm impacts "
   ]
  },
  {
   "cell_type": "code",
   "execution_count": null,
   "metadata": {},
   "outputs": [],
   "source": [
    "images_array = [\n",
    "    non_sort_map_path+\"/\"+grid_str+\"/nonstorm_time_any/events/2d/nonstorm_time_any__ratio_\"+start_time+\"_to_\"+end_time+\"_X_GSM_vs_Y_GSM.png\"\n",
    " ,  non_sort_map_path+\"/\"+grid_str+\"/storm_time_any/events/2d/storm_time_any__ratio_\"+start_time+\"_to_\"+end_time+\"_X_GSM_vs_Y_GSM.png\"\n",
    "]\n",
    "\n",
    "ipyplot.plot_images(images_array, img_width=228)"
   ]
  },
  {
   "cell_type": "code",
   "execution_count": null,
   "metadata": {},
   "outputs": [],
   "source": []
  },
  {
   "cell_type": "markdown",
   "metadata": {},
   "source": [
    "## Solar wind velocity impacts on the convection maps"
   ]
  },
  {
   "cell_type": "code",
   "execution_count": null,
   "metadata": {},
   "outputs": [],
   "source": [
    "images_array = [\n",
    "    non_sort_map_path+\"/\"+grid_str+\"/any/events/2d/any_swV_0_450_ratio_\"+start_time+\"_to_\"+end_time+\"_X_GSM_vs_Y_GSM.png\"\n",
    ",   non_sort_map_path+\"/\"+grid_str+\"/any/events/2d/any_swV_450_900_ratio_\"+start_time+\"_to_\"+end_time+\"_X_GSM_vs_Y_GSM.png\"\n",
    "\n",
    "]\n",
    "\n",
    "ipyplot.plot_images(images_array, img_width=300\n",
    "                   )"
   ]
  },
  {
   "cell_type": "markdown",
   "metadata": {},
   "source": [
    "## Solar wind pressure impacts on the convection maps"
   ]
  },
  {
   "cell_type": "code",
   "execution_count": null,
   "metadata": {},
   "outputs": [],
   "source": [
    "images_array = [\n",
    "    non_sort_map_path+\"/\"+grid_str+\"/any/events/2d/any_swP_0_2__ratio_\"+start_time+\"_to_\"+end_time+\"_X_GSM_vs_Y_GSM.png\"\n",
    ",   non_sort_map_path+\"/\"+grid_str+\"/any/events/2d/any_swP_2_20__ratio_\"+start_time+\"_to_\"+end_time+\"_X_GSM_vs_Y_GSM.png\"\n",
    "\n",
    "]\n",
    "\n",
    "ipyplot.plot_images(images_array, img_width=300)\n"
   ]
  },
  {
   "cell_type": "markdown",
   "metadata": {},
   "source": [
    "### South / north in median events different regions for positive and negative IMF By\n"
   ]
  },
  {
   "cell_type": "code",
   "execution_count": null,
   "metadata": {
    "scrolled": false
   },
   "outputs": [],
   "source": [
    "### South / north in median events different regions for positive and negative IMF By\n",
    "images_array = [\n",
    "    hemi_sort_map_path+\"/hemi_north/\"+grid_str+\"/north_Lobe_any/events/2d/north_Lobe_any_imfBy_-25_0__ratio_\"+start_time+\"_to_\"+end_time+\"_X_GSM_vs_Y_GSM.png\"\n",
    "   ,hemi_sort_map_path+\"/hemi_north/\"+grid_str+\"/north_Lobe_any/events/2d/north_Lobe_any_imfBy_0_25__ratio_\"+start_time+\"_to_\"+end_time+\"_X_GSM_vs_Y_GSM.png\"\n",
    "   ,hemi_sort_map_path+\"/hemi_south/\"+grid_str+\"/south_Lobe_any/events/2d/south_Lobe_any_imfBy_-25_0__ratio_\"+start_time+\"_to_\"+end_time+\"_X_GSM_vs_Y_GSM.png\"\n",
    "   ,hemi_sort_map_path+\"/hemi_south/\"+grid_str+\"/south_Lobe_any/events/2d/south_Lobe_any_imfBy_0_25__ratio_\"+start_time+\"_to_\"+end_time+\"_X_GSM_vs_Y_GSM.png\"\n",
    "   ,hemi_sort_map_path+\"/hemi_north/\"+grid_str+\"/north_BL_any/events/2d/north_BL_any_imfBy_-25_0__ratio_\"+start_time+\"_to_\"+end_time+\"_X_GSM_vs_Y_GSM.png\"\n",
    "   ,hemi_sort_map_path+\"/hemi_north/\"+grid_str+\"/north_BL_any/events/2d/north_BL_any_imfBy_0_25__ratio_\"+start_time+\"_to_\"+end_time+\"_X_GSM_vs_Y_GSM.png\"\n",
    "   ,hemi_sort_map_path+\"/hemi_south/\"+grid_str+\"/south_BL_any/events/2d/south_BL_any_imfBy_-25_0__ratio_\"+start_time+\"_to_\"+end_time+\"_X_GSM_vs_Y_GSM.png\"\n",
    "   ,hemi_sort_map_path+\"/hemi_south/\"+grid_str+\"/south_BL_any/events/2d/south_BL_any_imfBy_0_25__ratio_\"+start_time+\"_to_\"+end_time+\"_X_GSM_vs_Y_GSM.png\"\n",
    "   ,hemi_sort_map_path+\"/hemi_north/\"+grid_str+\"/north_PS_any/events/2d/north_PS_any_imfBy_-25_0__ratio_\"+start_time+\"_to_\"+end_time+\"_X_GSM_vs_Y_GSM.png\"\n",
    "   ,hemi_sort_map_path+\"/hemi_north/\"+grid_str+\"/north_PS_any/events/2d/north_PS_any_imfBy_0_25__ratio_\"+start_time+\"_to_\"+end_time+\"_X_GSM_vs_Y_GSM.png\"\n",
    "   ,hemi_sort_map_path+\"/hemi_south/\"+grid_str+\"/south_PS_any/events/2d/south_PS_any_imfBy_-25_0__ratio_\"+start_time+\"_to_\"+end_time+\"_X_GSM_vs_Y_GSM.png\"\n",
    "   ,hemi_sort_map_path+\"/hemi_south/\"+grid_str+\"/south_PS_any/events/2d/south_PS_any_imfBy_0_25__ratio_\"+start_time+\"_to_\"+end_time+\"_X_GSM_vs_Y_GSM.png\"\n",
    "\n",
    "]\n",
    "\n",
    "ipyplot.plot_images(images_array, img_width=400)"
   ]
  },
  {
   "cell_type": "code",
   "execution_count": null,
   "metadata": {},
   "outputs": [],
   "source": []
  },
  {
   "cell_type": "code",
   "execution_count": null,
   "metadata": {},
   "outputs": [],
   "source": []
  }
 ],
 "metadata": {
  "kernelspec": {
   "display_name": "Python 3",
   "language": "python",
   "name": "python3"
  },
  "language_info": {
   "codemirror_mode": {
    "name": "ipython",
    "version": 3
   },
   "file_extension": ".py",
   "mimetype": "text/x-python",
   "name": "python",
   "nbconvert_exporter": "python",
   "pygments_lexer": "ipython3",
   "version": "3.7.3"
  }
 },
 "nbformat": 4,
 "nbformat_minor": 2
}
