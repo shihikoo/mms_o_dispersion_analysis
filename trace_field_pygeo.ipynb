{
 "cells": [
  {
   "cell_type": "code",
   "execution_count": 3,
   "metadata": {},
   "outputs": [],
   "source": [
    "import pandas as pd\n",
    "from functions import pygeo_wrapper\n",
    "from functions import data_preprocess_functions\n",
    "\n",
    "model = \"t89\"\n",
    "filename = 'data/fulldata_20160101_to_20171231.csv'"
   ]
  },
  {
   "cell_type": "code",
   "execution_count": 4,
   "metadata": {},
   "outputs": [],
   "source": [
    "data = data_preprocess_functions.preprocess_data(pd.read_csv(filename))\n",
    "dispersion_list = data_preprocess_functions.extract_dispersions(data)"
   ]
  },
  {
   "cell_type": "code",
   "execution_count": 5,
   "metadata": {},
   "outputs": [],
   "source": [
    "print(model)\n",
    "dispersion_list['model'] = dispersion_list.apply(pygeo_wrapper.get_magnetic_model,axis = 1)\n",
    "dispersion_list['model_field_line_length_python_geopack'] = dispersion_list['model'].apply(pygeo_wrapper.extract_field_line_length)\n",
    "dispersion_list['model_x'] = dispersion_list['model'].apply(pygeo_wrapper.extract_x)\n",
    "dispersion_list['model_y'] = dispersion_list['model'].apply(pygeo_wrapper.extract_y)\n",
    "dispersion_list['model_z'] = dispersion_list['model'].apply(pygeo_wrapper.extract_z)"
   ]
  },
  {
   "cell_type": "code",
   "execution_count": 6,
   "metadata": {},
   "outputs": [],
   "source": [
    "dispersion_list.drop(['model'], axis=1)\n",
    "\n",
    "dispersion_list.to_csv('output/'+model+'_dispersion_list.csv')"
   ]
  },
  {
   "cell_type": "code",
   "execution_count": null,
   "metadata": {},
   "outputs": [],
   "source": []
  }
 ],
 "metadata": {
  "kernelspec": {
   "display_name": "Python 3",
   "language": "python",
   "name": "python3"
  },
  "language_info": {
   "codemirror_mode": {
    "name": "ipython",
    "version": 3
   },
   "file_extension": ".py",
   "mimetype": "text/x-python",
   "name": "python",
   "nbconvert_exporter": "python",
   "pygments_lexer": "ipython3",
   "version": "3.7.3"
  }
 },
 "nbformat": 4,
 "nbformat_minor": 2
}
