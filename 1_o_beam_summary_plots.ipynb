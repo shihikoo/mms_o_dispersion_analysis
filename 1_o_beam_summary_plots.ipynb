{
 "cells": [
  {
   "cell_type": "code",
   "execution_count": null,
   "metadata": {},
   "outputs": [],
   "source": [
    "import pandas as pd\n",
    "import plotly.express as px\n",
    "import plotly.io as pio\n",
    "from collections import Counter\n",
    "import math\n",
    "import datetime as datetime\n",
    "from plotly.subplots import make_subplots\n",
    "import plotly.graph_objects as go"
   ]
  },
  {
   "cell_type": "code",
   "execution_count": null,
   "metadata": {},
   "outputs": [],
   "source": [
    "filename = 'data/fulldata_20160101_to_20191231.csv'\n"
   ]
  },
  {
   "cell_type": "code",
   "execution_count": null,
   "metadata": {},
   "outputs": [],
   "source": [
    "data = pd.read_csv(filename)\n",
    "data['datetime_str'] = data.loc[:,'TIME'].apply(datetime.datetime.utcfromtimestamp)\n",
    "\n",
    "#data.columns"
   ]
  },
  {
   "cell_type": "code",
   "execution_count": null,
   "metadata": {},
   "outputs": [],
   "source": [
    "df = pd.DataFrame(data=pd.concat([data['EN_PARA'] ,data['EN_ANTI']],ignore_index = True), columns = ['energy'])\n",
    "\n",
    "df['pitch angle'] = pd.concat([data['PA_PARA'] ,data['PA_ANTI']],ignore_index = True)\n",
    "df['flag'] = pd.concat([data['FLAG_PARA'] , -data['FLAG_ANTI']],ignore_index = True)\n",
    "df['flux'] = pd.concat([data['FLUX_PARA'] ,data['FLUX_ANTI']],ignore_index = True)\n",
    "df['eflux'] = pd.concat([data['EFLUX_PARA'] ,data['EFLUX_ANTI']],ignore_index = True)\n",
    "df['xgsm'] = pd.concat([data['GSM_X'] ,data['GSM_X']],ignore_index = True)\n",
    "df['ygsm'] = pd.concat([data['GSM_Y'] ,data['GSM_Y']],ignore_index = True)\n",
    "df['zgsm'] = pd.concat([data['GSM_Z'] ,data['GSM_Z']],ignore_index = True)\n",
    "df['beta'] = pd.concat([data['BETA'] ,data['BETA']],ignore_index = True)\n",
    "df['imfBy'] = pd.concat([data['IMF_BY_PARA'] ,data['IMF_BY_ANTI']],ignore_index = True)\n",
    "df['imfBz'] = pd.concat([data['IMF_BZ_PARA'] ,data['IMF_BZ_ANTI']],ignore_index = True)\n",
    "df['storm_phase'] = pd.concat([data['STORM_PHASE'] ,data['STORM_PHASE']],ignore_index = True)\n",
    "df['velocity_o_all'] = pd.concat([data['O_V'] ,data['O_V']],ignore_index = True)\n",
    "df['density_o_all'] = pd.concat([data['O_N'] ,data['O_N']],ignore_index = True)\n",
    "df['pressure_o_all'] = pd.concat([data['O_P'] ,data['O_P']],ignore_index = True)\n",
    "df['density_h_all'] = pd.concat([data['H_N'] ,data['H_N']],ignore_index = True)\n",
    "df['swp'] = pd.concat([data['SW_P_PARA'] ,data['SW_P_ANTI']],ignore_index = True)\n",
    "df['kp'] = pd.concat([data['KP'] ,data['KP']],ignore_index = True)\n",
    "df['dst'] = pd.concat([data['DST'] ,data['DST']],ignore_index = True)\n",
    "\n",
    "df['kp_gt_2'] = df['kp'] > 2 \n",
    "df['storm'] = df['storm_phase'] > 0\n",
    "df['storm_phase'] = pd.Categorical(df['storm_phase']).rename_categories({0:'nonstorm',1:'prestorm',2:'main phase',3:'fast recovery', 4:'long recovery'})\n",
    "df['region'] = df['beta']\n",
    "\n",
    "df.loc[df['beta'] > 0 , 'region'] = 1\n",
    "df.loc[df['beta'] > 0.5 , 'region'] = 2\n",
    "df.loc[df['beta'] > 1 , 'region'] = 3\n"
   ]
  },
  {
   "cell_type": "code",
   "execution_count": null,
   "metadata": {
    "scrolled": false
   },
   "outputs": [],
   "source": [
    "fig = make_subplots(rows=2, cols=2, subplot_titles=(\"Storm Phases\", \"Kp Index\", \"IMF Bz\", \"Solar wind Pressure\"))\n",
    "\n",
    "fig.add_trace(go.Histogram(x=df['storm_phase']), row=1, col=1)\n",
    "fig.add_trace(go.Histogram(x=df['kp'], xbins=dict(start=0,end=7.0, size=0.1 )) ,row=1, col=2)\n",
    "fig.add_trace(go.Histogram(x=df['imfBz']) ,row=2, col=1)\n",
    "fig.add_trace(go.Histogram(x=df['swp']) ,row=2, col=2)\n",
    "\n",
    "fig.update_xaxes(categoryorder='array', categoryarray= ['nonstorm','prestorm','main phase','fast recovery','long recovery'], row=1, col=1)\n",
    "\n",
    "fig.update_layout(showlegend=False)\n"
   ]
  },
  {
   "cell_type": "code",
   "execution_count": null,
   "metadata": {},
   "outputs": [],
   "source": [
    "dict(start=0.01,end=2000, size=1)"
   ]
  },
  {
   "cell_type": "code",
   "execution_count": null,
   "metadata": {},
   "outputs": [],
   "source": [
    "fig = make_subplots(rows=2, cols=2, subplot_titles=(\"Energy\", \"Flux\", \"Pitch Angle\", \"Region\"))\n",
    "\n",
    "fig.add_trace(go.Histogram(x=df['energy']), row=1, col=1)\n",
    "fig.add_trace(go.Histogram(x=df['flux'], xbins=dict(start=0,end=200, size=1)) ,row=1, col=2)\n",
    "fig.add_trace(go.Histogram(x=df['pitch angle']) ,row=2, col=1)\n",
    "fig.add_trace(go.Histogram(x=df['region'], xbins=dict(start=0,end=4, size=1)) ,row=2, col=2)\n",
    "\n",
    "#fig.update_xaxes(type=\"log\", range = [0,5],row=1, col=1)\n",
    "fig.update_xaxes(type=\"log\", range = [0,2],row=1, col=2)\n",
    "fig.update_xaxes(range = [1,4],row=2, col=2)\n",
    "\n",
    "#fig.update_xaxes(type=\"log\", row=1, col=2)\n",
    "#fig.update_xaxes(type=\"log\", row=2, col=2)\n",
    "\n",
    "fig.update_layout(showlegend=False)\n"
   ]
  },
  {
   "cell_type": "code",
   "execution_count": null,
   "metadata": {},
   "outputs": [],
   "source": [
    "go.Histogram(x=df['region'], xbins=dict(start=0,end=3, size=1))"
   ]
  },
  {
   "cell_type": "code",
   "execution_count": null,
   "metadata": {
    "scrolled": false
   },
   "outputs": [],
   "source": [
    "fig = make_subplots(rows=2, cols=2, subplot_titles=(\"Vel_tot\", \"Density\", \"Pressure\", \"H+ density\"))\n",
    "\n",
    "fig.add_trace(go.Histogram(x=df['velocity_o_all']), row=1, col=1)\n",
    "fig.add_trace(go.Histogram(x=df['density_o_all'], xbins=dict(start=0.01,end=10, size=0.1)) ,row=1, col=2)\n",
    "fig.add_trace(go.Histogram(x=df['pressure_o_all'], xbins=dict(start=0.001,end=0.01, size=0.001)) ,row=2, col=1)\n",
    "fig.add_trace(go.Histogram(x=df['density_h_all'], xbins=dict(start=0.01,end=10, size=0.1 )) ,row=2, col=2)\n",
    "\n",
    "#fig.update_xaxes(type=\"log\", range = [0,5],row=1, col=1)\n",
    "fig.update_xaxes(type=\"log\", range = [-1,1],row=1, col=2)\n",
    "fig.update_xaxes(type=\"log\", range = [-4,-2],row=2, col=1)\n",
    "fig.update_xaxes(type=\"log\", range = [-1,1],row=2, col=2)\n",
    "\n",
    "#fig.update_xaxes(type=\"log\", row=1, col=2)\n",
    "#fig.update_xaxes(type=\"log\", row=2, col=2)\n",
    "\n",
    "fig.update_layout(showlegend=False)\n"
   ]
  },
  {
   "cell_type": "code",
   "execution_count": null,
   "metadata": {},
   "outputs": [],
   "source": [
    "index =  df['flux'].notnull()\n",
    "df['abs_flag'] = df['flag'].apply(abs)\n",
    "fig = px.density_heatmap(df, x = 'xgsm', y = 'zgsm', marginal_x=\"histogram\", marginal_y=\"histogram\"\n",
    "                        , z ='abs_flag', histfunc ='avg', nbinsx=20, nbinsy=16\n",
    "                         , range_x=[-30,10],range_y=[-12,12]\n",
    "                         ,facet_row=\"storm\", facet_col=\"kp_gt_2\", title='Occurrence Frequency')\n",
    "fig.show()"
   ]
  },
  {
   "cell_type": "code",
   "execution_count": null,
   "metadata": {},
   "outputs": [],
   "source": [
    "index =  df['flux'].notnull()\n",
    "df['abs_flag'] = df['flag'].apply(abs)\n",
    "fig = px.density_heatmap(df, x = 'xgsm', y = 'zgsm', marginal_x=\"histogram\", marginal_y=\"histogram\"\n",
    "                         , z=\"flux\", histfunc=\"avg\", nbinsx=20, nbinsy=16\n",
    "                         , range_x=[-30,10],range_y=[-12,12]\n",
    "                         ,facet_row=\"storm\", facet_col=\"kp_gt_2\", title='flux' )\n",
    "fig.show()"
   ]
  },
  {
   "cell_type": "code",
   "execution_count": null,
   "metadata": {},
   "outputs": [],
   "source": []
  },
  {
   "cell_type": "code",
   "execution_count": null,
   "metadata": {},
   "outputs": [],
   "source": []
  }
 ],
 "metadata": {
  "kernelspec": {
   "display_name": "Python 3",
   "language": "python",
   "name": "python3"
  },
  "language_info": {
   "codemirror_mode": {
    "name": "ipython",
    "version": 3
   },
   "file_extension": ".py",
   "mimetype": "text/x-python",
   "name": "python",
   "nbconvert_exporter": "python",
   "pygments_lexer": "ipython3",
   "version": "3.7.3"
  }
 },
 "nbformat": 4,
 "nbformat_minor": 2
}
