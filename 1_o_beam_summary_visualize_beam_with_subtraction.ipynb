{
 "cells": [
  {
   "cell_type": "code",
   "execution_count": null,
   "metadata": {},
   "outputs": [],
   "source": [
    "import pandas as pd\n",
    "import plotly.express as px\n",
    "import plotly.io as pio\n",
    "from collections import Counter\n",
    "import math\n",
    "import datetime as datetime\n",
    "from plotly.subplots import make_subplots\n",
    "import plotly.graph_objects as go\n",
    "import statistics\n",
    "import glob\n",
    "import ipyplot\n",
    "import numpy as np\n",
    "import random \n"
   ]
  },
  {
   "cell_type": "code",
   "execution_count": null,
   "metadata": {},
   "outputs": [],
   "source": [
    "filename = 'data/fulldata_20160101_to_20191231.csv'\n",
    "data = pd.read_csv(filename)\n",
    "data['datetime_str'] = data.loc[:,'TIME'].apply(datetime.datetime.utcfromtimestamp)"
   ]
  },
  {
   "cell_type": "code",
   "execution_count": null,
   "metadata": {},
   "outputs": [],
   "source": [
    "df = pd.DataFrame(data=data.loc[:,['GSM_X','GSM_Y','GSM_Z','BETA','DIST','BX_GSM','BY_GSM','BZ_GSM', 'STORM_PHASE','O_V', 'O_VPAR','O_VPERP', 'O_N', 'O_P','H_N','SW_P_PARA', 'SW_V_PARA', 'KP','DST','datetime_str','IMF_BZ']])\n",
    "\n",
    "df['year'] = df['datetime_str'].dt.to_period('Y')\n",
    "df['storm'] = df['STORM_PHASE'] > 0\n",
    "df['kp_gt_2'] = df['KP'] > 2 \n",
    "df['storm_phase'] = pd.Categorical(df['STORM_PHASE']).rename_categories({0:'nonstorm',1:'prestorm',2:'main phase',3:'fast recovery', 4:'long recovery'})\n",
    "\n",
    "df.loc[df['BETA'] < 0.05,'region'] = 'lobe'\n",
    "df.loc[(df['BETA'] < 1) & (df['BETA'] >= 0.05),'region'] = 'bl'\n",
    "df.loc[df['BETA'] >= 1,'region'] = 'ps'\n",
    "\n",
    "df['compression_mode'] = (df['datetime_str'] < pd.Timestamp('2019-4-16')) | (df['datetime_str'] > pd.Timestamp('2019-8-17'))\n",
    "\n",
    "df['start_time'] = (((df['datetime_str'].dt.hour/4).apply(int)))*4\n",
    "df['end_time'] = df['start_time'] + 4\n",
    "df['start_time_dt'] = df['datetime_str'].apply(datetime.datetime.combine,time=datetime.time.min) + df['start_time'].apply(pd.Timedelta,unit=\"h\")\n",
    "df['end_time_dt'] = df['datetime_str'].apply(datetime.datetime.combine,time=datetime.time.min) + df['end_time'].apply(pd.Timedelta,unit=\"h\")\n",
    "\n",
    "df['o_beam_filepath'] = 'idl_plots/plots_with_subtraction/obeam_day/'+df['start_time_dt'].apply(pd.Timestamp.strftime,format='%Y') +'/o_beam' + df['start_time_dt'].apply(pd.Timestamp.strftime,format='%Y%m%d_%H%M%S') +'_to_' + df['end_time_dt'].apply(pd.Timestamp.strftime,format='%Y%m%d_%H%M%S') + '_plasma_condition_short.png'\n",
    "\n",
    "index = (df['DIST'] >= 7) & (df['DIST'] < 9)\n",
    "df.loc[index,'dist_region'] = 'near'\n",
    "index = df['DIST'] >= 9\n",
    "df.loc[index,'dist_region'] = 'tail'\n",
    "\n",
    "index = ((df['GSM_X'] > -1) & (df['GSM_Z'] < 0)) | ((df['GSM_X'] < -1) & (df['BX_GSM'] < 0))\n",
    "df.loc[index,'hemi'] = 'south'\n",
    "index = ((df['GSM_X'] > -1) & (df['GSM_Z'] > 0)) | ((df['GSM_X'] < -1) & (df['BX_GSM'] > 0))\n",
    "df.loc[index,'hemi'] = 'north'\n",
    "\n",
    "df.loc[:, 'flag'] = 0\n",
    "index = ((df['hemi'] == 'south') & (data['FLAG_PARA'] == 1))\n",
    "df.loc[index, 'flag'] = 1\n",
    "df.loc[index, 'flux'] = data['FLUX_PARA']\n",
    "df.loc[index, 'energy'] = data['EN_PARA']\n",
    "df.loc[index, 'eflux'] = data['EFLUX_PARA']\n",
    "df.loc[index, 'imfBy'] = data['IMF_BY_PARA']\n",
    "df.loc[index, 'imfBz'] = data['IMF_BZ_PARA']\n",
    "\n",
    "index = ((df['hemi'] == 'north') & (data['FLAG_ANTI'] == 1))\n",
    "df.loc[index, 'flag'] = -1\n",
    "df.loc[index, 'flux'] = data['FLUX_ANTI']\n",
    "df.loc[index, 'energy'] = data['EN_ANTI']\n",
    "df.loc[index, 'eflux'] = data['EFLUX_ANTI']\n",
    "df.loc[index, 'imfBy'] = data['IMF_BY_ANTI']\n",
    "df.loc[index, 'imfBz'] = data['IMF_BZ_ANTI']\n",
    "\n",
    "df['energy_int'] = round(df['energy'])\n",
    "\n",
    "df = df.sort_values(by=['datetime_str'])"
   ]
  },
  {
   "cell_type": "code",
   "execution_count": null,
   "metadata": {
    "scrolled": false
   },
   "outputs": [],
   "source": [
    "# property_to_plot = 'dist'\n",
    "\n",
    "index = (df['eflux'] > 0) & (df['GSM_X'] < -1)  & (df['compression_mode']) & (df['year'] == 2017) & (df['region'] == 'bl') & (df['energy_int'] < 40)\n",
    "\n",
    "fig = make_subplots(rows=2, cols=2, subplot_titles=(\"GSM_X\", \"GSM_Y\", \"GSM_Z\", \"DIST\"))\n",
    "\n",
    "fig.add_trace(go.Histogram(x=df.loc[index,'GSM_X']), row=1, col=1)\n",
    "fig.add_trace(go.Histogram(x=df.loc[index,'GSM_Y']), row=1, col=2)\n",
    "fig.add_trace(go.Histogram(x=df.loc[index,'GSM_Z']), row=2, col=1)\n",
    "fig.add_trace(go.Histogram(x=df.loc[index,'DIST']), row=2, col=2)\n",
    "\n",
    "fig.update_layout(showlegend=False, title='low energy beam')\n",
    "\n",
    "fig.show()"
   ]
  },
  {
   "cell_type": "code",
   "execution_count": null,
   "metadata": {},
   "outputs": [],
   "source": [
    "# index_lobe = (df['energy_int'] < 40000) & (df['energy_int'] > 0) & (df['eflux'] > 0) & (df['GSM_X'] < -1) & (df['dist'] > 7) & (df['dist'] < 9) & (df['compression_mode']) & (df['year'] == iyear) & (df['beta'] < 0.01)\n",
    "random.seed(42)   \n",
    "to_plot_list = list()\n",
    "n_samples = 5\n",
    "index_list = list()\n",
    "for iyear in ['2016','2017','2018','2019','2020']:\n",
    "    for iregion in ['lobe', 'bl','ps']:\n",
    "        for idistant in ['near','tail']:\n",
    "            index = df.loc[(df['eflux'] > 0) & (df['GSM_X'] < -1)  & (df['compression_mode']) & (df['year'] == iyear) & (df['region'] == iregion) & (df['dist_region'] == idistant),:].index\n",
    "#             print(iyear, iregion, idistant,len(new_list))\n",
    "            \n",
    "            if len(index) > n_samples:\n",
    "                random_index_list = random.sample(list(index),n_samples)\n",
    "            else:\n",
    "                random_index_list = index\n",
    "            \n",
    "            index_list.extend(random_index_list)\n",
    "\n",
    "# pd.DataFrame(df.loc[index_list, :]).to_csv('output/test_dataset_individual.csv')\n",
    "\n",
    "to_plot_list = list(df.loc[index_list, 'o_beam_filepath'])\n",
    "\n",
    "unique_to_plot_list = np.unique(to_plot_list)\n",
    "pd.DataFrame(unique_to_plot_list).to_csv('output/test_plot_list.csv')\n",
    "\n",
    "print(len(unique_to_plot_list))"
   ]
  },
  {
   "cell_type": "code",
   "execution_count": null,
   "metadata": {},
   "outputs": [],
   "source": [
    "index_test = (df['GSM_X'] < -1) & (df['compression_mode']) & (df['o_beam_filepath'].apply(lambda x: x in unique_to_plot_list))\n",
    "\n",
    "dataset_test = df.loc[index_test,:].reindex()\n",
    "print(dataset_test.shape)\n",
    "dataset_test.loc[:,['datetime_str','flag', 'flux', 'dist', 'GSM_X', 'GSM_Y', 'GSM_Z', 'BETA', 'o_beam_filepath','hemi','BX_GSM']].to_csv('output/test_dataset.csv')\n",
    "print(dataset_test.shape[0]/df.loc[(df['GSM_X'] < -1) & (df['compression_mode']),:].shape[0])"
   ]
  },
  {
   "cell_type": "code",
   "execution_count": null,
   "metadata": {},
   "outputs": [],
   "source": [
    "unique_to_plot_list = list(unique_to_plot_list[0:30])\n",
    "unique_to_plot_list_ori = [sub.replace('plots_with_subtraction', 'plots_original') for sub in unique_to_plot_list] \n"
   ]
  },
  {
   "cell_type": "code",
   "execution_count": null,
   "metadata": {
    "scrolled": false
   },
   "outputs": [],
   "source": [
    "for i in range(len(unique_to_plot_list)):\n",
    "    ipyplot.plot_images([unique_to_plot_list_ori[i],unique_to_plot_list[i]] , img_width=400)\n"
   ]
  },
  {
   "cell_type": "code",
   "execution_count": null,
   "metadata": {},
   "outputs": [],
   "source": []
  }
 ],
 "metadata": {
  "kernelspec": {
   "display_name": "Python 3",
   "language": "python",
   "name": "python3"
  },
  "language_info": {
   "codemirror_mode": {
    "name": "ipython",
    "version": 3
   },
   "file_extension": ".py",
   "mimetype": "text/x-python",
   "name": "python",
   "nbconvert_exporter": "python",
   "pygments_lexer": "ipython3",
   "version": "3.7.3"
  }
 },
 "nbformat": 4,
 "nbformat_minor": 2
}
