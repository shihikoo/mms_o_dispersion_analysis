{
 "cells": [
  {
   "cell_type": "code",
   "execution_count": 1,
   "id": "4122fd6e",
   "metadata": {},
   "outputs": [],
   "source": [
    "import plotly as plotly\n",
    "import pandas as pd\n",
    "import matplotlib.pyplot as plt\n",
    "import plotly.express as px\n",
    "import plotly.io as pio\n",
    "from collections import Counter\n",
    "import math\n",
    "import datetime as datetime\n",
    "from plotly.subplots import make_subplots\n",
    "import plotly.graph_objects as go\n",
    "import statistics\n",
    "import glob\n",
    "import ipyplot\n",
    "import numpy as np\n",
    "from functions import data_preprocess_functions\n",
    "from matplotlib.colors import LogNorm\n",
    "\n",
    "from matplotlib.image import NonUniformImage\n",
    "import matplotlib.pyplot as plt\n"
   ]
  },
  {
   "cell_type": "code",
   "execution_count": 2,
   "id": "0189f475",
   "metadata": {},
   "outputs": [],
   "source": [
    "dir_name = 'idl_plots/output_sc1_sp3_300sec_multi_pa2_en2_subtraction_reduced_removebi_flux0.500.751.00_pap3.02.01.1/'\n",
    "beam_filenames = sorted(glob.glob(dir_name+\"data/*beam.csv\"))\n",
    "external_filenames = sorted(glob.glob(dir_name+\"data/*external.csv\"))\n",
    "\n",
    "# take out 2016 data\n",
    "beam_filenames = [x for x in beam_filenames if \"2016\" not in x]\n",
    "external_filenames = [x for x in external_filenames if \"2016\" not in x]"
   ]
  },
  {
   "cell_type": "code",
   "execution_count": 3,
   "id": "661916a3",
   "metadata": {},
   "outputs": [
    {
     "ename": "IndexError",
     "evalue": "list index out of range",
     "output_type": "error",
     "traceback": [
      "\u001b[0;31m---------------------------------------------------------------------------\u001b[0m",
      "\u001b[0;31mIndexError\u001b[0m                                Traceback (most recent call last)",
      "Cell \u001b[0;32mIn[3], line 5\u001b[0m\n\u001b[1;32m      2\u001b[0m index_start \u001b[38;5;241m=\u001b[39m [i \u001b[38;5;28;01mfor\u001b[39;00m i \u001b[38;5;129;01min\u001b[39;00m \u001b[38;5;28mrange\u001b[39m(\u001b[38;5;28mlen\u001b[39m(beam_filenames)) \u001b[38;5;28;01mif\u001b[39;00m \u001b[38;5;124m'\u001b[39m\u001b[38;5;124m20190416\u001b[39m\u001b[38;5;124m'\u001b[39m \u001b[38;5;129;01min\u001b[39;00m external_filenames[i]]\n\u001b[1;32m      3\u001b[0m index_end \u001b[38;5;241m=\u001b[39m [i \u001b[38;5;28;01mfor\u001b[39;00m i \u001b[38;5;129;01min\u001b[39;00m \u001b[38;5;28mrange\u001b[39m(\u001b[38;5;28mlen\u001b[39m(beam_filenames)) \u001b[38;5;28;01mif\u001b[39;00m \u001b[38;5;124m'\u001b[39m\u001b[38;5;124m20190816\u001b[39m\u001b[38;5;124m'\u001b[39m \u001b[38;5;129;01min\u001b[39;00m external_filenames[i]]\n\u001b[0;32m----> 5\u001b[0m beam_filenames \u001b[38;5;241m=\u001b[39m beam_filenames[\u001b[38;5;28mslice\u001b[39m((index_start[\u001b[38;5;241m0\u001b[39m]\u001b[38;5;241m+\u001b[39m\u001b[38;5;241m1\u001b[39m),(index_end[\u001b[38;5;241m0\u001b[39m]\u001b[38;5;241m+\u001b[39m\u001b[38;5;241m1\u001b[39m))]\n\u001b[1;32m      7\u001b[0m index_start \u001b[38;5;241m=\u001b[39m [i \u001b[38;5;28;01mfor\u001b[39;00m i \u001b[38;5;129;01min\u001b[39;00m \u001b[38;5;28mrange\u001b[39m(\u001b[38;5;28mlen\u001b[39m(external_filenames)) \u001b[38;5;28;01mif\u001b[39;00m \u001b[38;5;124m'\u001b[39m\u001b[38;5;124m20190416\u001b[39m\u001b[38;5;124m'\u001b[39m \u001b[38;5;129;01min\u001b[39;00m external_filenames[i]]\n\u001b[1;32m      8\u001b[0m index_end \u001b[38;5;241m=\u001b[39m [i \u001b[38;5;28;01mfor\u001b[39;00m i \u001b[38;5;129;01min\u001b[39;00m \u001b[38;5;28mrange\u001b[39m(\u001b[38;5;28mlen\u001b[39m(external_filenames)) \u001b[38;5;28;01mif\u001b[39;00m \u001b[38;5;124m'\u001b[39m\u001b[38;5;124m20190816\u001b[39m\u001b[38;5;124m'\u001b[39m \u001b[38;5;129;01min\u001b[39;00m external_filenames[i]]\n",
      "\u001b[0;31mIndexError\u001b[0m: list index out of range"
     ]
    }
   ],
   "source": [
    "# use those code if only compressed data are used\n",
    "index_start = [i for i in range(len(beam_filenames)) if '20190416' in external_filenames[i]]\n",
    "index_end = [i for i in range(len(beam_filenames)) if '20190816' in external_filenames[i]]\n",
    "\n",
    "beam_filenames = beam_filenames[slice((index_start[0]+1),(index_end[0]+1))]\n",
    "\n",
    "index_start = [i for i in range(len(external_filenames)) if '20190416' in external_filenames[i]]\n",
    "index_end = [i for i in range(len(external_filenames)) if '20190816' in external_filenames[i]]\n",
    "\n",
    "external_filenames = external_filenames[slice((index_start[0]+1),(index_end[0]+1))]"
   ]
  },
  {
   "cell_type": "code",
   "execution_count": 4,
   "id": "08ea1385",
   "metadata": {
    "scrolled": false
   },
   "outputs": [
    {
     "ename": "ValueError",
     "evalue": "No objects to concatenate",
     "output_type": "error",
     "traceback": [
      "\u001b[0;31m---------------------------------------------------------------------------\u001b[0m",
      "\u001b[0;31mValueError\u001b[0m                                Traceback (most recent call last)",
      "Cell \u001b[0;32mIn[4], line 1\u001b[0m\n\u001b[0;32m----> 1\u001b[0m df_ext \u001b[38;5;241m=\u001b[39m data_preprocess_functions\u001b[38;5;241m.\u001b[39mread_external_csv(external_filenames)\n\u001b[1;32m      3\u001b[0m df_ext\u001b[38;5;241m.\u001b[39mrename(columns\u001b[38;5;241m=\u001b[39m{\u001b[38;5;124m'\u001b[39m\u001b[38;5;124mTIME\u001b[39m\u001b[38;5;124m'\u001b[39m:\u001b[38;5;124m'\u001b[39m\u001b[38;5;124mtime\u001b[39m\u001b[38;5;124m'\u001b[39m,\u001b[38;5;124m'\u001b[39m\u001b[38;5;124mBX_GSM\u001b[39m\u001b[38;5;124m'\u001b[39m:\u001b[38;5;124m'\u001b[39m\u001b[38;5;124mbx\u001b[39m\u001b[38;5;124m'\u001b[39m,\u001b[38;5;124m'\u001b[39m\u001b[38;5;124mDIST\u001b[39m\u001b[38;5;124m'\u001b[39m:\u001b[38;5;124m'\u001b[39m\u001b[38;5;124mdist\u001b[39m\u001b[38;5;124m'\u001b[39m, \u001b[38;5;124m'\u001b[39m\u001b[38;5;124mGSE_X\u001b[39m\u001b[38;5;124m'\u001b[39m:\u001b[38;5;124m'\u001b[39m\u001b[38;5;124mxgse\u001b[39m\u001b[38;5;124m'\u001b[39m, \u001b[38;5;124m'\u001b[39m\u001b[38;5;124mGSE_Y\u001b[39m\u001b[38;5;124m'\u001b[39m:\u001b[38;5;124m'\u001b[39m\u001b[38;5;124mygse\u001b[39m\u001b[38;5;124m'\u001b[39m,\u001b[38;5;124m'\u001b[39m\u001b[38;5;124mGSE_Z\u001b[39m\u001b[38;5;124m'\u001b[39m:\u001b[38;5;124m'\u001b[39m\u001b[38;5;124mzgse\u001b[39m\u001b[38;5;124m'\u001b[39m,\u001b[38;5;124m'\u001b[39m\u001b[38;5;124mGSM_X\u001b[39m\u001b[38;5;124m'\u001b[39m:\u001b[38;5;124m'\u001b[39m\u001b[38;5;124mxgsm\u001b[39m\u001b[38;5;124m'\u001b[39m, \u001b[38;5;124m'\u001b[39m\u001b[38;5;124mGSM_Y\u001b[39m\u001b[38;5;124m'\u001b[39m:\u001b[38;5;124m'\u001b[39m\u001b[38;5;124mygsm\u001b[39m\u001b[38;5;124m'\u001b[39m,\u001b[38;5;124m'\u001b[39m\u001b[38;5;124mGSM_Z\u001b[39m\u001b[38;5;124m'\u001b[39m:\u001b[38;5;124m'\u001b[39m\u001b[38;5;124mzgsm\u001b[39m\u001b[38;5;124m'\u001b[39m, \u001b[38;5;124m'\u001b[39m\u001b[38;5;124mBETA\u001b[39m\u001b[38;5;124m'\u001b[39m:\u001b[38;5;124m'\u001b[39m\u001b[38;5;124mbeta\u001b[39m\u001b[38;5;124m'\u001b[39m, \u001b[38;5;124m'\u001b[39m\u001b[38;5;124mO_V\u001b[39m\u001b[38;5;124m'\u001b[39m:\u001b[38;5;124m'\u001b[39m\u001b[38;5;124mvelocity_o_all\u001b[39m\u001b[38;5;124m'\u001b[39m, \u001b[38;5;124m'\u001b[39m\u001b[38;5;124mO_VPAR\u001b[39m\u001b[38;5;124m'\u001b[39m:\u001b[38;5;124m'\u001b[39m\u001b[38;5;124mv_par_all\u001b[39m\u001b[38;5;124m'\u001b[39m, \u001b[38;5;124m'\u001b[39m\u001b[38;5;124mO_VPERP\u001b[39m\u001b[38;5;124m'\u001b[39m:\u001b[38;5;124m'\u001b[39m\u001b[38;5;124mv_perp_all\u001b[39m\u001b[38;5;124m'\u001b[39m, \u001b[38;5;124m'\u001b[39m\u001b[38;5;124mO_N\u001b[39m\u001b[38;5;124m'\u001b[39m:\u001b[38;5;124m'\u001b[39m\u001b[38;5;124mdensity_o_all\u001b[39m\u001b[38;5;124m'\u001b[39m, \u001b[38;5;124m'\u001b[39m\u001b[38;5;124mO_P\u001b[39m\u001b[38;5;124m'\u001b[39m:\u001b[38;5;124m'\u001b[39m\u001b[38;5;124mpressure_o_all\u001b[39m\u001b[38;5;124m'\u001b[39m, \u001b[38;5;124m'\u001b[39m\u001b[38;5;124mH_N\u001b[39m\u001b[38;5;124m'\u001b[39m:\u001b[38;5;124m'\u001b[39m\u001b[38;5;124mdensity_h_all\u001b[39m\u001b[38;5;124m'\u001b[39m, \u001b[38;5;124m'\u001b[39m\u001b[38;5;124mH_V\u001b[39m\u001b[38;5;124m'\u001b[39m:\u001b[38;5;124m'\u001b[39m\u001b[38;5;124mvelocity_h_all\u001b[39m\u001b[38;5;124m'\u001b[39m, \u001b[38;5;124m'\u001b[39m\u001b[38;5;124mKP\u001b[39m\u001b[38;5;124m'\u001b[39m:\u001b[38;5;124m'\u001b[39m\u001b[38;5;124mkp\u001b[39m\u001b[38;5;124m'\u001b[39m, \u001b[38;5;124m'\u001b[39m\u001b[38;5;124mDST\u001b[39m\u001b[38;5;124m'\u001b[39m:\u001b[38;5;124m'\u001b[39m\u001b[38;5;124mdst\u001b[39m\u001b[38;5;124m'\u001b[39m,\u001b[38;5;124m'\u001b[39m\u001b[38;5;124mMLT\u001b[39m\u001b[38;5;124m'\u001b[39m:\u001b[38;5;124m'\u001b[39m\u001b[38;5;124mmlt\u001b[39m\u001b[38;5;124m'\u001b[39m}, inplace \u001b[38;5;241m=\u001b[39m \u001b[38;5;28;01mTrue\u001b[39;00m)\n\u001b[1;32m      5\u001b[0m df_ext_beam \u001b[38;5;241m=\u001b[39m df_ext\u001b[38;5;241m.\u001b[39mloc[(df_ext[\u001b[38;5;124m'\u001b[39m\u001b[38;5;124mFLAG_PARA\u001b[39m\u001b[38;5;124m'\u001b[39m] \u001b[38;5;241m==\u001b[39m \u001b[38;5;241m1\u001b[39m ) \u001b[38;5;241m|\u001b[39m (df_ext[\u001b[38;5;124m'\u001b[39m\u001b[38;5;124mFLAG_ANTI\u001b[39m\u001b[38;5;124m'\u001b[39m] \u001b[38;5;241m==\u001b[39m \u001b[38;5;241m1\u001b[39m ),:]\n",
      "File \u001b[0;32m~/workspace/GitHub/mms_o_dispersion_analysis/functions/data_preprocess_functions.py:69\u001b[0m, in \u001b[0;36mread_external_csv\u001b[0;34m(external_filenames)\u001b[0m\n\u001b[1;32m     68\u001b[0m \u001b[38;5;28;01mdef\u001b[39;00m \u001b[38;5;21mread_external_csv\u001b[39m(external_filenames):\n\u001b[0;32m---> 69\u001b[0m     df_ext \u001b[38;5;241m=\u001b[39m read_multiple_csv(external_filenames)\n\u001b[1;32m     71\u001b[0m     df_ext \u001b[38;5;241m=\u001b[39m df_ext\u001b[38;5;241m.\u001b[39mrename(columns\u001b[38;5;241m=\u001b[39m\u001b[38;5;28mstr\u001b[39m\u001b[38;5;241m.\u001b[39mupper)\n\u001b[1;32m     72\u001b[0m     df_ext[\u001b[38;5;124m'\u001b[39m\u001b[38;5;124mr\u001b[39m\u001b[38;5;124m'\u001b[39m] \u001b[38;5;241m=\u001b[39m (df_ext[\u001b[38;5;124m'\u001b[39m\u001b[38;5;124mGSM_Y\u001b[39m\u001b[38;5;124m'\u001b[39m]\u001b[38;5;241m*\u001b[39m\u001b[38;5;241m*\u001b[39m\u001b[38;5;241m2\u001b[39m \u001b[38;5;241m+\u001b[39m df_ext[\u001b[38;5;124m'\u001b[39m\u001b[38;5;124mGSM_Z\u001b[39m\u001b[38;5;124m'\u001b[39m]\u001b[38;5;241m*\u001b[39m\u001b[38;5;241m*\u001b[39m\u001b[38;5;241m2\u001b[39m)\u001b[38;5;241m.\u001b[39mapply(math\u001b[38;5;241m.\u001b[39msqrt)\n",
      "File \u001b[0;32m~/workspace/GitHub/mms_o_dispersion_analysis/functions/data_preprocess_functions.py:84\u001b[0m, in \u001b[0;36mread_multiple_csv\u001b[0;34m(filenames)\u001b[0m\n\u001b[1;32m     81\u001b[0m     df \u001b[38;5;241m=\u001b[39m pd\u001b[38;5;241m.\u001b[39mread_csv(filename, index_col\u001b[38;5;241m=\u001b[39m\u001b[38;5;28;01mNone\u001b[39;00m, header\u001b[38;5;241m=\u001b[39m\u001b[38;5;241m0\u001b[39m)\n\u001b[1;32m     82\u001b[0m     li\u001b[38;5;241m.\u001b[39mappend(df)\n\u001b[0;32m---> 84\u001b[0m df_beam \u001b[38;5;241m=\u001b[39m pd\u001b[38;5;241m.\u001b[39mconcat(li, axis\u001b[38;5;241m=\u001b[39m\u001b[38;5;241m0\u001b[39m, ignore_index\u001b[38;5;241m=\u001b[39m\u001b[38;5;28;01mTrue\u001b[39;00m)\n\u001b[1;32m     85\u001b[0m \u001b[38;5;28;01mreturn\u001b[39;00m df_beam\n",
      "File \u001b[0;32m~/anaconda3/lib/python3.11/site-packages/pandas/util/_decorators.py:331\u001b[0m, in \u001b[0;36mdeprecate_nonkeyword_arguments.<locals>.decorate.<locals>.wrapper\u001b[0;34m(*args, **kwargs)\u001b[0m\n\u001b[1;32m    325\u001b[0m \u001b[38;5;28;01mif\u001b[39;00m \u001b[38;5;28mlen\u001b[39m(args) \u001b[38;5;241m>\u001b[39m num_allow_args:\n\u001b[1;32m    326\u001b[0m     warnings\u001b[38;5;241m.\u001b[39mwarn(\n\u001b[1;32m    327\u001b[0m         msg\u001b[38;5;241m.\u001b[39mformat(arguments\u001b[38;5;241m=\u001b[39m_format_argument_list(allow_args)),\n\u001b[1;32m    328\u001b[0m         \u001b[38;5;167;01mFutureWarning\u001b[39;00m,\n\u001b[1;32m    329\u001b[0m         stacklevel\u001b[38;5;241m=\u001b[39mfind_stack_level(),\n\u001b[1;32m    330\u001b[0m     )\n\u001b[0;32m--> 331\u001b[0m \u001b[38;5;28;01mreturn\u001b[39;00m func(\u001b[38;5;241m*\u001b[39margs, \u001b[38;5;241m*\u001b[39m\u001b[38;5;241m*\u001b[39mkwargs)\n",
      "File \u001b[0;32m~/anaconda3/lib/python3.11/site-packages/pandas/core/reshape/concat.py:368\u001b[0m, in \u001b[0;36mconcat\u001b[0;34m(objs, axis, join, ignore_index, keys, levels, names, verify_integrity, sort, copy)\u001b[0m\n\u001b[1;32m    146\u001b[0m \u001b[38;5;129m@deprecate_nonkeyword_arguments\u001b[39m(version\u001b[38;5;241m=\u001b[39m\u001b[38;5;28;01mNone\u001b[39;00m, allowed_args\u001b[38;5;241m=\u001b[39m[\u001b[38;5;124m\"\u001b[39m\u001b[38;5;124mobjs\u001b[39m\u001b[38;5;124m\"\u001b[39m])\n\u001b[1;32m    147\u001b[0m \u001b[38;5;28;01mdef\u001b[39;00m \u001b[38;5;21mconcat\u001b[39m(\n\u001b[1;32m    148\u001b[0m     objs: Iterable[NDFrame] \u001b[38;5;241m|\u001b[39m Mapping[HashableT, NDFrame],\n\u001b[0;32m   (...)\u001b[0m\n\u001b[1;32m    157\u001b[0m     copy: \u001b[38;5;28mbool\u001b[39m \u001b[38;5;241m=\u001b[39m \u001b[38;5;28;01mTrue\u001b[39;00m,\n\u001b[1;32m    158\u001b[0m ) \u001b[38;5;241m-\u001b[39m\u001b[38;5;241m>\u001b[39m DataFrame \u001b[38;5;241m|\u001b[39m Series:\n\u001b[1;32m    159\u001b[0m \u001b[38;5;250m    \u001b[39m\u001b[38;5;124;03m\"\"\"\u001b[39;00m\n\u001b[1;32m    160\u001b[0m \u001b[38;5;124;03m    Concatenate pandas objects along a particular axis.\u001b[39;00m\n\u001b[1;32m    161\u001b[0m \n\u001b[0;32m   (...)\u001b[0m\n\u001b[1;32m    366\u001b[0m \u001b[38;5;124;03m    1   3   4\u001b[39;00m\n\u001b[1;32m    367\u001b[0m \u001b[38;5;124;03m    \"\"\"\u001b[39;00m\n\u001b[0;32m--> 368\u001b[0m     op \u001b[38;5;241m=\u001b[39m _Concatenator(\n\u001b[1;32m    369\u001b[0m         objs,\n\u001b[1;32m    370\u001b[0m         axis\u001b[38;5;241m=\u001b[39maxis,\n\u001b[1;32m    371\u001b[0m         ignore_index\u001b[38;5;241m=\u001b[39mignore_index,\n\u001b[1;32m    372\u001b[0m         join\u001b[38;5;241m=\u001b[39mjoin,\n\u001b[1;32m    373\u001b[0m         keys\u001b[38;5;241m=\u001b[39mkeys,\n\u001b[1;32m    374\u001b[0m         levels\u001b[38;5;241m=\u001b[39mlevels,\n\u001b[1;32m    375\u001b[0m         names\u001b[38;5;241m=\u001b[39mnames,\n\u001b[1;32m    376\u001b[0m         verify_integrity\u001b[38;5;241m=\u001b[39mverify_integrity,\n\u001b[1;32m    377\u001b[0m         copy\u001b[38;5;241m=\u001b[39mcopy,\n\u001b[1;32m    378\u001b[0m         sort\u001b[38;5;241m=\u001b[39msort,\n\u001b[1;32m    379\u001b[0m     )\n\u001b[1;32m    381\u001b[0m     \u001b[38;5;28;01mreturn\u001b[39;00m op\u001b[38;5;241m.\u001b[39mget_result()\n",
      "File \u001b[0;32m~/anaconda3/lib/python3.11/site-packages/pandas/core/reshape/concat.py:425\u001b[0m, in \u001b[0;36m_Concatenator.__init__\u001b[0;34m(self, objs, axis, join, keys, levels, names, ignore_index, verify_integrity, copy, sort)\u001b[0m\n\u001b[1;32m    422\u001b[0m     objs \u001b[38;5;241m=\u001b[39m \u001b[38;5;28mlist\u001b[39m(objs)\n\u001b[1;32m    424\u001b[0m \u001b[38;5;28;01mif\u001b[39;00m \u001b[38;5;28mlen\u001b[39m(objs) \u001b[38;5;241m==\u001b[39m \u001b[38;5;241m0\u001b[39m:\n\u001b[0;32m--> 425\u001b[0m     \u001b[38;5;28;01mraise\u001b[39;00m \u001b[38;5;167;01mValueError\u001b[39;00m(\u001b[38;5;124m\"\u001b[39m\u001b[38;5;124mNo objects to concatenate\u001b[39m\u001b[38;5;124m\"\u001b[39m)\n\u001b[1;32m    427\u001b[0m \u001b[38;5;28;01mif\u001b[39;00m keys \u001b[38;5;129;01mis\u001b[39;00m \u001b[38;5;28;01mNone\u001b[39;00m:\n\u001b[1;32m    428\u001b[0m     objs \u001b[38;5;241m=\u001b[39m \u001b[38;5;28mlist\u001b[39m(com\u001b[38;5;241m.\u001b[39mnot_none(\u001b[38;5;241m*\u001b[39mobjs))\n",
      "\u001b[0;31mValueError\u001b[0m: No objects to concatenate"
     ]
    }
   ],
   "source": [
    "df_ext = data_preprocess_functions.read_external_csv(external_filenames)\n",
    "\n",
    "df_ext.rename(columns={'TIME':'time','BX_GSM':'bx','DIST':'dist', 'GSE_X':'xgse', 'GSE_Y':'ygse','GSE_Z':'zgse','GSM_X':'xgsm', 'GSM_Y':'ygsm','GSM_Z':'zgsm', 'BETA':'beta', 'O_V':'velocity_o_all', 'O_VPAR':'v_par_all', 'O_VPERP':'v_perp_all', 'O_N':'density_o_all', 'O_P':'pressure_o_all', 'H_N':'density_h_all', 'H_V':'velocity_h_all', 'KP':'kp', 'DST':'dst','MLT':'mlt'}, inplace = True)\n",
    "    \n",
    "df_ext_beam = df_ext.loc[(df_ext['FLAG_PARA'] == 1 ) | (df_ext['FLAG_ANTI'] == 1 ),:]"
   ]
  },
  {
   "cell_type": "code",
   "execution_count": 5,
   "id": "37ca19d3",
   "metadata": {
    "scrolled": false
   },
   "outputs": [
    {
     "ename": "ValueError",
     "evalue": "No objects to concatenate",
     "output_type": "error",
     "traceback": [
      "\u001b[0;31m---------------------------------------------------------------------------\u001b[0m",
      "\u001b[0;31mValueError\u001b[0m                                Traceback (most recent call last)",
      "Cell \u001b[0;32mIn[5], line 1\u001b[0m\n\u001b[0;32m----> 1\u001b[0m df \u001b[38;5;241m=\u001b[39m data_preprocess_functions\u001b[38;5;241m.\u001b[39mread_from_raw_csv(beam_filenames, external_filenames)\n\u001b[1;32m      2\u001b[0m agg_df0 \u001b[38;5;241m=\u001b[39m data_preprocess_functions\u001b[38;5;241m.\u001b[39maggregate_angle(df)\n\u001b[1;32m      3\u001b[0m agg_df \u001b[38;5;241m=\u001b[39m data_preprocess_functions\u001b[38;5;241m.\u001b[39maggregate_energy(agg_df0)\n",
      "File \u001b[0;32m~/workspace/GitHub/mms_o_dispersion_analysis/functions/data_preprocess_functions.py:60\u001b[0m, in \u001b[0;36mread_from_raw_csv\u001b[0;34m(beam_filenames, ext_filenames)\u001b[0m\n\u001b[1;32m     58\u001b[0m \u001b[38;5;28;01mdef\u001b[39;00m \u001b[38;5;21mread_from_raw_csv\u001b[39m(beam_filenames, ext_filenames):\n\u001b[0;32m---> 60\u001b[0m     df_beam \u001b[38;5;241m=\u001b[39m read_beam_csv(beam_filenames)\n\u001b[1;32m     61\u001b[0m     df_ext \u001b[38;5;241m=\u001b[39m read_external_csv(ext_filenames)\n\u001b[1;32m     63\u001b[0m     df0 \u001b[38;5;241m=\u001b[39m pd\u001b[38;5;241m.\u001b[39mmerge(df_beam, df_ext, on \u001b[38;5;241m=\u001b[39m \u001b[38;5;124m'\u001b[39m\u001b[38;5;124mTIME\u001b[39m\u001b[38;5;124m'\u001b[39m)\n",
      "File \u001b[0;32m~/workspace/GitHub/mms_o_dispersion_analysis/functions/data_preprocess_functions.py:36\u001b[0m, in \u001b[0;36mread_beam_csv\u001b[0;34m(beam_filenames)\u001b[0m\n\u001b[1;32m     33\u001b[0m nbatch \u001b[38;5;241m=\u001b[39m \u001b[38;5;241m800\u001b[39m\n\u001b[1;32m     35\u001b[0m \u001b[38;5;28;01mif\u001b[39;00m \u001b[38;5;28mlen\u001b[39m(beam_filenames) \u001b[38;5;241m<\u001b[39m nbatch:\n\u001b[0;32m---> 36\u001b[0m     df_beam \u001b[38;5;241m=\u001b[39m read_multiple_csv(beam_filenames[\u001b[38;5;241m0\u001b[39m:nbatch])\n\u001b[1;32m     37\u001b[0m     ind \u001b[38;5;241m=\u001b[39m (df_beam[\u001b[38;5;124m'\u001b[39m\u001b[38;5;124mFlux_para\u001b[39m\u001b[38;5;124m'\u001b[39m] \u001b[38;5;241m>\u001b[39m \u001b[38;5;241m0\u001b[39m) \u001b[38;5;241m|\u001b[39m (df_beam[\u001b[38;5;124m'\u001b[39m\u001b[38;5;124mFlux_anti\u001b[39m\u001b[38;5;124m'\u001b[39m] \u001b[38;5;241m>\u001b[39m \u001b[38;5;241m0\u001b[39m)\n\u001b[1;32m     38\u001b[0m     df_beam \u001b[38;5;241m=\u001b[39m df_beam\u001b[38;5;241m.\u001b[39mloc[ind,:]\n",
      "File \u001b[0;32m~/workspace/GitHub/mms_o_dispersion_analysis/functions/data_preprocess_functions.py:84\u001b[0m, in \u001b[0;36mread_multiple_csv\u001b[0;34m(filenames)\u001b[0m\n\u001b[1;32m     81\u001b[0m     df \u001b[38;5;241m=\u001b[39m pd\u001b[38;5;241m.\u001b[39mread_csv(filename, index_col\u001b[38;5;241m=\u001b[39m\u001b[38;5;28;01mNone\u001b[39;00m, header\u001b[38;5;241m=\u001b[39m\u001b[38;5;241m0\u001b[39m)\n\u001b[1;32m     82\u001b[0m     li\u001b[38;5;241m.\u001b[39mappend(df)\n\u001b[0;32m---> 84\u001b[0m df_beam \u001b[38;5;241m=\u001b[39m pd\u001b[38;5;241m.\u001b[39mconcat(li, axis\u001b[38;5;241m=\u001b[39m\u001b[38;5;241m0\u001b[39m, ignore_index\u001b[38;5;241m=\u001b[39m\u001b[38;5;28;01mTrue\u001b[39;00m)\n\u001b[1;32m     85\u001b[0m \u001b[38;5;28;01mreturn\u001b[39;00m df_beam\n",
      "File \u001b[0;32m~/anaconda3/lib/python3.11/site-packages/pandas/util/_decorators.py:331\u001b[0m, in \u001b[0;36mdeprecate_nonkeyword_arguments.<locals>.decorate.<locals>.wrapper\u001b[0;34m(*args, **kwargs)\u001b[0m\n\u001b[1;32m    325\u001b[0m \u001b[38;5;28;01mif\u001b[39;00m \u001b[38;5;28mlen\u001b[39m(args) \u001b[38;5;241m>\u001b[39m num_allow_args:\n\u001b[1;32m    326\u001b[0m     warnings\u001b[38;5;241m.\u001b[39mwarn(\n\u001b[1;32m    327\u001b[0m         msg\u001b[38;5;241m.\u001b[39mformat(arguments\u001b[38;5;241m=\u001b[39m_format_argument_list(allow_args)),\n\u001b[1;32m    328\u001b[0m         \u001b[38;5;167;01mFutureWarning\u001b[39;00m,\n\u001b[1;32m    329\u001b[0m         stacklevel\u001b[38;5;241m=\u001b[39mfind_stack_level(),\n\u001b[1;32m    330\u001b[0m     )\n\u001b[0;32m--> 331\u001b[0m \u001b[38;5;28;01mreturn\u001b[39;00m func(\u001b[38;5;241m*\u001b[39margs, \u001b[38;5;241m*\u001b[39m\u001b[38;5;241m*\u001b[39mkwargs)\n",
      "File \u001b[0;32m~/anaconda3/lib/python3.11/site-packages/pandas/core/reshape/concat.py:368\u001b[0m, in \u001b[0;36mconcat\u001b[0;34m(objs, axis, join, ignore_index, keys, levels, names, verify_integrity, sort, copy)\u001b[0m\n\u001b[1;32m    146\u001b[0m \u001b[38;5;129m@deprecate_nonkeyword_arguments\u001b[39m(version\u001b[38;5;241m=\u001b[39m\u001b[38;5;28;01mNone\u001b[39;00m, allowed_args\u001b[38;5;241m=\u001b[39m[\u001b[38;5;124m\"\u001b[39m\u001b[38;5;124mobjs\u001b[39m\u001b[38;5;124m\"\u001b[39m])\n\u001b[1;32m    147\u001b[0m \u001b[38;5;28;01mdef\u001b[39;00m \u001b[38;5;21mconcat\u001b[39m(\n\u001b[1;32m    148\u001b[0m     objs: Iterable[NDFrame] \u001b[38;5;241m|\u001b[39m Mapping[HashableT, NDFrame],\n\u001b[0;32m   (...)\u001b[0m\n\u001b[1;32m    157\u001b[0m     copy: \u001b[38;5;28mbool\u001b[39m \u001b[38;5;241m=\u001b[39m \u001b[38;5;28;01mTrue\u001b[39;00m,\n\u001b[1;32m    158\u001b[0m ) \u001b[38;5;241m-\u001b[39m\u001b[38;5;241m>\u001b[39m DataFrame \u001b[38;5;241m|\u001b[39m Series:\n\u001b[1;32m    159\u001b[0m \u001b[38;5;250m    \u001b[39m\u001b[38;5;124;03m\"\"\"\u001b[39;00m\n\u001b[1;32m    160\u001b[0m \u001b[38;5;124;03m    Concatenate pandas objects along a particular axis.\u001b[39;00m\n\u001b[1;32m    161\u001b[0m \n\u001b[0;32m   (...)\u001b[0m\n\u001b[1;32m    366\u001b[0m \u001b[38;5;124;03m    1   3   4\u001b[39;00m\n\u001b[1;32m    367\u001b[0m \u001b[38;5;124;03m    \"\"\"\u001b[39;00m\n\u001b[0;32m--> 368\u001b[0m     op \u001b[38;5;241m=\u001b[39m _Concatenator(\n\u001b[1;32m    369\u001b[0m         objs,\n\u001b[1;32m    370\u001b[0m         axis\u001b[38;5;241m=\u001b[39maxis,\n\u001b[1;32m    371\u001b[0m         ignore_index\u001b[38;5;241m=\u001b[39mignore_index,\n\u001b[1;32m    372\u001b[0m         join\u001b[38;5;241m=\u001b[39mjoin,\n\u001b[1;32m    373\u001b[0m         keys\u001b[38;5;241m=\u001b[39mkeys,\n\u001b[1;32m    374\u001b[0m         levels\u001b[38;5;241m=\u001b[39mlevels,\n\u001b[1;32m    375\u001b[0m         names\u001b[38;5;241m=\u001b[39mnames,\n\u001b[1;32m    376\u001b[0m         verify_integrity\u001b[38;5;241m=\u001b[39mverify_integrity,\n\u001b[1;32m    377\u001b[0m         copy\u001b[38;5;241m=\u001b[39mcopy,\n\u001b[1;32m    378\u001b[0m         sort\u001b[38;5;241m=\u001b[39msort,\n\u001b[1;32m    379\u001b[0m     )\n\u001b[1;32m    381\u001b[0m     \u001b[38;5;28;01mreturn\u001b[39;00m op\u001b[38;5;241m.\u001b[39mget_result()\n",
      "File \u001b[0;32m~/anaconda3/lib/python3.11/site-packages/pandas/core/reshape/concat.py:425\u001b[0m, in \u001b[0;36m_Concatenator.__init__\u001b[0;34m(self, objs, axis, join, keys, levels, names, ignore_index, verify_integrity, copy, sort)\u001b[0m\n\u001b[1;32m    422\u001b[0m     objs \u001b[38;5;241m=\u001b[39m \u001b[38;5;28mlist\u001b[39m(objs)\n\u001b[1;32m    424\u001b[0m \u001b[38;5;28;01mif\u001b[39;00m \u001b[38;5;28mlen\u001b[39m(objs) \u001b[38;5;241m==\u001b[39m \u001b[38;5;241m0\u001b[39m:\n\u001b[0;32m--> 425\u001b[0m     \u001b[38;5;28;01mraise\u001b[39;00m \u001b[38;5;167;01mValueError\u001b[39;00m(\u001b[38;5;124m\"\u001b[39m\u001b[38;5;124mNo objects to concatenate\u001b[39m\u001b[38;5;124m\"\u001b[39m)\n\u001b[1;32m    427\u001b[0m \u001b[38;5;28;01mif\u001b[39;00m keys \u001b[38;5;129;01mis\u001b[39;00m \u001b[38;5;28;01mNone\u001b[39;00m:\n\u001b[1;32m    428\u001b[0m     objs \u001b[38;5;241m=\u001b[39m \u001b[38;5;28mlist\u001b[39m(com\u001b[38;5;241m.\u001b[39mnot_none(\u001b[38;5;241m*\u001b[39mobjs))\n",
      "\u001b[0;31mValueError\u001b[0m: No objects to concatenate"
     ]
    }
   ],
   "source": [
    "df = data_preprocess_functions.read_from_raw_csv(beam_filenames, external_filenames)\n",
    "agg_df0 = data_preprocess_functions.aggregate_angle(df)\n",
    "agg_df = data_preprocess_functions.aggregate_energy(agg_df0)\n",
    "\n",
    "# agg_df.loc[:,'normalized_flux'] = (agg_df.loc[:,'intergrated_flux']/agg_df.loc[:,'B'])* statistics.mean(agg_df['B'])"
   ]
  },
  {
   "cell_type": "code",
   "execution_count": 6,
   "id": "2418cb94",
   "metadata": {},
   "outputs": [
    {
     "ename": "NameError",
     "evalue": "name 'agg_df' is not defined",
     "output_type": "error",
     "traceback": [
      "\u001b[0;31m---------------------------------------------------------------------------\u001b[0m",
      "\u001b[0;31mNameError\u001b[0m                                 Traceback (most recent call last)",
      "Cell \u001b[0;32mIn[6], line 1\u001b[0m\n\u001b[0;32m----> 1\u001b[0m index \u001b[38;5;241m=\u001b[39m (agg_df[\u001b[38;5;124m'\u001b[39m\u001b[38;5;124mregion\u001b[39m\u001b[38;5;124m'\u001b[39m] \u001b[38;5;241m==\u001b[39m \u001b[38;5;124m'\u001b[39m\u001b[38;5;124mLobe\u001b[39m\u001b[38;5;124m'\u001b[39m ) \u001b[38;5;241m&\u001b[39m (agg_df[\u001b[38;5;124m'\u001b[39m\u001b[38;5;124mflux\u001b[39m\u001b[38;5;124m'\u001b[39m] \u001b[38;5;241m>\u001b[39m \u001b[38;5;241m0\u001b[39m) \u001b[38;5;241m&\u001b[39m (\u001b[38;5;28mabs\u001b[39m(agg_df[\u001b[38;5;124m'\u001b[39m\u001b[38;5;124mygsm\u001b[39m\u001b[38;5;124m'\u001b[39m]) \u001b[38;5;241m<\u001b[39m \u001b[38;5;241m15\u001b[39m)\n\u001b[1;32m      3\u001b[0m agg_df\u001b[38;5;241m.\u001b[39mloc[index,\u001b[38;5;124m'\u001b[39m\u001b[38;5;124mdatetime_str\u001b[39m\u001b[38;5;124m'\u001b[39m]\n",
      "\u001b[0;31mNameError\u001b[0m: name 'agg_df' is not defined"
     ]
    }
   ],
   "source": [
    "index = (agg_df['region'] == 'Lobe' ) & (agg_df['flux'] > 0) & (abs(agg_df['ygsm']) < 15)\n",
    "\n",
    "agg_df.loc[index,'datetime_str']"
   ]
  },
  {
   "cell_type": "code",
   "execution_count": 7,
   "id": "ea949ad4",
   "metadata": {},
   "outputs": [
    {
     "ename": "NameError",
     "evalue": "name 'agg_df' is not defined",
     "output_type": "error",
     "traceback": [
      "\u001b[0;31m---------------------------------------------------------------------------\u001b[0m",
      "\u001b[0;31mNameError\u001b[0m                                 Traceback (most recent call last)",
      "Cell \u001b[0;32mIn[7], line 12\u001b[0m\n\u001b[1;32m      1\u001b[0m \u001b[38;5;66;03m# ex_beam_filename = [x for x in beam_filenames if \"20170519\" in x]\u001b[39;00m\n\u001b[1;32m      2\u001b[0m \u001b[38;5;66;03m# ex_external_filename = [x for x in external_filenames if \"20170519\" in x]\u001b[39;00m\n\u001b[1;32m      3\u001b[0m \n\u001b[0;32m   (...)\u001b[0m\n\u001b[1;32m      9\u001b[0m \n\u001b[1;32m     10\u001b[0m \u001b[38;5;66;03m# ex_df_beam.loc[index, ['Time','Pa_para','Flux_para','En']]\u001b[39;00m\n\u001b[0;32m---> 12\u001b[0m index \u001b[38;5;241m=\u001b[39m (agg_df[\u001b[38;5;124m'\u001b[39m\u001b[38;5;124mregion\u001b[39m\u001b[38;5;124m'\u001b[39m] \u001b[38;5;241m==\u001b[39m \u001b[38;5;124m'\u001b[39m\u001b[38;5;124mLobe\u001b[39m\u001b[38;5;124m'\u001b[39m ) \u001b[38;5;241m&\u001b[39m (agg_df[\u001b[38;5;124m'\u001b[39m\u001b[38;5;124mflux\u001b[39m\u001b[38;5;124m'\u001b[39m] \u001b[38;5;241m>\u001b[39m \u001b[38;5;241m0\u001b[39m) \u001b[38;5;241m&\u001b[39m (agg_df[\u001b[38;5;124m'\u001b[39m\u001b[38;5;124mdate\u001b[39m\u001b[38;5;124m'\u001b[39m] \u001b[38;5;241m==\u001b[39m \u001b[38;5;124m'\u001b[39m\u001b[38;5;124m2019-06-01\u001b[39m\u001b[38;5;124m'\u001b[39m)\n\u001b[1;32m     14\u001b[0m agg_df\u001b[38;5;241m.\u001b[39mloc[index, [\u001b[38;5;124m'\u001b[39m\u001b[38;5;124mdatetime_str\u001b[39m\u001b[38;5;124m'\u001b[39m,\u001b[38;5;124m'\u001b[39m\u001b[38;5;124mflux\u001b[39m\u001b[38;5;124m'\u001b[39m,\u001b[38;5;124m'\u001b[39m\u001b[38;5;124mint_flux\u001b[39m\u001b[38;5;124m'\u001b[39m,\u001b[38;5;124m'\u001b[39m\u001b[38;5;124mpa_range\u001b[39m\u001b[38;5;124m'\u001b[39m,\u001b[38;5;124m'\u001b[39m\u001b[38;5;124menergy\u001b[39m\u001b[38;5;124m'\u001b[39m,\u001b[38;5;124m'\u001b[39m\u001b[38;5;124mdenergy\u001b[39m\u001b[38;5;124m'\u001b[39m,\u001b[38;5;124m'\u001b[39m\u001b[38;5;124mdensity_est\u001b[39m\u001b[38;5;124m'\u001b[39m,\u001b[38;5;124m'\u001b[39m\u001b[38;5;124mbeta\u001b[39m\u001b[38;5;124m'\u001b[39m,\u001b[38;5;124m'\u001b[39m\u001b[38;5;124mygsm\u001b[39m\u001b[38;5;124m'\u001b[39m,\u001b[38;5;124m'\u001b[39m\u001b[38;5;124mdensity_o_all\u001b[39m\u001b[38;5;124m'\u001b[39m]]\n",
      "\u001b[0;31mNameError\u001b[0m: name 'agg_df' is not defined"
     ]
    }
   ],
   "source": [
    "# ex_beam_filename = [x for x in beam_filenames if \"20170519\" in x]\n",
    "# ex_external_filename = [x for x in external_filenames if \"20170519\" in x]\n",
    "\n",
    "# ex_df_beam = data_preprocess_functions.read_multiple_csv([ex_beam_filename[0]])\n",
    "# ex_df_external = data_preprocess_functions.read_multiple_csv([ex_external_filename[0]])\n",
    "# ex_df_beam.columns\n",
    "\n",
    "# index = (ex_df_beam['Time'] == 1495170750) & (ex_df_beam['En'] == 1338)\n",
    "\n",
    "# ex_df_beam.loc[index, ['Time','Pa_para','Flux_para','En']]\n",
    "\n",
    "index = (agg_df['region'] == 'Lobe' ) & (agg_df['flux'] > 0) & (agg_df['date'] == '2019-06-01')\n",
    "         \n",
    "agg_df.loc[index, ['datetime_str','flux','int_flux','pa_range','energy','denergy','density_est','beta','ygsm','density_o_all']]"
   ]
  },
  {
   "cell_type": "code",
   "execution_count": 8,
   "id": "b69eea31",
   "metadata": {},
   "outputs": [
    {
     "ename": "NameError",
     "evalue": "name 'agg_df' is not defined",
     "output_type": "error",
     "traceback": [
      "\u001b[0;31m---------------------------------------------------------------------------\u001b[0m",
      "\u001b[0;31mNameError\u001b[0m                                 Traceback (most recent call last)",
      "Cell \u001b[0;32mIn[8], line 1\u001b[0m\n\u001b[0;32m----> 1\u001b[0m index \u001b[38;5;241m=\u001b[39m (agg_df\u001b[38;5;241m.\u001b[39mdensity_est \u001b[38;5;241m>\u001b[39m \u001b[38;5;241m0\u001b[39m) \u001b[38;5;241m&\u001b[39m (agg_df[\u001b[38;5;124m'\u001b[39m\u001b[38;5;124mregion\u001b[39m\u001b[38;5;124m'\u001b[39m] \u001b[38;5;241m!=\u001b[39m \u001b[38;5;124m'\u001b[39m\u001b[38;5;124mDayside\u001b[39m\u001b[38;5;124m'\u001b[39m) \u001b[38;5;241m&\u001b[39m (\u001b[38;5;28mabs\u001b[39m(agg_df[\u001b[38;5;124m'\u001b[39m\u001b[38;5;124mygsm\u001b[39m\u001b[38;5;124m'\u001b[39m]) \u001b[38;5;241m<\u001b[39m \u001b[38;5;241m15\u001b[39m)\n\u001b[1;32m      3\u001b[0m fig \u001b[38;5;241m=\u001b[39m px\u001b[38;5;241m.\u001b[39mhistogram(agg_df\u001b[38;5;241m.\u001b[39mloc[index,:], x\u001b[38;5;241m=\u001b[39mnp\u001b[38;5;241m.\u001b[39mlog10(agg_df\u001b[38;5;241m.\u001b[39mloc[index,\u001b[38;5;124m\"\u001b[39m\u001b[38;5;124mdensity_est\u001b[39m\u001b[38;5;124m\"\u001b[39m]) ,  facet_col \u001b[38;5;241m=\u001b[39m \u001b[38;5;124m'\u001b[39m\u001b[38;5;124mregion\u001b[39m\u001b[38;5;124m'\u001b[39m                )\n\u001b[1;32m      5\u001b[0m fig\u001b[38;5;241m.\u001b[39mfor_each_xaxis(\u001b[38;5;28;01mlambda\u001b[39;00m xaxis: xaxis\u001b[38;5;241m.\u001b[39mupdate(\u001b[38;5;28mdict\u001b[39m(\n\u001b[1;32m      6\u001b[0m     tickvals\u001b[38;5;241m=\u001b[39m[\u001b[38;5;241m-\u001b[39m\u001b[38;5;241m5\u001b[39m,\u001b[38;5;241m-\u001b[39m\u001b[38;5;241m4\u001b[39m,\u001b[38;5;241m-\u001b[39m\u001b[38;5;241m3\u001b[39m,\u001b[38;5;241m-\u001b[39m\u001b[38;5;241m2\u001b[39m],\n\u001b[1;32m      7\u001b[0m     ticktext\u001b[38;5;241m=\u001b[39m[\u001b[38;5;124m\"\u001b[39m\u001b[38;5;124m0.00001\u001b[39m\u001b[38;5;124m\"\u001b[39m, \u001b[38;5;124m\"\u001b[39m\u001b[38;5;124m0.0001\u001b[39m\u001b[38;5;124m\"\u001b[39m, \u001b[38;5;124m\"\u001b[39m\u001b[38;5;124m0.001\u001b[39m\u001b[38;5;124m\"\u001b[39m, \u001b[38;5;124m\"\u001b[39m\u001b[38;5;124m0.01\u001b[39m\u001b[38;5;124m\"\u001b[39m]\n\u001b[1;32m      8\u001b[0m )))\n",
      "\u001b[0;31mNameError\u001b[0m: name 'agg_df' is not defined"
     ]
    }
   ],
   "source": [
    "index = (agg_df.density_est > 0) & (agg_df['region'] != 'Dayside') & (abs(agg_df['ygsm']) < 15)\n",
    "\n",
    "fig = px.histogram(agg_df.loc[index,:], x=np.log10(agg_df.loc[index,\"density_est\"]) ,  facet_col = 'region'                )\n",
    "\n",
    "fig.for_each_xaxis(lambda xaxis: xaxis.update(dict(\n",
    "    tickvals=[-5,-4,-3,-2],\n",
    "    ticktext=[\"0.00001\", \"0.0001\", \"0.001\", \"0.01\"]\n",
    ")))\n",
    "\n",
    "fig.show()\n"
   ]
  },
  {
   "cell_type": "code",
   "execution_count": 9,
   "id": "df2e5cb2",
   "metadata": {},
   "outputs": [
    {
     "ename": "NameError",
     "evalue": "name 'agg_df' is not defined",
     "output_type": "error",
     "traceback": [
      "\u001b[0;31m---------------------------------------------------------------------------\u001b[0m",
      "\u001b[0;31mNameError\u001b[0m                                 Traceback (most recent call last)",
      "Cell \u001b[0;32mIn[9], line 1\u001b[0m\n\u001b[0;32m----> 1\u001b[0m index \u001b[38;5;241m=\u001b[39m (agg_df\u001b[38;5;241m.\u001b[39mdensity_est \u001b[38;5;241m>\u001b[39m \u001b[38;5;241m0\u001b[39m) \u001b[38;5;241m&\u001b[39m (agg_df[\u001b[38;5;124m'\u001b[39m\u001b[38;5;124mregion\u001b[39m\u001b[38;5;124m'\u001b[39m] \u001b[38;5;241m!=\u001b[39m \u001b[38;5;124m'\u001b[39m\u001b[38;5;124mDayside\u001b[39m\u001b[38;5;124m'\u001b[39m)\n\u001b[1;32m      3\u001b[0m fig \u001b[38;5;241m=\u001b[39m px\u001b[38;5;241m.\u001b[39mscatter(agg_df\u001b[38;5;241m.\u001b[39mloc[index,:], x\u001b[38;5;241m=\u001b[39m\u001b[38;5;124m'\u001b[39m\u001b[38;5;124mxgsm\u001b[39m\u001b[38;5;124m'\u001b[39m, y\u001b[38;5;241m=\u001b[39m\u001b[38;5;124m'\u001b[39m\u001b[38;5;124mzgsm\u001b[39m\u001b[38;5;124m'\u001b[39m, color\u001b[38;5;241m=\u001b[39mnp\u001b[38;5;241m.\u001b[39mlog10(agg_df\u001b[38;5;241m.\u001b[39mloc[index,\u001b[38;5;124m\"\u001b[39m\u001b[38;5;124mdensity_est\u001b[39m\u001b[38;5;124m\"\u001b[39m]),range_color\u001b[38;5;241m=\u001b[39m[\u001b[38;5;241m-\u001b[39m\u001b[38;5;241m5\u001b[39m,\u001b[38;5;241m-\u001b[39m\u001b[38;5;241m1\u001b[39m], facet_col \u001b[38;5;241m=\u001b[39m \u001b[38;5;124m'\u001b[39m\u001b[38;5;124mregion\u001b[39m\u001b[38;5;124m'\u001b[39m\n\u001b[1;32m      4\u001b[0m                 )\n\u001b[1;32m      5\u001b[0m fig\u001b[38;5;241m.\u001b[39mupdate_layout(coloraxis_colorbar\u001b[38;5;241m=\u001b[39m\u001b[38;5;28mdict\u001b[39m(\n\u001b[1;32m      6\u001b[0m     title\u001b[38;5;241m=\u001b[39m\u001b[38;5;124m\"\u001b[39m\u001b[38;5;124mdensity\u001b[39m\u001b[38;5;124m\"\u001b[39m,\n\u001b[1;32m      7\u001b[0m     tickvals\u001b[38;5;241m=\u001b[39m[\u001b[38;5;241m-\u001b[39m\u001b[38;5;241m5\u001b[39m,\u001b[38;5;241m-\u001b[39m\u001b[38;5;241m4\u001b[39m,\u001b[38;5;241m-\u001b[39m\u001b[38;5;241m3\u001b[39m,\u001b[38;5;241m-\u001b[39m\u001b[38;5;241m2\u001b[39m],\n\u001b[1;32m      8\u001b[0m     ticktext\u001b[38;5;241m=\u001b[39m[\u001b[38;5;124m\"\u001b[39m\u001b[38;5;124m0.00001\u001b[39m\u001b[38;5;124m\"\u001b[39m, \u001b[38;5;124m\"\u001b[39m\u001b[38;5;124m0.0001\u001b[39m\u001b[38;5;124m\"\u001b[39m, \u001b[38;5;124m\"\u001b[39m\u001b[38;5;124m0.001\u001b[39m\u001b[38;5;124m\"\u001b[39m, \u001b[38;5;124m\"\u001b[39m\u001b[38;5;124m0.01\u001b[39m\u001b[38;5;124m\"\u001b[39m],\n\u001b[1;32m      9\u001b[0m ))\n",
      "\u001b[0;31mNameError\u001b[0m: name 'agg_df' is not defined"
     ]
    }
   ],
   "source": [
    "index = (agg_df.density_est > 0) & (agg_df['region'] != 'Dayside')\n",
    "\n",
    "fig = px.scatter(agg_df.loc[index,:], x='xgsm', y='zgsm', color=np.log10(agg_df.loc[index,\"density_est\"]),range_color=[-5,-1], facet_col = 'region'\n",
    "                )\n",
    "fig.update_layout(coloraxis_colorbar=dict(\n",
    "    title=\"density\",\n",
    "    tickvals=[-5,-4,-3,-2],\n",
    "    ticktext=[\"0.00001\", \"0.0001\", \"0.001\", \"0.01\"],\n",
    "))\n",
    "\n",
    "fig.update_traces(marker=dict(size=2), selector=dict(mode='markers'))\n",
    "\n",
    "fig.show()\n"
   ]
  },
  {
   "cell_type": "code",
   "execution_count": 10,
   "id": "9064aa06",
   "metadata": {},
   "outputs": [
    {
     "ename": "NameError",
     "evalue": "name 'agg_df' is not defined",
     "output_type": "error",
     "traceback": [
      "\u001b[0;31m---------------------------------------------------------------------------\u001b[0m",
      "\u001b[0;31mNameError\u001b[0m                                 Traceback (most recent call last)",
      "Cell \u001b[0;32mIn[10], line 1\u001b[0m\n\u001b[0;32m----> 1\u001b[0m index \u001b[38;5;241m=\u001b[39m (agg_df\u001b[38;5;241m.\u001b[39mintergrated_flux \u001b[38;5;241m>\u001b[39m \u001b[38;5;241m0\u001b[39m) \u001b[38;5;241m&\u001b[39m (agg_df[\u001b[38;5;124m'\u001b[39m\u001b[38;5;124mregion\u001b[39m\u001b[38;5;124m'\u001b[39m] \u001b[38;5;241m!=\u001b[39m \u001b[38;5;124m'\u001b[39m\u001b[38;5;124mDayside\u001b[39m\u001b[38;5;124m'\u001b[39m) \u001b[38;5;241m&\u001b[39m (\u001b[38;5;28mabs\u001b[39m(agg_df[\u001b[38;5;124m'\u001b[39m\u001b[38;5;124mygsm\u001b[39m\u001b[38;5;124m'\u001b[39m]) \u001b[38;5;241m<\u001b[39m \u001b[38;5;241m20\u001b[39m)\n\u001b[1;32m      3\u001b[0m fig \u001b[38;5;241m=\u001b[39m px\u001b[38;5;241m.\u001b[39mscatter(agg_df\u001b[38;5;241m.\u001b[39mloc[index,:], x\u001b[38;5;241m=\u001b[39m\u001b[38;5;124m'\u001b[39m\u001b[38;5;124mxgsm\u001b[39m\u001b[38;5;124m'\u001b[39m, y\u001b[38;5;241m=\u001b[39m\u001b[38;5;124m'\u001b[39m\u001b[38;5;124mdensity_est\u001b[39m\u001b[38;5;124m'\u001b[39m, color\u001b[38;5;241m=\u001b[39m\u001b[38;5;124m'\u001b[39m\u001b[38;5;124mregion\u001b[39m\u001b[38;5;124m'\u001b[39m, log_y\u001b[38;5;241m=\u001b[39m\u001b[38;5;28;01mTrue\u001b[39;00m\n\u001b[1;32m      4\u001b[0m                 , category_orders\u001b[38;5;241m=\u001b[39m{\u001b[38;5;124m\"\u001b[39m\u001b[38;5;124mregion\u001b[39m\u001b[38;5;124m\"\u001b[39m:[\u001b[38;5;124m\"\u001b[39m\u001b[38;5;124mLobe\u001b[39m\u001b[38;5;124m\"\u001b[39m,\u001b[38;5;124m\"\u001b[39m\u001b[38;5;124mBL\u001b[39m\u001b[38;5;124m\"\u001b[39m,\u001b[38;5;124m\"\u001b[39m\u001b[38;5;124mPS\u001b[39m\u001b[38;5;124m\"\u001b[39m]}\n\u001b[1;32m      5\u001b[0m \u001b[38;5;66;03m#                 , trendline=\"ols\", trendline_options=dict(log_y=True)\u001b[39;00m\n\u001b[1;32m      6\u001b[0m                 )\n\u001b[1;32m      7\u001b[0m fig\u001b[38;5;241m.\u001b[39mupdate_yaxes(\u001b[38;5;28mrange\u001b[39m\u001b[38;5;241m=\u001b[39m[\u001b[38;5;241m-\u001b[39m\u001b[38;5;241m5\u001b[39m, \u001b[38;5;241m-\u001b[39m\u001b[38;5;241m1\u001b[39m])\n",
      "\u001b[0;31mNameError\u001b[0m: name 'agg_df' is not defined"
     ]
    }
   ],
   "source": [
    "index = (agg_df.intergrated_flux > 0) & (agg_df['region'] != 'Dayside') & (abs(agg_df['ygsm']) < 20)\n",
    "\n",
    "fig = px.scatter(agg_df.loc[index,:], x='xgsm', y='density_est', color='region', log_y=True\n",
    "                , category_orders={\"region\":[\"Lobe\",\"BL\",\"PS\"]}\n",
    "#                 , trendline=\"ols\", trendline_options=dict(log_y=True)\n",
    "                )\n",
    "fig.update_yaxes(range=[-5, -1])\n",
    "fig.update_traces(marker=dict(size=2), selector=dict(mode='markers'))\n",
    "\n",
    "fig.show()"
   ]
  },
  {
   "cell_type": "code",
   "execution_count": null,
   "id": "feb6d7f8",
   "metadata": {},
   "outputs": [],
   "source": [
    "xedges = range(-30,10,2)\n",
    "yedges = range(-20,20,2)\n",
    "\n",
    "x_label = 'xgsm'\n",
    "y_label = 'ygsm'\n",
    "\n",
    "samples = data_preprocess_functions.calculate_occurrence_rate(df_ext[x_label],df_ext[y_label],xedges,yedges)\n",
    "\n",
    "events = data_preprocess_functions.calculate_occurrence_rate(df_ext_beam[x_label],df_ext_beam[y_label],xedges,yedges) \n",
    "\n",
    "occurrence_rate=np.divide(events,samples)\n",
    "\n",
    "intergrated_flux = data_preprocess_functions.calculate_density_heatmap(agg_df[x_label],agg_df[y_label],agg_df['intergrated_flux'],xedges,yedges)       \n",
    "\n",
    "avg_flux = np.multiply(intergrated_flux,occurrence_rate)\n",
    "\n",
    "density = data_preprocess_functions.calculate_density_heatmap(agg_df[x_label],agg_df[y_label],agg_df['density_est'],xedges,yedges)\n",
    "\n",
    "avg_density = np.multiply(density,occurrence_rate)\n"
   ]
  },
  {
   "cell_type": "code",
   "execution_count": null,
   "id": "f9bf1e54",
   "metadata": {},
   "outputs": [],
   "source": [
    "plt.figure(figsize=(14,7))\n",
    "\n",
    "plt.subplot(231)\n",
    "pos = plt.imshow(occurrence_rate, interpolation='none', origin='lower',extent=[xedges[0], xedges[-1], yedges[0], yedges[-1]], cmap='jet')\n",
    "\n",
    "cbar = plt.colorbar(pos)\n",
    "cbar.ax.set_ylabel('Occurrence frequency', rotation=90)\n",
    "\n",
    "plt.subplot(232)\n",
    "pos = plt.imshow(intergrated_flux, interpolation='none', origin='lower',extent=[xedges[0], xedges[-1], yedges[0], yedges[-1]], cmap='jet',norm=LogNorm(vmin=1e3, vmax=1e5))\n",
    "\n",
    "cbar = plt.colorbar(pos)\n",
    "cbar.ax.set_ylabel('Intergrated flux', rotation=90)\n",
    "\n",
    "plt.subplot(233)\n",
    "pos = plt.imshow(density, interpolation='none', origin='lower',extent=[xedges[0], xedges[-1]+xedges.step, yedges[0], yedges[-1]+yedges.step], cmap='jet',norm=LogNorm(vmin=1e-4, vmax=1e-2))\n",
    "\n",
    "cbar = plt.colorbar(pos)\n",
    "cbar.ax.set_ylabel('Density', rotation=90)\n",
    "\n",
    "plt.subplot(235)\n",
    "pos = plt.imshow(avg_flux, interpolation='none', origin='lower',extent=[xedges[0], xedges[-1]+xedges.step, yedges[0], yedges[-1]+yedges.step], cmap='jet',norm=LogNorm(vmin=1e3, vmax=1e5))\n",
    "\n",
    "cbar = plt.colorbar(pos)\n",
    "cbar.ax.set_ylabel('avg flux', rotation=90)\n",
    "\n",
    "plt.subplot(236)\n",
    "pos = plt.imshow(avg_density, interpolation='none', origin='lower',extent=[xedges[0], xedges[-1]+xedges.step, yedges[0], yedges[-1]+yedges.step], cmap='jet',norm=LogNorm(vmin=1e-4, vmax=1e-2))\n",
    "\n",
    "cbar = plt.colorbar(pos)\n",
    "cbar.ax.set_ylabel('avg density', rotation=90)\n",
    "\n",
    "plt.show()"
   ]
  },
  {
   "cell_type": "code",
   "execution_count": null,
   "id": "22671f13",
   "metadata": {},
   "outputs": [],
   "source": [
    "index_lobe = df_ext['beta'] <= 0.05\n",
    "\n",
    "samples_lobe = data_preprocess_functions.calculate_occurrence_rate(df_ext.loc[index_lobe,x_label],df_ext.loc[index_lobe,y_label],xedges,yedges)\n",
    "\n",
    "events_lobe = data_preprocess_functions.calculate_occurrence_rate(df_ext_beam.loc[index_lobe,x_label],df_ext_beam.loc[index_lobe,y_label],xedges,yedges)\n",
    "\n",
    "occurrence_rate_lobe = np.divide(events_lobe,samples_lobe)\n",
    "\n",
    "index_bl = (df_ext['beta'] > 0.05) & (df_ext['beta'] <= 1)\n",
    "\n",
    "samples_bl = data_preprocess_functions.calculate_occurrence_rate(df_ext.loc[index_bl,x_label],df_ext.loc[index_bl,y_label],xedges,yedges)\n",
    "\n",
    "events_bl = data_preprocess_functions.calculate_occurrence_rate(df_ext_beam.loc[index_bl,x_label],df_ext_beam.loc[index_bl,y_label],xedges,yedges)\n",
    "\n",
    "occurrence_rate_bl = np.divide(events_bl,samples_bl)\n",
    "\n",
    "index_ps = df_ext['beta'] > 1\n",
    "\n",
    "samples_ps = data_preprocess_functions.calculate_occurrence_rate(df_ext.loc[index_ps,x_label],df_ext.loc[index_ps,y_label],xedges,yedges)\n",
    "\n",
    "events_ps = data_preprocess_functions.calculate_occurrence_rate(df_ext_beam.loc[index_ps,x_label],df_ext_beam.loc[index_ps,y_label],xedges,yedges)\n",
    "\n",
    "occurrence_rate_ps = np.divide(events_ps, samples_ps)\n"
   ]
  },
  {
   "cell_type": "code",
   "execution_count": null,
   "id": "464e6abd",
   "metadata": {},
   "outputs": [],
   "source": [
    "index = agg_df['region'] == 'Lobe'\n",
    "\n",
    "intergrated_flux_lobe = data_preprocess_functions.calculate_density_heatmap(agg_df.loc[index,x_label],agg_df.loc[index,y_label],agg_df.loc[index,'intergrated_flux'],xedges,yedges)       \n",
    "\n",
    "avg_flux_lobe = np.multiply(intergrated_flux_lobe,occurrence_rate_lobe)\n",
    "\n",
    "index = agg_df['region'] == 'BL'\n",
    "\n",
    "intergrated_flux_bl = np.multiply(data_preprocess_functions.calculate_density_heatmap(agg_df.loc[index,x_label],agg_df.loc[index,y_label],agg_df.loc[index,'intergrated_flux'],xedges,yedges), occurrence_rate_lobe)\n",
    "\n",
    "avg_flux_bl = np.multiply(intergrated_flux_bl , occurrence_rate_bl)\n",
    "\n",
    "index = agg_df['region'] == 'PS'\n",
    "\n",
    "intergrated_flux_ps = np.multiply(data_preprocess_functions.calculate_density_heatmap(agg_df.loc[index,x_label],agg_df.loc[index,y_label],agg_df.loc[index,'intergrated_flux'],xedges,yedges), occurrence_rate_lobe)\n",
    "\n",
    "avg_flux_ps = np.multiply(intergrated_flux_ps , occurrence_rate_ps)"
   ]
  },
  {
   "cell_type": "code",
   "execution_count": null,
   "id": "206aa272",
   "metadata": {},
   "outputs": [],
   "source": [
    "plt.figure(figsize=(13,10))\n",
    "\n",
    "plt.subplot(331)\n",
    "pos = plt.imshow(occurrence_rate_lobe, interpolation='none', origin='lower',extent=[xedges[0], xedges[-1]+xedges.step, yedges[0], yedges[-1]+yedges.step], cmap='jet',vmin=0,vmax=1)\n",
    "plt.title('Lobe', y=1.02, fontsize=12)\n",
    "\n",
    "plt.subplot(332)\n",
    "pos = plt.imshow(occurrence_rate_bl, interpolation='none', origin='lower',extent=[xedges[0], xedges[-1]+xedges.step, yedges[0], yedges[-1]+yedges.step], cmap='jet',vmin=0,vmax=1)\n",
    "plt.title('BL', y=1.02, fontsize=12)\n",
    "\n",
    "plt.subplot(333)\n",
    "pos = plt.imshow(occurrence_rate_ps, interpolation='none', origin='lower',extent=[xedges[0], xedges[-1]+xedges.step, yedges[0], yedges[-1]+yedges.step], cmap='jet',vmin=0,vmax=1)\n",
    "plt.title('PS', y=1.02, fontsize=12)\n",
    "\n",
    "cbar = plt.colorbar(pos)\n",
    "cbar.ax.set_ylabel('occurrence rate', rotation=90)\n",
    "\n",
    "plt.subplot(334)\n",
    "pos = plt.imshow(intergrated_flux_lobe, interpolation='none', origin='lower',extent=[xedges[0], xedges[-1]+xedges.step, yedges[0], yedges[-1]+yedges.step], cmap='jet',norm=LogNorm(vmin=1e3, vmax=1e5))\n",
    "plt.title('Lobe', y=1.02, fontsize=12)\n",
    "\n",
    "plt.subplot(335)\n",
    "pos = plt.imshow(intergrated_flux_bl, interpolation='none', origin='lower',extent=[xedges[0], xedges[-1]+xedges.step, yedges[0], yedges[-1]+yedges.step], cmap='jet',norm=LogNorm(vmin=1e3, vmax=1e5))\n",
    "plt.title('BL', y=1.02, fontsize=12)\n",
    "\n",
    "plt.subplot(336)\n",
    "pos = plt.imshow(intergrated_flux_ps, interpolation='none', origin='lower',extent=[xedges[0], xedges[-1]+xedges.step, yedges[0], yedges[-1]+yedges.step], cmap='jet',norm=LogNorm(vmin=1e3, vmax=1e5))\n",
    "plt.title('PS', y=1.02, fontsize=12)\n",
    "\n",
    "cbar = plt.colorbar(pos)\n",
    "cbar.ax.set_ylabel('intergrated flux', rotation=90)\n",
    "\n",
    "\n",
    "plt.subplot(337)\n",
    "pos = plt.imshow(avg_flux_lobe, interpolation='none', origin='lower',extent=[xedges[0], xedges[-1]+xedges.step, yedges[0], yedges[-1]+yedges.step], cmap='jet',norm=LogNorm(vmin=1e3, vmax=1e5))\n",
    "plt.title('Lobe', y=1.02, fontsize=12)\n",
    "\n",
    "plt.subplot(338)\n",
    "pos = plt.imshow(avg_flux_bl, interpolation='none', origin='lower',extent=[xedges[0], xedges[-1]+xedges.step, yedges[0], yedges[-1]+yedges.step], cmap='jet',norm=LogNorm(vmin=1e3, vmax=1e5))\n",
    "plt.title('BL', y=1.02, fontsize=12)\n",
    "\n",
    "plt.subplot(339)\n",
    "pos = plt.imshow(avg_flux_ps, interpolation='none', origin='lower',extent=[xedges[0], xedges[-1]+xedges.step, yedges[0], yedges[-1]+yedges.step], cmap='jet',norm=LogNorm(vmin=1e3, vmax=1e5))\n",
    "plt.title('PS', y=1.02, fontsize=12)\n",
    "\n",
    "cbar = plt.colorbar(pos)\n",
    "cbar.ax.set_ylabel('avg flux', rotation=90)\n",
    "\n",
    "\n",
    "plt.show()\n"
   ]
  },
  {
   "cell_type": "code",
   "execution_count": null,
   "id": "cf2ea50f",
   "metadata": {},
   "outputs": [],
   "source": [
    "index = agg_df['region'] == 'Lobe'\n",
    "\n",
    "density_lobe = data_preprocess_functions.calculate_density_heatmap(agg_df.loc[index,x_label],agg_df.loc[index,y_label],agg_df.loc[index,'density_est'],xedges,yedges)\n",
    "\n",
    "avg_density_lobe = np.multiply(density_lobe , occurrence_rate_lobe)\n",
    "\n",
    "index = agg_df['region'] == 'BL'\n",
    "\n",
    "density_bl = np.multiply(data_preprocess_functions.calculate_density_heatmap(agg_df.loc[index,x_label],agg_df.loc[index,y_label],agg_df.loc[index,'density_est'],xedges,yedges), occurrence_rate_lobe)\n",
    "\n",
    "avg_density_bl = np.multiply(density_bl , occurrence_rate_bl)\n",
    "\n",
    "index = agg_df['region'] == 'PS'\n",
    "\n",
    "density_ps = np.multiply(data_preprocess_functions.calculate_density_heatmap(agg_df.loc[index,x_label],agg_df.loc[index,y_label],agg_df.loc[index,'density_est'],xedges,yedges), occurrence_rate_lobe)\n",
    "\n",
    "avg_density_ps = np.multiply(density_ps , occurrence_rate_ps)\n"
   ]
  },
  {
   "cell_type": "code",
   "execution_count": null,
   "id": "b6bee5db",
   "metadata": {},
   "outputs": [],
   "source": [
    "plt.figure(figsize=(13,10))\n",
    "\n",
    "plt.subplot(331)\n",
    "pos = plt.imshow(occurrence_rate_lobe, interpolation='none', origin='lower',extent=[xedges[0], xedges[-1]+xedges.step, yedges[0], yedges[-1]+yedges.step], cmap='jet',vmin=0,vmax=1)\n",
    "plt.title('Lobe', y=1.02, fontsize=12)\n",
    "\n",
    "plt.subplot(332)\n",
    "pos = plt.imshow(occurrence_rate_bl, interpolation='none', origin='lower',extent=[xedges[0], xedges[-1]+xedges.step, yedges[0], yedges[-1]+yedges.step], cmap='jet',vmin=0,vmax=1)\n",
    "plt.title('BL', y=1.02, fontsize=12)\n",
    "\n",
    "plt.subplot(333)\n",
    "pos = plt.imshow(occurrence_rate_ps, interpolation='none', origin='lower',extent=[xedges[0], xedges[-1]+xedges.step, yedges[0], yedges[-1]+yedges.step], cmap='jet',vmin=0,vmax=1)\n",
    "plt.title('PS', y=1.02, fontsize=12)\n",
    "\n",
    "cbar = plt.colorbar(pos)\n",
    "cbar.ax.set_ylabel('occurrence rate', rotation=90)\n",
    "\n",
    "plt.subplot(334)\n",
    "pos = plt.imshow(density_lobe, interpolation='none', origin='lower',extent=[xedges[0], xedges[-1]+xedges.step, yedges[0], yedges[-1]+yedges.step], cmap='jet',norm=LogNorm(vmin=0.0001, vmax=0.01))\n",
    "plt.title('Lobe', y=1.02, fontsize=12)\n",
    "\n",
    "plt.subplot(335)\n",
    "pos = plt.imshow(density_bl, interpolation='none', origin='lower',extent=[xedges[0], xedges[-1]+xedges.step, yedges[0], yedges[-1]+yedges.step], cmap='jet',norm=LogNorm(vmin=0.0001, vmax=0.01))\n",
    "plt.title('BL', y=1.02, fontsize=12)\n",
    "\n",
    "plt.subplot(336)\n",
    "pos = plt.imshow(density_ps, interpolation='none', origin='lower',extent=[xedges[0], xedges[-1]+xedges.step, yedges[0], yedges[-1]+yedges.step], cmap='jet',norm=LogNorm(vmin=0.0001, vmax=0.01))\n",
    "plt.title('PS', y=1.02, fontsize=12)\n",
    "\n",
    "cbar = plt.colorbar(pos)\n",
    "cbar.ax.set_ylabel('density', rotation=90)\n",
    "\n",
    "\n",
    "plt.subplot(337)\n",
    "pos = plt.imshow(avg_density_lobe, interpolation='none', origin='lower',extent=[xedges[0], xedges[-1]+xedges.step, yedges[0], yedges[-1]+yedges.step], cmap='jet',norm=LogNorm(vmin=0.0001, vmax=0.01))\n",
    "plt.title('Lobe', y=1.02, fontsize=12)\n",
    "\n",
    "plt.subplot(338)\n",
    "pos = plt.imshow(avg_density_bl, interpolation='none', origin='lower',extent=[xedges[0], xedges[-1]+xedges.step, yedges[0], yedges[-1]+yedges.step], cmap='jet',norm=LogNorm(vmin=0.0001, vmax=0.01))\n",
    "plt.title('BL', y=1.02, fontsize=12)\n",
    "\n",
    "plt.subplot(339)\n",
    "pos = plt.imshow(avg_density_ps, interpolation='none', origin='lower',extent=[xedges[0], xedges[-1]+xedges.step, yedges[0], yedges[-1]+yedges.step], cmap='jet',norm=LogNorm(vmin=0.0001, vmax=0.01))\n",
    "plt.title('PS', y=1.02, fontsize=12)\n",
    "\n",
    "cbar = plt.colorbar(pos)\n",
    "cbar.ax.set_ylabel('avg density', rotation=90)\n",
    "\n",
    "\n",
    "plt.show()\n"
   ]
  },
  {
   "cell_type": "code",
   "execution_count": null,
   "id": "faae281b",
   "metadata": {},
   "outputs": [],
   "source": [
    "data = pd.DataFrame({'region':['Lobe','BL','PS'], 'near':[0,0,0],'tail':[0,0,0]})\n",
    "\n",
    "for i in range(len(data.region)):\n",
    "    index1 = (agg_df.flux > 0) & (agg_df['xgsm'] > -15) & (agg_df['region'] == data.region[i])\n",
    "    index2 = (agg_df.flux > 0) & (agg_df['xgsm'] < -15) & (agg_df['region'] == data.region[i])\n",
    "    data.loc[i,'near'] = round(statistics.mean(agg_df.loc[index1,'density_est']),4)\n",
    "    data.loc[i,'tail'] = round(statistics.mean(agg_df.loc[index2,'density_est']),4)\n",
    "\n",
    "index_near = (agg_df['beta'] > 0.04) & (agg_df['beta'] < 0.05) & (agg_df.density_est > 0) & (agg_df['xgsm'] > -15)\n",
    "index_tail = (agg_df['beta'] > 0.04) & (agg_df['beta'] < 0.05) & (agg_df.density_est > 0) & (agg_df['xgsm'] < -15)\n",
    "near_BL_Lobe_data = {'region':'near BL Lobe', 'near': round(statistics.mean(agg_df.loc[index_near,'density_est']),4), 'tail': round(statistics.mean(agg_df.loc[index_tail,'density_est']),4)}\n",
    "\n",
    "data = data.append(near_BL_Lobe_data, ignore_index=True)\n",
    "\n",
    "data "
   ]
  },
  {
   "cell_type": "code",
   "execution_count": 25,
   "id": "6b36a083",
   "metadata": {},
   "outputs": [
    {
     "data": {
      "text/plain": [
       "'2.191841e+11'"
      ]
     },
     "execution_count": 25,
     "metadata": {},
     "output_type": "execute_result"
    }
   ],
   "source": [
    "0.0009e-6 # m-3\n",
    "10e3 #m/s\n",
    "\n",
    "\"{:e}\".format(0.0009e-6 * 10e3 * 10*6371e3 * 30*6371e3 * 2)"
   ]
  },
  {
   "cell_type": "code",
   "execution_count": 24,
   "id": "c6781bf3",
   "metadata": {},
   "outputs": [
    {
     "data": {
      "text/plain": [
       "'4.870757e+12'"
      ]
     },
     "execution_count": 24,
     "metadata": {},
     "output_type": "execute_result"
    }
   ],
   "source": [
    "0.1 # cm-3\n",
    "25 # km/s\n",
    "30 #Re\n",
    "4 #Re\n",
    "\n",
    "\"{:e}\".format(0.04e-6 * 25e3 * 30*6371e3 * 4*6371e3)"
   ]
  },
  {
   "cell_type": "code",
   "execution_count": null,
   "id": "2507c4ee",
   "metadata": {},
   "outputs": [],
   "source": []
  }
 ],
 "metadata": {
  "kernelspec": {
   "display_name": "Python 3 (ipykernel)",
   "language": "python",
   "name": "python3"
  },
  "language_info": {
   "codemirror_mode": {
    "name": "ipython",
    "version": 3
   },
   "file_extension": ".py",
   "mimetype": "text/x-python",
   "name": "python",
   "nbconvert_exporter": "python",
   "pygments_lexer": "ipython3",
   "version": "3.11.3"
  }
 },
 "nbformat": 4,
 "nbformat_minor": 5
}
