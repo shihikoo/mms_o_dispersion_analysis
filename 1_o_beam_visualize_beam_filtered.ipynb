{
 "cells": [
  {
   "cell_type": "code",
   "execution_count": null,
   "metadata": {},
   "outputs": [],
   "source": [
    "import pandas as pd\n",
    "import plotly.express as px\n",
    "import plotly.io as pio\n",
    "from collections import Counter\n",
    "import math\n",
    "import datetime as datetime\n",
    "from plotly.subplots import make_subplots\n",
    "import plotly.graph_objects as go\n",
    "import statistics\n",
    "import glob\n",
    "import ipyplot\n",
    "import numpy as np\n",
    "import random \n",
    "from functions import data_preprocess_functions\n"
   ]
  },
  {
   "cell_type": "code",
   "execution_count": null,
   "metadata": {},
   "outputs": [],
   "source": [
    "data_filename = 'idl_plots/output_5min_multi_subtraction_removebi_flux0.500.751.00_pap3.02.01.1/data/fulldata_20160101_to_20201231.csv'\n",
    "\n",
    "## if only test dataset are to be viewed\n",
    "# data_filename = 'data/outflow_testset_toplot.csv'\n",
    "dir_name = 'output_5min_multi_subtraction_removebi_flux0.500.751.00_pap3.02.01.1'\n"
   ]
  },
  {
   "cell_type": "code",
   "execution_count": null,
   "metadata": {},
   "outputs": [],
   "source": [
    "df = data_preprocess_functions.preprocess_data(pd.read_csv(data_filename))\n",
    "\n",
    "#to_plot_list = sorted(glob.glob(\"idl_plots/\"+dir_name+\"/obeam_day/2019/*plasma_condition_short.png\"))\n",
    "index = (df['eflux'] > 0) & (df['GSM_X'] < -1)  & (df['compression_mode'])  & (df['region'] == 'bl') # & (df['year'] == 2017)\n",
    "\n",
    "to_plot_list = list(df.loc[index, 'o_beam_filepath'])\n",
    "to_plot_list = [sub.replace('idl_plots', 'idl_plots/'+dir_name) for sub in to_plot_list] \n",
    "\n",
    "unique_to_plot_list = np.unique(to_plot_list)\n",
    "\n",
    "len(unique_to_plot_list)"
   ]
  },
  {
   "cell_type": "code",
   "execution_count": null,
   "metadata": {},
   "outputs": [],
   "source": [
    "unique_to_plot_list"
   ]
  },
  {
   "cell_type": "code",
   "execution_count": null,
   "metadata": {
    "scrolled": false
   },
   "outputs": [],
   "source": [
    "ipyplot.plot_images(list(unique_to_plot_list[0:30]), img_width=400)\n"
   ]
  },
  {
   "cell_type": "code",
   "execution_count": null,
   "metadata": {},
   "outputs": [],
   "source": []
  }
 ],
 "metadata": {
  "kernelspec": {
   "display_name": "Python 3",
   "language": "python",
   "name": "python3"
  },
  "language_info": {
   "codemirror_mode": {
    "name": "ipython",
    "version": 3
   },
   "file_extension": ".py",
   "mimetype": "text/x-python",
   "name": "python",
   "nbconvert_exporter": "python",
   "pygments_lexer": "ipython3",
   "version": "3.7.3"
  }
 },
 "nbformat": 4,
 "nbformat_minor": 2
}
