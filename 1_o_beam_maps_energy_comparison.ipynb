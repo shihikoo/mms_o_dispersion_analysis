{
 "cells": [
  {
   "cell_type": "code",
   "execution_count": null,
   "metadata": {},
   "outputs": [],
   "source": [
    "import numpy as np\n",
    "import pandas as pd\n",
    "import ipyplot"
   ]
  },
  {
   "cell_type": "code",
   "execution_count": null,
   "metadata": {},
   "outputs": [],
   "source": [
    "main_plot_path_1 = \"idl_plots/output_5min_multi_subtraction_reduced_removebi_flux0.500.751.00_pap3.02.01.1/plots_only_no_compression_ss27/\"\n",
    "\n",
    "non_sort_map_path_1 = main_plot_path_1+\"non_sort_map\"\n",
    "hemi_sort_map_path_1 = main_plot_path_1+\"hemi_sort_map\"\n",
    "kp_sort_map_path_1 = main_plot_path_1+'kp_sort_map'\n",
    "bx_sort_map_path_1 = main_plot_path_1+'bx_sort_map'\n",
    "\n",
    "start_time_1 = '20160101'\n",
    "end_time_1 = '20201231'\n",
    "\n",
    "grid_str_1 = \"grid_03\"\n",
    "\n",
    "main_plot_path_2 = \"idl_plots/output_5min_multi_subtraction_removebi_flux0.500.751.00_pap3.02.01.1/plots_only_no_compression_ss27/\"\n",
    "\n",
    "non_sort_map_path_2 = main_plot_path_2+\"non_sort_map\"\n",
    "hemi_sort_map_path_2 = main_plot_path_2+\"hemi_sort_map\"\n",
    "kp_sort_map_path_2 = main_plot_path_2+'kp_sort_map'\n",
    "bx_sort_map_path_2 = main_plot_path_2+'bx_sort_map'\n",
    "\n",
    "start_time_2 = '20160101'\n",
    "end_time_2 = '20201231'\n",
    "\n",
    "grid_str_2 = \"grid_03\""
   ]
  },
  {
   "cell_type": "markdown",
   "metadata": {},
   "source": [
    "# Median enegy and minimum energy maps in different projections"
   ]
  },
  {
   "cell_type": "code",
   "execution_count": null,
   "metadata": {
    "scrolled": false
   },
   "outputs": [],
   "source": [
    "images_array = [\n",
    "      non_sort_map_path_1+\"/\"+grid_str_1+\"/any/energy/2d/any__median_energy__\"+start_time_1+\"_to_\"+end_time_1+\"_X_GSM_vs_Y_GSM.png\"\n",
    "    , non_sort_map_path_1+\"/\"+grid_str_1+\"/any/energy/2d/any__median_energy__\"+start_time_1+\"_to_\"+end_time_1+\"_X_GSM_vs_Z_GSM.png\"\n",
    "    , non_sort_map_path_1+\"/\"+grid_str_1+\"/any/energy/2d/any__median_energy__\"+start_time_1+\"_to_\"+end_time_1+\"_Y_GSM_vs_Z_GSM.png\"\n",
    "    , non_sort_map_path_2+\"/\"+grid_str_2+\"/any/energy/2d/any__median_energy__\"+start_time_2+\"_to_\"+end_time_2+\"_X_GSM_vs_Y_GSM.png\"\n",
    "    , non_sort_map_path_2+\"/\"+grid_str_2+\"/any/energy/2d/any__median_energy__\"+start_time_2+\"_to_\"+end_time_2+\"_X_GSM_vs_Z_GSM.png\"\n",
    "    , non_sort_map_path_2+\"/\"+grid_str_2+\"/any/energy/2d/any__median_energy__\"+start_time_2+\"_to_\"+end_time_2+\"_Y_GSM_vs_Z_GSM.png\"\n",
    "    , non_sort_map_path_1+\"/\"+grid_str_1+\"/any/energy/2d/any__minimum_energy__\"+start_time_1+\"_to_\"+end_time_1+\"_X_GSM_vs_Y_GSM.png\"\n",
    "    , non_sort_map_path_1+\"/\"+grid_str_1+\"/any/energy/2d/any__minimum_energy__\"+start_time_1+\"_to_\"+end_time_1+\"_X_GSM_vs_Z_GSM.png\"\n",
    "    , non_sort_map_path_1+\"/\"+grid_str_1+\"/any/energy/2d/any__minimum_energy__\"+start_time_1+\"_to_\"+end_time_1+\"_Y_GSM_vs_Z_GSM.png\"\n",
    "    , non_sort_map_path_2+\"/\"+grid_str_2+\"/any/energy/2d/any__minimum_energy__\"+start_time_2+\"_to_\"+end_time_2+\"_X_GSM_vs_Y_GSM.png\"\n",
    "    , non_sort_map_path_2+\"/\"+grid_str_2+\"/any/energy/2d/any__minimum_energy__\"+start_time_2+\"_to_\"+end_time_2+\"_X_GSM_vs_Z_GSM.png\"\n",
    "    , non_sort_map_path_2+\"/\"+grid_str_2+\"/any/energy/2d/any__minimum_energy__\"+start_time_2+\"_to_\"+end_time_2+\"_Y_GSM_vs_Z_GSM.png\"\n",
    "]\n",
    "\n",
    "ipyplot.plot_images(images_array, img_width=300)"
   ]
  },
  {
   "cell_type": "markdown",
   "metadata": {},
   "source": [
    "## Sliced median enegy maps in different regions "
   ]
  },
  {
   "cell_type": "code",
   "execution_count": null,
   "metadata": {
    "scrolled": false
   },
   "outputs": [],
   "source": [
    "images_array = [\n",
    "        non_sort_map_path_1+\"/\"+grid_str_1+\"/Lobe_any/energy/slice/slice_zgrid_15/Lobe_any__median_energy__\"+start_time_1+\"_to_\"+end_time_1+\"_X_GSM_vs_Z_GSM_at_Y_GSM_-20.0_-5.0.png\"\n",
    "    ,   non_sort_map_path_1+\"/\"+grid_str_1+\"/Lobe_any/energy/slice/slice_zgrid_10/Lobe_any__median_energy__\"+start_time_1+\"_to_\"+end_time_1+\"_X_GSM_vs_Z_GSM_at_Y_GSM_-5.0_5.0.png\"\n",
    "    ,   non_sort_map_path_1+\"/\"+grid_str_1+\"/Lobe_any/energy/slice/slice_zgrid_15/Lobe_any__median_energy__\"+start_time_1+\"_to_\"+end_time_1+\"_X_GSM_vs_Z_GSM_at_Y_GSM_5.0_20.0.png\"    , non_sort_map_path_2+\"/\"+grid_str_1+\"/Lobe_any/energy/slice/slice_zgrid_15/Lobe_any__median_energy__\"+start_time_1+\"_to_\"+end_time_1+\"_X_GSM_vs_Z_GSM_at_Y_GSM_-20.0_-5.0.png\"\n",
    "    ,   non_sort_map_path_2+\"/\"+grid_str_1+\"/Lobe_any/energy/slice/slice_zgrid_10/Lobe_any__median_energy__\"+start_time_1+\"_to_\"+end_time_1+\"_X_GSM_vs_Z_GSM_at_Y_GSM_-5.0_5.0.png\"\n",
    "    ,   non_sort_map_path_2+\"/\"+grid_str_1+\"/Lobe_any/energy/slice/slice_zgrid_15/Lobe_any__median_energy__\"+start_time_1+\"_to_\"+end_time_1+\"_X_GSM_vs_Z_GSM_at_Y_GSM_5.0_20.0.png\"\n",
    "    ,   non_sort_map_path_1+\"/\"+grid_str_1+\"/BL_any/energy/slice/slice_zgrid_15/BL_any__median_energy__\"+start_time_1+\"_to_\"+end_time_1+\"_X_GSM_vs_Z_GSM_at_Y_GSM_-20.0_-5.0.png\"\n",
    "    ,   non_sort_map_path_1+\"/\"+grid_str_1+\"/BL_any/energy/slice/slice_zgrid_10/BL_any__median_energy__\"+start_time_1+\"_to_\"+end_time_1+\"_X_GSM_vs_Z_GSM_at_Y_GSM_-5.0_5.0.png\"\n",
    "    ,   non_sort_map_path_1+\"/\"+grid_str_1+\"/BL_any/energy/slice/slice_zgrid_15/BL_any__median_energy__\"+start_time_1+\"_to_\"+end_time_1+\"_X_GSM_vs_Z_GSM_at_Y_GSM_5.0_20.0.png\"    ,   non_sort_map_path_2+\"/\"+grid_str_2+\"/BL_any/energy/slice/slice_zgrid_15/BL_any__median_energy__\"+start_time_2+\"_to_\"+end_time_2+\"_X_GSM_vs_Z_GSM_at_Y_GSM_-20.0_-5.0.png\"\n",
    "    ,   non_sort_map_path_2+\"/\"+grid_str_2+\"/BL_any/energy/slice/slice_zgrid_10/BL_any__median_energy__\"+start_time_2+\"_to_\"+end_time_2+\"_X_GSM_vs_Z_GSM_at_Y_GSM_-5.0_5.0.png\"\n",
    "    ,   non_sort_map_path_2+\"/\"+grid_str_2+\"/BL_any/energy/slice/slice_zgrid_15/BL_any__median_energy__\"+start_time_2+\"_to_\"+end_time_2+\"_X_GSM_vs_Z_GSM_at_Y_GSM_5.0_20.0.png\"\n",
    "    ,   non_sort_map_path_1+\"/\"+grid_str_1+\"/PS_any/energy/slice/slice_zgrid_15/PS_any__median_energy__\"+start_time_1+\"_to_\"+end_time_1+\"_X_GSM_vs_Z_GSM_at_Y_GSM_-20.0_-5.0.png\"\n",
    "    ,   non_sort_map_path_1+\"/\"+grid_str_1+\"/PS_any/energy/slice/slice_zgrid_10/PS_any__median_energy__\"+start_time_1+\"_to_\"+end_time_1+\"_X_GSM_vs_Z_GSM_at_Y_GSM_-5.0_5.0.png\"\n",
    "    ,   non_sort_map_path_1+\"/\"+grid_str_1+\"/PS_any/energy/slice/slice_zgrid_15/PS_any__median_energy__\"+start_time_1+\"_to_\"+end_time_1+\"_X_GSM_vs_Z_GSM_at_Y_GSM_5.0_20.0.png\"\n",
    "    ,   non_sort_map_path_2+\"/\"+grid_str_2+\"/PS_any/energy/slice/slice_zgrid_15/PS_any__median_energy__\"+start_time_2+\"_to_\"+end_time_2+\"_X_GSM_vs_Z_GSM_at_Y_GSM_-20.0_-5.0.png\"\n",
    "    ,   non_sort_map_path_2+\"/\"+grid_str_2+\"/PS_any/energy/slice/slice_zgrid_10/PS_any__median_energy__\"+start_time_2+\"_to_\"+end_time_2+\"_X_GSM_vs_Z_GSM_at_Y_GSM_-5.0_5.0.png\"\n",
    "    ,   non_sort_map_path_2+\"/\"+grid_str_2+\"/PS_any/energy/slice/slice_zgrid_15/PS_any__median_energy__\"+start_time_2+\"_to_\"+end_time_2+\"_X_GSM_vs_Z_GSM_at_Y_GSM_5.0_20.0.png\"\n",
    "  ]\n",
    "\n",
    "ipyplot.plot_images(images_array, img_width=300)"
   ]
  },
  {
   "cell_type": "markdown",
   "metadata": {},
   "source": [
    "## Review Different Regions [Lobe, BL, PS]\n"
   ]
  },
  {
   "cell_type": "markdown",
   "metadata": {},
   "source": [
    "### Median Energy maps in Lobe, BL, PS"
   ]
  },
  {
   "cell_type": "code",
   "execution_count": null,
   "metadata": {
    "scrolled": false
   },
   "outputs": [],
   "source": [
    "images_array = [\n",
    "      non_sort_map_path_1+\"/\"+grid_str_1+\"/Lobe_any/energy/2d/Lobe_any__median_energy__\"+start_time_1+\"_to_\"+end_time_1+\"_X_GSM_vs_Y_GSM.png\"\n",
    "    , non_sort_map_path_1+\"/\"+grid_str_1+\"/Lobe_any/energy/2d/Lobe_any__median_energy__\"+start_time_1+\"_to_\"+end_time_1+\"_X_GSM_vs_Z_GSM.png\"\n",
    "    , non_sort_map_path_1+\"/\"+grid_str_1+\"/Lobe_any/energy/2d/Lobe_any__median_energy__\"+start_time_1+\"_to_\"+end_time_1+\"_Y_GSM_vs_Z_GSM.png\",non_sort_map_path_2+\"/\"+grid_str_1+\"/Lobe_any/energy/2d/Lobe_any__median_energy__\"+start_time_1+\"_to_\"+end_time_1+\"_X_GSM_vs_Y_GSM.png\"\n",
    "    , non_sort_map_path_2+\"/\"+grid_str_1+\"/Lobe_any/energy/2d/Lobe_any__median_energy__\"+start_time_1+\"_to_\"+end_time_1+\"_X_GSM_vs_Z_GSM.png\"\n",
    "    , non_sort_map_path_2+\"/\"+grid_str_1+\"/Lobe_any/energy/2d/Lobe_any__median_energy__\"+start_time_1+\"_to_\"+end_time_1+\"_Y_GSM_vs_Z_GSM.png\"\n",
    "    , non_sort_map_path_1+\"/\"+grid_str_1+\"/BL_any/energy/2d/BL_any__median_energy__\"+start_time_1+\"_to_\"+end_time_1+\"_X_GSM_vs_Y_GSM.png\"\n",
    "    , non_sort_map_path_1+\"/\"+grid_str_1+\"/BL_any/energy/2d/BL_any__median_energy__\"+start_time_1+\"_to_\"+end_time_1+\"_X_GSM_vs_Z_GSM.png\"\n",
    "    , non_sort_map_path_1+\"/\"+grid_str_1+\"/BL_any/energy/2d/BL_any__median_energy__\"+start_time_1+\"_to_\"+end_time_1+\"_Y_GSM_vs_Z_GSM.png\"    , non_sort_map_path_2+\"/\"+grid_str_1+\"/BL_any/energy/2d/BL_any__median_energy__\"+start_time_1+\"_to_\"+end_time_1+\"_X_GSM_vs_Y_GSM.png\"\n",
    "    , non_sort_map_path_2+\"/\"+grid_str_1+\"/BL_any/energy/2d/BL_any__median_energy__\"+start_time_1+\"_to_\"+end_time_1+\"_X_GSM_vs_Z_GSM.png\"\n",
    "    , non_sort_map_path_2+\"/\"+grid_str_1+\"/BL_any/energy/2d/BL_any__median_energy__\"+start_time_1+\"_to_\"+end_time_1+\"_Y_GSM_vs_Z_GSM.png\"\n",
    "    ,non_sort_map_path_1+\"/\"+grid_str_1+\"/PS_any/energy/2d/PS_any__median_energy__\"+start_time_1+\"_to_\"+end_time_1+\"_X_GSM_vs_Y_GSM.png\"\n",
    "    , non_sort_map_path_1+\"/\"+grid_str_1+\"/PS_any/energy/2d/PS_any__median_energy__\"+start_time_1+\"_to_\"+end_time_1+\"_X_GSM_vs_Z_GSM.png\"\n",
    "    , non_sort_map_path_1+\"/\"+grid_str_1+\"/PS_any/energy/2d/PS_any__median_energy__\"+start_time_1+\"_to_\"+end_time_1+\"_Y_GSM_vs_Z_GSM.png\"\n",
    ",non_sort_map_path_2+\"/\"+grid_str_1+\"/PS_any/energy/2d/PS_any__median_energy__\"+start_time_1+\"_to_\"+end_time_1+\"_X_GSM_vs_Y_GSM.png\"\n",
    "    , non_sort_map_path_2+\"/\"+grid_str_1+\"/PS_any/energy/2d/PS_any__median_energy__\"+start_time_1+\"_to_\"+end_time_1+\"_X_GSM_vs_Z_GSM.png\"\n",
    "    , non_sort_map_path_2+\"/\"+grid_str_1+\"/PS_any/energy/2d/PS_any__median_energy__\"+start_time_1+\"_to_\"+end_time_1+\"_Y_GSM_vs_Z_GSM.png\"\n",
    "]\n",
    "\n",
    "ipyplot.plot_images(images_array, img_width=300)"
   ]
  },
  {
   "cell_type": "markdown",
   "metadata": {},
   "source": [
    "### Minimum Energy maps in Lobe, BL, PS"
   ]
  },
  {
   "cell_type": "code",
   "execution_count": null,
   "metadata": {
    "scrolled": false
   },
   "outputs": [],
   "source": [
    "images_array = [\n",
    "     non_sort_map_path_1+\"/\"+grid_str_1+\"/Lobe_any/energy/2d/Lobe_any__minimum_energy__\"+start_time_1+\"_to_\"+end_time_1+\"_X_GSM_vs_Y_GSM.png\"\n",
    "    , non_sort_map_path_1+\"/\"+grid_str_1+\"/Lobe_any/energy/2d/Lobe_any__minimum_energy__\"+start_time_1+\"_to_\"+end_time_1+\"_X_GSM_vs_Z_GSM.png\"\n",
    "    , non_sort_map_path_1+\"/\"+grid_str_1+\"/Lobe_any/energy/2d/Lobe_any__minimum_energy__\"+start_time_1+\"_to_\"+end_time_1+\"_Y_GSM_vs_Z_GSM.png\"    ,\n",
    "    non_sort_map_path_2+\"/\"+grid_str_1+\"/Lobe_any/energy/2d/Lobe_any__minimum_energy__\"+start_time_1+\"_to_\"+end_time_1+\"_X_GSM_vs_Y_GSM.png\"\n",
    "    , non_sort_map_path_2+\"/\"+grid_str_1+\"/Lobe_any/energy/2d/Lobe_any__minimum_energy__\"+start_time_1+\"_to_\"+end_time_1+\"_X_GSM_vs_Z_GSM.png\"\n",
    "    , non_sort_map_path_2+\"/\"+grid_str_1+\"/Lobe_any/energy/2d/Lobe_any__minimum_energy__\"+start_time_1+\"_to_\"+end_time_1+\"_Y_GSM_vs_Z_GSM.png\"\n",
    "       , non_sort_map_path_1+\"/\"+grid_str_1+\"/BL_any/energy/2d/BL_any__minimum_energy__\"+start_time_1+\"_to_\"+end_time_1+\"_X_GSM_vs_Y_GSM.png\"\n",
    "    , non_sort_map_path_1+\"/\"+grid_str_1+\"/BL_any/energy/2d/BL_any__minimum_energy__\"+start_time_1+\"_to_\"+end_time_1+\"_X_GSM_vs_Z_GSM.png\"\n",
    "    , non_sort_map_path_1+\"/\"+grid_str_1+\"/BL_any/energy/2d/BL_any__minimum_energy__\"+start_time_1+\"_to_\"+end_time_1+\"_Y_GSM_vs_Z_GSM.png\"       , non_sort_map_path_2+\"/\"+grid_str_1+\"/BL_any/energy/2d/BL_any__minimum_energy__\"+start_time_1+\"_to_\"+end_time_1+\"_X_GSM_vs_Y_GSM.png\"\n",
    "    , non_sort_map_path_2+\"/\"+grid_str_1+\"/BL_any/energy/2d/BL_any__minimum_energy__\"+start_time_1+\"_to_\"+end_time_1+\"_X_GSM_vs_Z_GSM.png\"\n",
    "    , non_sort_map_path_2+\"/\"+grid_str_1+\"/BL_any/energy/2d/BL_any__minimum_energy__\"+start_time_1+\"_to_\"+end_time_1+\"_Y_GSM_vs_Z_GSM.png\"\n",
    "    , non_sort_map_path_1+\"/\"+grid_str_1+\"/PS_any/energy/2d/PS_any__minimum_energy__\"+start_time_1+\"_to_\"+end_time_1+\"_X_GSM_vs_Y_GSM.png\"\n",
    "    , non_sort_map_path_1+\"/\"+grid_str_1+\"/PS_any/energy/2d/PS_any__minimum_energy__\"+start_time_1+\"_to_\"+end_time_1+\"_X_GSM_vs_Z_GSM.png\"\n",
    "    , non_sort_map_path_1+\"/\"+grid_str_1+\"/PS_any/energy/2d/PS_any__minimum_energy__\"+start_time_1+\"_to_\"+end_time_1+\"_Y_GSM_vs_Z_GSM.png\"\n",
    "    , non_sort_map_path_2+\"/\"+grid_str_1+\"/PS_any/energy/2d/PS_any__minimum_energy__\"+start_time_1+\"_to_\"+end_time_1+\"_X_GSM_vs_Y_GSM.png\"\n",
    "    , non_sort_map_path_2+\"/\"+grid_str_1+\"/PS_any/energy/2d/PS_any__minimum_energy__\"+start_time_1+\"_to_\"+end_time_1+\"_X_GSM_vs_Z_GSM.png\"\n",
    "    , non_sort_map_path_2+\"/\"+grid_str_1+\"/PS_any/energy/2d/PS_any__minimum_energy__\"+start_time_1+\"_to_\"+end_time_1+\"_Y_GSM_vs_Z_GSM.png\"\n",
    "]\n",
    "\n",
    "ipyplot.plot_images(images_array, img_width=300)"
   ]
  },
  {
   "cell_type": "markdown",
   "metadata": {},
   "source": [
    "### South / north in median energy different regions"
   ]
  },
  {
   "cell_type": "code",
   "execution_count": null,
   "metadata": {},
   "outputs": [],
   "source": [
    "images_array = [\n",
    "    hemi_sort_map_path+\"/hemi_north/\"+grid_str_1+\"/north_Lobe_any/energy/2d/north_Lobe_any__median_energy__\"+start_time_1+\"_to_\"+end_time_1+\"_X_GSM_vs_Y_GSM.png\"\n",
    ",hemi_sort_map_path+\"/hemi_south/\"+grid_str_1+\"/south_Lobe_any/energy/2d/south_Lobe_any__median_energy__\"+start_time_1+\"_to_\"+end_time_1+\"_X_GSM_vs_Y_GSM.png\" ,with_reduced_hemi_sort_map_path+\"/hemi_north/\"+grid_str_1+\"/north_Lobe_any/energy/2d/north_Lobe_any__median_energy__\"+start_time_1+\"_to_\"+end_time_1+\"_X_GSM_vs_Y_GSM.png\"\n",
    ", with_reduced_hemi_sort_map_path+\"/hemi_south/\"+grid_str_1+\"/south_Lobe_any/energy/2d/south_Lobe_any__median_energy__\"+start_time_1+\"_to_\"+end_time_1+\"_X_GSM_vs_Y_GSM.png\"\n",
    "    , hemi_sort_map_path+\"/hemi_north/\"+grid_str_1+\"/north_BL_any/energy/2d/north_BL_any__median_energy__\"+start_time_1+\"_to_\"+end_time_1+\"_X_GSM_vs_Y_GSM.png\"\n",
    ", hemi_sort_map_path+\"/hemi_south/\"+grid_str_1+\"/south_BL_any/energy/2d/south_BL_any__median_energy__\"+start_time_1+\"_to_\"+end_time_1+\"_X_GSM_vs_Y_GSM.png\"    \n",
    "    , with_reduced_hemi_sort_map_path+\"/hemi_north/\"+grid_str_1+\"/north_BL_any/energy/2d/north_BL_any__median_energy__\"+start_time_1+\"_to_\"+end_time_1+\"_X_GSM_vs_Y_GSM.png\"\n",
    ", with_reduced_hemi_sort_map_path+\"/hemi_south/\"+grid_str_1+\"/south_BL_any/energy/2d/south_BL_any__median_energy__\"+start_time_1+\"_to_\"+end_time_1+\"_X_GSM_vs_Y_GSM.png\"   \n",
    "    , hemi_sort_map_path+\"/hemi_north/\"+grid_str_1+\"/north_PS_any/energy/2d/north_PS_any__median_energy__\"+start_time_1+\"_to_\"+end_time_1+\"_X_GSM_vs_Y_GSM.png\"\n",
    ", hemi_sort_map_path+\"/hemi_south/\"+grid_str_1+\"/south_PS_any/energy/2d/south_PS_any__median_energy__\"+start_time_1+\"_to_\"+end_time_1+\"_X_GSM_vs_Y_GSM.png\"\n",
    ", with_reduced_hemi_sort_map_path+\"/hemi_north/\"+grid_str_1+\"/north_PS_any/energy/2d/north_PS_any__median_energy__\"+start_time_1+\"_to_\"+end_time_1+\"_X_GSM_vs_Y_GSM.png\"\n",
    "  , with_reduced_hemi_sort_map_path+\"/hemi_south/\"+grid_str_1+\"/south_PS_any/energy/2d/south_PS_any__median_energy__\"+start_time_1+\"_to_\"+end_time_1+\"_X_GSM_vs_Y_GSM.png\"\n",
    "]\n",
    "\n",
    "ipyplot.plot_images(images_array, img_width=228)"
   ]
  },
  {
   "cell_type": "code",
   "execution_count": null,
   "metadata": {},
   "outputs": [],
   "source": [
    "images_array = [\n",
    "    hemi_sort_map_path+\"/hemi_north/\"+grid_str_1+\"/north_Lobe_any/energy/2d/north_Lobe_any__minimum_energy__\"+start_time_1+\"_to_\"+end_time_1+\"_X_GSM_vs_Y_GSM.png\"\n",
    "    ,hemi_sort_map_path+\"/hemi_south/\"+grid_str_1+\"/south_Lobe_any/energy/2d/south_Lobe_any__minimum_energy__\"+start_time_1+\"_to_\"+end_time_1+\"_X_GSM_vs_Y_GSM.png\"\n",
    "        , with_reduced_hemi_sort_map_path+\"/hemi_north/\"+grid_str_1+\"/north_Lobe_any/energy/2d/north_Lobe_any__minimum_energy__\"+start_time_1+\"_to_\"+end_time_1+\"_X_GSM_vs_Y_GSM.png\"\n",
    "    , with_reduced_hemi_sort_map_path+\"/hemi_south/\"+grid_str_1+\"/south_Lobe_any/energy/2d/south_Lobe_any__minimum_energy__\"+start_time_1+\"_to_\"+end_time_1+\"_X_GSM_vs_Y_GSM.png\"\n",
    "    ,hemi_sort_map_path+\"/hemi_north/\"+grid_str_1+\"/north_BL_any/energy/2d/north_BL_any__minimum_energy__\"+start_time_1+\"_to_\"+end_time_1+\"_X_GSM_vs_Y_GSM.png\"   ,hemi_sort_map_path+\"/hemi_south/\"+grid_str_1+\"/south_BL_any/energy/2d/south_BL_any__minimum_energy__\"+start_time_1+\"_to_\"+end_time_1+\"_X_GSM_vs_Y_GSM.png\"\n",
    "       , with_reduced_hemi_sort_map_path+\"/hemi_north/\"+grid_str_1+\"/north_BL_any/energy/2d/north_BL_any__minimum_energy__\"+start_time_1+\"_to_\"+end_time_1+\"_X_GSM_vs_Y_GSM.png\"   , with_reduced_hemi_sort_map_path+\"/hemi_south/\"+grid_str_1+\"/south_BL_any/energy/2d/south_BL_any__minimum_energy__\"+start_time_1+\"_to_\"+end_time_1+\"_X_GSM_vs_Y_GSM.png\"\n",
    "    ,hemi_sort_map_path+\"/hemi_north/\"+grid_str_1+\"/north_PS_any/energy/2d/north_PS_any__minimum_energy__\"+start_time_1+\"_to_\"+end_time_1+\"_X_GSM_vs_Y_GSM.png\"\n",
    "    ,hemi_sort_map_path+\"/hemi_south/\"+grid_str_1+\"/south_PS_any/energy/2d/south_PS_any__minimum_energy__\"+start_time_1+\"_to_\"+end_time_1+\"_X_GSM_vs_Y_GSM.png\"\n",
    "   , with_reduced_hemi_sort_map_path+\"/hemi_north/\"+grid_str_1+\"/north_PS_any/energy/2d/north_PS_any__minimum_energy__\"+start_time_1+\"_to_\"+end_time_1+\"_X_GSM_vs_Y_GSM.png\"\n",
    "    , with_reduced_hemi_sort_map_path+\"/hemi_south/\"+grid_str_1+\"/south_PS_any/energy/2d/south_PS_any__minimum_energy__\"+start_time_1+\"_to_\"+end_time_1+\"_X_GSM_vs_Y_GSM.png\"\n",
    "    \n",
    "]\n",
    "\n",
    "ipyplot.plot_images(images_array, img_width=228)"
   ]
  },
  {
   "cell_type": "markdown",
   "metadata": {},
   "source": [
    "### South / north in median energy different regions for positive and negative IMF By"
   ]
  },
  {
   "cell_type": "code",
   "execution_count": null,
   "metadata": {
    "scrolled": false
   },
   "outputs": [],
   "source": [
    "images_array = [\n",
    "    hemi_sort_map_path+\"/hemi_north/\"+grid_str_1+\"/north_Lobe_any/energy/2d/north_Lobe_any_imfBy_-25_0__median_energy__\"+start_time_1+\"_to_\"+end_time_1+\"_X_GSM_vs_Y_GSM.png\"\n",
    "   ,hemi_sort_map_path+\"/hemi_north/\"+grid_str_1+\"/north_Lobe_any/energy/2d/north_Lobe_any_imfBy_0_25__median_energy__\"+start_time_1+\"_to_\"+end_time_1+\"_X_GSM_vs_Y_GSM.png\"\n",
    "   ,hemi_sort_map_path+\"/hemi_south/\"+grid_str_1+\"/south_Lobe_any/energy/2d/south_Lobe_any_imfBy_-25_0__median_energy__\"+start_time_1+\"_to_\"+end_time_1+\"_X_GSM_vs_Y_GSM.png\"\n",
    "   ,hemi_sort_map_path+\"/hemi_south/\"+grid_str_1+\"/south_Lobe_any/energy/2d/south_Lobe_any_imfBy_0_25__median_energy__\"+start_time_1+\"_to_\"+end_time_1+\"_X_GSM_vs_Y_GSM.png\"\n",
    "   ,   with_reduced_hemi_sort_map_path+\"/hemi_north/\"+grid_str_1+\"/north_Lobe_any/energy/2d/north_Lobe_any_imfBy_-25_0__median_energy__\"+start_time_1+\"_to_\"+end_time_1+\"_X_GSM_vs_Y_GSM.png\"\n",
    "   ,with_reduced_hemi_sort_map_path+\"/hemi_north/\"+grid_str_1+\"/north_Lobe_any/energy/2d/north_Lobe_any_imfBy_0_25__median_energy__\"+start_time_1+\"_to_\"+end_time_1+\"_X_GSM_vs_Y_GSM.png\"\n",
    "   ,with_reduced_hemi_sort_map_path+\"/hemi_south/\"+grid_str_1+\"/south_Lobe_any/energy/2d/south_Lobe_any_imfBy_-25_0__median_energy__\"+start_time_1+\"_to_\"+end_time_1+\"_X_GSM_vs_Y_GSM.png\"\n",
    "   ,with_reduced_hemi_sort_map_path+\"/hemi_south/\"+grid_str_1+\"/south_Lobe_any/energy/2d/south_Lobe_any_imfBy_0_25__median_energy__\"+start_time_1+\"_to_\"+end_time_1+\"_X_GSM_vs_Y_GSM.png\"\n",
    "    ,hemi_sort_map_path+\"/hemi_north/\"+grid_str_1+\"/north_BL_any/energy/2d/north_BL_any_imfBy_-25_0__median_energy__\"+start_time_1+\"_to_\"+end_time_1+\"_X_GSM_vs_Y_GSM.png\"\n",
    "   ,hemi_sort_map_path+\"/hemi_north/\"+grid_str_1+\"/north_BL_any/energy/2d/north_BL_any_imfBy_0_25__median_energy__\"+start_time_1+\"_to_\"+end_time_1+\"_X_GSM_vs_Y_GSM.png\"\n",
    "   ,hemi_sort_map_path+\"/hemi_south/\"+grid_str_1+\"/south_BL_any/energy/2d/south_BL_any_imfBy_-25_0__median_energy__\"+start_time_1+\"_to_\"+end_time_1+\"_X_GSM_vs_Y_GSM.png\"\n",
    "   ,hemi_sort_map_path+\"/hemi_south/\"+grid_str_1+\"/south_BL_any/energy/2d/south_BL_any_imfBy_0_25__median_energy__\"+start_time_1+\"_to_\"+end_time_1+\"_X_GSM_vs_Y_GSM.png\"\n",
    "   ,with_reduced_hemi_sort_map_path+\"/hemi_north/\"+grid_str_1+\"/north_BL_any/energy/2d/north_BL_any_imfBy_-25_0__median_energy__\"+start_time_1+\"_to_\"+end_time_1+\"_X_GSM_vs_Y_GSM.png\"\n",
    "   ,with_reduced_hemi_sort_map_path+\"/hemi_north/\"+grid_str_1+\"/north_BL_any/energy/2d/north_BL_any_imfBy_0_25__median_energy__\"+start_time_1+\"_to_\"+end_time_1+\"_X_GSM_vs_Y_GSM.png\"\n",
    "   ,with_reduced_hemi_sort_map_path+\"/hemi_south/\"+grid_str_1+\"/south_BL_any/energy/2d/south_BL_any_imfBy_-25_0__median_energy__\"+start_time_1+\"_to_\"+end_time_1+\"_X_GSM_vs_Y_GSM.png\"\n",
    "   ,with_reduced_hemi_sort_map_path+\"/hemi_south/\"+grid_str_1+\"/south_BL_any/energy/2d/south_BL_any_imfBy_0_25__median_energy__\"+start_time_1+\"_to_\"+end_time_1+\"_X_GSM_vs_Y_GSM.png\"\n",
    "    ,hemi_sort_map_path+\"/hemi_north/\"+grid_str_1+\"/north_PS_any/energy/2d/north_PS_any_imfBy_-25_0__median_energy__\"+start_time_1+\"_to_\"+end_time_1+\"_X_GSM_vs_Y_GSM.png\"\n",
    "   ,hemi_sort_map_path+\"/hemi_north/\"+grid_str_1+\"/north_PS_any/energy/2d/north_PS_any_imfBy_0_25__median_energy__\"+start_time_1+\"_to_\"+end_time_1+\"_X_GSM_vs_Y_GSM.png\"\n",
    "   ,hemi_sort_map_path+\"/hemi_south/\"+grid_str_1+\"/south_PS_any/energy/2d/south_PS_any_imfBy_-25_0__median_energy__\"+start_time_1+\"_to_\"+end_time_1+\"_X_GSM_vs_Y_GSM.png\"\n",
    "   ,hemi_sort_map_path+\"/hemi_south/\"+grid_str_1+\"/south_PS_any/energy/2d/south_PS_any_imfBy_0_25__median_energy__\"+start_time_1+\"_to_\"+end_time_1+\"_X_GSM_vs_Y_GSM.png\"\n",
    "   ,with_reduced_hemi_sort_map_path+\"/hemi_north/\"+grid_str_1+\"/north_PS_any/energy/2d/north_PS_any_imfBy_-25_0__median_energy__\"+start_time_1+\"_to_\"+end_time_1+\"_X_GSM_vs_Y_GSM.png\"\n",
    "   ,with_reduced_hemi_sort_map_path+\"/hemi_north/\"+grid_str_1+\"/north_PS_any/energy/2d/north_PS_any_imfBy_0_25__median_energy__\"+start_time_1+\"_to_\"+end_time_1+\"_X_GSM_vs_Y_GSM.png\"\n",
    "   ,with_reduced_hemi_sort_map_path+\"/hemi_south/\"+grid_str_1+\"/south_PS_any/energy/2d/south_PS_any_imfBy_-25_0__median_energy__\"+start_time_1+\"_to_\"+end_time_1+\"_X_GSM_vs_Y_GSM.png\"\n",
    "   ,with_reduced_hemi_sort_map_path+\"/hemi_south/\"+grid_str_1+\"/south_PS_any/energy/2d/south_PS_any_imfBy_0_25__median_energy__\"+start_time_1+\"_to_\"+end_time_1+\"_X_GSM_vs_Y_GSM.png\"\n",
    "]\n",
    "\n",
    "ipyplot.plot_images(images_array, img_width=228)"
   ]
  },
  {
   "cell_type": "code",
   "execution_count": null,
   "metadata": {},
   "outputs": [],
   "source": []
  }
 ],
 "metadata": {
  "kernelspec": {
   "display_name": "Python 3",
   "language": "python",
   "name": "python3"
  },
  "language_info": {
   "codemirror_mode": {
    "name": "ipython",
    "version": 3
   },
   "file_extension": ".py",
   "mimetype": "text/x-python",
   "name": "python",
   "nbconvert_exporter": "python",
   "pygments_lexer": "ipython3",
   "version": "3.7.3"
  }
 },
 "nbformat": 4,
 "nbformat_minor": 2
}
