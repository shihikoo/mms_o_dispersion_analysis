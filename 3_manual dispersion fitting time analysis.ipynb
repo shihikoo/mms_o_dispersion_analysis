{
 "cells": [
  {
   "cell_type": "code",
   "execution_count": null,
   "metadata": {},
   "outputs": [],
   "source": [
    "import numpy as np\n",
    "import pandas as pd\n",
    "import ipyplot\n"
   ]
  },
  {
   "cell_type": "code",
   "execution_count": null,
   "metadata": {},
   "outputs": [],
   "source": [
    "#display(Image(url= \"idl_plots/dispersion_day/o_beam20170406_180000_to_20170407_000000_dispersion.png\", width = 450))\n",
    "#display(Image(url= \"idl_plots/dispersion_day/o_beam20170817_120000_to_20170817_180000_dispersion.png\", width = 450))\n",
    "images_array = [\n",
    "'idl_plots/dispersion_time_comparison/10/plots/dispersion/o_beam20160209_071519_to_20160209_074429dispersion_fitting.png'\n",
    ",'idl_plots/dispersion_time_comparison/60/plots/dispersion/o_beam20160209_071534_to_20160209_074449dispersion_fitting.png'\n",
    ",'idl_plots/dispersion_time_comparison/120/plots/dispersion/o_beam20160209_071516_to_20160209_074322dispersion_fitting.png'\n",
    "]\n",
    "\n",
    "ipyplot.plot_images(images_array, img_width=400)"
   ]
  },
  {
   "cell_type": "code",
   "execution_count": null,
   "metadata": {},
   "outputs": [],
   "source": [
    "#display(Image(url= \"idl_plots/dispersion_day/o_beam20170406_180000_to_20170407_000000_dispersion.png\", width = 450))\n",
    "#display(Image(url= \"idl_plots/dispersion_day/o_beam20170817_120000_to_20170817_180000_dispersion.png\", width = 450))\n",
    "images_array = [\n",
    "'idl_plots/dispersion_time_comparison/10/plots/dispersion/o_beam20160103_192053_to_20160103_193943dispersion_fitting.png'\n",
    ",'idl_plots/dispersion_time_comparison/60/plots/dispersion/o_beam20160103_192053_to_20160103_193943dispersion_fitting.png'  \n",
    ",'idl_plots/dispersion_time_comparison/120/plots/dispersion/o_beam20160103_192128_to_20160103_193908dispersion_fitting.png' \n",
    "]\n",
    "\n",
    "ipyplot.plot_images(images_array, img_width=400)"
   ]
  },
  {
   "cell_type": "code",
   "execution_count": null,
   "metadata": {},
   "outputs": [],
   "source": [
    "#display(Image(url= \"idl_plots/dispersion_day/o_beam20170406_180000_to_20170407_000000_dispersion.png\", width = 450))\n",
    "#display(Image(url= \"idl_plots/dispersion_day/o_beam20170817_120000_to_20170817_180000_dispersion.png\", width = 450))\n",
    "images_array = [\n",
    "'idl_plots/dispersion_time_comparison/10/plots/dispersion/o_beam20160107_115257_to_20160107_120721dispersion_fitting.png'\n",
    ",'idl_plots/dispersion_time_comparison/60/plots/dispersion/o_beam20160107_115257_to_20160107_120721dispersion_fitting.png'  \n",
    ",'idl_plots/dispersion_time_comparison/120/plots/dispersion/o_beam20160107_115332_to_20160107_120721dispersion_fitting.png' \n",
    "]\n",
    "\n",
    "ipyplot.plot_images(images_array, img_width=400)"
   ]
  },
  {
   "cell_type": "markdown",
   "metadata": {},
   "source": [
    "* Average with 5 minutes and fit dispersion on original data (10s) or smaller average time is not working because the time range is not correct\n",
    "* For the time range that are correct, the fitting seems better for 2min averaged data\n",
    "* Rerunning  the identification code with 2min average time now"
   ]
  },
  {
   "cell_type": "code",
   "execution_count": null,
   "metadata": {},
   "outputs": [],
   "source": []
  }
 ],
 "metadata": {
  "kernelspec": {
   "display_name": "Python 3",
   "language": "python",
   "name": "python3"
  },
  "language_info": {
   "codemirror_mode": {
    "name": "ipython",
    "version": 3
   },
   "file_extension": ".py",
   "mimetype": "text/x-python",
   "name": "python",
   "nbconvert_exporter": "python",
   "pygments_lexer": "ipython3",
   "version": "3.7.3"
  }
 },
 "nbformat": 4,
 "nbformat_minor": 2
}
