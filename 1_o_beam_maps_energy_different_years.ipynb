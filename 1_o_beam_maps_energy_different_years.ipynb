{
 "cells": [
  {
   "cell_type": "code",
   "execution_count": null,
   "metadata": {},
   "outputs": [],
   "source": [
    "import numpy as np\n",
    "import pandas as pd\n",
    "import ipyplot"
   ]
  },
  {
   "cell_type": "code",
   "execution_count": null,
   "metadata": {},
   "outputs": [],
   "source": [
    "main_plot_path = \"idl_plots/output_5min_multi_subtraction_reduced_removebi_flux0.500.751.00_pap3.02.01.1/\"\n",
    "\n",
    "non_sort_map_path = main_plot_path+\"non_sort_map\"\n",
    "hemi_sort_map_path = main_plot_path+\"hemi_sort_map\"\n",
    "hemi_sort_map_path = main_plot_path+ 'hemi_sort_map'\n",
    "bx_sort_map_path = main_plot_path+ 'bx_sort_map'"
   ]
  },
  {
   "cell_type": "code",
   "execution_count": null,
   "metadata": {},
   "outputs": [],
   "source": [
    "images_array = [\n",
    "      non_sort_map_path+\"/grid_02/any/energy/2d/any__median_energy__20160101_to_20161231_X_GSM_vs_Y_GSM.png\"\n",
    "    , non_sort_map_path+\"/grid_02/any/energy/2d/any__median_energy__20170101_to_20171231_X_GSM_vs_Y_GSM.png\"\n",
    "    , non_sort_map_path+\"/grid_02/any/energy/2d/any__median_energy__20180101_to_20181231_X_GSM_vs_Y_GSM.png\"\n",
    "    , non_sort_map_path+\"/grid_02/any/energy/2d/any__median_energy__20190101_to_20191231_X_GSM_vs_Y_GSM.png\"\n",
    "        , non_sort_map_path+\"/grid_02/any/energy/2d/any__median_energy__20200101_to_20201231_X_GSM_vs_Y_GSM.png\"\n",
    "    , non_sort_map_path+\"/grid_02/any/energy/2d/any__minimum_energy__20160101_to_20161231_X_GSM_vs_Y_GSM.png\"\n",
    "    , non_sort_map_path+\"/grid_02/any/energy/2d/any__minimum_energy__20170101_to_20171231_X_GSM_vs_Y_GSM.png\"\n",
    "    , non_sort_map_path+\"/grid_02/any/energy/2d/any__minimum_energy__20180101_to_20181231_X_GSM_vs_Y_GSM.png\"\n",
    "    , non_sort_map_path+\"/grid_02/any/energy/2d/any__minimum_energy__20190101_to_20191231_X_GSM_vs_Y_GSM.png\"    , non_sort_map_path+\"/grid_02/any/energy/2d/any__minimum_energy__20200101_to_20201231_X_GSM_vs_Y_GSM.png\"\n",
    "\n",
    "   ]\n",
    "\n",
    "ipyplot.plot_images(images_array, img_width=180)"
   ]
  },
  {
   "cell_type": "code",
   "execution_count": null,
   "metadata": {},
   "outputs": [],
   "source": [
    "images_array = [\n",
    "non_sort_map_path+\"/grid_02/Lobe_any/energy/2d/Lobe_any__median_energy__20160101_to_20161231_X_GSM_vs_Y_GSM.png\"\n",
    "    , non_sort_map_path+\"/grid_02/Lobe_any/energy/2d/Lobe_any__median_energy__20170101_to_20171231_X_GSM_vs_Y_GSM.png\"\n",
    "    , non_sort_map_path+\"/grid_02/Lobe_any/energy/2d/Lobe_any__median_energy__20180101_to_20181231_X_GSM_vs_Y_GSM.png\"\n",
    "    , non_sort_map_path+\"/grid_02/Lobe_any/energy/2d/Lobe_any__median_energy__20190101_to_20191231_X_GSM_vs_Y_GSM.png\"\n",
    "        , non_sort_map_path+\"/grid_02/Lobe_any/energy/2d/Lobe_any__median_energy__20200101_to_20201231_X_GSM_vs_Y_GSM.png\"\n",
    "    , non_sort_map_path+\"/grid_02/Lobe_any/energy/2d/Lobe_any__minimum_energy__20160101_to_20161231_X_GSM_vs_Y_GSM.png\"\n",
    "    , non_sort_map_path+\"/grid_02/Lobe_any/energy/2d/Lobe_any__minimum_energy__20170101_to_20171231_X_GSM_vs_Y_GSM.png\"\n",
    "    , non_sort_map_path+\"/grid_02/Lobe_any/energy/2d/Lobe_any__minimum_energy__20180101_to_20181231_X_GSM_vs_Y_GSM.png\"\n",
    "    , non_sort_map_path+\"/grid_02/Lobe_any/energy/2d/Lobe_any__minimum_energy__20190101_to_20191231_X_GSM_vs_Y_GSM.png\"\n",
    "        , non_sort_map_path+\"/grid_02/Lobe_any/energy/2d/Lobe_any__minimum_energy__20200101_to_20201231_X_GSM_vs_Y_GSM.png\"\n",
    "\n",
    "   ]\n",
    "\n",
    "ipyplot.plot_images(images_array, img_width=180)"
   ]
  },
  {
   "cell_type": "code",
   "execution_count": null,
   "metadata": {},
   "outputs": [],
   "source": [
    "images_array = [\n",
    "      non_sort_map_path+\"/grid_02/BL_any/energy/2d/BL_any__median_energy__20160101_to_20161231_X_GSM_vs_Y_GSM.png\"\n",
    "    , non_sort_map_path+\"/grid_02/BL_any/energy/2d/BL_any__median_energy__20170101_to_20171231_X_GSM_vs_Y_GSM.png\"\n",
    "    , non_sort_map_path+\"/grid_02/BL_any/energy/2d/BL_any__median_energy__20180101_to_20181231_X_GSM_vs_Y_GSM.png\"\n",
    "    , non_sort_map_path+\"/grid_02/BL_any/energy/2d/BL_any__median_energy__20190101_to_20191231_X_GSM_vs_Y_GSM.png\"\n",
    "        , non_sort_map_path+\"/grid_02/BL_any/energy/2d/BL_any__median_energy__20200101_to_20201231_X_GSM_vs_Y_GSM.png\"\n",
    "    , non_sort_map_path+\"/grid_02/BL_any/energy/2d/BL_any__minimum_energy__20160101_to_20161231_X_GSM_vs_Y_GSM.png\"\n",
    "    , non_sort_map_path+\"/grid_02/BL_any/energy/2d/BL_any__minimum_energy__20170101_to_20171231_X_GSM_vs_Y_GSM.png\"\n",
    "    , non_sort_map_path+\"/grid_02/BL_any/energy/2d/BL_any__minimum_energy__20180101_to_20181231_X_GSM_vs_Y_GSM.png\"\n",
    "    , non_sort_map_path+\"/grid_02/BL_any/energy/2d/BL_any__minimum_energy__20190101_to_20191231_X_GSM_vs_Y_GSM.png\"\n",
    "        , non_sort_map_path+\"/grid_02/BL_any/energy/2d/BL_any__minimum_energy__20200101_to_20201231_X_GSM_vs_Y_GSM.png\"\n",
    "\n",
    "   ]\n",
    "\n",
    "ipyplot.plot_images(images_array, img_width=180)"
   ]
  },
  {
   "cell_type": "code",
   "execution_count": null,
   "metadata": {},
   "outputs": [],
   "source": [
    "images_array = [\n",
    "      non_sort_map_path+\"/grid_02/PS_any/energy/2d/PS_any__median_energy__20160101_to_20161231_X_GSM_vs_Y_GSM.png\"\n",
    "    , non_sort_map_path+\"/grid_02/PS_any/energy/2d/PS_any__median_energy__20170101_to_20171231_X_GSM_vs_Y_GSM.png\"\n",
    "    , non_sort_map_path+\"/grid_02/PS_any/energy/2d/PS_any__median_energy__20180101_to_20181231_X_GSM_vs_Y_GSM.png\"\n",
    "    , non_sort_map_path+\"/grid_02/PS_any/energy/2d/PS_any__median_energy__20190101_to_20191231_X_GSM_vs_Y_GSM.png\"\n",
    "        , non_sort_map_path+\"/grid_02/PS_any/energy/2d/PS_any__median_energy__20200101_to_20201231_X_GSM_vs_Y_GSM.png\"\n",
    "    , non_sort_map_path+\"/grid_02/PS_any/energy/2d/PS_any__minimum_energy__20160101_to_20161231_X_GSM_vs_Y_GSM.png\"\n",
    "    , non_sort_map_path+\"/grid_02/PS_any/energy/2d/PS_any__minimum_energy__20170101_to_20171231_X_GSM_vs_Y_GSM.png\"\n",
    "    , non_sort_map_path+\"/grid_02/PS_any/energy/2d/PS_any__minimum_energy__20180101_to_20181231_X_GSM_vs_Y_GSM.png\"\n",
    "    , non_sort_map_path+\"/grid_02/PS_any/energy/2d/PS_any__minimum_energy__20190101_to_20191231_X_GSM_vs_Y_GSM.png\"\n",
    "        , non_sort_map_path+\"/grid_02/PS_any/energy/2d/PS_any__minimum_energy__20200101_to_20201231_X_GSM_vs_Y_GSM.png\"\n",
    "\n",
    "   ]\n",
    "\n",
    "ipyplot.plot_images(images_array, img_width=180)"
   ]
  },
  {
   "cell_type": "code",
   "execution_count": null,
   "metadata": {},
   "outputs": [],
   "source": [
    "images_array = [\n",
    "        hemi_sort_map_path+\"/hemi_south/grid_02/south_Lobe_any/energy/2d/south_Lobe_any__median_energy__20160101_to_20161231_X_GSM_vs_Y_GSM.png\"\n",
    "        ,   hemi_sort_map_path+\"/hemi_south/grid_02/south_Lobe_any/energy/2d/south_Lobe_any__median_energy__20170101_to_20171231_X_GSM_vs_Y_GSM.png\"\n",
    "    ,   hemi_sort_map_path+\"/hemi_south/grid_02/south_Lobe_any/energy/2d/south_Lobe_any__median_energy__20180101_to_20181231_X_GSM_vs_Y_GSM.png\"\n",
    "    ,   hemi_sort_map_path+\"/hemi_south/grid_02/south_Lobe_any/energy/2d/south_Lobe_any__median_energy__20190101_to_20191231_X_GSM_vs_Y_GSM.png\"\n",
    "    ,   hemi_sort_map_path+\"/hemi_south/grid_02/south_Lobe_any/energy/2d/south_Lobe_any__median_energy__20200101_to_20201231_X_GSM_vs_Y_GSM.png\"\n",
    "    ,   hemi_sort_map_path+\"/hemi_north/grid_02/north_Lobe_any/energy/2d/north_Lobe_any__median_energy__20160101_to_20161231_X_GSM_vs_Y_GSM.png\"\n",
    "        ,   hemi_sort_map_path+\"/hemi_north/grid_02/north_Lobe_any/energy/2d/north_Lobe_any__median_energy__20170101_to_20171231_X_GSM_vs_Y_GSM.png\"\n",
    "    ,   hemi_sort_map_path+\"/hemi_north/grid_02/north_Lobe_any/energy/2d/north_Lobe_any__median_energy__20180101_to_20181231_X_GSM_vs_Y_GSM.png\"\n",
    "    ,   hemi_sort_map_path+\"/hemi_north/grid_02/north_Lobe_any/energy/2d/north_Lobe_any__median_energy__20190101_to_20191231_X_GSM_vs_Y_GSM.png\"\n",
    "        ,   hemi_sort_map_path+\"/hemi_north/grid_02/north_Lobe_any/energy/2d/north_Lobe_any__median_energy__20200101_to_20201231_X_GSM_vs_Y_GSM.png\"\n",
    "\n",
    "    ,   hemi_sort_map_path+\"/hemi_south/grid_02/south_BL_any/energy/2d/south_BL_any__median_energy__20160101_to_20161231_X_GSM_vs_Y_GSM.png\"\n",
    "        ,   hemi_sort_map_path+\"/hemi_south/grid_02/south_BL_any/energy/2d/south_BL_any__median_energy__20170101_to_20171231_X_GSM_vs_Y_GSM.png\"\n",
    "    ,   hemi_sort_map_path+\"/hemi_south/grid_02/south_BL_any/energy/2d/south_BL_any__median_energy__20180101_to_20181231_X_GSM_vs_Y_GSM.png\"\n",
    "    ,   hemi_sort_map_path+\"/hemi_south/grid_02/south_BL_any/energy/2d/south_BL_any__median_energy__20190101_to_20191231_X_GSM_vs_Y_GSM.png\"\n",
    "    ,   hemi_sort_map_path+\"/hemi_south/grid_02/south_BL_any/energy/2d/south_BL_any__median_energy__20200101_to_20201231_X_GSM_vs_Y_GSM.png\"\n",
    "    ,   hemi_sort_map_path+\"/hemi_north/grid_02/north_BL_any/energy/2d/north_BL_any__median_energy__20160101_to_20161231_X_GSM_vs_Y_GSM.png\"\n",
    "    ,   hemi_sort_map_path+\"/hemi_north/grid_02/north_BL_any/energy/2d/north_BL_any__median_energy__20170101_to_20171231_X_GSM_vs_Y_GSM.png\"\n",
    "    ,   hemi_sort_map_path+\"/hemi_north/grid_02/north_BL_any/energy/2d/north_BL_any__median_energy__20180101_to_20181231_X_GSM_vs_Y_GSM.png\"\n",
    "    ,   hemi_sort_map_path+\"/hemi_north/grid_02/north_BL_any/energy/2d/north_BL_any__median_energy__20190101_to_20191231_X_GSM_vs_Y_GSM.png\"\n",
    "    ,   hemi_sort_map_path+\"/hemi_north/grid_02/north_BL_any/energy/2d/north_BL_any__median_energy__20200101_to_20201231_X_GSM_vs_Y_GSM.png\"\n",
    "    \n",
    "      ,   hemi_sort_map_path+\"/hemi_south/grid_02/south_PS_any/energy/2d/south_PS_any__median_energy__20160101_to_20161231_X_GSM_vs_Y_GSM.png\"\n",
    "        ,   hemi_sort_map_path+\"/hemi_south/grid_02/south_PS_any/energy/2d/south_PS_any__median_energy__20170101_to_20171231_X_GSM_vs_Y_GSM.png\"\n",
    "    ,   hemi_sort_map_path+\"/hemi_south/grid_02/south_PS_any/energy/2d/south_PS_any__median_energy__20180101_to_20181231_X_GSM_vs_Y_GSM.png\"\n",
    "    ,   hemi_sort_map_path+\"/hemi_south/grid_02/south_PS_any/energy/2d/south_PS_any__median_energy__20190101_to_20191231_X_GSM_vs_Y_GSM.png\"\n",
    "    ,   hemi_sort_map_path+\"/hemi_south/grid_02/south_PS_any/energy/2d/south_PS_any__median_energy__20200101_to_20201231_X_GSM_vs_Y_GSM.png\"\n",
    "    ,   hemi_sort_map_path+\"/hemi_north/grid_02/north_PS_any/energy/2d/north_PS_any__median_energy__20160101_to_20161231_X_GSM_vs_Y_GSM.png\"\n",
    "    ,   hemi_sort_map_path+\"/hemi_north/grid_02/north_PS_any/energy/2d/north_PS_any__median_energy__20170101_to_20171231_X_GSM_vs_Y_GSM.png\"\n",
    "    ,   hemi_sort_map_path+\"/hemi_north/grid_02/north_PS_any/energy/2d/north_PS_any__median_energy__20180101_to_20181231_X_GSM_vs_Y_GSM.png\"\n",
    "    ,   hemi_sort_map_path+\"/hemi_north/grid_02/north_PS_any/energy/2d/north_PS_any__median_energy__20190101_to_20191231_X_GSM_vs_Y_GSM.png\"\n",
    "    ,   hemi_sort_map_path+\"/hemi_north/grid_02/north_PS_any/energy/2d/north_PS_any__median_energy__20200101_to_20201231_X_GSM_vs_Y_GSM.png\"\n",
    "]\n",
    "\n",
    "ipyplot.plot_images(images_array, img_width=180)\n"
   ]
  },
  {
   "cell_type": "code",
   "execution_count": null,
   "metadata": {},
   "outputs": [],
   "source": [
    "images_array = [\n",
    "        hemi_sort_map_path+\"/hemi_south/grid_02/south_Lobe_any/energy/2d/south_Lobe_any__minimum_energy__20160101_to_20161231_X_GSM_vs_Y_GSM.png\"\n",
    "        ,   hemi_sort_map_path+\"/hemi_south/grid_02/south_Lobe_any/energy/2d/south_Lobe_any__minimum_energy__20170101_to_20171231_X_GSM_vs_Y_GSM.png\"\n",
    "    ,   hemi_sort_map_path+\"/hemi_south/grid_02/south_Lobe_any/energy/2d/south_Lobe_any__minimum_energy__20180101_to_20181231_X_GSM_vs_Y_GSM.png\"\n",
    "    ,   hemi_sort_map_path+\"/hemi_south/grid_02/south_Lobe_any/energy/2d/south_Lobe_any__minimum_energy__20190101_to_20191231_X_GSM_vs_Y_GSM.png\"\n",
    "    ,   hemi_sort_map_path+\"/hemi_south/grid_02/south_Lobe_any/energy/2d/south_Lobe_any__minimum_energy__20200101_to_20201231_X_GSM_vs_Y_GSM.png\"\n",
    "    ,   hemi_sort_map_path+\"/hemi_north/grid_02/north_Lobe_any/energy/2d/north_Lobe_any__minimum_energy__20160101_to_20161231_X_GSM_vs_Y_GSM.png\"\n",
    "        ,   hemi_sort_map_path+\"/hemi_north/grid_02/north_Lobe_any/energy/2d/north_Lobe_any__minimum_energy__20170101_to_20171231_X_GSM_vs_Y_GSM.png\"\n",
    "    ,   hemi_sort_map_path+\"/hemi_north/grid_02/north_Lobe_any/energy/2d/north_Lobe_any__minimum_energy__20180101_to_20181231_X_GSM_vs_Y_GSM.png\"\n",
    "    ,   hemi_sort_map_path+\"/hemi_north/grid_02/north_Lobe_any/energy/2d/north_Lobe_any__minimum_energy__20190101_to_20191231_X_GSM_vs_Y_GSM.png\"\n",
    "        ,   hemi_sort_map_path+\"/hemi_north/grid_02/north_Lobe_any/energy/2d/north_Lobe_any__minimum_energy__20200101_to_20201231_X_GSM_vs_Y_GSM.png\"\n",
    "\n",
    "    ,   hemi_sort_map_path+\"/hemi_south/grid_02/south_BL_any/energy/2d/south_BL_any__minimum_energy__20160101_to_20161231_X_GSM_vs_Y_GSM.png\"\n",
    "        ,   hemi_sort_map_path+\"/hemi_south/grid_02/south_BL_any/energy/2d/south_BL_any__minimum_energy__20170101_to_20171231_X_GSM_vs_Y_GSM.png\"\n",
    "    ,   hemi_sort_map_path+\"/hemi_south/grid_02/south_BL_any/energy/2d/south_BL_any__minimum_energy__20180101_to_20181231_X_GSM_vs_Y_GSM.png\"\n",
    "    ,   hemi_sort_map_path+\"/hemi_south/grid_02/south_BL_any/energy/2d/south_BL_any__minimum_energy__20190101_to_20191231_X_GSM_vs_Y_GSM.png\"\n",
    "    ,   hemi_sort_map_path+\"/hemi_south/grid_02/south_BL_any/energy/2d/south_BL_any__minimum_energy__20200101_to_20201231_X_GSM_vs_Y_GSM.png\"\n",
    "    ,   hemi_sort_map_path+\"/hemi_north/grid_02/north_BL_any/energy/2d/north_BL_any__minimum_energy__20160101_to_20161231_X_GSM_vs_Y_GSM.png\"\n",
    "    ,   hemi_sort_map_path+\"/hemi_north/grid_02/north_BL_any/energy/2d/north_BL_any__minimum_energy__20170101_to_20171231_X_GSM_vs_Y_GSM.png\"\n",
    "    ,   hemi_sort_map_path+\"/hemi_north/grid_02/north_BL_any/energy/2d/north_BL_any__minimum_energy__20180101_to_20181231_X_GSM_vs_Y_GSM.png\"\n",
    "    ,   hemi_sort_map_path+\"/hemi_north/grid_02/north_BL_any/energy/2d/north_BL_any__minimum_energy__20190101_to_20191231_X_GSM_vs_Y_GSM.png\"\n",
    "    ,   hemi_sort_map_path+\"/hemi_north/grid_02/north_BL_any/energy/2d/north_BL_any__minimum_energy__20200101_to_20201231_X_GSM_vs_Y_GSM.png\"\n",
    "    \n",
    "      ,   hemi_sort_map_path+\"/hemi_south/grid_02/south_PS_any/energy/2d/south_PS_any__minimum_energy__20160101_to_20161231_X_GSM_vs_Y_GSM.png\"\n",
    "        ,   hemi_sort_map_path+\"/hemi_south/grid_02/south_PS_any/energy/2d/south_PS_any__minimum_energy__20170101_to_20171231_X_GSM_vs_Y_GSM.png\"\n",
    "    ,   hemi_sort_map_path+\"/hemi_south/grid_02/south_PS_any/energy/2d/south_PS_any__minimum_energy__20180101_to_20181231_X_GSM_vs_Y_GSM.png\"\n",
    "    ,   hemi_sort_map_path+\"/hemi_south/grid_02/south_PS_any/energy/2d/south_PS_any__minimum_energy__20190101_to_20191231_X_GSM_vs_Y_GSM.png\"\n",
    "    ,   hemi_sort_map_path+\"/hemi_south/grid_02/south_PS_any/energy/2d/south_PS_any__minimum_energy__20200101_to_20201231_X_GSM_vs_Y_GSM.png\"\n",
    "    ,   hemi_sort_map_path+\"/hemi_north/grid_02/north_PS_any/energy/2d/north_PS_any__minimum_energy__20160101_to_20161231_X_GSM_vs_Y_GSM.png\"\n",
    "    ,   hemi_sort_map_path+\"/hemi_north/grid_02/north_PS_any/energy/2d/north_PS_any__minimum_energy__20170101_to_20171231_X_GSM_vs_Y_GSM.png\"\n",
    "    ,   hemi_sort_map_path+\"/hemi_north/grid_02/north_PS_any/energy/2d/north_PS_any__minimum_energy__20180101_to_20181231_X_GSM_vs_Y_GSM.png\"\n",
    "    ,   hemi_sort_map_path+\"/hemi_north/grid_02/north_PS_any/energy/2d/north_PS_any__minimum_energy__20190101_to_20191231_X_GSM_vs_Y_GSM.png\"\n",
    "    ,   hemi_sort_map_path+\"/hemi_north/grid_02/north_PS_any/energy/2d/north_PS_any__minimum_energy__20200101_to_20201231_X_GSM_vs_Y_GSM.png\"\n",
    "]\n",
    "\n",
    "ipyplot.plot_images(images_array, img_width=180)\n"
   ]
  },
  {
   "cell_type": "markdown",
   "metadata": {},
   "source": [
    "# Orbits for different years"
   ]
  },
  {
   "cell_type": "code",
   "execution_count": null,
   "metadata": {
    "scrolled": false
   },
   "outputs": [],
   "source": [
    "images_array = [\n",
    "      non_sort_map_path+\"/grid_02/any/events/footage/any__sampling_20160101_to_20161231_X_GSM_vs_Z_GSM.png\"\n",
    "      , non_sort_map_path+\"/grid_02/any/events/footage/any__sampling_20170101_to_20171231_X_GSM_vs_Z_GSM.png\"\n",
    "     , non_sort_map_path+\"/grid_02/any/events/footage/any__sampling_20180101_to_20181231_X_GSM_vs_Z_GSM.png\"\n",
    "    , non_sort_map_path+\"/grid_02/any/events/footage/any__sampling_20190101_to_20191231_X_GSM_vs_Z_GSM.png\"\n",
    "    , non_sort_map_path+\"/grid_02/any/events/footage/any__sampling_20200101_to_20201231_X_GSM_vs_Z_GSM.png\"\n",
    "\n",
    "    , non_sort_map_path+\"/grid_02/any/events/footage/any__sampling_20160101_to_20161231_Y_GSM_vs_Z_GSM.png\"\n",
    "      , non_sort_map_path+\"/grid_02/any/events/footage/any__sampling_20170101_to_20171231_Y_GSM_vs_Z_GSM.png\"\n",
    "     , non_sort_map_path+\"/grid_02/any/events/footage/any__sampling_20180101_to_20181231_Y_GSM_vs_Z_GSM.png\"\n",
    "    , non_sort_map_path+\"/grid_02/any/events/footage/any__sampling_20190101_to_20191231_Y_GSM_vs_Z_GSM.png\"\n",
    "        , non_sort_map_path+\"/grid_02/any/events/footage/any__sampling_20200101_to_20201231_Y_GSM_vs_Z_GSM.png\"\n",
    "\n",
    " , non_sort_map_path+\"/grid_02/any/events/footage/any__sampling_20160101_to_20161231_X_GSM_vs_Y_GSM.png\"\n",
    "    , non_sort_map_path+\"/grid_02/any/events/footage/any__sampling_20170101_to_20171231_X_GSM_vs_Y_GSM.png\"\n",
    "    , non_sort_map_path+\"/grid_02/any/events/footage/any__sampling_20180101_to_20181231_X_GSM_vs_Y_GSM.png\"\n",
    "    , non_sort_map_path+\"/grid_02/any/events/footage/any__sampling_20190101_to_20191231_X_GSM_vs_Y_GSM.png\"\n",
    "        , non_sort_map_path+\"/grid_02/any/events/footage/any__sampling_20200101_to_20201231_X_GSM_vs_Y_GSM.png\"\n",
    "\n",
    "   ]\n",
    "\n",
    "ipyplot.plot_images(images_array, img_width=180)"
   ]
  }
 ],
 "metadata": {
  "kernelspec": {
   "display_name": "Python 3",
   "language": "python",
   "name": "python3"
  },
  "language_info": {
   "codemirror_mode": {
    "name": "ipython",
    "version": 3
   },
   "file_extension": ".py",
   "mimetype": "text/x-python",
   "name": "python",
   "nbconvert_exporter": "python",
   "pygments_lexer": "ipython3",
   "version": "3.7.3"
  }
 },
 "nbformat": 4,
 "nbformat_minor": 2
}
