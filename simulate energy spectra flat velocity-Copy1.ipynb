{
 "cells": [
  {
   "cell_type": "code",
   "execution_count": 1,
   "metadata": {},
   "outputs": [],
   "source": [
    "import numpy as np\n",
    "import pandas as pd\n",
    "import math\n",
    "import plotly.express as px\n",
    "import statistics\n",
    "import itertools as it\n",
    "from functions import mms_enspectra_simulation_functions\n",
    "import plotly.graph_objects as go\n",
    "from sklearn.linear_model import LinearRegression\n",
    "import statsmodels.formula.api as sm\n",
    "from plotly import subplots\n",
    "import random\n",
    "from functions import data_preprocess_functions\n",
    "import glob\n",
    "import ipyplot\n",
    "\n",
    "#import pytplot"
   ]
  },
  {
   "cell_type": "code",
   "execution_count": 2,
   "metadata": {},
   "outputs": [],
   "source": [
    "regr = LinearRegression()\n",
    "goodness_of_fit_threshold = 0.6\n",
    "model = \"t89\"\n",
    "radius_earth = 6378.14 #km\n",
    "\n",
    "data_filename = 'data/fulldata_20160101_to_20171231.csv'\n",
    "dispersion_filename = 'output/dispersion_list.csv'\n",
    "dispersion_m_filename = 'data/dispersion list - mms.csv'\n",
    "dispersion_merged_filename = 'output/merged_list.csv'"
   ]
  },
  {
   "cell_type": "code",
   "execution_count": 3,
   "metadata": {},
   "outputs": [],
   "source": [
    "data = data_preprocess_functions.preprocess_data(pd.read_csv(data_filename))\n",
    "data = data.loc[data['N_DISPERSION_PARA'].notnull() | data['N_DISPERSION_ANTI'].notnull(),:]\n",
    "data['fit_error'] = data['DIS_FITTING_SIGMA_PARA']*radius_earth\n",
    "\n",
    "dispersion_list = data_preprocess_functions.extract_dispersions(data)\n",
    "dispersion_list_m = pd.read_csv(dispersion_m_filename)\n",
    "dispersion_list_m_merged = pd.read_csv(dispersion_merged_filename)\n",
    "\n",
    "dispersion_tplot_list = glob.glob(\"idl_plots/dispersion_day/*.png\")\n",
    "dispersion_fitting_plot_list = glob.glob(\"idl_plots/dispersion/*.png\")\n",
    "\n",
    "ensize = len(mms_enspectra_simulation_functions.MMS_ENERGY_BIN)\n"
   ]
  },
  {
   "cell_type": "code",
   "execution_count": 4,
   "metadata": {},
   "outputs": [
    {
     "ename": "NameError",
     "evalue": "name 'dispersion_list_merged' is not defined",
     "output_type": "error",
     "traceback": [
      "\u001b[0;31m---------------------------------------------------------------------------\u001b[0m",
      "\u001b[0;31mNameError\u001b[0m                                 Traceback (most recent call last)",
      "\u001b[0;32m<ipython-input-4-a0094187d8b5>\u001b[0m in \u001b[0;36m<module>\u001b[0;34m\u001b[0m\n\u001b[1;32m      2\u001b[0m \u001b[0;31m# dist_set = [5, 8.69, 10, 11.57, 16.85, 20, 35, 50, 65]\u001b[0m\u001b[0;34m\u001b[0m\u001b[0;34m\u001b[0m\u001b[0;34m\u001b[0m\u001b[0m\n\u001b[1;32m      3\u001b[0m \u001b[0;34m\u001b[0m\u001b[0m\n\u001b[0;32m----> 4\u001b[0;31m dist_set = round(dispersion_list_m_merged.loc[~np.isnan(dispersion_list_merged['model_field_line_length_idl'])\n\u001b[0m\u001b[1;32m      5\u001b[0m                                             , 'model_field_line_length_idl'].sort_values(),2)\n",
      "\u001b[0;31mNameError\u001b[0m: name 'dispersion_list_merged' is not defined"
     ]
    }
   ],
   "source": [
    "# grid distant samples:\n",
    "# dist_set = [5, 8.69, 10, 11.57, 16.85, 20, 35, 50, 65]\n",
    "\n",
    "dist_set = round(dispersion_list_m_merged.loc[~np.isnan(dispersion_list_merged['model_field_line_length_idl'])\n",
    "                                            , 'model_field_line_length_idl'].sort_values(),2)"
   ]
  },
  {
   "cell_type": "code",
   "execution_count": null,
   "metadata": {},
   "outputs": [],
   "source": [
    "dsize = len(dist_set)"
   ]
  },
  {
   "cell_type": "code",
   "execution_count": null,
   "metadata": {},
   "outputs": [],
   "source": [
    "#vsize = 682\n",
    "#vel_set = np.arange(vsize)+10\n",
    "\n",
    "random.seed(42)\n",
    "vel_set = []\n",
    "for i in range(1000):\n",
    "    vel_set.append(random.betavariate(2, 3)*687 + 10)\n",
    "vel_set.sort()\n",
    "px.histogram(vel_set)"
   ]
  },
  {
   "cell_type": "code",
   "execution_count": null,
   "metadata": {},
   "outputs": [],
   "source": [
    "result = pd.DataFrame(np.array(np.meshgrid(vel_set, dist_set)).T.reshape(-1,2),columns=[\"velocity\",\"distance_Re\"])\n",
    "\n",
    "result['distance'] = result['distance_Re'].apply(mms_enspectra_simulation_functions.convert_Re_to_km)\n",
    "result['energy'] = result['velocity'].apply(mms_enspectra_simulation_functions.calcualte_energy_from_velocity)\n",
    "result['time'] = result['distance'] / result['velocity'] / 60.\n",
    "result['energy_binned'] = mms_enspectra_simulation_functions.find_energy_bin_df(result['energy'])"
   ]
  },
  {
   "cell_type": "code",
   "execution_count": null,
   "metadata": {
    "scrolled": false
   },
   "outputs": [],
   "source": [
    "fig = px.line(result, x=\"time\", y=\"energy_binned\", color='distance_Re', log_y=True)\n",
    "fig.update_xaxes(dtick=5)\n",
    "fig.show()"
   ]
  },
  {
   "cell_type": "code",
   "execution_count": null,
   "metadata": {},
   "outputs": [],
   "source": [
    "target_distances = [8.61]\n",
    "for target_distance in target_distances:\n",
    "    index = result['distance_Re'] == target_distance\n",
    "    \n",
    "    fig = px.scatter(result.loc[index,:], x=\"time\", y=\"energy_binned\", log_y=True\n",
    "                     , title= str(target_distance)+' Re')\n",
    "    fig.update_xaxes(dtick=5)\n",
    "    fig.show()"
   ]
  },
  {
   "cell_type": "code",
   "execution_count": null,
   "metadata": {},
   "outputs": [],
   "source": [
    "toplot = dispersion_list_m_merged.loc[dispersion_list_m_merged['Full list Index'].notnull(),:]\n",
    "for i in [0]:\n",
    "    display_array = []\n",
    "    i_toplot = toplot.loc[i,:]\n",
    "    match_date = lambda x: (i_toplot['date'][0:4]+i_toplot['date'][5:7]+i_toplot['date'][8:10]) in x\n",
    "    match_list1 = list(map(match_date, dispersion_tplot_list))\n",
    "    if match_list1.count(True) > 0:\n",
    "        index1 = match_list1.index(True)\n",
    "        i_tplot1 = dispersion_tplot_list[index1]\n",
    "        display_array.append(i_tplot1)\n",
    "\n",
    "    match_list2 = list(map(match_date, dispersion_fitting_plot_list))\n",
    "    if match_list2.count(True) > 0:\n",
    "        index2 = match_list2.index(True)\n",
    "        i_tplot2 = dispersion_fitting_plot_list[index2]\n",
    "        display_array.append(i_tplot2)\n",
    "\n",
    "    ipyplot.plot_images(display_array, img_width=370)\n",
    "\n",
    "# display(Image(url = display_array[0]))"
   ]
  },
  {
   "cell_type": "code",
   "execution_count": null,
   "metadata": {},
   "outputs": [],
   "source": [
    "target_distances = [8.61]\n",
    "avg_time = 5. \n",
    "\n",
    "for target_distance in target_distances:\n",
    "    energy_spectra = mms_enspectra_simulation_functions.calculate_energy_spectra(result, target_distance, avg_time)\n",
    "\n",
    "    fig = px.scatter(energy_spectra, x=\"time\", y=\"energy_binned\", color = 'flux', log_y=True\n",
    "                     , title = 'distance: ' + str(target_distance) + ' Re, ' \n",
    "                     + '   average time: ' + str(avg_time) + ' min')\n",
    "    fig.update_xaxes(dtick=avg_time)\n",
    "    fig.show()\n"
   ]
  },
  {
   "cell_type": "code",
   "execution_count": null,
   "metadata": {},
   "outputs": [],
   "source": [
    "target_distances = [8.61]\n",
    "avg_time = 5. \n",
    "\n",
    "for target_distance in target_distances:\n",
    "    energy_spectra = mms_enspectra_simulation_functions.calculate_energy_spectra(result, target_distance, avg_time)\n",
    "    beam = mms_enspectra_simulation_functions.identify_beam(energy_spectra)\n",
    "    fig = px.scatter(energy_spectra, x=\"time\", y=\"energy_binned\", color = 'flux', log_y=True\n",
    "                     , title = 'distance: ' + str(target_distance) + ' Re, ' \n",
    "                     + '   average time: ' + str(avg_time) + ' min')\n",
    "\n",
    "    reference_line = go.Scatter(x = list(beam['time']), y = list(beam['energy_binned'])\n",
    "                    , mode = \"lines\", line = go.scatter.Line(color=\"gray\"), showlegend=False)\n",
    "\n",
    "    fig.add_trace(reference_line)\n",
    "\n",
    "    fig.update_xaxes(dtick=avg_time)\n",
    "    fig.show()"
   ]
  },
  {
   "cell_type": "code",
   "execution_count": null,
   "metadata": {
    "scrolled": false
   },
   "outputs": [],
   "source": [
    "target_distances = [8.61]\n",
    "avg_time = 5. \n",
    "\n",
    "for target_distance in target_distances:\n",
    "    energy_spectra = mms_enspectra_simulation_functions.calculate_energy_spectra(result, target_distance, avg_time)\n",
    "    beam = mms_enspectra_simulation_functions.identify_beam(energy_spectra)\n",
    "    dispersion = mms_enspectra_simulation_functions.identify_dispersion(beam)\n",
    "\n",
    "    fig = px.scatter(energy_spectra, x=\"time\", y=\"energy_binned\", color = 'flux', log_y=True\n",
    "                     , title = 'distance: ' + str(target_distance) + ' Re, ' \n",
    "                     + '   average time: ' + str(avg_time) + ' min')\n",
    "\n",
    "    reference_line1 = go.Scatter(x = list(beam['time']), y = list(beam['energy_binned'])\n",
    "                            , mode = \"lines\", line = go.scatter.Line(color=\"gray\"), showlegend=False)\n",
    "\n",
    "    reference_line2 = go.Scatter(x = list(dispersion['time']), y = list(dispersion['energy_binned'])\n",
    "                            , mode = \"lines\", line = go.scatter.Line(color=\"red\"), showlegend=False)    \n",
    "\n",
    "    fig.add_trace(reference_line1)\n",
    "    fig.add_trace(reference_line2)\n",
    "\n",
    "    fig.update_xaxes(dtick=avg_time)\n",
    "    fig.show()\n",
    "            "
   ]
  },
  {
   "cell_type": "code",
   "execution_count": null,
   "metadata": {},
   "outputs": [],
   "source": [
    "data.columns"
   ]
  },
  {
   "cell_type": "code",
   "execution_count": null,
   "metadata": {},
   "outputs": [],
   "source": [
    "dispersion_list_m_merged "
   ]
  },
  {
   "cell_type": "code",
   "execution_count": null,
   "metadata": {},
   "outputs": [],
   "source": [
    "target_distances = [8.61]\n",
    "avg_time = 5. \n",
    "\n",
    "for target_distance in target_distances:\n",
    "    energy_spectra = mms_enspectra_simulation_functions.calculate_energy_spectra(result, target_distance, avg_time)\n",
    "    beam = mms_enspectra_simulation_functions.identify_beam(energy_spectra)\n",
    "    dispersion = mms_enspectra_simulation_functions.identify_dispersion(beam)\n",
    "    mydata = data[]\n",
    "    \n",
    "    \n",
    "    fig = px.scatter(energy_spectra, x=\"time\", y=\"energy_binned\", color = 'flux', log_y=True\n",
    "                     , title = 'distance: ' + str(target_distance) + ' Re, ' \n",
    "                     + '   average time: ' + str(avg_time) + ' min')\n",
    "\n",
    "    reference_line1 = go.Scatter(x = list(beam['time']), y = list(beam['energy_binned'])\n",
    "                            , mode = \"lines\", line = go.scatter.Line(color=\"gray\"), showlegend=False)\n",
    "\n",
    "    reference_line2 = go.Scatter(x = list(dispersion['time']), y = list(dispersion['energy_binned'])\n",
    "                            , mode = \"lines\", line = go.scatter.Line(color=\"red\"), showlegend=False)    \n",
    "\n",
    "    fig.add_trace(reference_line1)\n",
    "    fig.add_trace(reference_line2)\n",
    "\n",
    "    fig.update_xaxes(dtick=avg_time)\n",
    "    fig.show()\n",
    "            "
   ]
  },
  {
   "cell_type": "code",
   "execution_count": null,
   "metadata": {},
   "outputs": [],
   "source": [
    "toplot = dispersion_list_m_merged.loc[dispersion_list_m_merged['Full list Index'].notnull(),:]\n",
    "for i in [0]:\n",
    "    display_array = []\n",
    "    i_toplot = toplot.loc[i,:]\n",
    "    match_date = lambda x: (i_toplot['date'][0:4]+i_toplot['date'][5:7]+i_toplot['date'][8:10]) in x\n",
    "    match_list1 = list(map(match_date, dispersion_tplot_list))\n",
    "    if match_list1.count(True) > 0:\n",
    "        index1 = match_list1.index(True)\n",
    "        i_tplot1 = dispersion_tplot_list[index1]\n",
    "        display_array.append(i_tplot1)\n",
    "\n",
    "    match_list2 = list(map(match_date, dispersion_fitting_plot_list))\n",
    "    if match_list2.count(True) > 0:\n",
    "        index2 = match_list2.index(True)\n",
    "        i_tplot2 = dispersion_fitting_plot_list[index2]\n",
    "        display_array.append(i_tplot2)\n",
    "\n",
    "    ipyplot.plot_images(display_array, img_width=370)\n",
    "\n",
    "# display(Image(url = display_array[0]))"
   ]
  },
  {
   "cell_type": "code",
   "execution_count": null,
   "metadata": {
    "scrolled": false
   },
   "outputs": [],
   "source": [
    "target_distances = dist_set\n",
    "avg_time = 5. \n",
    "dispersion_list = pd.DataFrame()\n",
    "\n",
    "for target_distance in target_distances:\n",
    "    energy_spectra = mms_enspectra_simulation_functions.calculate_energy_spectra(result, target_distance, avg_time)\n",
    "    beam = mms_enspectra_simulation_functions.identify_beam(energy_spectra)\n",
    "    dispersion = mms_enspectra_simulation_functions.identify_dispersion(beam)\n",
    "    \n",
    "    fig1 = px.scatter(energy_spectra, x=\"time\", y=\"energy_binned\", color = 'flux', log_y=True\n",
    "                     , title = 'distance: ' + str(target_distance) + ' Re, ' \n",
    "                     + '   average time: ' + str(avg_time) + ' min')\n",
    "    \n",
    "    reference_line1 = go.Scatter(x = list(beam['time']), y = list(beam['energy_binned'])\n",
    "                            , mode = \"lines\", line = go.scatter.Line(color=\"gray\"), showlegend=False)\n",
    "\n",
    "    reference_line2 = go.Scatter(x = list(dispersion['time']), y = list(dispersion['energy_binned'])\n",
    "                            , mode = \"lines\", line = go.scatter.Line(color=\"red\"), showlegend=False)    \n",
    "\n",
    "    fig1.add_trace(reference_line1)\n",
    "    fig1.add_trace(reference_line2)\n",
    "    \n",
    "    fig1.update_xaxes(dtick=avg_time)\n",
    "    fig1.show()\n",
    "       \n",
    "    for idispersion in (np.unique(dispersion.loc[~np.isnan(dispersion['ndisperison']),'ndisperison'])):\n",
    "        index = dispersion['ndisperison'] == idispersion\n",
    "\n",
    "        x = np.array(dispersion.loc[index, 'time']*60).reshape(-1)\n",
    "        y = np.array(dispersion.loc[index, 'inverse_v']).reshape(-1)\n",
    "        ws = pd.DataFrame({'x': x, 'y': y})\n",
    "        y_err = dispersion.loc[index, 'd_inverse_v']\n",
    "        weights = pd.Series(y_err)\n",
    "\n",
    "        wls_fit = sm.wls('y ~ x', data=ws, weights=1/weights).fit()\n",
    "        ols_fit = sm.ols('y ~ x', data=ws).fit()\n",
    "\n",
    "        dispersion.loc[index, 'estimated_distance'] = 1/wls_fit.params.x/6731.\n",
    "        dispersion.loc[index, 'distance'] = target_distance\n",
    "\n",
    "        fig2 = px.scatter(x = x, y = y, error_y= y_err\n",
    "                         ,title = 'distance: ' + str(target_distance) + ' Re, ' + '   average time: ' \n",
    "                         + str(avg_time) + ' min, estimated distance: ' + str(round(1/wls_fit.params.x/6731., 2))\n",
    "                          + \", r adjusted: \"+str(round(ols_fit.rsquared_adj,2))\n",
    "                         , labels=dict(x=\"time\", y='1 / v'))\n",
    "        \n",
    "        reference_line1 = go.Scatter(x = x, y = ols_fit.predict(),  mode = \"lines\"\n",
    "                                     , line = go.scatter.Line(color=\"grey\"), showlegend=True,name='linear fit')\n",
    "        reference_line2 = go.Scatter(x = x, y = wls_fit.predict(), mode = \"lines\"\n",
    "                                     , line = go.scatter.Line(color=\"red\"), showlegend=True, name='weighted linear fit')\n",
    "\n",
    "        fig2.add_trace(reference_line1)\n",
    "        fig2.add_trace(reference_line2)\n",
    "    \n",
    "        fig2.show()\n",
    "    dispersion_list = dispersion_list.append(dispersion)"
   ]
  },
  {
   "cell_type": "code",
   "execution_count": null,
   "metadata": {},
   "outputs": [],
   "source": [
    "index = ~dispersion_list['estimated_distance'].apply(np.isnan)\n",
    "dispersion_summary = dispersion_list.loc[index, ['estimated_distance', 'distance']].drop_duplicates()\n",
    "fig = px.scatter(dispersion_summary, x='distance',y='estimated_distance')\n",
    "reference_line = go.Scatter(x=[0, 70], y=[0, 70], mode=\"lines\", line=go.scatter.Line(color=\"gray\"), showlegend=False)\n",
    "fig.add_trace(reference_line)"
   ]
  },
  {
   "cell_type": "code",
   "execution_count": null,
   "metadata": {},
   "outputs": [],
   "source": [
    "#new_energy_spectra = energy_spectra.pivot(index='energy_binned', columns='time', values='flux')\n",
    "\n",
    "#fig = px.imshow(np.array(new_energy_spectra)\n",
    "#                , x = list(np.unique(new_energy_spectra['time']))\n",
    "#                , y = list(np.unique(new_energy_spectra['energy_binned']))\n",
    "#                , title = 'distance: '+str(target_distance)+' Re, '+'   average time: '+str(avg_time)+' min')\n",
    "#fig.update_xaxes(dtick=avg_time)\n",
    "#fig.show()\n",
    "\n",
    "#pytplot.store_data(\"enspectra\"\n",
    "#                   , data={  'x': np.unique(energy_spectra['time'])\n",
    "#                           , 'y': np.unique(energy_spectra['flux']) \n",
    "#                           , 'v': energy_spectra['energy_binned']})"
   ]
  },
  {
   "cell_type": "code",
   "execution_count": null,
   "metadata": {},
   "outputs": [],
   "source": []
  }
 ],
 "metadata": {
  "kernelspec": {
   "display_name": "Python 3",
   "language": "python",
   "name": "python3"
  },
  "language_info": {
   "codemirror_mode": {
    "name": "ipython",
    "version": 3
   },
   "file_extension": ".py",
   "mimetype": "text/x-python",
   "name": "python",
   "nbconvert_exporter": "python",
   "pygments_lexer": "ipython3",
   "version": "3.7.4"
  }
 },
 "nbformat": 4,
 "nbformat_minor": 2
}
