{
 "cells": [
  {
   "cell_type": "code",
   "execution_count": null,
   "metadata": {},
   "outputs": [],
   "source": [
    "import pandas as pd\n",
    "import plotly.express as px\n",
    "import plotly.io as pio\n",
    "import datetime as datetime\n",
    "import glob\n",
    "import ipyplot\n",
    "import numpy as np\n"
   ]
  },
  {
   "cell_type": "code",
   "execution_count": null,
   "metadata": {},
   "outputs": [],
   "source": [
    "dir_name_1 = 'idl_plots/output_5min_multi_subtraction_removebi_flux0.500.751.00_pap3.02.01.1'\n",
    "dir_name_2 = 'idl_plots/output_5min_multi_subtraction_reduced_removebi_flux0.500.751.00_pap3.02.01.1'\n"
   ]
  },
  {
   "cell_type": "code",
   "execution_count": null,
   "metadata": {},
   "outputs": [],
   "source": [
    "#filename = 'data/outflow_testset_toplot.csv'\n",
    "#to_plot = pd.read_csv(filename)\n",
    "#to_plot_list = list(to_plot[\"filepath\"])\n",
    "\n",
    "#to_plot_list_1 = \n",
    "#to_plot_list_2 = [sub.replace('idl_plots', 'idl_plots/'+dir_name_2) for sub in to_plot_list] \n",
    "\n",
    "#len(to_plot_list_1)\n"
   ]
  },
  {
   "cell_type": "code",
   "execution_count": null,
   "metadata": {},
   "outputs": [],
   "source": [
    "to_plot_list = sorted(glob.glob(dir_name_2+\"/obeam_day/2018/*plasma_condition_short.png\"))\n",
    "to_plot_list_1 = [sub.replace(dir_name_2, dir_name_1) for sub in to_plot_list] \n",
    "\n",
    "to_plot_list_2 = to_plot_list\n"
   ]
  },
  {
   "cell_type": "code",
   "execution_count": null,
   "metadata": {
    "scrolled": false
   },
   "outputs": [],
   "source": [
    "for i in range(100):\n",
    "    ipyplot.plot_images([to_plot_list_1[i], to_plot_list_2[i]] , img_width=440)\n"
   ]
  },
  {
   "cell_type": "code",
   "execution_count": null,
   "metadata": {},
   "outputs": [],
   "source": []
  }
 ],
 "metadata": {
  "kernelspec": {
   "display_name": "Python 3",
   "language": "python",
   "name": "python3"
  },
  "language_info": {
   "codemirror_mode": {
    "name": "ipython",
    "version": 3
   },
   "file_extension": ".py",
   "mimetype": "text/x-python",
   "name": "python",
   "nbconvert_exporter": "python",
   "pygments_lexer": "ipython3",
   "version": "3.7.3"
  }
 },
 "nbformat": 4,
 "nbformat_minor": 2
}
