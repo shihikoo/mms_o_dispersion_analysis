{
 "cells": [
  {
   "cell_type": "code",
   "execution_count": 181,
   "id": "849b81a9",
   "metadata": {},
   "outputs": [],
   "source": [
    "import math\n",
    "import matplotlib.pyplot as plt\n",
    "import numpy as np"
   ]
  },
  {
   "cell_type": "code",
   "execution_count": 45,
   "id": "11c2d3e5",
   "metadata": {},
   "outputs": [
    {
     "data": {
      "text/plain": [
       "array([0.09801714, 0.29028468, 0.47139674, 0.63439328, 0.77301045,\n",
       "       0.88192126, 0.95694034, 0.99518473, 0.99518473, 0.95694034,\n",
       "       0.88192126, 0.77301045, 0.63439328, 0.47139674, 0.29028468,\n",
       "       0.09801714])"
      ]
     },
     "execution_count": 45,
     "metadata": {},
     "output_type": "execute_result"
    }
   ],
   "source": [
    "pa = np.array([5.625, 16.875, 28.125, 39.375, 50.625, 61.875, 73.125, 84.375, 95.625, 106.875, 118.125, 129.375, 140.625, 151.875, 163.125, 174.375])\n",
    "\n",
    "pa_rad = np.radians(pa)\n",
    "\n",
    "\n"
   ]
  },
  {
   "cell_type": "code",
   "execution_count": 200,
   "id": "0570dae2",
   "metadata": {
    "scrolled": false
   },
   "outputs": [
    {
     "name": "stdout",
     "output_type": "stream",
     "text": [
      "[1 1 1 0 0 0 0 0 0 0 0 0 0 0 0 0]\n",
      "2.2251180046722427\n",
      "[0 1 1 1 0 0 0 0 0 0 0 0 0 0 0 0]\n",
      "1.3702209018001685\n",
      "[0 0 1 1 1 0 0 0 0 0 0 0 0 0 0 0]\n",
      "1.0181659830950496\n",
      "[0 0 0 1 1 1 0 0 0 0 0 0 0 0 0 0]\n",
      "0.8355872278693195\n",
      "[0 0 0 0 1 1 1 0 0 0 0 0 0 0 0 0]\n",
      "0.7323983307247262\n",
      "[0 0 0 0 0 1 1 1 0 0 0 0 0 0 0 0]\n",
      "0.6749821673523119\n",
      "[0 0 0 0 0 0 1 1 1 0 0 0 0 0 0 0]\n",
      "0.6490429811953229\n",
      "[0 0 0 0 0 0 0 1 1 1 0 0 0 0 0 0]\n",
      "0.6490429811953229\n",
      "[0 0 0 0 0 0 0 0 1 1 1 0 0 0 0 0]\n",
      "0.6749821673523119\n",
      "[0 0 0 0 0 0 0 0 0 1 1 1 0 0 0 0]\n",
      "0.7323983307247262\n",
      "[0 0 0 0 0 0 0 0 0 0 1 1 1 0 0 0]\n",
      "0.8355872278693195\n",
      "[0 0 0 0 0 0 0 0 0 0 0 1 1 1 0 0]\n",
      "1.0181659830950494\n",
      "[0 0 0 0 0 0 0 0 0 0 0 0 1 1 1 0]\n",
      "1.3702209018001683\n",
      "[0 0 0 0 0 0 0 0 0 0 0 0 0 1 1 1]\n",
      "2.2251180046722414\n",
      "[0 0 0 0 0 0 0 0 0 0 0 0 0 0 1 1]\n",
      "3.2842677961360205\n",
      "[0 0 0 0 0 0 0 0 0 0 0 0 0 0 0 1]\n",
      "6.505429307488576\n"
     ]
    },
    {
     "data": {
      "text/plain": [
       "(array([10.,  2.,  2.,  0.,  1.,  0.,  0.,  0.,  0.,  1.]),\n",
       " array([0.64904298, 1.23468161, 1.82032025, 2.40595888, 2.99159751,\n",
       "        3.57723614, 4.16287478, 4.74851341, 5.33415204, 5.91979067,\n",
       "        6.50542931]),\n",
       " <BarContainer object of 10 artists>)"
      ]
     },
     "execution_count": 200,
     "metadata": {},
     "output_type": "execute_result"
    },
    {
     "data": {
      "image/png": "[encoded data removed]",
      "text/plain": [
       "<Figure size 640x480 with 1 Axes>"
      ]
     },
     "metadata": {},
     "output_type": "display_data"
    }
   ],
   "source": [
    "# flux = np.random.rand(16)\n",
    "flux=np.random.randint(2,size=16)\n",
    "ratio=np.array([])\n",
    "\n",
    "for loc in range(16):\n",
    "    flux = np.array([0,0,0,0,0,0,0,0,0,0,0,0,0,0,0,0])\n",
    "\n",
    "    flux[loc:(loc+3)] = 1\n",
    "\n",
    "    oflux1 = np.mean(flux)\n",
    "\n",
    "    oflux2 = np.sum(flux*np.sin(pa_rad))/np.sum(np.sin(pa_rad))\n",
    "    \n",
    "    ratio = np.append(ratio,(oflux1/oflux2))\n",
    "    print(flux)\n",
    "    print(oflux1/oflux2)\n",
    "    \n",
    "counts, bins = np.histogram(ratio)\n",
    "\n",
    "plt.stairs(counts, bins)\n",
    "\n",
    "plt.hist(bins[:-1], bins, weights=counts)\n"
   ]
  }
 ],
 "metadata": {
  "kernelspec": {
   "display_name": "Python 3 (ipykernel)",
   "language": "python",
   "name": "python3"
  },
  "language_info": {
   "codemirror_mode": {
    "name": "ipython",
    "version": 3
   },
   "file_extension": ".py",
   "mimetype": "text/x-python",
   "name": "python",
   "nbconvert_exporter": "python",
   "pygments_lexer": "ipython3",
   "version": "3.11.5"
  }
 },
 "nbformat": 4,
 "nbformat_minor": 5
}
