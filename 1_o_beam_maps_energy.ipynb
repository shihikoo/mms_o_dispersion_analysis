{
 "cells": [
  {
   "cell_type": "code",
   "execution_count": null,
   "metadata": {},
   "outputs": [],
   "source": [
    "import numpy as np\n",
    "import pandas as pd\n",
    "import ipyplot"
   ]
  },
  {
   "cell_type": "code",
   "execution_count": null,
   "metadata": {},
   "outputs": [],
   "source": [
    "main_plot_path = \"idl_plots/output_5min_multi_subtraction_reduced_removebi_flux0.500.751.00_pap3.02.01.1/plots_ss27/\"\n",
    "\n",
    "non_sort_map_path = main_plot_path+\"non_sort_map\"\n",
    "hemi_sort_map_path = main_plot_path+\"hemi_sort_map\"\n",
    "kp_sort_map_path = main_plot_path+'kp_sort_map'\n",
    "bx_sort_map_path = main_plot_path+'bx_sort_map'\n",
    "\n",
    "start_time = '20170101'\n",
    "end_time = '20201231'\n",
    "\n",
    "grid_str = \"grid_02\"\n",
    "direction_str = \"outflow\""
   ]
  },
  {
   "cell_type": "markdown",
   "metadata": {},
   "source": [
    "# Median enegy and minimum energy maps in different projections"
   ]
  },
  {
   "cell_type": "code",
   "execution_count": null,
   "metadata": {
    "scrolled": false
   },
   "outputs": [],
   "source": [
    "images_array = [\n",
    "      non_sort_map_path+\"/\"+grid_str+\"/\"+direction_str+\"/energy/2d/\"+direction_str+\"__median_energy__\"+start_time+\"_to_\"+end_time+\"_X_GSM_vs_Y_GSM.png\"\n",
    "    , non_sort_map_path+\"/\"+grid_str+\"/\"+direction_str+\"/energy/2d/\"+direction_str+\"__median_energy__\"+start_time+\"_to_\"+end_time+\"_X_GSM_vs_Z_GSM.png\"\n",
    "    , non_sort_map_path+\"/\"+grid_str+\"/\"+direction_str+\"/energy/2d/\"+direction_str+\"__median_energy__\"+start_time+\"_to_\"+end_time+\"_Y_GSM_vs_Z_GSM.png\"\n",
    "    , non_sort_map_path+\"/\"+grid_str+\"/\"+direction_str+\"/energy/2d/\"+direction_str+\"__minimum_energy__\"+start_time+\"_to_\"+end_time+\"_X_GSM_vs_Y_GSM.png\"\n",
    "    , non_sort_map_path+\"/\"+grid_str+\"/\"+direction_str+\"/energy/2d/\"+direction_str+\"__minimum_energy__\"+start_time+\"_to_\"+end_time+\"_X_GSM_vs_Z_GSM.png\"\n",
    "    , non_sort_map_path+\"/\"+grid_str+\"/\"+direction_str+\"/energy/2d/\"+direction_str+\"__minimum_energy__\"+start_time+\"_to_\"+end_time+\"_Y_GSM_vs_Z_GSM.png\"\n",
    "]\n",
    "\n",
    "ipyplot.plot_images(images_array, img_width=300)"
   ]
  },
  {
   "cell_type": "markdown",
   "metadata": {},
   "source": [
    "## Sliced median enegy maps in different regions "
   ]
  },
  {
   "cell_type": "code",
   "execution_count": null,
   "metadata": {
    "scrolled": false
   },
   "outputs": [],
   "source": [
    "images_array = [\n",
    "        non_sort_map_path+\"/\"+grid_str+\"/Lobe_\"+direction_str+\"/energy/slice/slice_zgrid_15/Lobe_\"+direction_str+\"__median_energy__\"+start_time+\"_to_\"+end_time+\"_X_GSM_vs_Z_GSM_at_Y_GSM_-20.0_-5.0.png\"\n",
    "    ,   non_sort_map_path+\"/\"+grid_str+\"/Lobe_\"+direction_str+\"/energy/slice/slice_zgrid_10/Lobe_\"+direction_str+\"__median_energy__\"+start_time+\"_to_\"+end_time+\"_X_GSM_vs_Z_GSM_at_Y_GSM_-5.0_5.0.png\"\n",
    "    ,   non_sort_map_path+\"/\"+grid_str+\"/Lobe_\"+direction_str+\"/energy/slice/slice_zgrid_15/Lobe_\"+direction_str+\"__median_energy__\"+start_time+\"_to_\"+end_time+\"_X_GSM_vs_Z_GSM_at_Y_GSM_5.0_20.0.png\"\n",
    "    ,   non_sort_map_path+\"/\"+grid_str+\"/BL_\"+direction_str+\"/energy/slice/slice_zgrid_15/BL_\"+direction_str+\"__median_energy__\"+start_time+\"_to_\"+end_time+\"_X_GSM_vs_Z_GSM_at_Y_GSM_-20.0_-5.0.png\"\n",
    "    ,   non_sort_map_path+\"/\"+grid_str+\"/BL_\"+direction_str+\"/energy/slice/slice_zgrid_10/BL_\"+direction_str+\"__median_energy__\"+start_time+\"_to_\"+end_time+\"_X_GSM_vs_Z_GSM_at_Y_GSM_-5.0_5.0.png\"\n",
    "    ,   non_sort_map_path+\"/\"+grid_str+\"/BL_\"+direction_str+\"/energy/slice/slice_zgrid_15/BL_\"+direction_str+\"__median_energy__\"+start_time+\"_to_\"+end_time+\"_X_GSM_vs_Z_GSM_at_Y_GSM_5.0_20.0.png\"\n",
    "    ,   non_sort_map_path+\"/\"+grid_str+\"/PS_\"+direction_str+\"/energy/slice/slice_zgrid_15/PS_\"+direction_str+\"__median_energy__\"+start_time+\"_to_\"+end_time+\"_X_GSM_vs_Z_GSM_at_Y_GSM_-20.0_-5.0.png\"\n",
    "    ,   non_sort_map_path+\"/\"+grid_str+\"/PS_\"+direction_str+\"/energy/slice/slice_zgrid_10/PS_\"+direction_str+\"__median_energy__\"+start_time+\"_to_\"+end_time+\"_X_GSM_vs_Z_GSM_at_Y_GSM_-5.0_5.0.png\"\n",
    "    ,   non_sort_map_path+\"/\"+grid_str+\"/PS_\"+direction_str+\"/energy/slice/slice_zgrid_15/PS_\"+direction_str+\"__median_energy__\"+start_time+\"_to_\"+end_time+\"_X_GSM_vs_Z_GSM_at_Y_GSM_5.0_20.0.png\"\n",
    "  ]\n",
    "\n",
    "ipyplot.plot_images(images_array, img_width=300)"
   ]
  },
  {
   "cell_type": "markdown",
   "metadata": {},
   "source": [
    "## Review Different Regions [Lobe, BL, PS]\n"
   ]
  },
  {
   "cell_type": "markdown",
   "metadata": {},
   "source": [
    "### Median Energy maps in Lobe, BL, PS"
   ]
  },
  {
   "cell_type": "code",
   "execution_count": null,
   "metadata": {},
   "outputs": [],
   "source": [
    "images_array = [\n",
    "      non_sort_map_path+\"/\"+grid_str+\"/Lobe_\"+direction_str+\"/energy/2d/Lobe_\"+direction_str+\"__median_energy__\"+start_time+\"_to_\"+end_time+\"_X_GSM_vs_Y_GSM.png\"\n",
    "    , non_sort_map_path+\"/\"+grid_str+\"/Lobe_\"+direction_str+\"/energy/2d/Lobe_\"+direction_str+\"__median_energy__\"+start_time+\"_to_\"+end_time+\"_X_GSM_vs_Z_GSM.png\"\n",
    "    , non_sort_map_path+\"/\"+grid_str+\"/Lobe_\"+direction_str+\"/energy/2d/Lobe_\"+direction_str+\"__median_energy__\"+start_time+\"_to_\"+end_time+\"_Y_GSM_vs_Z_GSM.png\"\n",
    "    , non_sort_map_path+\"/\"+grid_str+\"/BL_\"+direction_str+\"/energy/2d/BL_\"+direction_str+\"__median_energy__\"+start_time+\"_to_\"+end_time+\"_X_GSM_vs_Y_GSM.png\"\n",
    "    , non_sort_map_path+\"/\"+grid_str+\"/BL_\"+direction_str+\"/energy/2d/BL_\"+direction_str+\"__median_energy__\"+start_time+\"_to_\"+end_time+\"_X_GSM_vs_Z_GSM.png\"\n",
    "    , non_sort_map_path+\"/\"+grid_str+\"/BL_\"+direction_str+\"/energy/2d/BL_\"+direction_str+\"__median_energy__\"+start_time+\"_to_\"+end_time+\"_Y_GSM_vs_Z_GSM.png\"\n",
    "    ,non_sort_map_path+\"/\"+grid_str+\"/PS_\"+direction_str+\"/energy/2d/PS_\"+direction_str+\"__median_energy__\"+start_time+\"_to_\"+end_time+\"_X_GSM_vs_Y_GSM.png\"\n",
    "    , non_sort_map_path+\"/\"+grid_str+\"/PS_\"+direction_str+\"/energy/2d/PS_\"+direction_str+\"__median_energy__\"+start_time+\"_to_\"+end_time+\"_X_GSM_vs_Z_GSM.png\"\n",
    "    , non_sort_map_path+\"/\"+grid_str+\"/PS_\"+direction_str+\"/energy/2d/PS_\"+direction_str+\"__median_energy__\"+start_time+\"_to_\"+end_time+\"_Y_GSM_vs_Z_GSM.png\"\n",
    "]\n",
    "\n",
    "ipyplot.plot_images(images_array, img_width=300)"
   ]
  },
  {
   "cell_type": "markdown",
   "metadata": {},
   "source": [
    "### Minimum Energy maps in Lobe, BL, PS"
   ]
  },
  {
   "cell_type": "code",
   "execution_count": null,
   "metadata": {},
   "outputs": [],
   "source": [
    "images_array = [\n",
    "     non_sort_map_path+\"/\"+grid_str+\"/Lobe_\"+direction_str+\"/energy/2d/Lobe_\"+direction_str+\"__minimum_energy__\"+start_time+\"_to_\"+end_time+\"_X_GSM_vs_Y_GSM.png\"\n",
    "    , non_sort_map_path+\"/\"+grid_str+\"/Lobe_\"+direction_str+\"/energy/2d/Lobe_\"+direction_str+\"__minimum_energy__\"+start_time+\"_to_\"+end_time+\"_X_GSM_vs_Z_GSM.png\"\n",
    "    , non_sort_map_path+\"/\"+grid_str+\"/Lobe_\"+direction_str+\"/energy/2d/Lobe_\"+direction_str+\"__minimum_energy__\"+start_time+\"_to_\"+end_time+\"_Y_GSM_vs_Z_GSM.png\"\n",
    "       , non_sort_map_path+\"/\"+grid_str+\"/BL_\"+direction_str+\"/energy/2d/BL_\"+direction_str+\"__minimum_energy__\"+start_time+\"_to_\"+end_time+\"_X_GSM_vs_Y_GSM.png\"\n",
    "    , non_sort_map_path+\"/\"+grid_str+\"/BL_\"+direction_str+\"/energy/2d/BL_\"+direction_str+\"__minimum_energy__\"+start_time+\"_to_\"+end_time+\"_X_GSM_vs_Z_GSM.png\"\n",
    "    , non_sort_map_path+\"/\"+grid_str+\"/BL_\"+direction_str+\"/energy/2d/BL_\"+direction_str+\"__minimum_energy__\"+start_time+\"_to_\"+end_time+\"_Y_GSM_vs_Z_GSM.png\"\n",
    "    , non_sort_map_path+\"/\"+grid_str+\"/PS_\"+direction_str+\"/energy/2d/PS_\"+direction_str+\"__minimum_energy__\"+start_time+\"_to_\"+end_time+\"_X_GSM_vs_Y_GSM.png\"\n",
    "    , non_sort_map_path+\"/\"+grid_str+\"/PS_\"+direction_str+\"/energy/2d/PS_\"+direction_str+\"__minimum_energy__\"+start_time+\"_to_\"+end_time+\"_X_GSM_vs_Z_GSM.png\"\n",
    "    , non_sort_map_path+\"/\"+grid_str+\"/PS_\"+direction_str+\"/energy/2d/PS_\"+direction_str+\"__minimum_energy__\"+start_time+\"_to_\"+end_time+\"_Y_GSM_vs_Z_GSM.png\"\n",
    "]\n",
    "\n",
    "ipyplot.plot_images(images_array, img_width=300)"
   ]
  },
  {
   "cell_type": "markdown",
   "metadata": {},
   "source": [
    "### South / north in median energy different regions"
   ]
  },
  {
   "cell_type": "code",
   "execution_count": null,
   "metadata": {},
   "outputs": [],
   "source": [
    "images_array = [\n",
    "    hemi_sort_map_path+\"/hemi_north/\"+grid_str+\"/north_Lobe_\"+direction_str+\"/energy/2d/north_Lobe_\"+direction_str+\"__median_energy__\"+start_time+\"_to_\"+end_time+\"_X_GSM_vs_Y_GSM.png\"\n",
    "    ,hemi_sort_map_path+\"/hemi_north/\"+grid_str+\"/north_BL_\"+direction_str+\"/energy/2d/north_BL_\"+direction_str+\"__median_energy__\"+start_time+\"_to_\"+end_time+\"_X_GSM_vs_Y_GSM.png\"\n",
    "   ,hemi_sort_map_path+\"/hemi_north/\"+grid_str+\"/north_PS_\"+direction_str+\"/energy/2d/north_PS_\"+direction_str+\"__median_energy__\"+start_time+\"_to_\"+end_time+\"_X_GSM_vs_Y_GSM.png\"\n",
    "  ,hemi_sort_map_path+\"/hemi_south/\"+grid_str+\"/south_Lobe_\"+direction_str+\"/energy/2d/south_Lobe_\"+direction_str+\"__median_energy__\"+start_time+\"_to_\"+end_time+\"_X_GSM_vs_Y_GSM.png\"\n",
    "   ,hemi_sort_map_path+\"/hemi_south/\"+grid_str+\"/south_BL_\"+direction_str+\"/energy/2d/south_BL_\"+direction_str+\"__median_energy__\"+start_time+\"_to_\"+end_time+\"_X_GSM_vs_Y_GSM.png\"\n",
    "   ,hemi_sort_map_path+\"/hemi_south/\"+grid_str+\"/south_PS_\"+direction_str+\"/energy/2d/south_PS_\"+direction_str+\"__median_energy__\"+start_time+\"_to_\"+end_time+\"_X_GSM_vs_Y_GSM.png\"\n",
    "\n",
    "]\n",
    "\n",
    "ipyplot.plot_images(images_array, img_width=300)"
   ]
  },
  {
   "cell_type": "code",
   "execution_count": null,
   "metadata": {},
   "outputs": [],
   "source": [
    "images_array = [\n",
    "    hemi_sort_map_path+\"/hemi_north/\"+grid_str+\"/north_Lobe_\"+direction_str+\"/energy/2d/north_Lobe_\"+direction_str+\"__minimum_energy__\"+start_time+\"_to_\"+end_time+\"_X_GSM_vs_Y_GSM.png\"\n",
    "    , hemi_sort_map_path+\"/hemi_north/\"+grid_str+\"/north_BL_\"+direction_str+\"/energy/2d/north_BL_\"+direction_str+\"__minimum_energy__\"+start_time+\"_to_\"+end_time+\"_X_GSM_vs_Y_GSM.png\"\n",
    "   , hemi_sort_map_path+\"/hemi_north/\"+grid_str+\"/north_PS_\"+direction_str+\"/energy/2d/north_PS_\"+direction_str+\"__minimum_energy__\"+start_time+\"_to_\"+end_time+\"_X_GSM_vs_Y_GSM.png\"\n",
    "  , hemi_sort_map_path+\"/hemi_south/\"+grid_str+\"/south_Lobe_\"+direction_str+\"/energy/2d/south_Lobe_\"+direction_str+\"__minimum_energy__\"+start_time+\"_to_\"+end_time+\"_X_GSM_vs_Y_GSM.png\"\n",
    "   , hemi_sort_map_path+\"/hemi_south/\"+grid_str+\"/south_BL_\"+direction_str+\"/energy/2d/south_BL_\"+direction_str+\"__minimum_energy__\"+start_time+\"_to_\"+end_time+\"_X_GSM_vs_Y_GSM.png\"\n",
    "   , hemi_sort_map_path+\"/hemi_south/\"+grid_str+\"/south_PS_\"+direction_str+\"/energy/2d/south_PS_\"+direction_str+\"__minimum_energy__\"+start_time+\"_to_\"+end_time+\"_X_GSM_vs_Y_GSM.png\"\n",
    "\n",
    "]\n",
    "\n",
    "ipyplot.plot_images(images_array, img_width=300)"
   ]
  },
  {
   "cell_type": "markdown",
   "metadata": {},
   "source": [
    "## kp impacts on the convection maps"
   ]
  },
  {
   "cell_type": "code",
   "execution_count": null,
   "metadata": {},
   "outputs": [],
   "source": [
    "images_array = [\n",
    "   kp_sort_map_path+\"/kp_lt_2/\"+grid_str+\"/Kplt_2_\"+direction_str+\"/energy/2d/Kplt_2_\"+direction_str+\"__median_energy__\"+start_time+\"_to_\"+end_time+\"_X_GSM_vs_Y_GSM.png\"\n",
    ",  kp_sort_map_path+\"/kp_ge_2/\"+grid_str+\"/Kpge_2_\"+direction_str+\"/energy/2d/Kpge_2_\"+direction_str+\"__median_energy__\"+start_time+\"_to_\"+end_time+\"_X_GSM_vs_Y_GSM.png\"\n",
    ",  kp_sort_map_path+\"/kp_lt_2/\"+grid_str+\"/Kplt_2_\"+direction_str+\"/energy/2d/Kplt_2_\"+direction_str+\"__minimum_energy__\"+start_time+\"_to_\"+end_time+\"_X_GSM_vs_Y_GSM.png\"\n",
    ",  kp_sort_map_path+\"/kp_ge_2/\"+grid_str+\"/Kpge_2_\"+direction_str+\"/energy/2d/Kpge_2_\"+direction_str+\"__minimum_energy__\"+start_time+\"_to_\"+end_time+\"_X_GSM_vs_Y_GSM.png\"\n",
    "\n",
    "]\n",
    "\n",
    "ipyplot.plot_images(images_array, img_width=400)"
   ]
  },
  {
   "cell_type": "code",
   "execution_count": null,
   "metadata": {},
   "outputs": [],
   "source": [
    "images_array = [\n",
    "   kp_sort_map_path+\"/kp_lt_2/\"+grid_str+\"/Kplt_2_Lobe_\"+direction_str+\"/energy/2d/Kplt_2_Lobe_\"+direction_str+\"__median_energy__\"+start_time+\"_to_\"+end_time+\"_X_GSM_vs_Y_GSM.png\"\n",
    ",   kp_sort_map_path+\"/kp_ge_2/\"+grid_str+\"/Kpge_2_Lobe_\"+direction_str+\"/energy/2d/Kpge_2_Lobe_\"+direction_str+\"__median_energy__\"+start_time+\"_to_\"+end_time+\"_X_GSM_vs_Y_GSM.png\"\n",
    ",   kp_sort_map_path+\"/kp_lt_2/\"+grid_str+\"/Kplt_2_Lobe_\"+direction_str+\"/energy/2d/Kplt_2_Lobe_\"+direction_str+\"__minimum_energy__\"+start_time+\"_to_\"+end_time+\"_X_GSM_vs_Y_GSM.png\"\n",
    ",   kp_sort_map_path+\"/kp_ge_2/\"+grid_str+\"/Kpge_2_Lobe_\"+direction_str+\"/energy/2d/Kpge_2_Lobe_\"+direction_str+\"__minimum_energy__\"+start_time+\"_to_\"+end_time+\"_X_GSM_vs_Y_GSM.png\"\n",
    "\n",
    "]\n",
    "\n",
    "ipyplot.plot_images(images_array, img_width=400)"
   ]
  },
  {
   "cell_type": "code",
   "execution_count": null,
   "metadata": {},
   "outputs": [],
   "source": [
    "images_array = [\n",
    "   kp_sort_map_path+\"/kp_lt_2/\"+grid_str+\"/Kplt_2_BL_\"+direction_str+\"/energy/2d/Kplt_2_BL_\"+direction_str+\"__median_energy__\"+start_time+\"_to_\"+end_time+\"_X_GSM_vs_Y_GSM.png\"\n",
    ",   kp_sort_map_path+\"/kp_ge_2/\"+grid_str+\"/Kpge_2_BL_\"+direction_str+\"/energy/2d/Kpge_2_BL_\"+direction_str+\"__median_energy__\"+start_time+\"_to_\"+end_time+\"_X_GSM_vs_Y_GSM.png\"\n",
    ",   kp_sort_map_path+\"/kp_lt_2/\"+grid_str+\"/Kplt_2_BL_\"+direction_str+\"/energy/2d/Kplt_2_BL_\"+direction_str+\"__minimum_energy__\"+start_time+\"_to_\"+end_time+\"_X_GSM_vs_Y_GSM.png\"\n",
    ",   kp_sort_map_path+\"/kp_ge_2/\"+grid_str+\"/Kpge_2_BL_\"+direction_str+\"/energy/2d/Kpge_2_BL_\"+direction_str+\"__minimum_energy__\"+start_time+\"_to_\"+end_time+\"_X_GSM_vs_Y_GSM.png\"\n",
    "\n",
    "]\n",
    "\n",
    "ipyplot.plot_images(images_array, img_width=400)"
   ]
  },
  {
   "cell_type": "code",
   "execution_count": null,
   "metadata": {},
   "outputs": [],
   "source": [
    "images_array = [\n",
    "   kp_sort_map_path+\"/kp_lt_2/\"+grid_str+\"/Kplt_2_PS_\"+direction_str+\"/energy/2d/Kplt_2_PS_\"+direction_str+\"__median_energy__\"+start_time+\"_to_\"+end_time+\"_X_GSM_vs_Y_GSM.png\"\n",
    ",   kp_sort_map_path+\"/kp_ge_2/\"+grid_str+\"/Kpge_2_PS_\"+direction_str+\"/energy/2d/Kpge_2_PS_\"+direction_str+\"__median_energy__\"+start_time+\"_to_\"+end_time+\"_X_GSM_vs_Y_GSM.png\"\n",
    ",   kp_sort_map_path+\"/kp_lt_2/\"+grid_str+\"/Kplt_2_PS_\"+direction_str+\"/energy/2d/Kplt_2_PS_\"+direction_str+\"__minimum_energy__\"+start_time+\"_to_\"+end_time+\"_X_GSM_vs_Y_GSM.png\"\n",
    ",   kp_sort_map_path+\"/kp_ge_2/\"+grid_str+\"/Kpge_2_PS_\"+direction_str+\"/energy/2d/Kpge_2_PS_\"+direction_str+\"__minimum_energy__\"+start_time+\"_to_\"+end_time+\"_X_GSM_vs_Y_GSM.png\"\n",
    "\n",
    "]\n",
    "\n",
    "ipyplot.plot_images(images_array, img_width=400)"
   ]
  },
  {
   "cell_type": "markdown",
   "metadata": {},
   "source": [
    "## Storm impacts on the convection maps"
   ]
  },
  {
   "cell_type": "code",
   "execution_count": null,
   "metadata": {},
   "outputs": [],
   "source": [
    "images_array = [\n",
    "    non_sort_map_path+\"/\"+grid_str+\"/nonstorm_time_\"+direction_str+\"/energy/2d/nonstorm_time_\"+direction_str+\"__median_energy__\"+start_time+\"_to_\"+end_time+\"_X_GSM_vs_Y_GSM.png\"\n",
    " ,  non_sort_map_path+\"/\"+grid_str+\"/storm_time_\"+direction_str+\"/energy/2d/storm_time_\"+direction_str+\"__median_energy__\"+start_time+\"_to_\"+end_time+\"_X_GSM_vs_Y_GSM.png\"\n",
    " ,  non_sort_map_path+\"/\"+grid_str+\"/nonstorm_time_\"+direction_str+\"/energy/2d/nonstorm_time_\"+direction_str+\"__minimum_energy__\"+start_time+\"_to_\"+end_time+\"_X_GSM_vs_Y_GSM.png\"\n",
    " ,  non_sort_map_path+\"/\"+grid_str+\"/storm_time_\"+direction_str+\"/energy/2d/storm_time_\"+direction_str+\"__minimum_energy__\"+start_time+\"_to_\"+end_time+\"_X_GSM_vs_Y_GSM.png\"\n",
    "]\n",
    "\n",
    "ipyplot.plot_images(images_array, img_width=228)"
   ]
  },
  {
   "cell_type": "markdown",
   "metadata": {},
   "source": [
    "## Solar wind velocity impacts on the convection maps"
   ]
  },
  {
   "cell_type": "code",
   "execution_count": null,
   "metadata": {},
   "outputs": [],
   "source": [
    "images_array = [\n",
    "    non_sort_map_path+\"/\"+grid_str+\"/\"+direction_str+\"/energy/2d/\"+direction_str+\"_swV_0_450_median_energy__\"+start_time+\"_to_\"+end_time+\"_X_GSM_vs_Y_GSM.png\"\n",
    ",   non_sort_map_path+\"/\"+grid_str+\"/\"+direction_str+\"/energy/2d/\"+direction_str+\"_swV_450_900_median_energy__\"+start_time+\"_to_\"+end_time+\"_X_GSM_vs_Y_GSM.png\"\n",
    ",   non_sort_map_path+\"/\"+grid_str+\"/\"+direction_str+\"/energy/2d/\"+direction_str+\"_swV_0_450_minimum_energy__\"+start_time+\"_to_\"+end_time+\"_X_GSM_vs_Y_GSM.png\"\n",
    ",   non_sort_map_path+\"/\"+grid_str+\"/\"+direction_str+\"/energy/2d/\"+direction_str+\"_swV_450_900_minimum_energy__\"+start_time+\"_to_\"+end_time+\"_X_GSM_vs_Y_GSM.png\"\n",
    "\n",
    "]\n",
    "\n",
    "ipyplot.plot_images(images_array, img_width=400\n",
    "                   )"
   ]
  },
  {
   "cell_type": "markdown",
   "metadata": {},
   "source": [
    "## Solar wind pressure impacts on the convection maps"
   ]
  },
  {
   "cell_type": "code",
   "execution_count": null,
   "metadata": {},
   "outputs": [],
   "source": [
    "images_array = [\n",
    "    non_sort_map_path+\"/\"+grid_str+\"/\"+direction_str+\"/energy/2d/\"+direction_str+\"_swP_0_2__median_energy__\"+start_time+\"_to_\"+end_time+\"_X_GSM_vs_Y_GSM.png\"\n",
    ",   non_sort_map_path+\"/\"+grid_str+\"/\"+direction_str+\"/energy/2d/\"+direction_str+\"_swP_2_20__median_energy__\"+start_time+\"_to_\"+end_time+\"_X_GSM_vs_Y_GSM.png\"\n",
    ",   non_sort_map_path+\"/\"+grid_str+\"/\"+direction_str+\"/energy/2d/\"+direction_str+\"_swP_0_2__minimum_energy__\"+start_time+\"_to_\"+end_time+\"_X_GSM_vs_Y_GSM.png\"\n",
    ",   non_sort_map_path+\"/\"+grid_str+\"/\"+direction_str+\"/energy/2d/\"+direction_str+\"_swP_2_20__minimum_energy__\"+start_time+\"_to_\"+end_time+\"_X_GSM_vs_Y_GSM.png\"\n",
    "\n",
    "]\n",
    "\n",
    "ipyplot.plot_images(images_array, img_width=400)\n"
   ]
  },
  {
   "cell_type": "markdown",
   "metadata": {},
   "source": [
    "### South / north in median energy different regions for positive and negative IMF By"
   ]
  },
  {
   "cell_type": "code",
   "execution_count": null,
   "metadata": {
    "scrolled": false
   },
   "outputs": [],
   "source": [
    "### South / north in median energy different regions for positive and negative IMF By\n",
    "images_array = [\n",
    "    hemi_sort_map_path+\"/hemi_north/\"+grid_str+\"/north_Lobe_\"+direction_str+\"/energy/2d/north_Lobe_\"+direction_str+\"_imfBy_-25_0__median_energy__\"+start_time+\"_to_\"+end_time+\"_X_GSM_vs_Y_GSM.png\"\n",
    "   ,hemi_sort_map_path+\"/hemi_north/\"+grid_str+\"/north_Lobe_\"+direction_str+\"/energy/2d/north_Lobe_\"+direction_str+\"_imfBy_0_25__median_energy__\"+start_time+\"_to_\"+end_time+\"_X_GSM_vs_Y_GSM.png\"\n",
    "   ,hemi_sort_map_path+\"/hemi_south/\"+grid_str+\"/south_Lobe_\"+direction_str+\"/energy/2d/south_Lobe_\"+direction_str+\"_imfBy_-25_0__median_energy__\"+start_time+\"_to_\"+end_time+\"_X_GSM_vs_Y_GSM.png\"\n",
    "   ,hemi_sort_map_path+\"/hemi_south/\"+grid_str+\"/south_Lobe_\"+direction_str+\"/energy/2d/south_Lobe_\"+direction_str+\"_imfBy_0_25__median_energy__\"+start_time+\"_to_\"+end_time+\"_X_GSM_vs_Y_GSM.png\"\n",
    "   ,hemi_sort_map_path+\"/hemi_north/\"+grid_str+\"/north_BL_\"+direction_str+\"/energy/2d/north_BL_\"+direction_str+\"_imfBy_-25_0__median_energy__\"+start_time+\"_to_\"+end_time+\"_X_GSM_vs_Y_GSM.png\"\n",
    "   ,hemi_sort_map_path+\"/hemi_north/\"+grid_str+\"/north_BL_\"+direction_str+\"/energy/2d/north_BL_\"+direction_str+\"_imfBy_0_25__median_energy__\"+start_time+\"_to_\"+end_time+\"_X_GSM_vs_Y_GSM.png\"\n",
    "   ,hemi_sort_map_path+\"/hemi_south/\"+grid_str+\"/south_BL_\"+direction_str+\"/energy/2d/south_BL_\"+direction_str+\"_imfBy_-25_0__median_energy__\"+start_time+\"_to_\"+end_time+\"_X_GSM_vs_Y_GSM.png\"\n",
    "   ,hemi_sort_map_path+\"/hemi_south/\"+grid_str+\"/south_BL_\"+direction_str+\"/energy/2d/south_BL_\"+direction_str+\"_imfBy_0_25__median_energy__\"+start_time+\"_to_\"+end_time+\"_X_GSM_vs_Y_GSM.png\"\n",
    "   ,hemi_sort_map_path+\"/hemi_north/\"+grid_str+\"/north_PS_\"+direction_str+\"/energy/2d/north_PS_\"+direction_str+\"_imfBy_-25_0__median_energy__\"+start_time+\"_to_\"+end_time+\"_X_GSM_vs_Y_GSM.png\"\n",
    "   ,hemi_sort_map_path+\"/hemi_north/\"+grid_str+\"/north_PS_\"+direction_str+\"/energy/2d/north_PS_\"+direction_str+\"_imfBy_0_25__median_energy__\"+start_time+\"_to_\"+end_time+\"_X_GSM_vs_Y_GSM.png\"\n",
    "   ,hemi_sort_map_path+\"/hemi_south/\"+grid_str+\"/south_PS_\"+direction_str+\"/energy/2d/south_PS_\"+direction_str+\"_imfBy_-25_0__median_energy__\"+start_time+\"_to_\"+end_time+\"_X_GSM_vs_Y_GSM.png\"\n",
    "   ,hemi_sort_map_path+\"/hemi_south/\"+grid_str+\"/south_PS_\"+direction_str+\"/energy/2d/south_PS_\"+direction_str+\"_imfBy_0_25__median_energy__\"+start_time+\"_to_\"+end_time+\"_X_GSM_vs_Y_GSM.png\"\n",
    "\n",
    "]\n",
    "\n",
    "ipyplot.plot_images(images_array, img_width=400)"
   ]
  },
  {
   "cell_type": "code",
   "execution_count": null,
   "metadata": {},
   "outputs": [],
   "source": []
  }
 ],
 "metadata": {
  "kernelspec": {
   "display_name": "Python 3",
   "language": "python",
   "name": "python3"
  },
  "language_info": {
   "codemirror_mode": {
    "name": "ipython",
    "version": 3
   },
   "file_extension": ".py",
   "mimetype": "text/x-python",
   "name": "python",
   "nbconvert_exporter": "python",
   "pygments_lexer": "ipython3",
   "version": "3.7.3"
  }
 },
 "nbformat": 4,
 "nbformat_minor": 2
}
