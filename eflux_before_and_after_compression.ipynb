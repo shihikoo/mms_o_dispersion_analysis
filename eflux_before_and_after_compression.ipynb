{
 "cells": [
  {
   "cell_type": "code",
   "execution_count": null,
   "metadata": {},
   "outputs": [],
   "source": [
    "import pandas as pd\n",
    "import plotly.express as px\n",
    "import math\n",
    "from plotly.subplots import make_subplots\n",
    "import plotly.graph_objects as go\n",
    "import statistics\n"
   ]
  },
  {
   "cell_type": "code",
   "execution_count": null,
   "metadata": {},
   "outputs": [],
   "source": [
    "filename_before = 'data/eflux_data_before.csv'\n",
    "filename_after = 'data/eflux_data_after.csv'\n"
   ]
  },
  {
   "cell_type": "code",
   "execution_count": null,
   "metadata": {},
   "outputs": [],
   "source": [
    "data_before = pd.read_csv(filename_before)\n",
    "data_after = pd.read_csv(filename_after)\n"
   ]
  },
  {
   "cell_type": "code",
   "execution_count": null,
   "metadata": {},
   "outputs": [],
   "source": [
    "df_before = data_before\n",
    "cn = df_before.columns\n",
    "df_before['index'] = df_before.index\n",
    "df_before = pd.melt(df_before,id_vars = 'index', value_vars = cn)\n",
    "df_before['mode'] = 'before'\n",
    "\n",
    "df_before.columns"
   ]
  },
  {
   "cell_type": "code",
   "execution_count": null,
   "metadata": {},
   "outputs": [],
   "source": [
    "df_after = data_after\n",
    "cn = df_after.columns\n",
    "df_after['index'] = df_after.index\n",
    "df_after = pd.melt(df_after,id_vars = 'index', value_vars = cn)\n",
    "df_after['mode'] = 'after'\n",
    "\n",
    "df_after.columns"
   ]
  },
  {
   "cell_type": "code",
   "execution_count": null,
   "metadata": {},
   "outputs": [],
   "source": [
    "df = pd.concat([df_before, df_after])\n",
    "df = df.rename(columns={\"variable\": \"energy\"})\n"
   ]
  },
  {
   "cell_type": "code",
   "execution_count": null,
   "metadata": {
    "scrolled": false
   },
   "outputs": [],
   "source": [
    "fig = px.histogram(df, x='value',facet_col = 'mode',facet_row=\"energy\",height=2000, category_orders={\"mode\": [\"before\", \"after\"]})\n",
    "\n",
    "fig.update_traces(xbins=dict( start=1,end=100,size=8 ))\n",
    "\n",
    "fig.show()\n"
   ]
  },
  {
   "cell_type": "code",
   "execution_count": null,
   "metadata": {},
   "outputs": [],
   "source": []
  }
 ],
 "metadata": {
  "kernelspec": {
   "display_name": "Python 3 (ipykernel)",
   "language": "python",
   "name": "python3"
  },
  "language_info": {
   "codemirror_mode": {
    "name": "ipython",
    "version": 3
   },
   "file_extension": ".py",
   "mimetype": "text/x-python",
   "name": "python",
   "nbconvert_exporter": "python",
   "pygments_lexer": "ipython3",
   "version": "3.11.5"
  }
 },
 "nbformat": 4,
 "nbformat_minor": 2
}
