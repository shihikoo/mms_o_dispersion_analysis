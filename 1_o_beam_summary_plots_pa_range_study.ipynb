{
 "cells": [
  {
   "cell_type": "code",
   "execution_count": 1,
   "metadata": {},
   "outputs": [],
   "source": [
    "import pandas as pd\n",
    "import matplotlib.pyplot as plt\n",
    "import plotly.express as px\n",
    "import plotly.io as pio\n",
    "from collections import Counter\n",
    "import math\n",
    "import datetime as datetime\n",
    "from plotly.subplots import make_subplots\n",
    "import plotly.graph_objects as go\n",
    "import statistics\n",
    "import glob\n",
    "import ipyplot\n",
    "import numpy as np\n",
    "from functions import data_preprocess_functions\n"
   ]
  },
  {
   "cell_type": "code",
   "execution_count": 2,
   "metadata": {},
   "outputs": [],
   "source": [
    "# dir_name = 'idl_plots/output_5min_multi_subtraction_reduced_removebi_flux0.500.751.00_pap3.02.01.1/'\n",
    "# data_filename = dir_name + 'data/fulldata_20170101_to_20201231.csv'\n",
    "# # df0 = pd.read_csv(data_filename)\n",
    "# df = data_preprocess_functions.preprocess_data(pd.read_csv(data_filename))"
   ]
  },
  {
   "cell_type": "code",
   "execution_count": 6,
   "metadata": {},
   "outputs": [],
   "source": [
    "dir_name = 'idl_plots/output_sc1_sp3_300sec_multi_pa2_en2_subtraction_reduced_removebi_flux0.500.751.00_pap3.02.01.1/'\n",
    "#dir_name = 'idl_plots/output_sc1_sp3_300sec_multi_pa2_en2_subtraction_removebi_flux0.500.751.00_pap3.02.01.1/'\n",
    "\n",
    "agg_beam_ext_filename = dir_name + 'idl_aggregated_fulldata_20170101_to_20201231.csv'\n",
    "\n",
    "agg_df = pd.read_csv(agg_beam_ext_filename)"
   ]
  },
  {
   "cell_type": "code",
   "execution_count": null,
   "metadata": {},
   "outputs": [],
   "source": [
    "index = (agg_df.intergrated_flux > 0) & (agg_df['region'] != 'Dayside')\n",
    "\n",
    "fig = px.scatter(agg_df.loc[index,:], x='xgsm', y='ygsm', color='pa_range', facet_col = 'region',range_color=[0,60]\n",
    "#                 , category_orders={\"region\":[\"Lobe\",\"BL\",\"PS\"]}\n",
    "#                 , trendline=\"ols\", trendline_options=dict(log_y=True)\n",
    "                )\n",
    "\n",
    "fig.update_traces(marker=dict(size=2), selector=dict(mode='markers'))\n",
    "\n",
    "fig.show()"
   ]
  },
  {
   "cell_type": "code",
   "execution_count": null,
   "metadata": {},
   "outputs": [],
   "source": [
    "index = (df.intergrated_flux > 0) & (df['region'] != 'Dayside') & (abs(df['r']) < 20)\n",
    "\n",
    "px.histogram(df.loc[index,:], x ='pa_range', facet_col='region', category_orders={\"region\":[\"Lobe\",\"BL\",\"PS\"]})\n"
   ]
  },
  {
   "cell_type": "code",
   "execution_count": null,
   "metadata": {},
   "outputs": [],
   "source": [
    "index = (agg_df.intergrated_flux > 0) & (agg_df['region'] != 'Dayside') & (abs(agg_df['ygsm']) < 20) & (agg_df['beta'] > 0.04)\n",
    "\n",
    "fig = px.density_heatmap(agg_df.loc[index,:], x = 'xgsm', y = 'zgsm'\n",
    "                         , z =agg_df.loc[index, \"pa_range\"]\n",
    "                         , histfunc ='avg', nbinsx=20, nbinsy=16\n",
    "                         , range_x=[-30,10],range_y=[-20,20], range_color= [0,60]\n",
    "#                          , facet_row=\"location\"\n",
    "                         , facet_col=\"region\"\n",
    "                         , category_orders = {\"region\":[\"Lobe\",\"BL\",\"PS\"]}\n",
    "                         , color_continuous_scale=px.colors.sequential.Jet)\n",
    "\n",
    "fig.update_layout(coloraxis_colorbar=dict(\n",
    "    title=\"pa_range\"\n",
    "))\n",
    "\n",
    "fig.show()"
   ]
  },
  {
   "cell_type": "code",
   "execution_count": null,
   "metadata": {},
   "outputs": [],
   "source": [
    "index = (agg_df.intergrated_flux > 0) & (agg_df['region'] != 'Dayside') & (abs(agg_df['ygsm']) < 20)\n",
    "\n",
    "fig = px.density_heatmap(agg_df.loc[index,:], x = 'xgsm', y = 'ygsm'\n",
    "                         , z =agg_df.loc[index, \"pa_range\"]\n",
    "                         , histfunc ='avg', nbinsx=20, nbinsy=16\n",
    "                         , range_x=[-30,10],range_y=[-20,20], range_color= [0,60]\n",
    "#                          , facet_row=\"location\"\n",
    "                         , facet_col=\"region\"\n",
    "                         , category_orders = {\"region\":[\"Lobe\",\"BL\",\"PS\"]}\n",
    "                         , color_continuous_scale=px.colors.sequential.Jet)\n",
    "\n",
    "fig.update_layout(coloraxis_colorbar=dict(\n",
    "    title=\"pa_range\"\n",
    "))\n",
    "\n",
    "fig.show()"
   ]
  },
  {
   "cell_type": "code",
   "execution_count": null,
   "metadata": {},
   "outputs": [],
   "source": [
    "index = (agg_df.intergrated_flux > 0) & (agg_df['region'] != 'Dayside') & (abs(agg_df['ygsm']) < 20)\n",
    "\n",
    "fig = px.density_heatmap(agg_df.loc[index,:], x = 'ygsm', y = 'zgsm'\n",
    "                         , z = agg_df.loc[index, \"pa_range\"]\n",
    "                         , histfunc ='avg', nbinsx=20, nbinsy=16\n",
    "                         , range_x=[-20,20],range_y=[-14,14], range_color= [0,60]\n",
    "                         , facet_row=\"location\"\n",
    "                         , facet_col=\"region\"\n",
    "                         , category_orders = {\"region\":[\"Lobe\",\"BL\",\"PS\"]}\n",
    "                         , color_continuous_scale=px.colors.sequential.Jet)\n",
    "\n",
    "fig.update_layout(coloraxis_colorbar=dict(\n",
    "    title=\"pa range\",\n",
    "\n",
    "))\n",
    "\n",
    "fig.show()"
   ]
  },
  {
   "cell_type": "code",
   "execution_count": null,
   "metadata": {},
   "outputs": [],
   "source": []
  },
  {
   "cell_type": "code",
   "execution_count": null,
   "metadata": {},
   "outputs": [],
   "source": []
  },
  {
   "cell_type": "code",
   "execution_count": null,
   "metadata": {},
   "outputs": [],
   "source": []
  }
 ],
 "metadata": {
  "kernelspec": {
   "display_name": "Python 3 (ipykernel)",
   "language": "python",
   "name": "python3"
  },
  "language_info": {
   "codemirror_mode": {
    "name": "ipython",
    "version": 3
   },
   "file_extension": ".py",
   "mimetype": "text/x-python",
   "name": "python",
   "nbconvert_exporter": "python",
   "pygments_lexer": "ipython3",
   "version": "3.11.5"
  }
 },
 "nbformat": 4,
 "nbformat_minor": 2
}
