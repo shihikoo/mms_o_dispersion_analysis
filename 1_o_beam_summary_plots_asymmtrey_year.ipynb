{
 "cells": [
  {
   "cell_type": "code",
   "execution_count": 1,
   "metadata": {},
   "outputs": [
    {
     "name": "stderr",
     "output_type": "stream",
     "text": [
      "/home/jliao/anaconda3/lib/python3.7/site-packages/dask/config.py:168: YAMLLoadWarning: calling yaml.load() without Loader=... is deprecated, as the default Loader is unsafe. Please read https://msg.pyyaml.org/load for full details.\n",
      "  data = yaml.load(f.read()) or {}\n",
      "/home/jliao/anaconda3/lib/python3.7/site-packages/distributed/config.py:20: YAMLLoadWarning: calling yaml.load() without Loader=... is deprecated, as the default Loader is unsafe. Please read https://msg.pyyaml.org/load for full details.\n",
      "  defaults = yaml.load(f)\n"
     ]
    }
   ],
   "source": [
    "import pandas as pd\n",
    "import plotly.express as px\n",
    "import plotly.io as pio\n",
    "from collections import Counter\n",
    "import math\n",
    "import datetime as datetime\n",
    "from plotly.subplots import make_subplots\n",
    "import plotly.graph_objects as go\n",
    "import statistics\n",
    "import glob\n",
    "import ipyplot\n",
    "import numpy as np\n",
    "from functions import data_preprocess_functions\n"
   ]
  },
  {
   "cell_type": "code",
   "execution_count": 2,
   "metadata": {},
   "outputs": [
    {
     "ename": "FileNotFoundError",
     "evalue": "[Errno 2] No such file or directory: 'idl_plots/output_5min_multi_subtraction_reduced_removebi_flux0.500.751.00_pap3.02.01.1/data/fulldata_20160101_to_20201231.csv'",
     "output_type": "error",
     "traceback": [
      "\u001b[0;31m---------------------------------------------------------------------------\u001b[0m",
      "\u001b[0;31mFileNotFoundError\u001b[0m                         Traceback (most recent call last)",
      "\u001b[0;32m/tmp/ipykernel_10042/164916980.py\u001b[0m in \u001b[0;36m<module>\u001b[0;34m\u001b[0m\n\u001b[1;32m      1\u001b[0m \u001b[0mdir_name\u001b[0m \u001b[0;34m=\u001b[0m \u001b[0;34m'idl_plots/output_5min_multi_subtraction_reduced_removebi_flux0.500.751.00_pap3.02.01.1/'\u001b[0m\u001b[0;34m\u001b[0m\u001b[0;34m\u001b[0m\u001b[0m\n\u001b[1;32m      2\u001b[0m \u001b[0mdata_filename\u001b[0m \u001b[0;34m=\u001b[0m \u001b[0mdir_name\u001b[0m \u001b[0;34m+\u001b[0m \u001b[0;34m'data/fulldata_20160101_to_20201231.csv'\u001b[0m\u001b[0;34m\u001b[0m\u001b[0;34m\u001b[0m\u001b[0m\n\u001b[0;32m----> 3\u001b[0;31m \u001b[0mdf\u001b[0m \u001b[0;34m=\u001b[0m \u001b[0mdata_preprocess_functions\u001b[0m\u001b[0;34m.\u001b[0m\u001b[0mpreprocess_data\u001b[0m\u001b[0;34m(\u001b[0m\u001b[0mpd\u001b[0m\u001b[0;34m.\u001b[0m\u001b[0mread_csv\u001b[0m\u001b[0;34m(\u001b[0m\u001b[0mdata_filename\u001b[0m\u001b[0;34m)\u001b[0m\u001b[0;34m)\u001b[0m\u001b[0;34m\u001b[0m\u001b[0;34m\u001b[0m\u001b[0m\n\u001b[0m",
      "\u001b[0;32m~/anaconda3/lib/python3.7/site-packages/pandas/util/_decorators.py\u001b[0m in \u001b[0;36mwrapper\u001b[0;34m(*args, **kwargs)\u001b[0m\n\u001b[1;32m    309\u001b[0m                     \u001b[0mstacklevel\u001b[0m\u001b[0;34m=\u001b[0m\u001b[0mstacklevel\u001b[0m\u001b[0;34m,\u001b[0m\u001b[0;34m\u001b[0m\u001b[0;34m\u001b[0m\u001b[0m\n\u001b[1;32m    310\u001b[0m                 )\n\u001b[0;32m--> 311\u001b[0;31m             \u001b[0;32mreturn\u001b[0m \u001b[0mfunc\u001b[0m\u001b[0;34m(\u001b[0m\u001b[0;34m*\u001b[0m\u001b[0margs\u001b[0m\u001b[0;34m,\u001b[0m \u001b[0;34m**\u001b[0m\u001b[0mkwargs\u001b[0m\u001b[0;34m)\u001b[0m\u001b[0;34m\u001b[0m\u001b[0;34m\u001b[0m\u001b[0m\n\u001b[0m\u001b[1;32m    312\u001b[0m \u001b[0;34m\u001b[0m\u001b[0m\n\u001b[1;32m    313\u001b[0m         \u001b[0;32mreturn\u001b[0m \u001b[0mwrapper\u001b[0m\u001b[0;34m\u001b[0m\u001b[0;34m\u001b[0m\u001b[0m\n",
      "\u001b[0;32m~/anaconda3/lib/python3.7/site-packages/pandas/io/parsers/readers.py\u001b[0m in \u001b[0;36mread_csv\u001b[0;34m(filepath_or_buffer, sep, delimiter, header, names, index_col, usecols, squeeze, prefix, mangle_dupe_cols, dtype, engine, converters, true_values, false_values, skipinitialspace, skiprows, skipfooter, nrows, na_values, keep_default_na, na_filter, verbose, skip_blank_lines, parse_dates, infer_datetime_format, keep_date_col, date_parser, dayfirst, cache_dates, iterator, chunksize, compression, thousands, decimal, lineterminator, quotechar, quoting, doublequote, escapechar, comment, encoding, encoding_errors, dialect, error_bad_lines, warn_bad_lines, on_bad_lines, delim_whitespace, low_memory, memory_map, float_precision, storage_options)\u001b[0m\n\u001b[1;32m    584\u001b[0m     \u001b[0mkwds\u001b[0m\u001b[0;34m.\u001b[0m\u001b[0mupdate\u001b[0m\u001b[0;34m(\u001b[0m\u001b[0mkwds_defaults\u001b[0m\u001b[0;34m)\u001b[0m\u001b[0;34m\u001b[0m\u001b[0;34m\u001b[0m\u001b[0m\n\u001b[1;32m    585\u001b[0m \u001b[0;34m\u001b[0m\u001b[0m\n\u001b[0;32m--> 586\u001b[0;31m     \u001b[0;32mreturn\u001b[0m \u001b[0m_read\u001b[0m\u001b[0;34m(\u001b[0m\u001b[0mfilepath_or_buffer\u001b[0m\u001b[0;34m,\u001b[0m \u001b[0mkwds\u001b[0m\u001b[0;34m)\u001b[0m\u001b[0;34m\u001b[0m\u001b[0;34m\u001b[0m\u001b[0m\n\u001b[0m\u001b[1;32m    587\u001b[0m \u001b[0;34m\u001b[0m\u001b[0m\n\u001b[1;32m    588\u001b[0m \u001b[0;34m\u001b[0m\u001b[0m\n",
      "\u001b[0;32m~/anaconda3/lib/python3.7/site-packages/pandas/io/parsers/readers.py\u001b[0m in \u001b[0;36m_read\u001b[0;34m(filepath_or_buffer, kwds)\u001b[0m\n\u001b[1;32m    480\u001b[0m \u001b[0;34m\u001b[0m\u001b[0m\n\u001b[1;32m    481\u001b[0m     \u001b[0;31m# Create the parser.\u001b[0m\u001b[0;34m\u001b[0m\u001b[0;34m\u001b[0m\u001b[0;34m\u001b[0m\u001b[0m\n\u001b[0;32m--> 482\u001b[0;31m     \u001b[0mparser\u001b[0m \u001b[0;34m=\u001b[0m \u001b[0mTextFileReader\u001b[0m\u001b[0;34m(\u001b[0m\u001b[0mfilepath_or_buffer\u001b[0m\u001b[0;34m,\u001b[0m \u001b[0;34m**\u001b[0m\u001b[0mkwds\u001b[0m\u001b[0;34m)\u001b[0m\u001b[0;34m\u001b[0m\u001b[0;34m\u001b[0m\u001b[0m\n\u001b[0m\u001b[1;32m    483\u001b[0m \u001b[0;34m\u001b[0m\u001b[0m\n\u001b[1;32m    484\u001b[0m     \u001b[0;32mif\u001b[0m \u001b[0mchunksize\u001b[0m \u001b[0;32mor\u001b[0m \u001b[0miterator\u001b[0m\u001b[0;34m:\u001b[0m\u001b[0;34m\u001b[0m\u001b[0;34m\u001b[0m\u001b[0m\n",
      "\u001b[0;32m~/anaconda3/lib/python3.7/site-packages/pandas/io/parsers/readers.py\u001b[0m in \u001b[0;36m__init__\u001b[0;34m(self, f, engine, **kwds)\u001b[0m\n\u001b[1;32m    809\u001b[0m             \u001b[0mself\u001b[0m\u001b[0;34m.\u001b[0m\u001b[0moptions\u001b[0m\u001b[0;34m[\u001b[0m\u001b[0;34m\"has_index_names\"\u001b[0m\u001b[0;34m]\u001b[0m \u001b[0;34m=\u001b[0m \u001b[0mkwds\u001b[0m\u001b[0;34m[\u001b[0m\u001b[0;34m\"has_index_names\"\u001b[0m\u001b[0;34m]\u001b[0m\u001b[0;34m\u001b[0m\u001b[0;34m\u001b[0m\u001b[0m\n\u001b[1;32m    810\u001b[0m \u001b[0;34m\u001b[0m\u001b[0m\n\u001b[0;32m--> 811\u001b[0;31m         \u001b[0mself\u001b[0m\u001b[0;34m.\u001b[0m\u001b[0m_engine\u001b[0m \u001b[0;34m=\u001b[0m \u001b[0mself\u001b[0m\u001b[0;34m.\u001b[0m\u001b[0m_make_engine\u001b[0m\u001b[0;34m(\u001b[0m\u001b[0mself\u001b[0m\u001b[0;34m.\u001b[0m\u001b[0mengine\u001b[0m\u001b[0;34m)\u001b[0m\u001b[0;34m\u001b[0m\u001b[0;34m\u001b[0m\u001b[0m\n\u001b[0m\u001b[1;32m    812\u001b[0m \u001b[0;34m\u001b[0m\u001b[0m\n\u001b[1;32m    813\u001b[0m     \u001b[0;32mdef\u001b[0m \u001b[0mclose\u001b[0m\u001b[0;34m(\u001b[0m\u001b[0mself\u001b[0m\u001b[0;34m)\u001b[0m\u001b[0;34m:\u001b[0m\u001b[0;34m\u001b[0m\u001b[0;34m\u001b[0m\u001b[0m\n",
      "\u001b[0;32m~/anaconda3/lib/python3.7/site-packages/pandas/io/parsers/readers.py\u001b[0m in \u001b[0;36m_make_engine\u001b[0;34m(self, engine)\u001b[0m\n\u001b[1;32m   1038\u001b[0m             )\n\u001b[1;32m   1039\u001b[0m         \u001b[0;31m# error: Too many arguments for \"ParserBase\"\u001b[0m\u001b[0;34m\u001b[0m\u001b[0;34m\u001b[0m\u001b[0;34m\u001b[0m\u001b[0m\n\u001b[0;32m-> 1040\u001b[0;31m         \u001b[0;32mreturn\u001b[0m \u001b[0mmapping\u001b[0m\u001b[0;34m[\u001b[0m\u001b[0mengine\u001b[0m\u001b[0;34m]\u001b[0m\u001b[0;34m(\u001b[0m\u001b[0mself\u001b[0m\u001b[0;34m.\u001b[0m\u001b[0mf\u001b[0m\u001b[0;34m,\u001b[0m \u001b[0;34m**\u001b[0m\u001b[0mself\u001b[0m\u001b[0;34m.\u001b[0m\u001b[0moptions\u001b[0m\u001b[0;34m)\u001b[0m  \u001b[0;31m# type: ignore[call-arg]\u001b[0m\u001b[0;34m\u001b[0m\u001b[0;34m\u001b[0m\u001b[0m\n\u001b[0m\u001b[1;32m   1041\u001b[0m \u001b[0;34m\u001b[0m\u001b[0m\n\u001b[1;32m   1042\u001b[0m     \u001b[0;32mdef\u001b[0m \u001b[0m_failover_to_python\u001b[0m\u001b[0;34m(\u001b[0m\u001b[0mself\u001b[0m\u001b[0;34m)\u001b[0m\u001b[0;34m:\u001b[0m\u001b[0;34m\u001b[0m\u001b[0;34m\u001b[0m\u001b[0m\n",
      "\u001b[0;32m~/anaconda3/lib/python3.7/site-packages/pandas/io/parsers/c_parser_wrapper.py\u001b[0m in \u001b[0;36m__init__\u001b[0;34m(self, src, **kwds)\u001b[0m\n\u001b[1;32m     49\u001b[0m \u001b[0;34m\u001b[0m\u001b[0m\n\u001b[1;32m     50\u001b[0m         \u001b[0;31m# open handles\u001b[0m\u001b[0;34m\u001b[0m\u001b[0;34m\u001b[0m\u001b[0;34m\u001b[0m\u001b[0m\n\u001b[0;32m---> 51\u001b[0;31m         \u001b[0mself\u001b[0m\u001b[0;34m.\u001b[0m\u001b[0m_open_handles\u001b[0m\u001b[0;34m(\u001b[0m\u001b[0msrc\u001b[0m\u001b[0;34m,\u001b[0m \u001b[0mkwds\u001b[0m\u001b[0;34m)\u001b[0m\u001b[0;34m\u001b[0m\u001b[0;34m\u001b[0m\u001b[0m\n\u001b[0m\u001b[1;32m     52\u001b[0m         \u001b[0;32massert\u001b[0m \u001b[0mself\u001b[0m\u001b[0;34m.\u001b[0m\u001b[0mhandles\u001b[0m \u001b[0;32mis\u001b[0m \u001b[0;32mnot\u001b[0m \u001b[0;32mNone\u001b[0m\u001b[0;34m\u001b[0m\u001b[0;34m\u001b[0m\u001b[0m\n\u001b[1;32m     53\u001b[0m \u001b[0;34m\u001b[0m\u001b[0m\n",
      "\u001b[0;32m~/anaconda3/lib/python3.7/site-packages/pandas/io/parsers/base_parser.py\u001b[0m in \u001b[0;36m_open_handles\u001b[0;34m(self, src, kwds)\u001b[0m\n\u001b[1;32m    227\u001b[0m             \u001b[0mmemory_map\u001b[0m\u001b[0;34m=\u001b[0m\u001b[0mkwds\u001b[0m\u001b[0;34m.\u001b[0m\u001b[0mget\u001b[0m\u001b[0;34m(\u001b[0m\u001b[0;34m\"memory_map\"\u001b[0m\u001b[0;34m,\u001b[0m \u001b[0;32mFalse\u001b[0m\u001b[0;34m)\u001b[0m\u001b[0;34m,\u001b[0m\u001b[0;34m\u001b[0m\u001b[0;34m\u001b[0m\u001b[0m\n\u001b[1;32m    228\u001b[0m             \u001b[0mstorage_options\u001b[0m\u001b[0;34m=\u001b[0m\u001b[0mkwds\u001b[0m\u001b[0;34m.\u001b[0m\u001b[0mget\u001b[0m\u001b[0;34m(\u001b[0m\u001b[0;34m\"storage_options\"\u001b[0m\u001b[0;34m,\u001b[0m \u001b[0;32mNone\u001b[0m\u001b[0;34m)\u001b[0m\u001b[0;34m,\u001b[0m\u001b[0;34m\u001b[0m\u001b[0;34m\u001b[0m\u001b[0m\n\u001b[0;32m--> 229\u001b[0;31m             \u001b[0merrors\u001b[0m\u001b[0;34m=\u001b[0m\u001b[0mkwds\u001b[0m\u001b[0;34m.\u001b[0m\u001b[0mget\u001b[0m\u001b[0;34m(\u001b[0m\u001b[0;34m\"encoding_errors\"\u001b[0m\u001b[0;34m,\u001b[0m \u001b[0;34m\"strict\"\u001b[0m\u001b[0;34m)\u001b[0m\u001b[0;34m,\u001b[0m\u001b[0;34m\u001b[0m\u001b[0;34m\u001b[0m\u001b[0m\n\u001b[0m\u001b[1;32m    230\u001b[0m         )\n\u001b[1;32m    231\u001b[0m \u001b[0;34m\u001b[0m\u001b[0m\n",
      "\u001b[0;32m~/anaconda3/lib/python3.7/site-packages/pandas/io/common.py\u001b[0m in \u001b[0;36mget_handle\u001b[0;34m(path_or_buf, mode, encoding, compression, memory_map, is_text, errors, storage_options)\u001b[0m\n\u001b[1;32m    705\u001b[0m                 \u001b[0mencoding\u001b[0m\u001b[0;34m=\u001b[0m\u001b[0mioargs\u001b[0m\u001b[0;34m.\u001b[0m\u001b[0mencoding\u001b[0m\u001b[0;34m,\u001b[0m\u001b[0;34m\u001b[0m\u001b[0;34m\u001b[0m\u001b[0m\n\u001b[1;32m    706\u001b[0m                 \u001b[0merrors\u001b[0m\u001b[0;34m=\u001b[0m\u001b[0merrors\u001b[0m\u001b[0;34m,\u001b[0m\u001b[0;34m\u001b[0m\u001b[0;34m\u001b[0m\u001b[0m\n\u001b[0;32m--> 707\u001b[0;31m                 \u001b[0mnewline\u001b[0m\u001b[0;34m=\u001b[0m\u001b[0;34m\"\"\u001b[0m\u001b[0;34m,\u001b[0m\u001b[0;34m\u001b[0m\u001b[0;34m\u001b[0m\u001b[0m\n\u001b[0m\u001b[1;32m    708\u001b[0m             )\n\u001b[1;32m    709\u001b[0m         \u001b[0;32melse\u001b[0m\u001b[0;34m:\u001b[0m\u001b[0;34m\u001b[0m\u001b[0;34m\u001b[0m\u001b[0m\n",
      "\u001b[0;31mFileNotFoundError\u001b[0m: [Errno 2] No such file or directory: 'idl_plots/output_5min_multi_subtraction_reduced_removebi_flux0.500.751.00_pap3.02.01.1/data/fulldata_20160101_to_20201231.csv'"
     ]
    }
   ],
   "source": [
    "dir_name = 'idl_plots/output_sc1_sp3_300sec_multi_pa2_en2_subtraction_reduced_removebi_flux0.500.751.00_pap3.02.01.1/'\n",
    "#dir_name = 'idl_plots/output_sc1_sp3_300sec_multi_pa2_en2_subtraction_removebi_flux0.500.751.00_pap3.02.01.1/'\n",
    "\n",
    "agg_beam_ext_filename = dir_name + 'idl_aggregated_fulldata_20170101_to_20201231.csv'\n",
    "\n",
    "df = pd.read_csv(agg_beam_ext_filename)"
   ]
  },
  {
   "cell_type": "code",
   "execution_count": null,
   "metadata": {},
   "outputs": [],
   "source": [
    "index =  (df['xgsm'] < 5) & (df['xgsm'] > -20) & (df['zgsm'] > -10) & (df['zgsm'] < 10) & (df['ygsm'] < 20) & (df['ygsm'] > -20)\n",
    "fig1 = px.scatter(df.loc[index,:], x = 'xgsm', y = 'ygsm', facet_col = 'year')\n",
    "fig2 = px.scatter(df.loc[index,:], x = 'xgsm', y = 'zgsm', facet_col = 'year')\n",
    "fig3 = px.scatter(df.loc[index,:], x = 'ygsm', y = 'zgsm', facet_col = 'year')\n",
    "fig1.show()\n",
    "fig2.show()\n",
    "fig3.show()\n"
   ]
  },
  {
   "cell_type": "code",
   "execution_count": null,
   "metadata": {},
   "outputs": [],
   "source": [
    "index1 =  (df['xgsm'] > -25) & (df['xgsm'] < -15) & (df['zgsm'] > -5) & (df['zgsm'] < 5) & (df['ygsm'] < 20) & (df['ygsm'] > 0)& (df['region'] == 'bl') & (df['bx'] > 0)\n",
    "index2 =  (df['xgsm'] > -15) & (df['xgsm'] < -5) & (df['zgsm'] > -5) & (df['zgsm'] < 5) & (df['ygsm'] < 20) & (df['ygsm'] > 0) & (df['region'] == 'bl') & (df['bx'] > 0)\n",
    "index3 =  (df['xgsm'] > -25) & (df['xgsm'] < -15) & (df['zgsm'] > -5) & (df['zgsm'] < 5) & (df['ygsm'] < 0) & (df['ygsm'] > -20)& (df['region'] == 'bl') & (df['bx'] > 0)\n",
    "index4 =  (df['xgsm'] > -15) & (df['xgsm'] < -5) & (df['zgsm'] > -5) & (df['zgsm'] < 5) & (df['ygsm'] < 0) & (df['ygsm'] > -20)& (df['region'] == 'bl') & (df['bx'] > 0)\n",
    "\n",
    "fig = make_subplots(rows=1, cols=1, subplot_titles=(\"BL north\",\"\"))\n",
    "\n",
    "fig.add_trace(go.Scatter(x=df.loc[index1,'xgsm'], y = df.loc[index1,'ygsm'], mode=\"markers\"),row=1, col=1)\n",
    "fig.add_trace(go.Scatter(x=df.loc[index2,'xgsm'], y = df.loc[index2,'ygsm'], mode=\"markers\"),row=1, col=1)\n",
    "fig.add_trace(go.Scatter(x=df.loc[index3,'xgsm'], y = df.loc[index3,'ygsm'], mode=\"markers\"),row=1, col=1)\n",
    "fig.add_trace(go.Scatter(x=df.loc[index4,'xgsm'], y = df.loc[index4,'ygsm'], mode=\"markers\"),row=1, col=1)\n",
    "\n",
    "fig.update_layout(showlegend=False)\n",
    "\n",
    "fig.show()"
   ]
  },
  {
   "cell_type": "code",
   "execution_count": null,
   "metadata": {},
   "outputs": [],
   "source": [
    "property_to_plot = 'energy'\n",
    "\n",
    "fig = make_subplots(rows=2, cols=2, subplot_titles=(\"far dusk\", \"near dusk\", \"far dawn\", \"near dawn\"))\n",
    "fig.add_trace(go.Histogram(x=df.loc[index1, property_to_plot].apply(math.log), xbins=dict(start=0,end=11, size=0.2)), row=1, col=1)\n",
    "fig.add_trace(go.Histogram(x=df.loc[index2, property_to_plot].apply(math.log), xbins=dict(start=0,end=11, size=0.2)) ,row=1, col=2)\n",
    "fig.add_trace(go.Histogram(x=df.loc[index3, property_to_plot].apply(math.log), xbins=dict(start=0,end=11, size=0.2)) ,row=2, col=1)\n",
    "fig.add_trace(go.Histogram(x=df.loc[index4, property_to_plot].apply(math.log), xbins=dict(start=0,end=11, size=0.2)) ,row=2, col=2)\n",
    "\n",
    "#fig.update_xaxes(type=\"log\")\n",
    "\n",
    "fig.update_layout(showlegend=False, title='Limited to BL north')\n",
    "\n",
    "fig.show()\n"
   ]
  },
  {
   "cell_type": "code",
   "execution_count": null,
   "metadata": {
    "scrolled": false
   },
   "outputs": [],
   "source": [
    "property_to_plot = 'flux'\n",
    "\n",
    "fig = make_subplots(rows=2, cols=2, subplot_titles=(\"far dusk\", \"near dusk\", \"far dawn\", \"near dawn\"))\n",
    "fig.add_trace(go.Histogram(x=df.loc[index1, property_to_plot], xbins=dict(start=0,end=40, size=1)), row=1, col=1)\n",
    "fig.add_trace(go.Histogram(x=df.loc[index2, property_to_plot], xbins=dict(start=0,end=40, size=1)) ,row=1, col=2)\n",
    "fig.add_trace(go.Histogram(x=df.loc[index3, property_to_plot], xbins=dict(start=0,end=40, size=1)) ,row=2, col=1)\n",
    "fig.add_trace(go.Histogram(x=df.loc[index4, property_to_plot], xbins=dict(start=0,end=40, size=1)) ,row=2, col=2)\n",
    "\n",
    "fig.update_layout(showlegend=False, title='Limited to BL north')\n",
    "\n",
    "fig.show()\n"
   ]
  },
  {
   "cell_type": "code",
   "execution_count": null,
   "metadata": {},
   "outputs": [],
   "source": [
    "property_to_plot = 'velocity_o_all'\n",
    "\n",
    "fig = make_subplots(rows=2, cols=2, subplot_titles=(\"far dusk\", \"near dusk\", \"far dawn\", \"near dawn\"))\n",
    "fig.add_trace(go.Histogram(x=df.loc[index1, property_to_plot], xbins=dict(start=0,end=400, size=10)), row=1, col=1)\n",
    "fig.add_trace(go.Histogram(x=df.loc[index2, property_to_plot], xbins=dict(start=0,end=400, size=10)) ,row=1, col=2)\n",
    "fig.add_trace(go.Histogram(x=df.loc[index3, property_to_plot], xbins=dict(start=0,end=400, size=10)) ,row=2, col=1)\n",
    "fig.add_trace(go.Histogram(x=df.loc[index4, property_to_plot], xbins=dict(start=0,end=400, size=10)) ,row=2, col=2)\n",
    "\n",
    "fig.update_layout(showlegend=False, title='Limited to BL north')\n",
    "\n",
    "fig.show()\n"
   ]
  },
  {
   "cell_type": "code",
   "execution_count": null,
   "metadata": {},
   "outputs": [],
   "source": [
    "property_to_plot = 'v_par_all'\n",
    "\n",
    "fig = make_subplots(rows=2, cols=2, subplot_titles=(\"far dusk\", \"near dusk\", \"far dawn\", \"near dawn\"))\n",
    "fig.add_trace(go.Histogram(x=df.loc[index1, property_to_plot], xbins=dict(start=0,end=400, size=10)), row=1, col=1)\n",
    "fig.add_trace(go.Histogram(x=df.loc[index2, property_to_plot], xbins=dict(start=0,end=400, size=10)) ,row=1, col=2)\n",
    "fig.add_trace(go.Histogram(x=df.loc[index3, property_to_plot], xbins=dict(start=0,end=400, size=10)) ,row=2, col=1)\n",
    "fig.add_trace(go.Histogram(x=df.loc[index4, property_to_plot], xbins=dict(start=0,end=400, size=10)) ,row=2, col=2)\n",
    "\n",
    "fig.update_layout(showlegend=False, title='Limited to BL north')\n",
    "\n",
    "fig.show()\n"
   ]
  },
  {
   "cell_type": "code",
   "execution_count": null,
   "metadata": {},
   "outputs": [],
   "source": [
    "property_to_plot = 'v_perp_all'\n",
    "\n",
    "fig = make_subplots(rows=2, cols=2, subplot_titles=(\"far dusk\", \"near dusk\", \"far dawn\", \"near dawn\"))\n",
    "fig.add_trace(go.Histogram(x=df.loc[index1, property_to_plot], xbins=dict(start=0,end=400, size=10)), row=1, col=1)\n",
    "fig.add_trace(go.Histogram(x=df.loc[index2, property_to_plot], xbins=dict(start=0,end=400, size=10)) ,row=1, col=2)\n",
    "fig.add_trace(go.Histogram(x=df.loc[index3, property_to_plot], xbins=dict(start=0,end=400, size=10)) ,row=2, col=1)\n",
    "fig.add_trace(go.Histogram(x=df.loc[index4, property_to_plot], xbins=dict(start=0,end=400, size=10)) ,row=2, col=2)\n",
    "\n",
    "fig.update_layout(showlegend=False, title='Limited to BL north')\n",
    "\n",
    "fig.show()\n"
   ]
  },
  {
   "cell_type": "code",
   "execution_count": null,
   "metadata": {},
   "outputs": [],
   "source": [
    "index =  df['flux'].notnull()\n",
    "df['abs_flag'] = df['flag'].apply(abs)\n",
    "fig = px.density_heatmap(df.loc[index,:], x = 'xgsm', y = 'ygsm'\n",
    "                         , marginal_x=\"histogram\", marginal_y=\"histogram\"\n",
    "                         , z ='abs_flag'\n",
    "                         , histfunc ='avg', nbinsx=20, nbinsy=16\n",
    "                         , range_x=[-30,10],range_y=[-12,12]\n",
    "                         #, facet_row=\"region\"\n",
    "                         , facet_col=\"region\", title='Occurrence Frequency')\n",
    "fig.show()"
   ]
  },
  {
   "cell_type": "code",
   "execution_count": null,
   "metadata": {},
   "outputs": [],
   "source": [
    "index =  df['flux'].notnull()\n",
    "df['abs_flag'] = df['flag'].apply(abs)\n",
    "fig = px.density_heatmap(df, x = 'xgsm', y = 'zgsm', marginal_x=\"histogram\", marginal_y=\"histogram\"\n",
    "                         , z=\"flux\", histfunc=\"avg\", nbinsx=20, nbinsy=16\n",
    "                         , range_x=[-30,10],range_y=[-12,12]\n",
    "                         ,facet_row=\"storm\", facet_col=\"kp_gt_2\", title='flux' )\n",
    "fig.show()"
   ]
  },
  {
   "cell_type": "code",
   "execution_count": null,
   "metadata": {},
   "outputs": [],
   "source": [
    "index1 =  (df['year'] == 2017) & (df['region'] == 2) & (df['xgsm'] > -20) & (df['xgsm'] < -5) & (df['zgsm'] > -5) & (df['zgsm'] < 5) & (df['ygsm'] < 0) & (df['ygsm'] > -20)\n",
    "index2 =  (df['year'] == 2017) & (df['region'] == 2) & (df['xgsm'] > -20) & (df['xgsm'] < -5) & (df['zgsm'] > -5) & (df['zgsm'] < 5) & (df['ygsm'] < 20) & (df['ygsm'] > 0)\n",
    "index3 =  (df['year'] == 2018) & (df['region'] == 2) & (df['xgsm'] > -20) & (df['xgsm'] < -5) & (df['zgsm'] > -5) & (df['zgsm'] < 5) & (df['ygsm'] < 0) & (df['ygsm'] > -20)\n",
    "index4 =  (df['year'] == 2018) & (df['region'] == 2) & (df['xgsm'] > -20) & (df['xgsm'] < -5) & (df['zgsm'] > -5) & (df['zgsm'] < 5) & (df['ygsm'] < 20) & (df['ygsm'] > 0)\n",
    "index5 =  (df['year'] == 2019) & (df['region'] == 2) & (df['xgsm'] > -20) & (df['xgsm'] < -5) & (df['zgsm'] > -5) & (df['zgsm'] < 5) & (df['ygsm'] < 0) & (df['ygsm'] > -20)\n",
    "index6 =  (df['year'] == 2019) & (df['region'] == 2) & (df['xgsm'] > -20) & (df['xgsm'] < -5) & (df['zgsm'] > -5) & (df['zgsm'] < 5) & (df['ygsm'] < 20) & (df['ygsm'] > 0)\n",
    "\n",
    "# index1 =  (df['region'] == 2) & (df['datetime_str'] > pd.Timestamp(2017,4,16)) & (df['datetime_str'] < pd.Timestamp(2017,7,17)) & (df['xgsm'] > -20) & (df['xgsm'] < -5) & (df['zgsm'] > -5) & (df['zgsm'] < 5)\n",
    "# index2 =  (df['region'] == 2) & (df['datetime_str'] > pd.Timestamp(2017,7,17)) & (df['datetime_str'] < pd.Timestamp(2017,11,1))& (df['xgsm'] > -20) & (df['xgsm'] < -5) & (df['zgsm'] > -5) & (df['zgsm'] < 5)\n",
    "# index3 =  (df['region'] == 2) & (df['datetime_str'] > pd.Timestamp(2018,4,16)) & (df['datetime_str'] < pd.Timestamp(2018,7,17))& (df['xgsm'] > -20) & (df['xgsm'] < -5) & (df['zgsm'] > -5) & (df['zgsm'] < 5)\n",
    "# index4 =  (df['region'] == 2) & (df['datetime_str'] > pd.Timestamp(2018,7,17)) & (df['datetime_str'] < pd.Timestamp(2018,12,31))& (df['xgsm'] > -20) & (df['xgsm'] < -5) & (df['zgsm'] > -5) & (df['zgsm'] < 5)\n",
    "# index5 =  (df['region'] == 2) & (df['datetime_str'] > pd.Timestamp(2019,4,16)) & (df['datetime_str'] < pd.Timestamp(2019,8,17))& (df['xgsm'] > -20) & (df['xgsm'] < -5) & (df['zgsm'] > -5) & (df['zgsm'] < 5)\n",
    "# index6 =  (df['region'] == 2) & (df['datetime_str'] > pd.Timestamp(2019,8,17)) & (df['datetime_str'] < pd.Timestamp(2019,12,31))& (df['xgsm'] > -20) & (df['xgsm'] < -5) & (df['zgsm'] > -5) & (df['zgsm'] < 5)\n",
    "\n",
    "fig = make_subplots(rows=1, cols=3, subplot_titles=(\"2017\", \"2018\", \"2019\"))\n",
    "\n",
    "fig.add_trace(go.Scatter(x=df.loc[index1,'xgsm'], y = df.loc[index1,'ygsm'], mode=\"markers\"),row=1, col=1)\n",
    "fig.add_trace(go.Scatter(x=df.loc[index2,'xgsm'], y = df.loc[index2,'ygsm'], mode=\"markers\"),row=1, col=1)\n",
    "fig.add_trace(go.Scatter(x=df.loc[index3,'xgsm'], y = df.loc[index3,'ygsm'], mode=\"markers\"),row=1, col=2)\n",
    "fig.add_trace(go.Scatter(x=df.loc[index4,'xgsm'], y = df.loc[index4,'ygsm'], mode=\"markers\"),row=1, col=2)\n",
    "fig.add_trace(go.Scatter(x=df.loc[index5,'xgsm'], y = df.loc[index3,'ygsm'], mode=\"markers\"),row=1, col=3)\n",
    "fig.add_trace(go.Scatter(x=df.loc[index6,'xgsm'], y = df.loc[index4,'ygsm'], mode=\"markers\"),row=1, col=3)\n",
    "\n",
    "fig.update_layout(showlegend=False, title='BL')\n",
    "\n",
    "fig.show()"
   ]
  },
  {
   "cell_type": "code",
   "execution_count": null,
   "metadata": {},
   "outputs": [],
   "source": [
    "property_to_plot = 'energy'\n",
    "\n",
    "fig = make_subplots(rows=3, cols=2, subplot_titles=(\"2017 dawn\", \"2017 dusk\", \"2018 dawn\", \"2018 dusk\",\"2019 dawn\", \"2019 dusk\"))\n",
    "fig.add_trace(go.Histogram(x=df.loc[index1, property_to_plot].apply(math.log), xbins=dict(start=0,end=11, size=0.2)), row=1, col=1)\n",
    "fig.add_trace(go.Histogram(x=df.loc[index2, property_to_plot].apply(math.log), xbins=dict(start=0,end=11, size=0.2)) ,row=1, col=2)\n",
    "fig.add_trace(go.Histogram(x=df.loc[index3, property_to_plot].apply(math.log), xbins=dict(start=0,end=11, size=0.2)) ,row=2, col=1)\n",
    "fig.add_trace(go.Histogram(x=df.loc[index4, property_to_plot].apply(math.log), xbins=dict(start=0,end=11, size=0.2)) ,row=2, col=2)\n",
    "fig.add_trace(go.Histogram(x=df.loc[index5, property_to_plot].apply(math.log), xbins=dict(start=0,end=11, size=0.2)) ,row=3, col=1)\n",
    "fig.add_trace(go.Histogram(x=df.loc[index6, property_to_plot].apply(math.log), xbins=dict(start=0,end=11, size=0.2)) ,row=3, col=2)\n",
    "\n",
    "fig.update_layout(showlegend=False, title='energy in BL')\n",
    "\n",
    "fig.show()\n"
   ]
  },
  {
   "cell_type": "code",
   "execution_count": null,
   "metadata": {},
   "outputs": [],
   "source": [
    "property_to_plot = 'v_par_all'\n",
    "\n",
    "fig = make_subplots(rows=3, cols=2, subplot_titles=(\"2017 dawn\", \"2017 dusk\", \"2018 dawn\", \"2018 dusk\",\"2019 dawn\", \"2019 dusk\"))\n",
    "fig.add_trace(go.Histogram(x=df.loc[index1, property_to_plot], xbins=dict(start=0,end=300, size=10)), row=1, col=1)\n",
    "fig.add_trace(go.Histogram(x=df.loc[index2, property_to_plot], xbins=dict(start=0,end=300, size=10)) ,row=1, col=2)\n",
    "fig.add_trace(go.Histogram(x=df.loc[index3, property_to_plot], xbins=dict(start=0,end=300, size=10)) ,row=2, col=1)\n",
    "fig.add_trace(go.Histogram(x=df.loc[index4, property_to_plot], xbins=dict(start=0,end=300, size=10)) ,row=2, col=2)\n",
    "fig.add_trace(go.Histogram(x=df.loc[index5, property_to_plot], xbins=dict(start=0,end=300, size=10)) ,row=3, col=1)\n",
    "fig.add_trace(go.Histogram(x=df.loc[index6, property_to_plot], xbins=dict(start=0,end=300, size=10)) ,row=3, col=2)\n",
    "\n",
    "fig.update_layout(showlegend=False, title='v_par_all in BL')\n",
    "\n",
    "fig.show()\n"
   ]
  },
  {
   "cell_type": "code",
   "execution_count": null,
   "metadata": {},
   "outputs": [],
   "source": []
  },
  {
   "cell_type": "code",
   "execution_count": null,
   "metadata": {},
   "outputs": [],
   "source": []
  }
 ],
 "metadata": {
  "kernelspec": {
   "display_name": "Python 3 (ipykernel)",
   "language": "python",
   "name": "python3"
  },
  "language_info": {
   "codemirror_mode": {
    "name": "ipython",
    "version": 3
   },
   "file_extension": ".py",
   "mimetype": "text/x-python",
   "name": "python",
   "nbconvert_exporter": "python",
   "pygments_lexer": "ipython3",
   "version": "3.11.5"
  }
 },
 "nbformat": 4,
 "nbformat_minor": 2
}
