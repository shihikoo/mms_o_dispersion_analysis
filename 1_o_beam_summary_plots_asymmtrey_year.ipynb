{
 "cells": [
  {
   "cell_type": "code",
   "execution_count": null,
   "metadata": {},
   "outputs": [],
   "source": [
    "import pandas as pd\n",
    "import plotly.express as px\n",
    "import plotly.io as pio\n",
    "from collections import Counter\n",
    "import math\n",
    "import datetime as datetime\n",
    "from plotly.subplots import make_subplots\n",
    "import plotly.graph_objects as go\n",
    "import statistics\n",
    "import glob\n",
    "import ipyplot\n",
    "import numpy as np\n",
    "from functions import data_preprocess_functions\n"
   ]
  },
  {
   "cell_type": "code",
   "execution_count": null,
   "metadata": {},
   "outputs": [],
   "source": [
    "dir_name = 'idl_plots/output_5min_multi_subtraction_reduced_removebi_flux0.500.751.00_pap3.02.01.1/'\n",
    "data_filename = dir_name + 'data/fulldata_20160101_to_20201231.csv'\n",
    "df = data_preprocess_functions.preprocess_data(pd.read_csv(data_filename))"
   ]
  },
  {
   "cell_type": "code",
   "execution_count": null,
   "metadata": {},
   "outputs": [],
   "source": [
    "index =  (df['xgsm'] < 5) & (df['xgsm'] > -20) & (df['zgsm'] > -10) & (df['zgsm'] < 10) & (df['ygsm'] < 20) & (df['ygsm'] > -20)\n",
    "fig1 = px.scatter(df.loc[index,:], x = 'xgsm', y = 'ygsm', facet_col = 'year')\n",
    "fig2 = px.scatter(df.loc[index,:], x = 'xgsm', y = 'zgsm', facet_col = 'year')\n",
    "fig3 = px.scatter(df.loc[index,:], x = 'ygsm', y = 'zgsm', facet_col = 'year')\n",
    "fig1.show()\n",
    "fig2.show()\n",
    "fig3.show()\n"
   ]
  },
  {
   "cell_type": "code",
   "execution_count": null,
   "metadata": {},
   "outputs": [],
   "source": [
    "index1 =  (df['xgsm'] > -25) & (df['xgsm'] < -15) & (df['zgsm'] > -5) & (df['zgsm'] < 5) & (df['ygsm'] < 20) & (df['ygsm'] > 0)& (df['region'] == 'bl') & (df['bx'] > 0)\n",
    "index2 =  (df['xgsm'] > -15) & (df['xgsm'] < -5) & (df['zgsm'] > -5) & (df['zgsm'] < 5) & (df['ygsm'] < 20) & (df['ygsm'] > 0) & (df['region'] == 'bl') & (df['bx'] > 0)\n",
    "index3 =  (df['xgsm'] > -25) & (df['xgsm'] < -15) & (df['zgsm'] > -5) & (df['zgsm'] < 5) & (df['ygsm'] < 0) & (df['ygsm'] > -20)& (df['region'] == 'bl') & (df['bx'] > 0)\n",
    "index4 =  (df['xgsm'] > -15) & (df['xgsm'] < -5) & (df['zgsm'] > -5) & (df['zgsm'] < 5) & (df['ygsm'] < 0) & (df['ygsm'] > -20)& (df['region'] == 'bl') & (df['bx'] > 0)\n",
    "\n",
    "fig = make_subplots(rows=1, cols=1, subplot_titles=(\"BL north\",\"\"))\n",
    "\n",
    "fig.add_trace(go.Scatter(x=df.loc[index1,'xgsm'], y = df.loc[index1,'ygsm'], mode=\"markers\"),row=1, col=1)\n",
    "fig.add_trace(go.Scatter(x=df.loc[index2,'xgsm'], y = df.loc[index2,'ygsm'], mode=\"markers\"),row=1, col=1)\n",
    "fig.add_trace(go.Scatter(x=df.loc[index3,'xgsm'], y = df.loc[index3,'ygsm'], mode=\"markers\"),row=1, col=1)\n",
    "fig.add_trace(go.Scatter(x=df.loc[index4,'xgsm'], y = df.loc[index4,'ygsm'], mode=\"markers\"),row=1, col=1)\n",
    "\n",
    "fig.update_layout(showlegend=False)\n",
    "\n",
    "fig.show()"
   ]
  },
  {
   "cell_type": "code",
   "execution_count": null,
   "metadata": {},
   "outputs": [],
   "source": [
    "property_to_plot = 'energy'\n",
    "\n",
    "fig = make_subplots(rows=2, cols=2, subplot_titles=(\"far dusk\", \"near dusk\", \"far dawn\", \"near dawn\"))\n",
    "fig.add_trace(go.Histogram(x=df.loc[index1, property_to_plot].apply(math.log), xbins=dict(start=0,end=11, size=0.2)), row=1, col=1)\n",
    "fig.add_trace(go.Histogram(x=df.loc[index2, property_to_plot].apply(math.log), xbins=dict(start=0,end=11, size=0.2)) ,row=1, col=2)\n",
    "fig.add_trace(go.Histogram(x=df.loc[index3, property_to_plot].apply(math.log), xbins=dict(start=0,end=11, size=0.2)) ,row=2, col=1)\n",
    "fig.add_trace(go.Histogram(x=df.loc[index4, property_to_plot].apply(math.log), xbins=dict(start=0,end=11, size=0.2)) ,row=2, col=2)\n",
    "\n",
    "#fig.update_xaxes(type=\"log\")\n",
    "\n",
    "fig.update_layout(showlegend=False, title='Limited to BL north')\n",
    "\n",
    "fig.show()\n"
   ]
  },
  {
   "cell_type": "code",
   "execution_count": null,
   "metadata": {
    "scrolled": false
   },
   "outputs": [],
   "source": [
    "property_to_plot = 'flux'\n",
    "\n",
    "fig = make_subplots(rows=2, cols=2, subplot_titles=(\"far dusk\", \"near dusk\", \"far dawn\", \"near dawn\"))\n",
    "fig.add_trace(go.Histogram(x=df.loc[index1, property_to_plot], xbins=dict(start=0,end=40, size=1)), row=1, col=1)\n",
    "fig.add_trace(go.Histogram(x=df.loc[index2, property_to_plot], xbins=dict(start=0,end=40, size=1)) ,row=1, col=2)\n",
    "fig.add_trace(go.Histogram(x=df.loc[index3, property_to_plot], xbins=dict(start=0,end=40, size=1)) ,row=2, col=1)\n",
    "fig.add_trace(go.Histogram(x=df.loc[index4, property_to_plot], xbins=dict(start=0,end=40, size=1)) ,row=2, col=2)\n",
    "\n",
    "fig.update_layout(showlegend=False, title='Limited to BL north')\n",
    "\n",
    "fig.show()\n"
   ]
  },
  {
   "cell_type": "code",
   "execution_count": null,
   "metadata": {},
   "outputs": [],
   "source": [
    "property_to_plot = 'velocity_o_all'\n",
    "\n",
    "fig = make_subplots(rows=2, cols=2, subplot_titles=(\"far dusk\", \"near dusk\", \"far dawn\", \"near dawn\"))\n",
    "fig.add_trace(go.Histogram(x=df.loc[index1, property_to_plot], xbins=dict(start=0,end=400, size=10)), row=1, col=1)\n",
    "fig.add_trace(go.Histogram(x=df.loc[index2, property_to_plot], xbins=dict(start=0,end=400, size=10)) ,row=1, col=2)\n",
    "fig.add_trace(go.Histogram(x=df.loc[index3, property_to_plot], xbins=dict(start=0,end=400, size=10)) ,row=2, col=1)\n",
    "fig.add_trace(go.Histogram(x=df.loc[index4, property_to_plot], xbins=dict(start=0,end=400, size=10)) ,row=2, col=2)\n",
    "\n",
    "fig.update_layout(showlegend=False, title='Limited to BL north')\n",
    "\n",
    "fig.show()\n"
   ]
  },
  {
   "cell_type": "code",
   "execution_count": null,
   "metadata": {},
   "outputs": [],
   "source": [
    "property_to_plot = 'v_par_all'\n",
    "\n",
    "fig = make_subplots(rows=2, cols=2, subplot_titles=(\"far dusk\", \"near dusk\", \"far dawn\", \"near dawn\"))\n",
    "fig.add_trace(go.Histogram(x=df.loc[index1, property_to_plot], xbins=dict(start=0,end=400, size=10)), row=1, col=1)\n",
    "fig.add_trace(go.Histogram(x=df.loc[index2, property_to_plot], xbins=dict(start=0,end=400, size=10)) ,row=1, col=2)\n",
    "fig.add_trace(go.Histogram(x=df.loc[index3, property_to_plot], xbins=dict(start=0,end=400, size=10)) ,row=2, col=1)\n",
    "fig.add_trace(go.Histogram(x=df.loc[index4, property_to_plot], xbins=dict(start=0,end=400, size=10)) ,row=2, col=2)\n",
    "\n",
    "fig.update_layout(showlegend=False, title='Limited to BL north')\n",
    "\n",
    "fig.show()\n"
   ]
  },
  {
   "cell_type": "code",
   "execution_count": null,
   "metadata": {},
   "outputs": [],
   "source": [
    "property_to_plot = 'v_perp_all'\n",
    "\n",
    "fig = make_subplots(rows=2, cols=2, subplot_titles=(\"far dusk\", \"near dusk\", \"far dawn\", \"near dawn\"))\n",
    "fig.add_trace(go.Histogram(x=df.loc[index1, property_to_plot], xbins=dict(start=0,end=400, size=10)), row=1, col=1)\n",
    "fig.add_trace(go.Histogram(x=df.loc[index2, property_to_plot], xbins=dict(start=0,end=400, size=10)) ,row=1, col=2)\n",
    "fig.add_trace(go.Histogram(x=df.loc[index3, property_to_plot], xbins=dict(start=0,end=400, size=10)) ,row=2, col=1)\n",
    "fig.add_trace(go.Histogram(x=df.loc[index4, property_to_plot], xbins=dict(start=0,end=400, size=10)) ,row=2, col=2)\n",
    "\n",
    "fig.update_layout(showlegend=False, title='Limited to BL north')\n",
    "\n",
    "fig.show()\n"
   ]
  },
  {
   "cell_type": "code",
   "execution_count": null,
   "metadata": {},
   "outputs": [],
   "source": [
    "index =  df['flux'].notnull()\n",
    "df['abs_flag'] = df['flag'].apply(abs)\n",
    "fig = px.density_heatmap(df.loc[index,:], x = 'xgsm', y = 'ygsm'\n",
    "                         , marginal_x=\"histogram\", marginal_y=\"histogram\"\n",
    "                         , z ='abs_flag'\n",
    "                         , histfunc ='avg', nbinsx=20, nbinsy=16\n",
    "                         , range_x=[-30,10],range_y=[-12,12]\n",
    "                         #, facet_row=\"region\"\n",
    "                         , facet_col=\"region\", title='Occurrence Frequency')\n",
    "fig.show()"
   ]
  },
  {
   "cell_type": "code",
   "execution_count": null,
   "metadata": {},
   "outputs": [],
   "source": [
    "index =  df['flux'].notnull()\n",
    "df['abs_flag'] = df['flag'].apply(abs)\n",
    "fig = px.density_heatmap(df, x = 'xgsm', y = 'zgsm', marginal_x=\"histogram\", marginal_y=\"histogram\"\n",
    "                         , z=\"flux\", histfunc=\"avg\", nbinsx=20, nbinsy=16\n",
    "                         , range_x=[-30,10],range_y=[-12,12]\n",
    "                         ,facet_row=\"storm\", facet_col=\"kp_gt_2\", title='flux' )\n",
    "fig.show()"
   ]
  },
  {
   "cell_type": "code",
   "execution_count": null,
   "metadata": {},
   "outputs": [],
   "source": [
    "index1 =  (df['year'] == 2017) & (df['region'] == 2) & (df['xgsm'] > -20) & (df['xgsm'] < -5) & (df['zgsm'] > -5) & (df['zgsm'] < 5) & (df['ygsm'] < 0) & (df['ygsm'] > -20)\n",
    "index2 =  (df['year'] == 2017) & (df['region'] == 2) & (df['xgsm'] > -20) & (df['xgsm'] < -5) & (df['zgsm'] > -5) & (df['zgsm'] < 5) & (df['ygsm'] < 20) & (df['ygsm'] > 0)\n",
    "index3 =  (df['year'] == 2018) & (df['region'] == 2) & (df['xgsm'] > -20) & (df['xgsm'] < -5) & (df['zgsm'] > -5) & (df['zgsm'] < 5) & (df['ygsm'] < 0) & (df['ygsm'] > -20)\n",
    "index4 =  (df['year'] == 2018) & (df['region'] == 2) & (df['xgsm'] > -20) & (df['xgsm'] < -5) & (df['zgsm'] > -5) & (df['zgsm'] < 5) & (df['ygsm'] < 20) & (df['ygsm'] > 0)\n",
    "index5 =  (df['year'] == 2019) & (df['region'] == 2) & (df['xgsm'] > -20) & (df['xgsm'] < -5) & (df['zgsm'] > -5) & (df['zgsm'] < 5) & (df['ygsm'] < 0) & (df['ygsm'] > -20)\n",
    "index6 =  (df['year'] == 2019) & (df['region'] == 2) & (df['xgsm'] > -20) & (df['xgsm'] < -5) & (df['zgsm'] > -5) & (df['zgsm'] < 5) & (df['ygsm'] < 20) & (df['ygsm'] > 0)\n",
    "\n",
    "# index1 =  (df['region'] == 2) & (df['datetime_str'] > pd.Timestamp(2017,4,16)) & (df['datetime_str'] < pd.Timestamp(2017,7,17)) & (df['xgsm'] > -20) & (df['xgsm'] < -5) & (df['zgsm'] > -5) & (df['zgsm'] < 5)\n",
    "# index2 =  (df['region'] == 2) & (df['datetime_str'] > pd.Timestamp(2017,7,17)) & (df['datetime_str'] < pd.Timestamp(2017,11,1))& (df['xgsm'] > -20) & (df['xgsm'] < -5) & (df['zgsm'] > -5) & (df['zgsm'] < 5)\n",
    "# index3 =  (df['region'] == 2) & (df['datetime_str'] > pd.Timestamp(2018,4,16)) & (df['datetime_str'] < pd.Timestamp(2018,7,17))& (df['xgsm'] > -20) & (df['xgsm'] < -5) & (df['zgsm'] > -5) & (df['zgsm'] < 5)\n",
    "# index4 =  (df['region'] == 2) & (df['datetime_str'] > pd.Timestamp(2018,7,17)) & (df['datetime_str'] < pd.Timestamp(2018,12,31))& (df['xgsm'] > -20) & (df['xgsm'] < -5) & (df['zgsm'] > -5) & (df['zgsm'] < 5)\n",
    "# index5 =  (df['region'] == 2) & (df['datetime_str'] > pd.Timestamp(2019,4,16)) & (df['datetime_str'] < pd.Timestamp(2019,8,17))& (df['xgsm'] > -20) & (df['xgsm'] < -5) & (df['zgsm'] > -5) & (df['zgsm'] < 5)\n",
    "# index6 =  (df['region'] == 2) & (df['datetime_str'] > pd.Timestamp(2019,8,17)) & (df['datetime_str'] < pd.Timestamp(2019,12,31))& (df['xgsm'] > -20) & (df['xgsm'] < -5) & (df['zgsm'] > -5) & (df['zgsm'] < 5)\n",
    "\n",
    "fig = make_subplots(rows=1, cols=3, subplot_titles=(\"2017\", \"2018\", \"2019\"))\n",
    "\n",
    "fig.add_trace(go.Scatter(x=df.loc[index1,'xgsm'], y = df.loc[index1,'ygsm'], mode=\"markers\"),row=1, col=1)\n",
    "fig.add_trace(go.Scatter(x=df.loc[index2,'xgsm'], y = df.loc[index2,'ygsm'], mode=\"markers\"),row=1, col=1)\n",
    "fig.add_trace(go.Scatter(x=df.loc[index3,'xgsm'], y = df.loc[index3,'ygsm'], mode=\"markers\"),row=1, col=2)\n",
    "fig.add_trace(go.Scatter(x=df.loc[index4,'xgsm'], y = df.loc[index4,'ygsm'], mode=\"markers\"),row=1, col=2)\n",
    "fig.add_trace(go.Scatter(x=df.loc[index5,'xgsm'], y = df.loc[index3,'ygsm'], mode=\"markers\"),row=1, col=3)\n",
    "fig.add_trace(go.Scatter(x=df.loc[index6,'xgsm'], y = df.loc[index4,'ygsm'], mode=\"markers\"),row=1, col=3)\n",
    "\n",
    "fig.update_layout(showlegend=False, title='BL')\n",
    "\n",
    "fig.show()"
   ]
  },
  {
   "cell_type": "code",
   "execution_count": null,
   "metadata": {},
   "outputs": [],
   "source": [
    "property_to_plot = 'energy'\n",
    "\n",
    "fig = make_subplots(rows=3, cols=2, subplot_titles=(\"2017 dawn\", \"2017 dusk\", \"2018 dawn\", \"2018 dusk\",\"2019 dawn\", \"2019 dusk\"))\n",
    "fig.add_trace(go.Histogram(x=df.loc[index1, property_to_plot].apply(math.log), xbins=dict(start=0,end=11, size=0.2)), row=1, col=1)\n",
    "fig.add_trace(go.Histogram(x=df.loc[index2, property_to_plot].apply(math.log), xbins=dict(start=0,end=11, size=0.2)) ,row=1, col=2)\n",
    "fig.add_trace(go.Histogram(x=df.loc[index3, property_to_plot].apply(math.log), xbins=dict(start=0,end=11, size=0.2)) ,row=2, col=1)\n",
    "fig.add_trace(go.Histogram(x=df.loc[index4, property_to_plot].apply(math.log), xbins=dict(start=0,end=11, size=0.2)) ,row=2, col=2)\n",
    "fig.add_trace(go.Histogram(x=df.loc[index5, property_to_plot].apply(math.log), xbins=dict(start=0,end=11, size=0.2)) ,row=3, col=1)\n",
    "fig.add_trace(go.Histogram(x=df.loc[index6, property_to_plot].apply(math.log), xbins=dict(start=0,end=11, size=0.2)) ,row=3, col=2)\n",
    "\n",
    "fig.update_layout(showlegend=False, title='energy in BL')\n",
    "\n",
    "fig.show()\n"
   ]
  },
  {
   "cell_type": "code",
   "execution_count": null,
   "metadata": {},
   "outputs": [],
   "source": [
    "property_to_plot = 'v_par_all'\n",
    "\n",
    "fig = make_subplots(rows=3, cols=2, subplot_titles=(\"2017 dawn\", \"2017 dusk\", \"2018 dawn\", \"2018 dusk\",\"2019 dawn\", \"2019 dusk\"))\n",
    "fig.add_trace(go.Histogram(x=df.loc[index1, property_to_plot], xbins=dict(start=0,end=300, size=10)), row=1, col=1)\n",
    "fig.add_trace(go.Histogram(x=df.loc[index2, property_to_plot], xbins=dict(start=0,end=300, size=10)) ,row=1, col=2)\n",
    "fig.add_trace(go.Histogram(x=df.loc[index3, property_to_plot], xbins=dict(start=0,end=300, size=10)) ,row=2, col=1)\n",
    "fig.add_trace(go.Histogram(x=df.loc[index4, property_to_plot], xbins=dict(start=0,end=300, size=10)) ,row=2, col=2)\n",
    "fig.add_trace(go.Histogram(x=df.loc[index5, property_to_plot], xbins=dict(start=0,end=300, size=10)) ,row=3, col=1)\n",
    "fig.add_trace(go.Histogram(x=df.loc[index6, property_to_plot], xbins=dict(start=0,end=300, size=10)) ,row=3, col=2)\n",
    "\n",
    "fig.update_layout(showlegend=False, title='v_par_all in BL')\n",
    "\n",
    "fig.show()\n"
   ]
  },
  {
   "cell_type": "code",
   "execution_count": null,
   "metadata": {},
   "outputs": [],
   "source": []
  },
  {
   "cell_type": "code",
   "execution_count": null,
   "metadata": {},
   "outputs": [],
   "source": []
  }
 ],
 "metadata": {
  "kernelspec": {
   "display_name": "Python 3",
   "language": "python",
   "name": "python3"
  },
  "language_info": {
   "codemirror_mode": {
    "name": "ipython",
    "version": 3
   },
   "file_extension": ".py",
   "mimetype": "text/x-python",
   "name": "python",
   "nbconvert_exporter": "python",
   "pygments_lexer": "ipython3",
   "version": "3.7.3"
  }
 },
 "nbformat": 4,
 "nbformat_minor": 2
}
