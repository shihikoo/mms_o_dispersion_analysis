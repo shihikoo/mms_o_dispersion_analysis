{
 "cells": [
  {
   "cell_type": "code",
   "execution_count": null,
   "metadata": {},
   "outputs": [],
   "source": [
    "import pandas as pd\n",
    "import plotly.express as px\n",
    "import plotly.io as pio\n",
    "from collections import Counter\n",
    "import math\n",
    "import datetime as datetime\n",
    "from plotly.subplots import make_subplots\n",
    "import plotly.graph_objects as go\n",
    "import statistics\n",
    "import glob\n",
    "import ipyplot\n",
    "import numpy as np"
   ]
  },
  {
   "cell_type": "code",
   "execution_count": null,
   "metadata": {},
   "outputs": [],
   "source": [
    "filename = 'data/fulldata_20160101_to_20191231.csv'\n",
    "data = pd.read_csv(filename)\n",
    "data['datetime_str'] = data.loc[:,'TIME'].apply(datetime.datetime.utcfromtimestamp)\n",
    "\n",
    "#data.columns"
   ]
  },
  {
   "cell_type": "code",
   "execution_count": null,
   "metadata": {},
   "outputs": [],
   "source": [
    "df = pd.DataFrame(data=pd.concat([data['EN_PARA'] ,data['EN_ANTI']],ignore_index = True), columns = ['energy'])\n",
    "\n",
    "df['pitch angle'] = pd.concat([data['PA_PARA'] ,data['PA_ANTI']],ignore_index = True)\n",
    "df['flag'] = pd.concat([data['FLAG_PARA'] , -data['FLAG_ANTI']],ignore_index = True)\n",
    "df['flux'] = pd.concat([data['FLUX_PARA'] ,data['FLUX_ANTI']],ignore_index = True)\n",
    "df['eflux'] = pd.concat([data['EFLUX_PARA'] ,data['EFLUX_ANTI']],ignore_index = True)\n",
    "df['bx'] = pd.concat([data['BX_GSM'] ,data['BX_GSM']],ignore_index = True)\n",
    "df['dist'] = pd.concat([data['DIST'] ,data['DIST']],ignore_index = True)\n",
    "df['xgsm'] = pd.concat([data['GSM_X'] ,data['GSM_X']],ignore_index = True)\n",
    "df['ygsm'] = pd.concat([data['GSM_Y'] ,data['GSM_Y']],ignore_index = True)\n",
    "df['zgsm'] = pd.concat([data['GSM_Z'] ,data['GSM_Z']],ignore_index = True)\n",
    "df['beta'] = pd.concat([data['BETA'] ,data['BETA']],ignore_index = True)\n",
    "df['imfBy'] = pd.concat([data['IMF_BY_PARA'] ,data['IMF_BY_ANTI']],ignore_index = True)\n",
    "df['imfBz'] = pd.concat([data['IMF_BZ_PARA'] ,data['IMF_BZ_ANTI']],ignore_index = True)\n",
    "df['storm_phase'] = pd.concat([data['STORM_PHASE'] ,data['STORM_PHASE']],ignore_index = True)\n",
    "df['velocity_o_all'] = pd.concat([data['O_V'] ,data['O_V']],ignore_index = True)\n",
    "df['v_par_all'] = pd.concat([data['O_VPAR'] ,data['O_VPAR']],ignore_index = True)\n",
    "df['v_perp_all'] = pd.concat([data['O_VPERP'] ,data['O_VPERP']],ignore_index = True)\n",
    "df['density_o_all'] = pd.concat([data['O_N'] ,data['O_N']],ignore_index = True)\n",
    "df['pressure_o_all'] = pd.concat([data['O_P'] ,data['O_P']],ignore_index = True)\n",
    "df['density_h_all'] = pd.concat([data['H_N'] ,data['H_N']],ignore_index = True)\n",
    "df['swp'] = pd.concat([data['SW_P_PARA'] ,data['SW_P_ANTI']],ignore_index = True)\n",
    "df['swv'] = pd.concat([data['SW_V_PARA'] ,data['SW_V_ANTI']],ignore_index = True)\n",
    "df['kp'] = pd.concat([data['KP'] ,data['KP']],ignore_index = True)\n",
    "df['dst'] = pd.concat([data['DST'] ,data['DST']],ignore_index = True)\n",
    "df['datetime_str'] = pd.concat([data['datetime_str'] ,data['datetime_str']],ignore_index = True)\n",
    "df['year'] = df['datetime_str'].dt.to_period('Y')\n",
    "\n",
    "df['kp_gt_2'] = df['kp'] > 2 \n",
    "df['storm'] = df['storm_phase'] > 0\n",
    "df['storm_phase'] = pd.Categorical(df['storm_phase']).rename_categories({0:'nonstorm',1:'prestorm',2:'main phase',3:'fast recovery', 4:'long recovery'})\n",
    "df['region'] = df['beta']\n",
    "df['energy_int'] = round(df['energy'])\n",
    "\n",
    "df.loc[df['beta'] > 0 , 'region'] = 1\n",
    "df.loc[df['beta'] > 0.5 , 'region'] = 2\n",
    "df.loc[df['beta'] > 1 , 'region'] = 3\n",
    "\n",
    "index2016 = (df['year'] == '2016')\n",
    "index2017 = (df['year'] == '2017')\n",
    "index2018 = (df['year'] == '2018')\n",
    "index2019 = (df['year'] == '2019')"
   ]
  },
  {
   "cell_type": "code",
   "execution_count": null,
   "metadata": {},
   "outputs": [],
   "source": [
    "index =  (df['xgsm'] > -20) & (df['zgsm'] > -4) & (df['zgsm'] < 4) & (df['ygsm'] < 20) & (df['ygsm'] > -20)\n",
    "fig1 = px.scatter(df.loc[index,:], x = 'xgsm', y = 'ygsm', facet_col = 'year')\n",
    "fig2 = px.scatter(df.loc[index,:], x = 'xgsm', y = 'zgsm', facet_col = 'year')\n",
    "fig3 = px.scatter(df.loc[index,:], x = 'ygsm', y = 'zgsm', facet_col = 'year')\n",
    "fig1.show()\n",
    "fig2.show()\n",
    "fig3.show()\n"
   ]
  },
  {
   "cell_type": "code",
   "execution_count": null,
   "metadata": {},
   "outputs": [],
   "source": [
    "index1 =  (df['xgsm'] > -25) & (df['xgsm'] < -15) & (df['zgsm'] > -5) & (df['zgsm'] < 5) & (df['ygsm'] < 20) & (df['ygsm'] > 0)& (df['region'] == 2) & (df['bx'] > 0)\n",
    "index2 =  (df['xgsm'] > -15) & (df['xgsm'] < -5) & (df['zgsm'] > -5) & (df['zgsm'] < 5) & (df['ygsm'] < 20) & (df['ygsm'] > 0) & (df['region'] == 2) & (df['bx'] > 0)\n",
    "index3 =  (df['xgsm'] > -25) & (df['xgsm'] < -15) & (df['zgsm'] > -5) & (df['zgsm'] < 5) & (df['ygsm'] < 0) & (df['ygsm'] > -20)& (df['region'] == 2) & (df['bx'] > 0)\n",
    "index4 =  (df['xgsm'] > -15) & (df['xgsm'] < -5) & (df['zgsm'] > -5) & (df['zgsm'] < 5) & (df['ygsm'] < 0) & (df['ygsm'] > -20)& (df['region'] == 2) & (df['bx'] > 0)\n",
    "\n",
    "fig = make_subplots(rows=1, cols=1, subplot_titles=(\"BL north\",\"\"))\n",
    "\n",
    "fig.add_trace(go.Scatter(x=df.loc[index1,'xgsm'], y = df.loc[index1,'ygsm'], mode=\"markers\"),row=1, col=1)\n",
    "fig.add_trace(go.Scatter(x=df.loc[index2,'xgsm'], y = df.loc[index2,'ygsm'], mode=\"markers\"),row=1, col=1)\n",
    "fig.add_trace(go.Scatter(x=df.loc[index3,'xgsm'], y = df.loc[index3,'ygsm'], mode=\"markers\"),row=1, col=1)\n",
    "fig.add_trace(go.Scatter(x=df.loc[index4,'xgsm'], y = df.loc[index4,'ygsm'], mode=\"markers\"),row=1, col=1)\n",
    "\n",
    "fig.update_layout(showlegend=False)\n",
    "\n",
    "fig.show()"
   ]
  },
  {
   "cell_type": "code",
   "execution_count": null,
   "metadata": {},
   "outputs": [],
   "source": [
    "property_to_plot = 'energy'\n",
    "\n",
    "fig = make_subplots(rows=2, cols=2, subplot_titles=(\"far dusk\", \"near dusk\", \"far dawn\", \"near dawn\"))\n",
    "fig.add_trace(go.Histogram(x=df.loc[index1, property_to_plot].apply(math.log), xbins=dict(start=0,end=11, size=0.2)), row=1, col=1)\n",
    "fig.add_trace(go.Histogram(x=df.loc[index2, property_to_plot].apply(math.log), xbins=dict(start=0,end=11, size=0.2)) ,row=1, col=2)\n",
    "fig.add_trace(go.Histogram(x=df.loc[index3, property_to_plot].apply(math.log), xbins=dict(start=0,end=11, size=0.2)) ,row=2, col=1)\n",
    "fig.add_trace(go.Histogram(x=df.loc[index4, property_to_plot].apply(math.log), xbins=dict(start=0,end=11, size=0.2)) ,row=2, col=2)\n",
    "\n",
    "#fig.update_xaxes(type=\"log\")\n",
    "\n",
    "fig.update_layout(showlegend=False, title='Limited to BL north')\n",
    "\n",
    "fig.show()\n"
   ]
  },
  {
   "cell_type": "code",
   "execution_count": null,
   "metadata": {
    "scrolled": false
   },
   "outputs": [],
   "source": [
    "property_to_plot = 'flux'\n",
    "\n",
    "fig = make_subplots(rows=2, cols=2, subplot_titles=(\"far dusk\", \"near dusk\", \"far dawn\", \"near dawn\"))\n",
    "fig.add_trace(go.Histogram(x=df.loc[index1, property_to_plot], xbins=dict(start=0,end=40, size=1)), row=1, col=1)\n",
    "fig.add_trace(go.Histogram(x=df.loc[index2, property_to_plot], xbins=dict(start=0,end=40, size=1)) ,row=1, col=2)\n",
    "fig.add_trace(go.Histogram(x=df.loc[index3, property_to_plot], xbins=dict(start=0,end=40, size=1)) ,row=2, col=1)\n",
    "fig.add_trace(go.Histogram(x=df.loc[index4, property_to_plot], xbins=dict(start=0,end=40, size=1)) ,row=2, col=2)\n",
    "\n",
    "fig.update_layout(showlegend=False, title='Limited to BL north')\n",
    "\n",
    "fig.show()\n"
   ]
  },
  {
   "cell_type": "code",
   "execution_count": null,
   "metadata": {},
   "outputs": [],
   "source": [
    "property_to_plot = 'velocity_o_all'\n",
    "\n",
    "fig = make_subplots(rows=2, cols=2, subplot_titles=(\"far dusk\", \"near dusk\", \"far dawn\", \"near dawn\"))\n",
    "fig.add_trace(go.Histogram(x=df.loc[index1, property_to_plot], xbins=dict(start=0,end=400, size=10)), row=1, col=1)\n",
    "fig.add_trace(go.Histogram(x=df.loc[index2, property_to_plot], xbins=dict(start=0,end=400, size=10)) ,row=1, col=2)\n",
    "fig.add_trace(go.Histogram(x=df.loc[index3, property_to_plot], xbins=dict(start=0,end=400, size=10)) ,row=2, col=1)\n",
    "fig.add_trace(go.Histogram(x=df.loc[index4, property_to_plot], xbins=dict(start=0,end=400, size=10)) ,row=2, col=2)\n",
    "\n",
    "fig.update_layout(showlegend=False, title='Limited to BL north')\n",
    "\n",
    "fig.show()\n"
   ]
  },
  {
   "cell_type": "code",
   "execution_count": null,
   "metadata": {},
   "outputs": [],
   "source": [
    "property_to_plot = 'v_par_all'\n",
    "\n",
    "fig = make_subplots(rows=2, cols=2, subplot_titles=(\"far dusk\", \"near dusk\", \"far dawn\", \"near dawn\"))\n",
    "fig.add_trace(go.Histogram(x=df.loc[index1, property_to_plot], xbins=dict(start=0,end=400, size=10)), row=1, col=1)\n",
    "fig.add_trace(go.Histogram(x=df.loc[index2, property_to_plot], xbins=dict(start=0,end=400, size=10)) ,row=1, col=2)\n",
    "fig.add_trace(go.Histogram(x=df.loc[index3, property_to_plot], xbins=dict(start=0,end=400, size=10)) ,row=2, col=1)\n",
    "fig.add_trace(go.Histogram(x=df.loc[index4, property_to_plot], xbins=dict(start=0,end=400, size=10)) ,row=2, col=2)\n",
    "\n",
    "fig.update_layout(showlegend=False, title='Limited to BL north')\n",
    "\n",
    "fig.show()\n"
   ]
  },
  {
   "cell_type": "code",
   "execution_count": null,
   "metadata": {},
   "outputs": [],
   "source": [
    "property_to_plot = 'v_perp_all'\n",
    "\n",
    "fig = make_subplots(rows=2, cols=2, subplot_titles=(\"far dusk\", \"near dusk\", \"far dawn\", \"near dawn\"))\n",
    "fig.add_trace(go.Histogram(x=df.loc[index1, property_to_plot], xbins=dict(start=0,end=400, size=10)), row=1, col=1)\n",
    "fig.add_trace(go.Histogram(x=df.loc[index2, property_to_plot], xbins=dict(start=0,end=400, size=10)) ,row=1, col=2)\n",
    "fig.add_trace(go.Histogram(x=df.loc[index3, property_to_plot], xbins=dict(start=0,end=400, size=10)) ,row=2, col=1)\n",
    "fig.add_trace(go.Histogram(x=df.loc[index4, property_to_plot], xbins=dict(start=0,end=400, size=10)) ,row=2, col=2)\n",
    "\n",
    "fig.update_layout(showlegend=False, title='Limited to BL north')\n",
    "\n",
    "fig.show()\n"
   ]
  },
  {
   "cell_type": "code",
   "execution_count": null,
   "metadata": {},
   "outputs": [],
   "source": [
    "index =  df['flux'].notnull()\n",
    "df['abs_flag'] = df['flag'].apply(abs)\n",
    "fig = px.density_heatmap(df.loc[index,:], x = 'xgsm', y = 'ygsm'\n",
    "                         , marginal_x=\"histogram\", marginal_y=\"histogram\"\n",
    "                         , z ='abs_flag'\n",
    "                         , histfunc ='avg', nbinsx=20, nbinsy=16\n",
    "                         , range_x=[-30,10],range_y=[-12,12]\n",
    "                         #, facet_row=\"region\"\n",
    "                         , facet_col=\"region\", title='Occurrence Frequency')\n",
    "fig.show()"
   ]
  },
  {
   "cell_type": "code",
   "execution_count": null,
   "metadata": {},
   "outputs": [],
   "source": [
    "index =  df['flux'].notnull()\n",
    "df['abs_flag'] = df['flag'].apply(abs)\n",
    "fig = px.density_heatmap(df, x = 'xgsm', y = 'zgsm', marginal_x=\"histogram\", marginal_y=\"histogram\"\n",
    "                         , z=\"flux\", histfunc=\"avg\", nbinsx=20, nbinsy=16\n",
    "                         , range_x=[-30,10],range_y=[-12,12]\n",
    "                         ,facet_row=\"storm\", facet_col=\"kp_gt_2\", title='flux' )\n",
    "fig.show()"
   ]
  },
  {
   "cell_type": "code",
   "execution_count": null,
   "metadata": {},
   "outputs": [],
   "source": [
    "index1 =  (df['year'] == 2017) & (df['region'] == 2) & (df['xgsm'] > -20) & (df['xgsm'] < -5) & (df['zgsm'] > -5) & (df['zgsm'] < 5) & (df['ygsm'] < 0) & (df['ygsm'] > -20)\n",
    "index2 =  (df['year'] == 2017) & (df['region'] == 2) & (df['xgsm'] > -20) & (df['xgsm'] < -5) & (df['zgsm'] > -5) & (df['zgsm'] < 5) & (df['ygsm'] < 20) & (df['ygsm'] > 0)\n",
    "index3 =  (df['year'] == 2018) & (df['region'] == 2) & (df['xgsm'] > -20) & (df['xgsm'] < -5) & (df['zgsm'] > -5) & (df['zgsm'] < 5) & (df['ygsm'] < 0) & (df['ygsm'] > -20)\n",
    "index4 =  (df['year'] == 2018) & (df['region'] == 2) & (df['xgsm'] > -20) & (df['xgsm'] < -5) & (df['zgsm'] > -5) & (df['zgsm'] < 5) & (df['ygsm'] < 20) & (df['ygsm'] > 0)\n",
    "index5 =  (df['year'] == 2019) & (df['region'] == 2) & (df['xgsm'] > -20) & (df['xgsm'] < -5) & (df['zgsm'] > -5) & (df['zgsm'] < 5) & (df['ygsm'] < 0) & (df['ygsm'] > -20)\n",
    "index6 =  (df['year'] == 2019) & (df['region'] == 2) & (df['xgsm'] > -20) & (df['xgsm'] < -5) & (df['zgsm'] > -5) & (df['zgsm'] < 5) & (df['ygsm'] < 20) & (df['ygsm'] > 0)\n",
    "\n",
    "# index1 =  (df['region'] == 2) & (df['datetime_str'] > pd.Timestamp(2017,4,16)) & (df['datetime_str'] < pd.Timestamp(2017,7,17)) & (df['xgsm'] > -20) & (df['xgsm'] < -5) & (df['zgsm'] > -5) & (df['zgsm'] < 5)\n",
    "# index2 =  (df['region'] == 2) & (df['datetime_str'] > pd.Timestamp(2017,7,17)) & (df['datetime_str'] < pd.Timestamp(2017,11,1))& (df['xgsm'] > -20) & (df['xgsm'] < -5) & (df['zgsm'] > -5) & (df['zgsm'] < 5)\n",
    "# index3 =  (df['region'] == 2) & (df['datetime_str'] > pd.Timestamp(2018,4,16)) & (df['datetime_str'] < pd.Timestamp(2018,7,17))& (df['xgsm'] > -20) & (df['xgsm'] < -5) & (df['zgsm'] > -5) & (df['zgsm'] < 5)\n",
    "# index4 =  (df['region'] == 2) & (df['datetime_str'] > pd.Timestamp(2018,7,17)) & (df['datetime_str'] < pd.Timestamp(2018,12,31))& (df['xgsm'] > -20) & (df['xgsm'] < -5) & (df['zgsm'] > -5) & (df['zgsm'] < 5)\n",
    "# index5 =  (df['region'] == 2) & (df['datetime_str'] > pd.Timestamp(2019,4,16)) & (df['datetime_str'] < pd.Timestamp(2019,8,17))& (df['xgsm'] > -20) & (df['xgsm'] < -5) & (df['zgsm'] > -5) & (df['zgsm'] < 5)\n",
    "# index6 =  (df['region'] == 2) & (df['datetime_str'] > pd.Timestamp(2019,8,17)) & (df['datetime_str'] < pd.Timestamp(2019,12,31))& (df['xgsm'] > -20) & (df['xgsm'] < -5) & (df['zgsm'] > -5) & (df['zgsm'] < 5)\n",
    "\n",
    "fig = make_subplots(rows=1, cols=3, subplot_titles=(\"2017\", \"2018\", \"2019\"))\n",
    "\n",
    "fig.add_trace(go.Scatter(x=df.loc[index1,'xgsm'], y = df.loc[index1,'ygsm'], mode=\"markers\"),row=1, col=1)\n",
    "fig.add_trace(go.Scatter(x=df.loc[index2,'xgsm'], y = df.loc[index2,'ygsm'], mode=\"markers\"),row=1, col=1)\n",
    "fig.add_trace(go.Scatter(x=df.loc[index3,'xgsm'], y = df.loc[index3,'ygsm'], mode=\"markers\"),row=1, col=2)\n",
    "fig.add_trace(go.Scatter(x=df.loc[index4,'xgsm'], y = df.loc[index4,'ygsm'], mode=\"markers\"),row=1, col=2)\n",
    "fig.add_trace(go.Scatter(x=df.loc[index5,'xgsm'], y = df.loc[index3,'ygsm'], mode=\"markers\"),row=1, col=3)\n",
    "fig.add_trace(go.Scatter(x=df.loc[index6,'xgsm'], y = df.loc[index4,'ygsm'], mode=\"markers\"),row=1, col=3)\n",
    "\n",
    "fig.update_layout(showlegend=False, title='BL')\n",
    "\n",
    "fig.show()"
   ]
  },
  {
   "cell_type": "code",
   "execution_count": null,
   "metadata": {},
   "outputs": [],
   "source": [
    "property_to_plot = 'energy'\n",
    "\n",
    "fig = make_subplots(rows=3, cols=2, subplot_titles=(\"2017 dawn\", \"2017 dusk\", \"2018 dawn\", \"2018 dusk\",\"2019 dawn\", \"2019 dusk\"))\n",
    "fig.add_trace(go.Histogram(x=df.loc[index1, property_to_plot].apply(math.log), xbins=dict(start=0,end=11, size=0.2)), row=1, col=1)\n",
    "fig.add_trace(go.Histogram(x=df.loc[index2, property_to_plot].apply(math.log), xbins=dict(start=0,end=11, size=0.2)) ,row=1, col=2)\n",
    "fig.add_trace(go.Histogram(x=df.loc[index3, property_to_plot].apply(math.log), xbins=dict(start=0,end=11, size=0.2)) ,row=2, col=1)\n",
    "fig.add_trace(go.Histogram(x=df.loc[index4, property_to_plot].apply(math.log), xbins=dict(start=0,end=11, size=0.2)) ,row=2, col=2)\n",
    "fig.add_trace(go.Histogram(x=df.loc[index5, property_to_plot].apply(math.log), xbins=dict(start=0,end=11, size=0.2)) ,row=3, col=1)\n",
    "fig.add_trace(go.Histogram(x=df.loc[index6, property_to_plot].apply(math.log), xbins=dict(start=0,end=11, size=0.2)) ,row=3, col=2)\n",
    "\n",
    "fig.update_layout(showlegend=False, title='energy in BL')\n",
    "\n",
    "fig.show()\n"
   ]
  },
  {
   "cell_type": "code",
   "execution_count": null,
   "metadata": {},
   "outputs": [],
   "source": [
    "property_to_plot = 'v_par_all'\n",
    "\n",
    "fig = make_subplots(rows=3, cols=2, subplot_titles=(\"2017 dawn\", \"2017 dusk\", \"2018 dawn\", \"2018 dusk\",\"2019 dawn\", \"2019 dusk\"))\n",
    "fig.add_trace(go.Histogram(x=df.loc[index1, property_to_plot], xbins=dict(start=0,end=300, size=10)), row=1, col=1)\n",
    "fig.add_trace(go.Histogram(x=df.loc[index2, property_to_plot], xbins=dict(start=0,end=300, size=10)) ,row=1, col=2)\n",
    "fig.add_trace(go.Histogram(x=df.loc[index3, property_to_plot], xbins=dict(start=0,end=300, size=10)) ,row=2, col=1)\n",
    "fig.add_trace(go.Histogram(x=df.loc[index4, property_to_plot], xbins=dict(start=0,end=300, size=10)) ,row=2, col=2)\n",
    "fig.add_trace(go.Histogram(x=df.loc[index5, property_to_plot], xbins=dict(start=0,end=300, size=10)) ,row=3, col=1)\n",
    "fig.add_trace(go.Histogram(x=df.loc[index6, property_to_plot], xbins=dict(start=0,end=300, size=10)) ,row=3, col=2)\n",
    "\n",
    "fig.update_layout(showlegend=False, title='v_par_all in BL')\n",
    "\n",
    "fig.show()\n"
   ]
  },
  {
   "cell_type": "code",
   "execution_count": null,
   "metadata": {},
   "outputs": [],
   "source": [
    "index1 = (df['datetime_str'] > pd.Timestamp(2019,1,1)) & (df['datetime_str'] < pd.Timestamp(2019,4,16))\n",
    "index2 = (df['datetime_str'] > pd.Timestamp(2019,4,16)) & (df['datetime_str'] < pd.Timestamp(2019,8,17))\n",
    "index3 = (df['datetime_str'] > pd.Timestamp(2019,8,17)) & (df['datetime_str'] < pd.Timestamp(2019,12,31))\n",
    "\n",
    "property_to_plot = 'eflux'\n",
    "\n",
    "fig = make_subplots(rows=1, cols=3, subplot_titles=(\"before\", \"during\", \"after\"))\n",
    "fig.add_trace(go.Histogram(x=df.loc[index1, property_to_plot], xbins=dict(start=1000,end=2000, size=100)), row=1, col=1)\n",
    "fig.add_trace(go.Histogram(x=df.loc[index2, property_to_plot], xbins=dict(start=1000,end=2000, size=100)) ,row=1, col=2)\n",
    "fig.add_trace(go.Histogram(x=df.loc[index3, property_to_plot], xbins=dict(start=1000,end=2000, size=100)) ,row=1, col=3)\n",
    "fig.update_layout(showlegend=False, title='eflux in BL')\n",
    "\n",
    "fig.show()\n"
   ]
  },
  {
   "cell_type": "code",
   "execution_count": null,
   "metadata": {},
   "outputs": [],
   "source": [
    "index1 = (df['datetime_str'] > pd.Timestamp(2019,1,1)) & (df['datetime_str'] < pd.Timestamp(2019,4,16)) & (df['eflux'] > 0)\n",
    "index2 = (df['datetime_str'] > pd.Timestamp(2019,4,16)) & (df['datetime_str'] < pd.Timestamp(2019,8,17))& (df['eflux'] > 0)\n",
    "index3 = (df['datetime_str'] > pd.Timestamp(2019,8,17)) & (df['datetime_str'] < pd.Timestamp(2019,12,31))& (df['eflux'] > 0)\n",
    "\n",
    "df.loc[index1,'mode'] = 'before'\n",
    "df.loc[index2,'mode'] = 'during'\n",
    "df.loc[index3,'mode'] = 'after'\n",
    "\n",
    "index2019 = (df['year'] == '2019') & (df['eflux'] > 0) & (df['mode'].notna())\n",
    "\n",
    "df = df.sort_values(by=['mode'])\n",
    "df = df.sort_values(by=['energy_int'])\n"
   ]
  },
  {
   "cell_type": "code",
   "execution_count": null,
   "metadata": {
    "scrolled": false
   },
   "outputs": [],
   "source": [
    "property_to_plot = 'eflux'\n",
    "\n",
    "fig = px.histogram(df.loc[index2019, :], color ='mode', x=property_to_plot,facet_row=\"energy_int\",height=2000,barmode=\"group\", category_orders={\"mode\": [\"before\", \"during\", \"after\"]})\n",
    "\n",
    "fig.update_traces(xbins=dict( start=0,end=10000,size=1000 ))\n",
    "\n",
    "fig.show()\n"
   ]
  },
  {
   "cell_type": "code",
   "execution_count": null,
   "metadata": {
    "scrolled": false
   },
   "outputs": [],
   "source": [
    "property_to_plot = 'eflux'\n",
    "\n",
    "fig = px.histogram(df.loc[index2019, :], facet_col ='mode', x=property_to_plot,facet_row=\"energy_int\",height=2000, category_orders={\"mode\": [\"before\", \"during\", \"after\"]})\n",
    "\n",
    "fig.update_traces(xbins=dict( start=0,end=10000,size=1000 ))\n",
    "\n",
    "fig.show()"
   ]
  },
  {
   "cell_type": "code",
   "execution_count": null,
   "metadata": {},
   "outputs": [],
   "source": []
  },
  {
   "cell_type": "code",
   "execution_count": null,
   "metadata": {},
   "outputs": [],
   "source": []
  }
 ],
 "metadata": {
  "kernelspec": {
   "display_name": "Python 3",
   "language": "python",
   "name": "python3"
  },
  "language_info": {
   "codemirror_mode": {
    "name": "ipython",
    "version": 3
   },
   "file_extension": ".py",
   "mimetype": "text/x-python",
   "name": "python",
   "nbconvert_exporter": "python",
   "pygments_lexer": "ipython3",
   "version": "3.7.3"
  }
 },
 "nbformat": 4,
 "nbformat_minor": 2
}
