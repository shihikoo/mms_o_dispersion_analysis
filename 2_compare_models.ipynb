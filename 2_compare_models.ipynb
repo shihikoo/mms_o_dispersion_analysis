{
 "cells": [
  {
   "cell_type": "code",
   "execution_count": null,
   "metadata": {},
   "outputs": [],
   "source": [
    "import numpy as np\n",
    "import pandas as pd\n",
    "import plotly.express as px\n",
    "import plotly.graph_objects as go\n",
    "import plotly.io as pio\n",
    "\n",
    "model1 = \"t89\"\n",
    "model2=  \"t96\"\n",
    "goodness_of_fit_threshold = 0.6"
   ]
  },
  {
   "cell_type": "code",
   "execution_count": null,
   "metadata": {},
   "outputs": [],
   "source": [
    "dispersion_filename1 = 'output/'+model1+'_dispersion_list.csv'\n",
    "dispersion_list1 = pd.read_csv(dispersion_filename1)\n",
    "\n",
    "dispersion_filename2 = 'output/'+model2+'_dispersion_list.csv'\n",
    "dispersion_list2 = pd.read_csv(dispersion_filename2)"
   ]
  },
  {
   "cell_type": "code",
   "execution_count": null,
   "metadata": {},
   "outputs": [],
   "source": [
    "index = (dispersion_list1.loc[:,'p_value'] > goodness_of_fit_threshold) & (dispersion_list1.loc[:,'DIST'] < 100)\n"
   ]
  },
  {
   "cell_type": "code",
   "execution_count": null,
   "metadata": {},
   "outputs": [],
   "source": [
    "fig = px.scatter(x = dispersion_list1.loc[index,\"FlLen\"], y = dispersion_list2.loc[index,\"FlLen\"]\n",
    "                 , trendline=\"ols\")\n",
    "\n",
    "reference_line = go.Scatter(x=[0, 120],y=[0, 120],mode=\"lines\",line=go.scatter.Line(color=\"gray\")\n",
    "                            , showlegend=False)\n",
    "\n",
    "fig.update_layout(xaxis_title = model1, yaxis_title = model2 )\n",
    "\n",
    "fig.add_trace(reference_line)"
   ]
  },
  {
   "cell_type": "code",
   "execution_count": null,
   "metadata": {},
   "outputs": [],
   "source": []
  }
 ],
 "metadata": {
  "kernelspec": {
   "display_name": "Python 3 (ipykernel)",
   "language": "python",
   "name": "python3"
  },
  "language_info": {
   "codemirror_mode": {
    "name": "ipython",
    "version": 3
   },
   "file_extension": ".py",
   "mimetype": "text/x-python",
   "name": "python",
   "nbconvert_exporter": "python",
   "pygments_lexer": "ipython3",
   "version": "3.11.3"
  }
 },
 "nbformat": 4,
 "nbformat_minor": 2
}
