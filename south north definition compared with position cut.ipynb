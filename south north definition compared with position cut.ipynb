{
 "cells": [
  {
   "cell_type": "code",
   "execution_count": 1,
   "metadata": {},
   "outputs": [
    {
     "ename": "ModuleNotFoundError",
     "evalue": "No module named 'ipyplot'",
     "output_type": "error",
     "traceback": [
      "\u001b[0;31m---------------------------------------------------------------------------\u001b[0m",
      "\u001b[0;31mModuleNotFoundError\u001b[0m                       Traceback (most recent call last)",
      "Cell \u001b[0;32mIn[1], line 3\u001b[0m\n\u001b[1;32m      1\u001b[0m \u001b[38;5;28;01mimport\u001b[39;00m \u001b[38;5;21;01mnumpy\u001b[39;00m \u001b[38;5;28;01mas\u001b[39;00m \u001b[38;5;21;01mnp\u001b[39;00m\n\u001b[1;32m      2\u001b[0m \u001b[38;5;28;01mimport\u001b[39;00m \u001b[38;5;21;01mpandas\u001b[39;00m \u001b[38;5;28;01mas\u001b[39;00m \u001b[38;5;21;01mpd\u001b[39;00m\n\u001b[0;32m----> 3\u001b[0m \u001b[38;5;28;01mimport\u001b[39;00m \u001b[38;5;21;01mipyplot\u001b[39;00m\n",
      "\u001b[0;31mModuleNotFoundError\u001b[0m: No module named 'ipyplot'"
     ]
    }
   ],
   "source": [
    "import numpy as np\n",
    "import pandas as pd\n",
    "import ipyplot\n"
   ]
  },
  {
   "cell_type": "code",
   "execution_count": null,
   "metadata": {},
   "outputs": [],
   "source": [
    "main_plot_path = \"idl_plots/output_5min_multi_subtraction_removebi_flux0.500.751.00_pap3.02.01.1/\"\n",
    "\n",
    "non_sort_map_path = main_plot_path+\"non_sort_map\"\n",
    "hemi_sort_map_path = main_plot_path+\"hemi_sort_map\"\n",
    "\n",
    "start_time = '20160101'\n",
    "end_time = '20201231'"
   ]
  },
  {
   "cell_type": "markdown",
   "metadata": {},
   "source": [
    "## Check how south/north defination compared with position cut"
   ]
  },
  {
   "cell_type": "code",
   "execution_count": null,
   "metadata": {
    "scrolled": false
   },
   "outputs": [],
   "source": [
    "images_array = [ \"idl_plots/\"+hemi_sort_map_path+\"/hemi_south/grid_02/south_Lobe_any/events/2d/south_Lobe_any__ratio_20160101_to_20191231_X_GSM_vs_Y_GSM.png\"\n",
    "    ,   \"idl_plots/\"+hemi_sort_map_path+\"/hemi_north/grid_02/north_Lobe_any/events/2d/north_Lobe_any__ratio_20160101_to_20191231_X_GSM_vs_Y_GSM.png\"\n",
    "    ,   \"idl_plots/\"+hemi_sort_map_path+\"/hemi_south/grid_02/south_Lobe_any/events/slice/slice_zgrid_20/south_Lobe_any__ratio_20160101_to_20191231_X_GSM_vs_Y_GSM_at_Z_GSM_-20.0_0.0.png\"\n",
    "    ,   \"idl_plots/\"+hemi_sort_map_path+\"/hemi_north/grid_02/north_Lobe_any/events/slice/slice_zgrid_20/north_Lobe_any__ratio_20160101_to_20191231_X_GSM_vs_Y_GSM_at_Z_GSM_0.0_20.0.png\"\n",
    "    ,   \"idl_plots/\"+hemi_sort_map_path+\"/hemi_south/grid_02/south_BL_any/events/2d/south_BL_any__ratio_20160101_to_20191231_X_GSM_vs_Y_GSM.png\"\n",
    "    ,   \"idl_plots/\"+hemi_sort_map_path+\"/hemi_north/grid_02/north_BL_any/events/2d/north_BL_any__ratio_20160101_to_20191231_X_GSM_vs_Y_GSM.png\"\n",
    "    ,   \"idl_plots/\"+hemi_sort_map_path+\"/hemi_south/grid_02/south_BL_any/events/slice/slice_zgrid_20/south_BL_any__ratio_20160101_to_20191231_X_GSM_vs_Y_GSM_at_Z_GSM_-20.0_0.0.png\"\n",
    "    ,   \"idl_plots/\"+hemi_sort_map_path+\"/hemi_north/grid_02/north_BL_any/events/slice/slice_zgrid_20/north_BL_any__ratio_20160101_to_20191231_X_GSM_vs_Y_GSM_at_Z_GSM_0.0_20.0.png\" \n",
    "    ,   \"idl_plots/\"+hemi_sort_map_path+\"/hemi_south/grid_02/south_PS_any/events/2d/south_PS_any__ratio_20160101_to_20191231_X_GSM_vs_Y_GSM.png\"\n",
    "    ,   \"idl_plots/\"+hemi_sort_map_path+\"/hemi_north/grid_02/north_PS_any/events/2d/north_PS_any__ratio_20160101_to_20191231_X_GSM_vs_Y_GSM.png\"\n",
    "    ,   \"idl_plots/\"+hemi_sort_map_path+\"/hemi_south/grid_02/south_PS_any/events/slice/slice_zgrid_20/south_PS_any__ratio_20160101_to_20191231_X_GSM_vs_Y_GSM_at_Z_GSM_-20.0_0.0.png\"\n",
    "    ,   \"idl_plots/\"+hemi_sort_map_path+\"/hemi_north/grid_02/north_PS_any/events/slice/slice_zgrid_20/north_PS_any__ratio_20160101_to_20191231_X_GSM_vs_Y_GSM_at_Z_GSM_0.0_20.0.png\"\n",
    "]\n",
    "\n",
    "ipyplot.plot_images(images_array, img_width=400)\n"
   ]
  }
 ],
 "metadata": {
  "kernelspec": {
   "display_name": "Python 3 (ipykernel)",
   "language": "python",
   "name": "python3"
  },
  "language_info": {
   "codemirror_mode": {
    "name": "ipython",
    "version": 3
   },
   "file_extension": ".py",
   "mimetype": "text/x-python",
   "name": "python",
   "nbconvert_exporter": "python",
   "pygments_lexer": "ipython3",
   "version": "3.11.3"
  }
 },
 "nbformat": 4,
 "nbformat_minor": 2
}
