{
 "cells": [
  {
   "cell_type": "code",
   "execution_count": 1,
   "metadata": {},
   "outputs": [
    {
     "name": "stdout",
     "output_type": "stream",
     "text": [
      "Load IGRF coefficients ...\n"
     ]
    }
   ],
   "source": [
    "import pandas as pd\n",
    "from functions import data_preprocess_functions\n",
    "import glob\n",
    "import importlib\n",
    "import numpy as np\n",
    "from functions import geopack_wrapper\n",
    "\n",
    "# from pyspedas import time_double\n",
    "# from pyspedas import time_string\n",
    "import datetime as datetime\n",
    "\n",
    "#from functions import pygeo_wrapper"
   ]
  },
  {
   "cell_type": "code",
   "execution_count": 2,
   "metadata": {},
   "outputs": [],
   "source": [
    "dir_300_name = 'idl_plots/output_300sec_multi_pa2_en2_subtraction_reduced_removebi_flux0.500.751.00_pap3.02.01.1/'\n",
    "\n",
    "dir_120_name = 'idl_plots/output_120sec_multi_pa2_en2_subtraction_reduced_removebi_flux0.500.751.00_pap3.02.01.1/data_withoutweight/sc1_sp3/'"
   ]
  },
  {
   "cell_type": "markdown",
   "metadata": {},
   "source": [
    "### Read and preprocess data averaged over 5 minutes. The data is used for streaming O+ transport path study"
   ]
  },
  {
   "cell_type": "code",
   "execution_count": 3,
   "metadata": {},
   "outputs": [],
   "source": [
    "importlib.reload(data_preprocess_functions)\n",
    "\n",
    "dir_name = dir_300_name\n",
    "\n",
    "data_dir = dir_name + 'data/sc1_sp3/'\n",
    "tplot_map_dir =  dir_name + 'tplot_map/sc1_sp3/'\n",
    "output_dir = data_dir\n",
    "\n",
    "\n",
    "save_to_agg_beam_ext_filename = data_dir + 'aggregated_fulldata_20170101_to_20201231.csv'\n",
    "save_to_dispersion_full_filename = data_dir + 'dispersion_20170101_to_20201231.csv'\n",
    "\n",
    "beam_filenames = sorted([i for i in glob.glob(data_dir+\"*beam.csv\") if i not in glob.glob(dir_name+\"storm_o_beam_2016*beam.csv\")] )\n",
    "external_filenames = sorted([i for i in glob.glob(data_dir+\"*external.csv\") if i not in glob.glob(dir_name+\"storm_o_beam_2016*external.csv\")])\n",
    "dispersion_filenames = sorted([i for i in glob.glob(data_dir+\"*dispersion.csv\") if i not in glob.glob(dir_name+\"storm_o_beam_2016*dispersion.csv\")])"
   ]
  },
  {
   "cell_type": "code",
   "execution_count": 4,
   "metadata": {
    "scrolled": false
   },
   "outputs": [
    {
     "ename": "ValueError",
     "evalue": "No objects to concatenate",
     "output_type": "error",
     "traceback": [
      "\u001b[0;31m---------------------------------------------------------------------------\u001b[0m",
      "\u001b[0;31mValueError\u001b[0m                                Traceback (most recent call last)",
      "\u001b[0;32m<ipython-input-4-c36ade96eaf8>\u001b[0m in \u001b[0;36m<module>\u001b[0;34m\u001b[0m\n\u001b[0;32m----> 1\u001b[0;31m \u001b[0mdf_beam\u001b[0m \u001b[0;34m=\u001b[0m \u001b[0mdata_preprocess_functions\u001b[0m\u001b[0;34m.\u001b[0m\u001b[0mread_beam_csv\u001b[0m\u001b[0;34m(\u001b[0m\u001b[0mbeam_filenames\u001b[0m\u001b[0;34m)\u001b[0m\u001b[0;34m\u001b[0m\u001b[0;34m\u001b[0m\u001b[0m\n\u001b[0m\u001b[1;32m      2\u001b[0m \u001b[0mdf_ext\u001b[0m \u001b[0;34m=\u001b[0m \u001b[0mdata_preprocess_functions\u001b[0m\u001b[0;34m.\u001b[0m\u001b[0mread_external_csv\u001b[0m\u001b[0;34m(\u001b[0m\u001b[0mexternal_filenames\u001b[0m\u001b[0;34m)\u001b[0m\u001b[0;34m\u001b[0m\u001b[0;34m\u001b[0m\u001b[0m\n\u001b[1;32m      3\u001b[0m \u001b[0mdf_dispersion\u001b[0m \u001b[0;34m=\u001b[0m \u001b[0mdata_preprocess_functions\u001b[0m\u001b[0;34m.\u001b[0m\u001b[0mread_dispersion_csv\u001b[0m\u001b[0;34m(\u001b[0m\u001b[0mdispersion_filenames\u001b[0m\u001b[0;34m)\u001b[0m\u001b[0;34m\u001b[0m\u001b[0;34m\u001b[0m\u001b[0m\n\u001b[1;32m      4\u001b[0m \u001b[0;34m\u001b[0m\u001b[0m\n\u001b[1;32m      5\u001b[0m \u001b[0mdf_beam_ext\u001b[0m \u001b[0;34m=\u001b[0m \u001b[0mdata_preprocess_functions\u001b[0m\u001b[0;34m.\u001b[0m\u001b[0mpreprocess_data\u001b[0m\u001b[0;34m(\u001b[0m\u001b[0mpd\u001b[0m\u001b[0;34m.\u001b[0m\u001b[0mmerge\u001b[0m\u001b[0;34m(\u001b[0m\u001b[0mdf_beam\u001b[0m\u001b[0;34m,\u001b[0m \u001b[0mdf_ext\u001b[0m\u001b[0;34m,\u001b[0m \u001b[0mon\u001b[0m \u001b[0;34m=\u001b[0m \u001b[0;34m'time'\u001b[0m\u001b[0;34m,\u001b[0m \u001b[0mhow\u001b[0m\u001b[0;34m=\u001b[0m\u001b[0;34m'outer'\u001b[0m \u001b[0;34m)\u001b[0m\u001b[0;34m,\u001b[0m\u001b[0mremove_large_y\u001b[0m\u001b[0;34m=\u001b[0m\u001b[0;32mFalse\u001b[0m \u001b[0;34m)\u001b[0m\u001b[0;34m\u001b[0m\u001b[0;34m\u001b[0m\u001b[0m\n",
      "\u001b[0;32m~/Workspace/GitHub/mms_o_dispersion_analysis/functions/data_preprocess_functions.py\u001b[0m in \u001b[0;36mread_beam_csv\u001b[0;34m(beam_filenames)\u001b[0m\n\u001b[1;32m     55\u001b[0m         \u001b[0mind\u001b[0m \u001b[0;34m=\u001b[0m \u001b[0;34m(\u001b[0m\u001b[0mdf_beam\u001b[0m\u001b[0;34m[\u001b[0m\u001b[0;34m'flux_para'\u001b[0m\u001b[0;34m]\u001b[0m \u001b[0;34m>\u001b[0m \u001b[0;36m0\u001b[0m\u001b[0;34m)\u001b[0m \u001b[0;34m|\u001b[0m \u001b[0;34m(\u001b[0m\u001b[0mdf_beam\u001b[0m\u001b[0;34m[\u001b[0m\u001b[0;34m'flux_anti'\u001b[0m\u001b[0;34m]\u001b[0m \u001b[0;34m>\u001b[0m \u001b[0;36m0\u001b[0m\u001b[0;34m)\u001b[0m\u001b[0;34m\u001b[0m\u001b[0;34m\u001b[0m\u001b[0m\n\u001b[1;32m     56\u001b[0m         \u001b[0mli\u001b[0m\u001b[0;34m.\u001b[0m\u001b[0mappend\u001b[0m\u001b[0;34m(\u001b[0m\u001b[0mdf_beam\u001b[0m\u001b[0;34m.\u001b[0m\u001b[0mloc\u001b[0m\u001b[0;34m[\u001b[0m\u001b[0mind\u001b[0m\u001b[0;34m,\u001b[0m\u001b[0;34m:\u001b[0m\u001b[0;34m]\u001b[0m\u001b[0;34m)\u001b[0m\u001b[0;34m\u001b[0m\u001b[0;34m\u001b[0m\u001b[0m\n\u001b[0;32m---> 57\u001b[0;31m     \u001b[0mdf_output\u001b[0m \u001b[0;34m=\u001b[0m \u001b[0mpd\u001b[0m\u001b[0;34m.\u001b[0m\u001b[0mconcat\u001b[0m\u001b[0;34m(\u001b[0m\u001b[0mli\u001b[0m\u001b[0;34m,\u001b[0m \u001b[0maxis\u001b[0m\u001b[0;34m=\u001b[0m\u001b[0;36m0\u001b[0m\u001b[0;34m,\u001b[0m \u001b[0mignore_index\u001b[0m\u001b[0;34m=\u001b[0m\u001b[0;32mTrue\u001b[0m\u001b[0;34m)\u001b[0m\u001b[0;34m\u001b[0m\u001b[0;34m\u001b[0m\u001b[0m\n\u001b[0m\u001b[1;32m     58\u001b[0m \u001b[0;34m\u001b[0m\u001b[0m\n\u001b[1;32m     59\u001b[0m \u001b[0;31m#     if len(beam_filenames) < nbatch:\u001b[0m\u001b[0;34m\u001b[0m\u001b[0;34m\u001b[0m\u001b[0;34m\u001b[0m\u001b[0m\n",
      "\u001b[0;32m/opt/anaconda3/lib/python3.7/site-packages/pandas/core/reshape/concat.py\u001b[0m in \u001b[0;36mconcat\u001b[0;34m(objs, axis, join, join_axes, ignore_index, keys, levels, names, verify_integrity, sort, copy)\u001b[0m\n\u001b[1;32m    253\u001b[0m         \u001b[0mverify_integrity\u001b[0m\u001b[0;34m=\u001b[0m\u001b[0mverify_integrity\u001b[0m\u001b[0;34m,\u001b[0m\u001b[0;34m\u001b[0m\u001b[0;34m\u001b[0m\u001b[0m\n\u001b[1;32m    254\u001b[0m         \u001b[0mcopy\u001b[0m\u001b[0;34m=\u001b[0m\u001b[0mcopy\u001b[0m\u001b[0;34m,\u001b[0m\u001b[0;34m\u001b[0m\u001b[0;34m\u001b[0m\u001b[0m\n\u001b[0;32m--> 255\u001b[0;31m         \u001b[0msort\u001b[0m\u001b[0;34m=\u001b[0m\u001b[0msort\u001b[0m\u001b[0;34m,\u001b[0m\u001b[0;34m\u001b[0m\u001b[0;34m\u001b[0m\u001b[0m\n\u001b[0m\u001b[1;32m    256\u001b[0m     )\n\u001b[1;32m    257\u001b[0m \u001b[0;34m\u001b[0m\u001b[0m\n",
      "\u001b[0;32m/opt/anaconda3/lib/python3.7/site-packages/pandas/core/reshape/concat.py\u001b[0m in \u001b[0;36m__init__\u001b[0;34m(self, objs, axis, join, join_axes, keys, levels, names, ignore_index, verify_integrity, copy, sort)\u001b[0m\n\u001b[1;32m    302\u001b[0m \u001b[0;34m\u001b[0m\u001b[0m\n\u001b[1;32m    303\u001b[0m         \u001b[0;32mif\u001b[0m \u001b[0mlen\u001b[0m\u001b[0;34m(\u001b[0m\u001b[0mobjs\u001b[0m\u001b[0;34m)\u001b[0m \u001b[0;34m==\u001b[0m \u001b[0;36m0\u001b[0m\u001b[0;34m:\u001b[0m\u001b[0;34m\u001b[0m\u001b[0;34m\u001b[0m\u001b[0m\n\u001b[0;32m--> 304\u001b[0;31m             \u001b[0;32mraise\u001b[0m \u001b[0mValueError\u001b[0m\u001b[0;34m(\u001b[0m\u001b[0;34m\"No objects to concatenate\"\u001b[0m\u001b[0;34m)\u001b[0m\u001b[0;34m\u001b[0m\u001b[0;34m\u001b[0m\u001b[0m\n\u001b[0m\u001b[1;32m    305\u001b[0m \u001b[0;34m\u001b[0m\u001b[0m\n\u001b[1;32m    306\u001b[0m         \u001b[0;32mif\u001b[0m \u001b[0mkeys\u001b[0m \u001b[0;32mis\u001b[0m \u001b[0;32mNone\u001b[0m\u001b[0;34m:\u001b[0m\u001b[0;34m\u001b[0m\u001b[0;34m\u001b[0m\u001b[0m\n",
      "\u001b[0;31mValueError\u001b[0m: No objects to concatenate"
     ]
    }
   ],
   "source": [
    "df_beam = data_preprocess_functions.read_beam_csv(beam_filenames)\n",
    "df_ext = data_preprocess_functions.read_external_csv(external_filenames)\n",
    "df_dispersion = data_preprocess_functions.read_dispersion_csv(dispersion_filenames)\n",
    "\n",
    "df_beam_ext = data_preprocess_functions.preprocess_data(pd.merge(df_beam, df_ext, on = 'time', how='outer' ),remove_large_y=False )\n",
    "agg_df_beam_ext = data_preprocess_functions.aggregate_energy(data_preprocess_functions.aggregate_angle(df_beam_ext))\n",
    "agg_df_beam_ext.to_csv(save_to_agg_beam_ext_filename)\n"
   ]
  },
  {
   "cell_type": "code",
   "execution_count": 5,
   "metadata": {},
   "outputs": [],
   "source": [
    "# read directly from processed file\n",
    "idl_fulldata_filename = tplot_map_dir + 'tplot_map/fulldata_20170101_to_20201231.csv'\n",
    "save_to_idl_agg_fulldata_filename = tplot_map_dir + 'idl_aggregated_fulldata_20170101_to_20201231.csv'\n",
    "\n",
    "df_fulldata0 = pd.read_csv(idl_fulldata_filename)\n",
    "df_fulldata0 = df_fulldata0.rename(columns=str.lower)\n",
    "df_fulldata = data_preprocess_functions.preprocess_data(df_fulldata0)\n",
    "\n",
    "agg_df_fulldata = data_preprocess_functions.aggregate_energy(data_preprocess_functions.aggregate_angle(df_fulldata))\n",
    "agg_df_fulldata.to_csv(save_to_idl_agg_fulldata_filename)"
   ]
  },
  {
   "cell_type": "code",
   "execution_count": null,
   "metadata": {},
   "outputs": [],
   "source": [
    "# dispersion list\n",
    "df_dispersion_full = pd.merge(df_dispersion, agg_df_fulldata, on = 'time', how = 'left')\n",
    "df_dispersion_full = data_preprocess_functions.preprocess_dispersion_list(df_dispersion_full, model = 't89')\n",
    "df_dispersion_full.to_csv(save_to_dispersion_full_filename)"
   ]
  },
  {
   "cell_type": "markdown",
   "metadata": {},
   "source": [
    "### Read, combine and preprosess the data for dispersion study (nightside auroral outflowing)"
   ]
  },
  {
   "cell_type": "code",
   "execution_count": null,
   "metadata": {},
   "outputs": [],
   "source": [
    "importlib.reload(data_preprocess_functions)\n",
    "\n",
    "dir_name = dir_120_name\n",
    "\n",
    "# save_to_agg_beam_ext_filename = dir_name + 'aggregated_fulldata_20160101_to_20201231.csv'\n",
    "save_to_dispersion_full_filename = dir_name + 'dispersion_20160101_to_20201231.csv'\n",
    "\n",
    "dispersion_filenames = sorted(glob.glob(dir_name+\"data/*dispersion.csv\"))\n",
    "beam_filenames = [s.replace('dispersion','beam') for s in dispersion_filenames]\n",
    "external_filenames = [s.replace('dispersion','external') for s in dispersion_filenames] \n",
    "\n",
    "df_beam = data_preprocess_functions.read_beam_csv(beam_filenames)\n",
    "df_ext = data_preprocess_functions.read_external_csv(external_filenames)\n",
    "df_dispersion = data_preprocess_functions.read_dispersion_csv(dispersion_filenames)\n",
    "\n",
    "df_beam_ext = data_preprocess_functions.preprocess_data(pd.merge(df_beam, df_ext, on = 'time', how='outer' ),remove_large_y=False )\n",
    "agg_df_beam_ext = data_preprocess_functions.aggregate_energy(data_preprocess_functions.aggregate_angle(df_beam_ext))\n",
    "# agg_df_beam_ext.to_csv(save_to_agg_beam_ext_filename)\n",
    "\n",
    "# read directly from processed file\n",
    "idl_fulldata_filename = dir_name + 'tplot_map/tplot_map/fulldata_20160101_to_20201231.csv'\n",
    "save_to_idl_agg_fulldata_filename = dir_name + 'idl_aggregated_fulldata_20160101_to_20201231.csv'\n",
    "\n",
    "df_fulldata0 = pd.read_csv(idl_fulldata_filename)\n",
    "df_fulldata0 = df_fulldata0.rename(columns=str.lower)\n",
    "df_fulldata = data_preprocess_functions.preprocess_data(df_fulldata0)\n",
    "\n",
    "agg_df_fulldata = data_preprocess_functions.aggregate_energy(data_preprocess_functions.aggregate_angle(df_fulldata))\n",
    "agg_df_fulldata.to_csv(save_to_idl_agg_fulldata_filename)\n",
    "\n",
    "df_dispersion_full = pd.merge(df_dispersion, agg_df_fulldata, on = 'time', how = 'left')\n",
    "df_dispersion_full = df_dispersion_full[df_dispersion_full['kp'] >= 0]\n",
    "df_dispersion_full = data_preprocess_functions.preprocess_dispersion_list(df_dispersion_full, model = 't89')\n",
    "df_dispersion_full.to_csv(save_to_dispersion_full_filename)"
   ]
  },
  {
   "cell_type": "code",
   "execution_count": null,
   "metadata": {},
   "outputs": [],
   "source": []
  }
 ],
 "metadata": {
  "kernelspec": {
   "display_name": "Python 3",
   "language": "python",
   "name": "python3"
  },
  "language_info": {
   "codemirror_mode": {
    "name": "ipython",
    "version": 3
   },
   "file_extension": ".py",
   "mimetype": "text/x-python",
   "name": "python",
   "nbconvert_exporter": "python",
   "pygments_lexer": "ipython3",
   "version": "3.7.4"
  }
 },
 "nbformat": 4,
 "nbformat_minor": 2
}
