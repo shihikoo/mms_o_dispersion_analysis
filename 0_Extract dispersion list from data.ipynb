{
 "cells": [
  {
   "cell_type": "code",
   "execution_count": 1,
   "metadata": {},
   "outputs": [
    {
     "name": "stdout",
     "output_type": "stream",
     "text": [
      "Load IGRF coefficients ...\n"
     ]
    }
   ],
   "source": [
    "import pandas as pd\n",
    "from functions import data_preprocess_functions\n",
    "import glob\n",
    "import importlib\n",
    "import numpy as np\n",
    "from functions import geopack_wrapper\n",
    "\n",
    "from pyspedas import time_double\n",
    "from pyspedas import time_string\n",
    "\n",
    "#from functions import pygeo_wrapper"
   ]
  },
  {
   "cell_type": "code",
   "execution_count": 2,
   "metadata": {},
   "outputs": [],
   "source": [
    "dir_300_name = 'idl_plots/output_sc1_sp3_300sec_multi_pa2_en2_subtraction_reduced_removebi_flux0.500.751.00_pap3.02.01.1/'\n",
    "\n",
    "dir_120_name = 'idl_plots/output_sc1_sp3_120sec_multi_pa2_en2_subtraction_reduced_removebi_flux0.500.751.00_pap3.02.01.1/'"
   ]
  },
  {
   "cell_type": "markdown",
   "metadata": {},
   "source": [
    "### Read and preprocess data averaged over 5 minutes. The data is used for streaming O+ transport path study"
   ]
  },
  {
   "cell_type": "code",
   "execution_count": 3,
   "metadata": {},
   "outputs": [],
   "source": [
    "importlib.reload(data_preprocess_functions)\n",
    "\n",
    "dir_name = dir_300_name\n",
    "\n",
    "save_to_agg_beam_ext_filename = dir_name + 'aggregated_fulldata_20170101_to_20201231.csv'\n",
    "save_to_dispersion_full_filename = dir_name + 'dispersion_20170101_to_20201231.csv'\n",
    "\n",
    "beam_filenames = sorted([i for i in glob.glob(dir_name+\"data/*beam.csv\") if i not in glob.glob(dir_name+\"data/storm_o_beam_2016*beam.csv\")] )\n",
    "external_filenames = sorted([i for i in glob.glob(dir_name+\"data/*external.csv\") if i not in glob.glob(dir_name+\"data/storm_o_beam_2016*external.csv\")])\n",
    "dispersion_filenames = sorted([i for i in glob.glob(dir_name+\"data/*dispersion.csv\") if i not in glob.glob(dir_name+\"data/storm_o_beam_2016*dispersion.csv\")])\n",
    "\n",
    "df_beam = data_preprocess_functions.read_beam_csv(beam_filenames)\n",
    "df_ext = data_preprocess_functions.read_external_csv(external_filenames)\n",
    "df_dispersion = data_preprocess_functions.read_dispersion_csv(dispersion_filenames)\n",
    "\n",
    "df_beam_ext = data_preprocess_functions.preprocess_data(pd.merge(df_beam, df_ext, on = 'time', how='outer' ),remove_large_y=False )\n",
    "agg_df_beam_ext = data_preprocess_functions.aggregate_energy(data_preprocess_functions.aggregate_angle(df_beam_ext))\n",
    "agg_df_beam_ext.to_csv(save_to_agg_beam_ext_filename)\n",
    "\n",
    "# read directly from processed file\n",
    "idl_fulldata_filename = dir_name + 'tplot_map/tplot_map/fulldata_20170101_to_20201231.csv'\n",
    "save_to_idl_agg_fulldata_filename = dir_name + 'idl_aggregated_fulldata_20170101_to_20201231.csv'\n",
    "\n",
    "df_fulldata0 = pd.read_csv(idl_fulldata_filename)\n",
    "df_fulldata0 = df_fulldata0.rename(columns=str.lower)\n",
    "df_fulldata = data_preprocess_functions.preprocess_data(df_fulldata0)\n",
    "\n",
    "agg_df_fulldata = data_preprocess_functions.aggregate_energy(data_preprocess_functions.aggregate_angle(df_fulldata))\n",
    "agg_df_fulldata.to_csv(save_to_idl_agg_fulldata_filename)\n",
    "\n",
    "# dispersion list\n",
    "df_dispersion_full = pd.merge(df_dispersion, agg_df_fulldata, on = 'time', how = 'left')\n",
    "df_dispersion_full = data_preprocess_functions.preprocess_dispersion_list(df_dispersion_full, model = 't89')\n",
    "df_dispersion_full.to_csv(save_to_dispersion_full_filename)"
   ]
  },
  {
   "cell_type": "markdown",
   "metadata": {},
   "source": [
    "### Read, combine and preprosess the data for dispersion study (nightside auroral outflowing)"
   ]
  },
  {
   "cell_type": "code",
   "execution_count": 4,
   "metadata": {},
   "outputs": [],
   "source": [
    "importlib.reload(data_preprocess_functions)\n",
    "\n",
    "dir_name = dir_120_name\n",
    "\n",
    "# save_to_agg_beam_ext_filename = dir_name + 'aggregated_fulldata_20160101_to_20201231.csv'\n",
    "save_to_dispersion_full_filename = dir_name + 'dispersion_20160101_to_20201231.csv'\n",
    "\n",
    "dispersion_filenames = sorted(glob.glob(dir_name+\"data/*dispersion.csv\"))\n",
    "beam_filenames = [s.replace('dispersion','beam') for s in dispersion_filenames]\n",
    "external_filenames = [s.replace('dispersion','external') for s in dispersion_filenames] \n",
    "\n",
    "df_beam = data_preprocess_functions.read_beam_csv(beam_filenames)\n",
    "df_ext = data_preprocess_functions.read_external_csv(external_filenames)\n",
    "df_dispersion = data_preprocess_functions.read_dispersion_csv(dispersion_filenames)\n",
    "\n",
    "df_beam_ext = data_preprocess_functions.preprocess_data(pd.merge(df_beam, df_ext, on = 'time', how='outer' ),remove_large_y=False )\n",
    "agg_df_beam_ext = data_preprocess_functions.aggregate_energy(data_preprocess_functions.aggregate_angle(df_beam_ext))\n",
    "\n",
    "# read directly from processed file\n",
    "idl_fulldata_filename = dir_name + 'tplot_map/tplot_map/fulldata_20160101_to_20201231.csv'\n",
    "save_to_idl_agg_fulldata_filename = dir_name + 'idl_aggregated_fulldata_20160101_to_20201231.csv'\n",
    "\n",
    "df_fulldata0 = pd.read_csv(idl_fulldata_filename)\n",
    "df_fulldata0 = df_fulldata0.rename(columns=str.lower)\n",
    "df_fulldata = data_preprocess_functions.preprocess_data(df_fulldata0)\n",
    "\n",
    "agg_df_fulldata = data_preprocess_functions.aggregate_energy(data_preprocess_functions.aggregate_angle(df_fulldata))\n",
    "agg_df_fulldata.to_csv(save_to_idl_agg_fulldata_filename)\n",
    "\n",
    "\n",
    "df_dispersion_full = pd.merge(df_dispersion, agg_df_fulldata, on = 'time', how = 'left')\n",
    "df_dispersion_full = data_preprocess_functions.preprocess_dispersion_list(df_dispersion_full, model = 't89')\n",
    "df_dispersion_full.to_csv(save_to_dispersion_full_filename)"
   ]
  },
  {
   "cell_type": "code",
   "execution_count": null,
   "metadata": {},
   "outputs": [],
   "source": []
  },
  {
   "cell_type": "code",
   "execution_count": null,
   "metadata": {},
   "outputs": [],
   "source": []
  }
 ],
 "metadata": {
  "kernelspec": {
   "display_name": "Python 3 (ipykernel)",
   "language": "python",
   "name": "python3"
  },
  "language_info": {
   "codemirror_mode": {
    "name": "ipython",
    "version": 3
   },
   "file_extension": ".py",
   "mimetype": "text/x-python",
   "name": "python",
   "nbconvert_exporter": "python",
   "pygments_lexer": "ipython3",
   "version": "3.11.5"
  }
 },
 "nbformat": 4,
 "nbformat_minor": 2
}
