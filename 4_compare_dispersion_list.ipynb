{
 "cells": [
  {
   "cell_type": "markdown",
   "metadata": {},
   "source": [
    "# MMS Ion Composition Study - Compare dispersion list\n",
    "\n",
    "#### Purpose\n",
    "In attampt to make sense of the automatically identified dispersion list and it's bias, we compare the results from the eye identified dispersions analysis results with the program - identified ones."
   ]
  },
  {
   "cell_type": "markdown",
   "metadata": {},
   "source": [
    "#### Import libraries and set up variables"
   ]
  },
  {
   "cell_type": "code",
   "execution_count": null,
   "metadata": {},
   "outputs": [],
   "source": [
    "from collections import Counter\n",
    "import numpy as np\n",
    "import pandas as pd\n",
    "import plotly.express as px\n",
    "import plotly.graph_objects as go\n",
    "import plotly.io as pio\n",
    "from functions import data_preprocess_functions\n",
    "from shutil import copyfile\n",
    "import glob\n",
    "from IPython.display import Image\n",
    "import ipyplot\n",
    "import datetime\n",
    "from sklearn.linear_model import LinearRegression\n",
    "import datetime\n",
    "import re"
   ]
  },
  {
   "cell_type": "code",
   "execution_count": null,
   "metadata": {},
   "outputs": [],
   "source": [
    "goodness_of_fit_threshold = 0.9\n",
    "model = \"t89\"\n",
    "radius_earth = 6378.14 #km\n",
    "\n",
    "#data_filename = 'data/fulldata_20160101_to_20171231.csv'\n",
    "dispersion_filename = 'output/dispersion_list.csv'\n",
    "dispersion_m_filename = 'data/dispersion list - mms.csv'\n",
    "dispersion_merged_filename = 'output/merged_list.csv'\n",
    "dispersion_day_png_folder = \"idl_plots/dispersion_day/*.png\"\n",
    "dispersion_fitting_png_folder = \"idl_plots/dispersion/*.png\"\n",
    "\n",
    "dispersion_tplot_list = glob.glob(dispersion_day_png_folder)\n",
    "dispersion_fitting_plot_list = glob.glob(dispersion_fitting_png_folder)\n",
    "\n",
    "convert_time_m = lambda x: datetime.datetime.strptime(x, '%Y-%m-%d/%H:%M:%S')\n",
    "convert_time = lambda x: datetime.datetime.strptime(x, '%Y-%m-%d %H:%M:%S')"
   ]
  },
  {
   "cell_type": "markdown",
   "metadata": {},
   "source": [
    "#### Read in dispersion list from MMS"
   ]
  },
  {
   "cell_type": "code",
   "execution_count": null,
   "metadata": {},
   "outputs": [],
   "source": [
    "#data = data_preprocess_functions.preprocess_data(pd.read_csv(data_filename))\n",
    "#data = data.loc[data['N_DISPERSION_PARA'].notnull() | data['N_DISPERSION_ANTI'].notnull(),:]\n",
    "#data['fit_error'] = data['DIS_FITTING_SIGMA_PARA']*radius_earth\n",
    "#dispersion_list = data_preprocess_functions.extract_dispersions(data)\n",
    "\n",
    "dispersion_list = pd.read_csv(dispersion_filename)\n",
    "dispersion_list['Start_time'] = list(map(convert_time, dispersion_list['datetime_str']))\n",
    "dispersion_list['Duration_datetime'] = list(map(lambda x:datetime.timedelta(minutes=x), dispersion_list['dispersion_time']))\n",
    "dispersion_list['End_time'] = dispersion_list['Start_time']  + dispersion_list['Duration_datetime']\n"
   ]
  },
  {
   "cell_type": "markdown",
   "metadata": {},
   "source": [
    "#### Read in Marissa's dispersion list from MMS"
   ]
  },
  {
   "cell_type": "code",
   "execution_count": null,
   "metadata": {},
   "outputs": [],
   "source": [
    "dispersion_list_m = pd.read_csv(dispersion_m_filename)\n",
    "\n",
    "dispersion_list_m['max_v'] = dispersion_list_m['Max E'].apply(data_preprocess_functions.calculate_velocity)\n",
    "dispersion_list_m['min_v'] = dispersion_list_m['Min E'].apply(data_preprocess_functions.calculate_velocity)\n",
    "dispersion_list_m['mean_E'] = (dispersion_list_m['Max E'] + dispersion_list_m['Min E'])/2\n",
    "dispersion_list_m['estimated_distance_m'] = dispersion_list_m['Duration'] * 60. / (1./dispersion_list_m['min_v'] - 1./dispersion_list_m['max_v']) / radius_earth\n",
    "\n",
    "dispersion_list_m['Start_time'] = list(map(convert_time_m, dispersion_list_m['Event Time']))\n",
    "dispersion_list_m['Duration_datetime'] = list(map(lambda x:datetime.timedelta(minutes=x), dispersion_list_m['Duration']))\n",
    "dispersion_list_m['End_time'] = dispersion_list_m['Start_time']  + dispersion_list_m['Duration_datetime']\n",
    "dispersion_list_m['direction_m'] = dispersion_list_m['Flow Dir'].replace([1,3,4], ['ANTI','PARA','ANTI'])"
   ]
  },
  {
   "cell_type": "markdown",
   "metadata": {},
   "source": [
    "#### Compare the timing with the auto-identified dispersion list and link the same events\n",
    "\n",
    "* There are 47 MMS manual identification has match with the auto-identification (Not all of them are exact match)\n",
    "* Not all of them have a match. 7 of them do not have match.\n",
    "* 5 of them are too short. \n",
    "* Other 2: \n",
    "    * 2017-04-06/19:08:00 (42 min) - gap in the dispersion\n",
    "    * 2017-08-17/12:39:00 (56 min) - Too flat"
   ]
  },
  {
   "cell_type": "code",
   "execution_count": null,
   "metadata": {},
   "outputs": [],
   "source": [
    "#display(Image(url= \"idl_plots/dispersion_day/o_beam20170406_180000_to_20170407_000000_dispersion.png\", width = 450))\n",
    "#display(Image(url= \"idl_plots/dispersion_day/o_beam20170817_120000_to_20170817_180000_dispersion.png\", width = 450))\n",
    "images_array = [\"idl_plots/5min_dispersion_day/o_beam20170406_180000_to_20170407_000000_dispersion.png\"\n",
    "                ,\"idl_plots/5min_dispersion_day/o_beam20170817_120000_to_20170817_180000_dispersion.png\"]\n",
    "\n",
    "ipyplot.plot_images(images_array, img_width=370)"
   ]
  },
  {
   "cell_type": "code",
   "execution_count": null,
   "metadata": {
    "scrolled": true
   },
   "outputs": [],
   "source": [
    "for index1 in dispersion_list_m.index:\n",
    "    start_time_m = dispersion_list_m.loc[index1, 'Start_time']\n",
    "    end_time_m = dispersion_list_m.loc[index1, 'End_time']\n",
    "                \n",
    "    BeforePeriod = lambda x: x < start_time_m\n",
    "    AfterPeriod = lambda x: x > end_time_m\n",
    "    \n",
    "    dispersion_list['BeforePeriod'] = list(map(BeforePeriod, dispersion_list['Start_time']))\n",
    "    dispersion_list['AfterPeriod'] = list(map(AfterPeriod, dispersion_list['Start_time']))\n",
    "    dispersion_list['overlap'] = ~(dispersion_list['BeforePeriod'] | dispersion_list['AfterPeriod'])\n",
    "        \n",
    "    index = dispersion_list.loc[dispersion_list['overlap'], 'index']\n",
    "    if index.count() > 0:\n",
    "        dispersion_list_m.loc[index1, 'index_auto'] = ''\n",
    "        dispersion_list_m.at[index1, 'index_auto'] = list(index) #' '.join(str(list(index)))\n",
    "        \n",
    "dispersion_list_m['index'] = dispersion_list_m.index\n",
    "dispersion_list_m['index_auto'] = dispersion_list_m['index_auto'].fillna({i: [] for i in dispersion_list_m.index})"
   ]
  },
  {
   "cell_type": "code",
   "execution_count": null,
   "metadata": {
    "scrolled": true
   },
   "outputs": [],
   "source": [
    "df = dispersion_list_m.set_index('index')['index_auto'].apply(pd.Series).stack().reset_index(level=0).rename(columns={0:'index_a','index':'index_m'})\n",
    "dispersion_list_merged = pd.merge(left=df, right=dispersion_list, how='outer', left_on='index_a', right_on='index')\n",
    "dispersion_list_merged = pd.merge(left=dispersion_list_merged, right=dispersion_list_m, how='outer', left_on='index_m', right_on='index')\n",
    "dispersion_list_merged = dispersion_list_merged.loc[dispersion_list_merged['direction'] == dispersion_list_merged['direction_m'],]"
   ]
  },
  {
   "cell_type": "code",
   "execution_count": null,
   "metadata": {},
   "outputs": [],
   "source": [
    "#dispersion_list_m_merged = pd.merge(left=dispersion_list_m, right=dispersion_list, how='outer', left_on='Full list Index', right_on='index')\n",
    "\n",
    "#dispersion_list_m_merged = pd.merge(left=dispersion_list_m, right=dispersion_list, how='outer', left_on='Full list Index', right_on='index')\n",
    "\n",
    "dispersion_list_merged['good_fit'] = dispersion_list_merged['p_value'] > goodness_of_fit_threshold\n",
    "\n",
    "# index of all those data has a match in auto-list\n",
    "index = dispersion_list_merged['p_value'] > 0\n",
    "# \n",
    "dispersion_list_merged.to_csv(dispersion_merged_filename)"
   ]
  },
  {
   "cell_type": "code",
   "execution_count": null,
   "metadata": {},
   "outputs": [],
   "source": [
    "common_dispersion_list = dispersion_list_merged.loc[dispersion_list_merged['index_m'].notnull(),:]"
   ]
  },
  {
   "cell_type": "code",
   "execution_count": null,
   "metadata": {
    "scrolled": false
   },
   "outputs": [],
   "source": [
    "for i in common_dispersion_list.index:\n",
    "    display_array = []\n",
    "    i_toplot = common_dispersion_list.loc[i,:] \n",
    "#    match_date = lambda x: (i_toplot['date'][0:4]+i_toplot['date'][5:7]+i_toplot['date'][8:10]) in x\n",
    "    match_date = lambda x: ((datetime.datetime.strptime(i_toplot['datetime_str'], '%Y-%m-%d %H:%M:%S'))\n",
    "                            >= (datetime.datetime.strptime(re.search(\"m[0-9]{8}_[0-9]{6}\",x).group(),  'm%Y%m%d_%H%M%S'))\n",
    "                           ) & ((datetime.datetime.strptime(i_toplot['datetime_str'], '%Y-%m-%d %H:%M:%S'))\n",
    "                                <= (datetime.datetime.strptime(re.search(\"_[0-9]{8}_[0-9]{6}\",x).group(), '_%Y%m%d_%H%M%S'))\n",
    "                               )\n",
    "    match_date_direction = lambda x: ((datetime.datetime.strptime(i_toplot['datetime_str'], '%Y-%m-%d %H:%M:%S'))\n",
    "                            >= (datetime.datetime.strptime(re.search(\"m[0-9]{8}_[0-9]{6}\",x).group(),  'm%Y%m%d_%H%M%S'))\n",
    "                           ) & ((datetime.datetime.strptime(i_toplot['datetime_str'], '%Y-%m-%d %H:%M:%S'))\n",
    "                                <= (datetime.datetime.strptime(re.search(\"_[0-9]{8}_[0-9]{6}\",x).group(), '_%Y%m%d_%H%M%S'))\n",
    "                               ) & (common_dispersion_list.loc[i,'direction'] in x)\n",
    "    \n",
    "    match_direction = lambda x: common_dispersion_list.loc[i,'direction'] in x\n",
    "\n",
    "    match_list1 = list(map(match_date, dispersion_tplot_list)) \n",
    "    if match_list1.count(True) > 0:\n",
    "        index1 = match_list1.index(True)\n",
    "        i_tplot1 = dispersion_tplot_list[index1]\n",
    "        display_array.append(i_tplot1)\n",
    "\n",
    "    match_list2 = list(map(match_date_direction, dispersion_fitting_plot_list))\n",
    "    if match_list2.count(True) > 0:\n",
    "        index2 = match_list2.index(True)\n",
    "        i_tplot2 = dispersion_fitting_plot_list[index2]\n",
    "        display_array.append(i_tplot2)\n",
    "\n",
    "    ipyplot.plot_images(display_array, img_width=370)\n",
    "\n",
    "# display(Image(url = display_array[0]))"
   ]
  },
  {
   "cell_type": "markdown",
   "metadata": {},
   "source": [
    "#### Reproduce the manual identification results"
   ]
  },
  {
   "cell_type": "code",
   "execution_count": null,
   "metadata": {},
   "outputs": [],
   "source": [
    "fig = px.scatter(common_dispersion_list, x=\"RE\", y=\"estimated_distance_m\", trendline=\"ols\", color = \"good_fit\", size=\"Duration\", hover_name=\"Event Time\")\n",
    "reference_line = go.Scatter(x=[0, 35], y=[0, 35], mode=\"lines\", line=go.scatter.Line(color=\"gray\"), showlegend=False)\n",
    "fig.add_trace(reference_line)\n",
    "fig.update_layout( title = 'Replicate manual identification', font=dict( family=\"Courier New, monospace\",size=18    ), legend_x = 0, legend_y=1)"
   ]
  },
  {
   "cell_type": "markdown",
   "metadata": {},
   "source": [
    "##### Discussion \n",
    "\n",
    "1. Many of the data are not included in the \"good\" dispersion list. We need to investigate each plots to find out the reason. The next step is to plot the start and end point in Manul list in the tplot\n",
    "2. The duration of the plots varies (8 min to 68 min). In contrast to auto-list (20min to 50min)\n",
    "3. It seems that there are two group of data. "
   ]
  },
  {
   "cell_type": "markdown",
   "metadata": {},
   "source": [
    "#### Compare estimated distance auto to estimated distance manual"
   ]
  },
  {
   "cell_type": "code",
   "execution_count": null,
   "metadata": {},
   "outputs": [],
   "source": [
    "fig = px.scatter(common_dispersion_list.loc[index,], x=\"estimated_distance_m\", y=\"estimated_distance\", hover_name=\"Event Time\" ,size=\"Duration\", trendline=\"ols\", hover_data = [ \"BETA\", \"direction\", \"GSM_Z\", \"p_value\", 'GSM_X', 'BX_GSM'], color = \"good_fit\")\n",
    "reference_line = go.Scatter(x=[0, 35], y=[0, 35], mode=\"lines\", line=go.scatter.Line(color=\"gray\"), showlegend=False)\n",
    "fig.add_trace(reference_line)\n",
    "fig.update_layout(title = 'Comparison of estimated distance (auto vs manual)', font=dict(family=\"Courier New, monospace\",size=18    ), legend_x = 1, legend_y=1)"
   ]
  },
  {
   "cell_type": "markdown",
   "metadata": {},
   "source": [
    "#### Manul estimated distance vs model field line length"
   ]
  },
  {
   "cell_type": "code",
   "execution_count": null,
   "metadata": {},
   "outputs": [],
   "source": [
    "fig = px.scatter(common_dispersion_list.loc[index,], x=\"model_field_line_length_idl\", y=\"estimated_distance_m\", size=\"Duration\", hover_name=\"Event Time\", hover_data = [ \"BETA\", \"direction\", \"GSM_Z\", \"p_value\", 'GSM_X', 'BX_GSM'], trendline=\"ols\", color = \"good_fit\")\n",
    "reference_line = go.Scatter(x=[0, 35], y=[0, 35], mode=\"lines\", line=go.scatter.Line(color=\"gray\"), showlegend=False)\n",
    "fig.add_trace(reference_line)\n",
    "fig.update_layout(title = 'Manual estiamted distance VS traced field line length ('+model+')' ,font=dict(family=\"Courier New, monospace\",size=18    ), legend_x = 0, legend_y=1)"
   ]
  },
  {
   "cell_type": "markdown",
   "metadata": {},
   "source": [
    "#### Auto estimated distance vs model field line length"
   ]
  },
  {
   "cell_type": "code",
   "execution_count": null,
   "metadata": {},
   "outputs": [],
   "source": [
    "fig = px.scatter(common_dispersion_list.loc[index,], x=\"model_field_line_length_idl\", y=\"estimated_distance\", size=\"dispersion_time\", hover_name=\"TIME\", hover_data = [\"BETA\", \"direction\", \"GSM_Z\", \"p_value\", 'GSM_X', 'BX_GSM']\n",
    "                , trendline=\"ols\", color = \"good_fit\")\n",
    "reference_line = go.Scatter(x=[0, 35], y=[0, 35], mode=\"lines\", line=go.scatter.Line(color=\"gray\"), showlegend=False)\n",
    "fig.add_trace(reference_line)\n",
    "fig.update_layout(title = 'Auto estiamted distance VS traced field line length ('+model+')', font=dict(family=\"Courier New, monospace\",size=18), legend_x = 0, legend_y=1)"
   ]
  },
  {
   "cell_type": "code",
   "execution_count": null,
   "metadata": {},
   "outputs": [],
   "source": [
    "fig = px.scatter(common_dispersion_list.loc[index,:], x=\"model_field_line_length_idl\", y=\"estimated_distance_m\"\n",
    "                 , size=\"dispersion_time\"\n",
    "                 , hover_name=\"datetime_str\"\n",
    "                 , hover_data = [\"BETA\", \"direction\", \"GSM_Z\", \"p_value\", 'GSM_X', 'BX_GSM','MLT_y']\n",
    "                , trendline=\"ols\"\n",
    "                 , symbol = \"direction_et\"\n",
    "          #       , facet_col=\"direction_et\"\n",
    "         #        , facet_row=\"region\"\n",
    "                , color = \"region\" #np.log10(dispersion_list_m_merged.loc[index,\"mean_E\"]), range_color=[3,5]\n",
    "                 )\n",
    "\n",
    "reference_line = go.Scatter(x=[0, 35], y=[0, 35], mode=\"lines\", line=go.scatter.Line(color=\"gray\"), showlegend=False)\n",
    "\n",
    "fig.add_trace(reference_line)\n",
    "#fig.add_trace(reference_line, row=1, col=1)\n",
    "#fig.add_trace(reference_line, row=1, col=2)\n",
    "\n",
    "fig.update_layout(#title = ' ' + ', goodness of fit > ' + str(goodness_of_fit_threshold),\n",
    " font=dict(\n",
    "        family=\"Courier New, monospace\",\n",
    "        size=18    ), legend_x = 1, legend_y=1)\n",
    "\n",
    "fig.update_layout(coloraxis_colorbar=dict(\n",
    "    title=\"energy\",\n",
    "    tickvals=[1,2,3,4,5],\n",
    "    ticktext=[\"10\", \"100\", \"1k\",\"100k\",\"100k\"],\n",
    "))\n",
    "\n",
    "fig.show()\n"
   ]
  },
  {
   "cell_type": "code",
   "execution_count": null,
   "metadata": {},
   "outputs": [],
   "source": [
    "fig = px.scatter(common_dispersion_list.loc[index,:], x=\"model_field_line_length_idl\", y=\"estimated_distance_m\"\n",
    "                 , size=\"dispersion_time\"\n",
    "                 , hover_name=\"datetime_str\"\n",
    "                 , hover_data = [ \"BETA\", \"direction\", \"GSM_Z\", \"p_value\", 'GSM_X', 'BX_GSM','MLT_y']\n",
    "                , trendline=\"ols\"\n",
    "                 , symbol = \"direction_et\"\n",
    "          #       , facet_col=\"direction_et\"\n",
    "         #        , facet_row=\"region\"\n",
    "                , color = np.log10(common_dispersion_list.loc[index,\"mean_E\"]), range_color=[3,5]\n",
    "                 )\n",
    "\n",
    "reference_line = go.Scatter(x=[0, 35], y=[0, 35], mode=\"lines\", line=go.scatter.Line(color=\"gray\"), showlegend=False)\n",
    "\n",
    "fig.add_trace(reference_line)\n",
    "#fig.add_trace(reference_line, row=1, col=1)\n",
    "#fig.add_trace(reference_line, row=1, col=2)\n",
    "\n",
    "fig.update_layout(#title = ' ' + ', goodness of fit > ' + str(goodness_of_fit_threshold),\n",
    " font=dict(\n",
    "        family=\"Courier New, monospace\",\n",
    "        size=18    ), legend_x = 0, legend_y=1)\n",
    "\n",
    "fig.update_layout(coloraxis_colorbar=dict(\n",
    "    title=\"energy\",\n",
    "    tickvals=[1,2,3,4,5],\n",
    "    ticktext=[\"10\", \"100\", \"1k\",\"100k\",\"100k\"],\n",
    "))\n",
    "\n",
    "fig.show()\n"
   ]
  },
  {
   "cell_type": "code",
   "execution_count": null,
   "metadata": {},
   "outputs": [],
   "source": []
  },
  {
   "cell_type": "code",
   "execution_count": null,
   "metadata": {},
   "outputs": [],
   "source": []
  },
  {
   "cell_type": "code",
   "execution_count": null,
   "metadata": {},
   "outputs": [],
   "source": []
  }
 ],
 "metadata": {
  "kernelspec": {
   "display_name": "Python 3 (ipykernel)",
   "language": "python",
   "name": "python3"
  },
  "language_info": {
   "codemirror_mode": {
    "name": "ipython",
    "version": 3
   },
   "file_extension": ".py",
   "mimetype": "text/x-python",
   "name": "python",
   "nbconvert_exporter": "python",
   "pygments_lexer": "ipython3",
   "version": "3.11.3"
  }
 },
 "nbformat": 4,
 "nbformat_minor": 2
}
