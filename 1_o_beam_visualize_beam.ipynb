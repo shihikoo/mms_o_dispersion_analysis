{
 "cells": [
  {
   "cell_type": "code",
   "execution_count": null,
   "metadata": {},
   "outputs": [],
   "source": [
    "import pandas as pd\n",
    "import plotly.express as px\n",
    "import plotly.io as pio\n",
    "from collections import Counter\n",
    "import math\n",
    "import datetime as datetime\n",
    "from plotly.subplots import make_subplots\n",
    "import plotly.graph_objects as go\n",
    "import statistics\n",
    "import glob\n",
    "import ipyplot\n",
    "import numpy as np\n",
    "import random "
   ]
  },
  {
   "cell_type": "code",
   "execution_count": null,
   "metadata": {},
   "outputs": [],
   "source": [
    "#main_plot_path = \"idl_plots/output_5min_multi_subtraction_removebi_flux0.500.751.00_pap3.02.01.1_plots_only_no_compression_ss27/\"\n",
    "# to plot all the plasma_condition_short plots in the directory\n",
    "#to_plot_list = sorted(glob.glob(main_plot_path+\"/obeam_day/2019/*plasma_condition_short.png\"))\n"
   ]
  },
  {
   "cell_type": "code",
   "execution_count": null,
   "metadata": {},
   "outputs": [],
   "source": [
    "## if only test dataset are to be viewed\n",
    "#filename = 'data/outflow_testset_toplot.csv'\n",
    "#to_plot = pd.read_csv(filename)\n",
    "#to_plot_list = list(to_plot[\"filepath\"])\n",
    "#to_plot_list = [sub.replace('idl_plots', 'idl_plots/'+dir_name) for sub in to_plot_list] \n",
    "\n",
    "#len(to_plot_list)"
   ]
  },
  {
   "cell_type": "code",
   "execution_count": null,
   "metadata": {},
   "outputs": [],
   "source": [
    "dir_name_1 = 'idl_plots/output_5min_multi_subtraction_removebi_flux0.500.751.00_pap3.02.01.1'\n",
    "dir_name_2 = 'idl_plots/output_5min_multi_subtraction_reduced_removebi_flux0.500.751.00_pap3.02.01.1'\n",
    "to_plot_list_full = sorted(glob.glob(dir_name_2+\"/obeam_day/2018/*plasma_condition_short.png\"))\n",
    "to_plot_list_anti = sorted(glob.glob(dir_name_2+\"/obeam_day/2018/*_multi_anti.png\"))\n",
    "to_plot_list_para = sorted(glob.glob(dir_name_2+\"/obeam_day/2018/*_multi_para.png\"))\n",
    "\n",
    "to_plot_list_full_2 = [sub.replace(dir_name_2, dir_name_1) for sub in to_plot_list_full] \n",
    "to_plot_list_anti_2 = [sub.replace(dir_name_2, dir_name_1) for sub in to_plot_list_anti] \n",
    "to_plot_list_para_2 = [sub.replace(dir_name_2, dir_name_1) for sub in to_plot_list_para] \n",
    "\n",
    "\n",
    "#to_plot_list_2 = to_plot_list\n"
   ]
  },
  {
   "cell_type": "code",
   "execution_count": null,
   "metadata": {
    "scrolled": false
   },
   "outputs": [],
   "source": [
    "for i in range(100):\n",
    "    ipyplot.plot_images([to_plot_list_full_2[i], to_plot_list_para_2[i], to_plot_list_anti_2[i]] , img_width=300)\n"
   ]
  },
  {
   "cell_type": "code",
   "execution_count": null,
   "metadata": {},
   "outputs": [],
   "source": []
  }
 ],
 "metadata": {
  "kernelspec": {
   "display_name": "Python 3",
   "language": "python",
   "name": "python3"
  },
  "language_info": {
   "codemirror_mode": {
    "name": "ipython",
    "version": 3
   },
   "file_extension": ".py",
   "mimetype": "text/x-python",
   "name": "python",
   "nbconvert_exporter": "python",
   "pygments_lexer": "ipython3",
   "version": "3.7.3"
  }
 },
 "nbformat": 4,
 "nbformat_minor": 2
}
